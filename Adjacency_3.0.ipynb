{
 "cells": [
  {
   "cell_type": "code",
   "execution_count": 9,
   "metadata": {},
   "outputs": [],
   "source": [
    "import pandas as pd\n",
    "import numpy as np\n",
    "import matplotlib.pyplot as plt\n",
    "import gc\n",
    "import pickle\n",
    "from scipy import spatial, sparse\n",
    "import numpy as np\n",
    "from numba import cuda\n",
    "import time"
   ]
  },
  {
   "cell_type": "code",
   "execution_count": 3,
   "metadata": {},
   "outputs": [],
   "source": [
    "data = pd.read_csv('~/fires_merged_weather.csv', index_col=0,\n",
    "                  #dtype for smaller representation\n",
    "                  dtype={'STAT_CAUSE_DESCR': 'category', 'STATE': 'category', 'DISCOVERY_MONTH': 'category',\n",
    "                        'Fog': 'bool', 'FunnelCloud': 'bool', 'Hail': 'bool', 'Rain': 'bool',\n",
    "                        'Snow': 'bool', 'Thunder': 'bool'}\n",
    "                  )"
   ]
  },
  {
   "cell_type": "markdown",
   "metadata": {},
   "source": [
    "making doy relative to year, equal to days since 1/1/1992 now"
   ]
  },
  {
   "cell_type": "code",
   "execution_count": 4,
   "metadata": {},
   "outputs": [],
   "source": [
    "data['DAY'] = (data['FIRE_YEAR']-1992)*365+data['DISCOVERY_DOY']"
   ]
  },
  {
   "cell_type": "markdown",
   "metadata": {},
   "source": [
    "sort the df"
   ]
  },
  {
   "cell_type": "code",
   "execution_count": 5,
   "metadata": {},
   "outputs": [],
   "source": [
    "data = data.sort_values(by=['DAY','LATITUDE','LONGITUDE'])"
   ]
  },
  {
   "cell_type": "code",
   "execution_count": 6,
   "metadata": {},
   "outputs": [],
   "source": [
    "Day_Cts = data.groupby('DAY').agg('count').z"
   ]
  },
  {
   "cell_type": "markdown",
   "metadata": {},
   "source": [
    "only consider rows within the given time range (need to include lat/lon ranges)\n",
    "\n",
    "need to use cdist for lat/lon"
   ]
  },
  {
   "cell_type": "code",
   "execution_count": 12,
   "metadata": {},
   "outputs": [],
   "source": [
    "def simpleA_time(data,day_cts):\n",
    "    N = data.shape[0]\n",
    "    A = sparse.lil_matrix((N,N))\n",
    "    day = data.iloc[0].DAY \n",
    "    row_inc=0\n",
    "    last_day = max(day_cts.index)\n",
    "    for i in range(N):\n",
    "        #if the day has changed, reset incrementor\n",
    "        if data.iloc[i].DAY != day:\n",
    "            day = data.iloc[i].DAY\n",
    "            row_inc=0\n",
    "            #print(day)\n",
    "        #edge case 1\n",
    "        if day>1:\n",
    "            yesterday_index = i-row_inc-day_cts.loc[day-1]\n",
    "        else:\n",
    "            yesterday_index = 0\n",
    "        #edge case 2\n",
    "        if day<(last_day-1):\n",
    "            tomorrow_index = i-row_inc+day_cts.loc[day]+day_cts.iloc[day+1]\n",
    "        else:\n",
    "            tomorrow_index = N-1\n",
    "        #loop over possible entries\n",
    "        for j in range(yesterday_index,tomorrow_index):\n",
    "            A[i,j] = 1\n",
    "        #increment day-relative row\n",
    "        row_inc+=1\n",
    "    return A"
   ]
  },
  {
   "cell_type": "code",
   "execution_count": 13,
   "metadata": {
    "tags": [
     "outputPrepend",
     "outputPrepend",
     "outputPrepend",
     "outputPrepend",
     "outputPrepend",
     "outputPrepend",
     "outputPrepend",
     "outputPrepend",
     "outputPrepend",
     "outputPrepend",
     "outputPrepend",
     "outputPrepend",
     "outputPrepend",
     "outputPrepend",
     "outputPrepend",
     "outputPrepend",
     "outputPrepend",
     "outputPrepend",
     "outputPrepend",
     "outputPrepend",
     "outputPrepend",
     "outputPrepend",
     "outputPrepend",
     "outputPrepend",
     "outputPrepend",
     "outputPrepend",
     "outputPrepend",
     "outputPrepend",
     "outputPrepend",
     "outputPrepend",
     "outputPrepend",
     "outputPrepend",
     "outputPrepend",
     "outputPrepend",
     "outputPrepend",
     "outputPrepend",
     "outputPrepend",
     "outputPrepend",
     "outputPrepend",
     "outputPrepend",
     "outputPrepend",
     "outputPrepend",
     "outputPrepend",
     "outputPrepend",
     "outputPrepend",
     "outputPrepend",
     "outputPrepend",
     "outputPrepend",
     "outputPrepend",
     "outputPrepend",
     "outputPrepend",
     "outputPrepend",
     "outputPrepend",
     "outputPrepend",
     "outputPrepend",
     "outputPrepend",
     "outputPrepend",
     "outputPrepend",
     "outputPrepend",
     "outputPrepend",
     "outputPrepend",
     "outputPrepend",
     "outputPrepend",
     "outputPrepend",
     "outputPrepend",
     "outputPrepend",
     "outputPrepend",
     "outputPrepend",
     "outputPrepend",
     "outputPrepend",
     "outputPrepend",
     "outputPrepend",
     "outputPrepend",
     "outputPrepend",
     "outputPrepend",
     "outputPrepend",
     "outputPrepend",
     "outputPrepend",
     "outputPrepend",
     "outputPrepend",
     "outputPrepend",
     "outputPrepend",
     "outputPrepend",
     "outputPrepend",
     "outputPrepend",
     "outputPrepend",
     "outputPrepend",
     "outputPrepend",
     "outputPrepend",
     "outputPrepend",
     "outputPrepend",
     "outputPrepend",
     "outputPrepend",
     "outputPrepend",
     "outputPrepend",
     "outputPrepend",
     "outputPrepend",
     "outputPrepend",
     "outputPrepend",
     "outputPrepend",
     "outputPrepend",
     "outputPrepend",
     "outputPrepend",
     "outputPrepend",
     "outputPrepend",
     "outputPrepend",
     "outputPrepend"
    ]
   },
   "outputs": [
    {
     "output_type": "stream",
     "name": "stdout",
     "text": "31.236283779144287\n"
    }
   ],
   "source": [
    "subset = data[0:10000]\n",
    "Day_Cts = subset.groupby('DAY').agg('count').z\n",
    "start = time.time()\n",
    "simpleA_time(subset,Day_Cts)\n",
    "end = time.time()\n",
    "print(end-start)"
   ]
  },
  {
   "cell_type": "code",
   "execution_count": 14,
   "metadata": {},
   "outputs": [
    {
     "output_type": "stream",
     "name": "stdout",
     "text": "1.631631621576349\n"
    }
   ],
   "source": [
    "print((end-start)*data.shape[0]/10000/60/60)"
   ]
  }
 ],
 "metadata": {
  "language_info": {
   "codemirror_mode": {
    "name": "ipython",
    "version": 3
   },
   "file_extension": ".py",
   "mimetype": "text/x-python",
   "name": "python",
   "nbconvert_exporter": "python",
   "pygments_lexer": "ipython3",
   "version": "3.7.7-final"
  },
  "orig_nbformat": 2,
  "kernelspec": {
   "name": "python37764bittfgpuconda3d4368209cc64153a32fc64613561f52",
   "display_name": "Python 3.7.7 64-bit ('tf_gpu': conda)"
  }
 },
 "nbformat": 4,
 "nbformat_minor": 2
}