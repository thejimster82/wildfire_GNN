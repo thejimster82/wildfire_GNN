{
 "cells": [
  {
   "cell_type": "markdown",
   "metadata": {},
   "source": [
    "# Import data"
   ]
  },
  {
   "cell_type": "code",
   "execution_count": 109,
   "metadata": {},
   "outputs": [],
   "source": [
    "import pandas as pd\n",
    "import numpy as np\n",
    "import matplotlib.pyplot as plt\n",
    "import gc\n",
    "import pickle\n",
    "#from numba import cuda\n",
    "from scipy import spatial, sparse\n",
    "import random as rd"
   ]
  },
  {
   "cell_type": "code",
   "execution_count": 110,
   "metadata": {},
   "outputs": [],
   "source": [
    "data = pd.read_csv('~/fires_merged_weather.csv', index_col=0,\n",
    "                  #dtype for smaller representation\n",
    "                  dtype={'STAT_CAUSE_DESCR': 'category', 'STATE': 'category', 'DISCOVERY_MONTH': 'category',\n",
    "                        'Fog': 'bool', 'FunnelCloud': 'bool', 'Hail': 'bool', 'Rain': 'bool',\n",
    "                        'Snow': 'bool', 'Thunder': 'bool'}\n",
    "                  )"
   ]
  },
  {
   "cell_type": "markdown",
   "metadata": {},
   "source": [
    "making doy relative to year, equal to days since 1/1/1992 now"
   ]
  },
  {
   "cell_type": "code",
   "execution_count": 111,
   "metadata": {},
   "outputs": [],
   "source": [
    "data['DAY'] = (data['FIRE_YEAR']-1992)*365+data['DISCOVERY_DOY']"
   ]
  },
  {
   "cell_type": "code",
   "execution_count": 112,
   "metadata": {},
   "outputs": [],
   "source": [
    "#data = data[data['FIRE_YEAR']==2015]\n",
    "data.reset_index(drop=True,inplace=True)"
   ]
  },
  {
   "cell_type": "markdown",
   "metadata": {},
   "source": [
    "## Sort data by day"
   ]
  },
  {
   "cell_type": "code",
   "execution_count": 113,
   "metadata": {},
   "outputs": [
    {
     "output_type": "stream",
     "name": "stdout",
     "text": "CPU times: user 583 ms, sys: 87.8 ms, total: 670 ms\nWall time: 686 ms\n"
    }
   ],
   "source": [
    "%%time\n",
    "\n",
    "data = data.sort_values('DAY', ascending=True, kind='mergesort')"
   ]
  },
  {
   "cell_type": "markdown",
   "metadata": {},
   "source": [
    "#### make a dict to keep track of the new vs old ordering"
   ]
  },
  {
   "cell_type": "code",
   "execution_count": 74,
   "metadata": {},
   "outputs": [
    {
     "output_type": "execute_result",
     "data": {
      "text/plain": "       Unnamed: 0.1  index_x     FOD_ID       FIRE_NAME   STAT_CAUSE_DESCR  \\\n6448           6448  1795459  300206824          SOQUEL      Miscellaneous   \n12017         12017  1801028  300213747  LOWER ELK FIRE  Missing/Undefined   \n21023         21023  1810034  300225377               3      Equipment Use   \n25189         25189  1814200  300231134             NaN            Smoking   \n25190         25190  1814201  300231135              33            Smoking   \n...             ...      ...        ...             ...                ...   \n67821         67821  1856832  300289975          155240  Missing/Undefined   \n73246         73246  1871977  300308335       ACADEMY 2     Debris Burning   \n73254         73254  1871985  300308343           LEIGH  Missing/Undefined   \n73554         73554  1872285  300308657             NaN  Missing/Undefined   \n73557         73557  1872288  300308660           RODEO              Arson   \n\n       FIRE_YEAR  DISCOVERY_DOY  FIRE_SIZE   LATITUDE   LONGITUDE  ...  \\\n6448        2015              1       0.10  37.385278 -119.556944  ...   \n12017       2015              1     204.00  33.259200 -105.554700  ...   \n21023       2015              1       2.00  38.190000  -95.810000  ...   \n25189       2015              1       0.10  40.889900  -73.150700  ...   \n25190       2015              1       0.01  38.980000  -95.690000  ...   \n...          ...            ...        ...        ...         ...  ...   \n67821       2015            365       0.10  33.421270 -111.954210  ...   \n73246       2015            365       0.10  36.536611 -119.556721  ...   \n73254       2015            365       0.10  32.701123 -117.007382  ...   \n73554       2015            365       0.01  35.050000 -120.166666  ...   \n73557       2015            365       0.01  39.173027 -121.057377  ...   \n\n      Unnamed: 0.1.1.1  Visibility     WBAN  Windspeed    Year           doy  \\\n6448         1038095.0         6.2  93242.0        3.7  2015.0     34.887671   \n12017         625236.0         3.3  93083.0        5.9  2015.0     34.887671   \n21023         776241.0        10.0  13989.0        8.3  2015.0     34.887671   \n25189         810314.0        10.0   4781.0        9.1  2015.0     34.887671   \n25190         776971.0        10.0  13920.0        7.9  2015.0     34.887671   \n...                ...         ...      ...        ...     ...           ...   \n67821         633830.0        10.0  23183.0        3.0  2015.0  12734.000000   \n73246         718899.0         3.0  53119.0        1.4  2015.0  12734.000000   \n73254         645412.0         8.0  53143.0        1.5  2015.0  12734.000000   \n73554         721087.0        10.0  23273.0        2.9  2015.0  12734.000000   \n73557        1070373.0        10.0    397.0        2.6  2015.0  12734.000000   \n\n                 x            y            z   DAY  \n6448  -2551.385205 -4399.423549  3830.691187  8396  \n12017 -1421.200184 -5118.784105  3509.548165  8396  \n21023  -538.619210 -4965.338289  3948.923147  8396  \n25189  1401.088455 -4612.103909  4159.824236  8396  \n25190  -488.694111 -4927.408389  4002.563383  8396  \n...            ...          ...          ...   ...  \n67821 -1990.914567 -4926.696177  3507.508085  8760  \n73246 -2536.226147 -4459.308573  3771.049321  8760  \n73254 -2426.748558 -4768.315811  3451.484429  8760  \n73554 -2646.344348 -4501.759462  3642.761636  8760  \n73557 -2540.587702 -4227.746548  4026.196996  8760  \n\n[74491 rows x 63 columns]",
      "text/html": "<div>\n<style scoped>\n    .dataframe tbody tr th:only-of-type {\n        vertical-align: middle;\n    }\n\n    .dataframe tbody tr th {\n        vertical-align: top;\n    }\n\n    .dataframe thead th {\n        text-align: right;\n    }\n</style>\n<table border=\"1\" class=\"dataframe\">\n  <thead>\n    <tr style=\"text-align: right;\">\n      <th></th>\n      <th>Unnamed: 0.1</th>\n      <th>index_x</th>\n      <th>FOD_ID</th>\n      <th>FIRE_NAME</th>\n      <th>STAT_CAUSE_DESCR</th>\n      <th>FIRE_YEAR</th>\n      <th>DISCOVERY_DOY</th>\n      <th>FIRE_SIZE</th>\n      <th>LATITUDE</th>\n      <th>LONGITUDE</th>\n      <th>...</th>\n      <th>Unnamed: 0.1.1.1</th>\n      <th>Visibility</th>\n      <th>WBAN</th>\n      <th>Windspeed</th>\n      <th>Year</th>\n      <th>doy</th>\n      <th>x</th>\n      <th>y</th>\n      <th>z</th>\n      <th>DAY</th>\n    </tr>\n  </thead>\n  <tbody>\n    <tr>\n      <th>6448</th>\n      <td>6448</td>\n      <td>1795459</td>\n      <td>300206824</td>\n      <td>SOQUEL</td>\n      <td>Miscellaneous</td>\n      <td>2015</td>\n      <td>1</td>\n      <td>0.10</td>\n      <td>37.385278</td>\n      <td>-119.556944</td>\n      <td>...</td>\n      <td>1038095.0</td>\n      <td>6.2</td>\n      <td>93242.0</td>\n      <td>3.7</td>\n      <td>2015.0</td>\n      <td>34.887671</td>\n      <td>-2551.385205</td>\n      <td>-4399.423549</td>\n      <td>3830.691187</td>\n      <td>8396</td>\n    </tr>\n    <tr>\n      <th>12017</th>\n      <td>12017</td>\n      <td>1801028</td>\n      <td>300213747</td>\n      <td>LOWER ELK FIRE</td>\n      <td>Missing/Undefined</td>\n      <td>2015</td>\n      <td>1</td>\n      <td>204.00</td>\n      <td>33.259200</td>\n      <td>-105.554700</td>\n      <td>...</td>\n      <td>625236.0</td>\n      <td>3.3</td>\n      <td>93083.0</td>\n      <td>5.9</td>\n      <td>2015.0</td>\n      <td>34.887671</td>\n      <td>-1421.200184</td>\n      <td>-5118.784105</td>\n      <td>3509.548165</td>\n      <td>8396</td>\n    </tr>\n    <tr>\n      <th>21023</th>\n      <td>21023</td>\n      <td>1810034</td>\n      <td>300225377</td>\n      <td>3</td>\n      <td>Equipment Use</td>\n      <td>2015</td>\n      <td>1</td>\n      <td>2.00</td>\n      <td>38.190000</td>\n      <td>-95.810000</td>\n      <td>...</td>\n      <td>776241.0</td>\n      <td>10.0</td>\n      <td>13989.0</td>\n      <td>8.3</td>\n      <td>2015.0</td>\n      <td>34.887671</td>\n      <td>-538.619210</td>\n      <td>-4965.338289</td>\n      <td>3948.923147</td>\n      <td>8396</td>\n    </tr>\n    <tr>\n      <th>25189</th>\n      <td>25189</td>\n      <td>1814200</td>\n      <td>300231134</td>\n      <td>NaN</td>\n      <td>Smoking</td>\n      <td>2015</td>\n      <td>1</td>\n      <td>0.10</td>\n      <td>40.889900</td>\n      <td>-73.150700</td>\n      <td>...</td>\n      <td>810314.0</td>\n      <td>10.0</td>\n      <td>4781.0</td>\n      <td>9.1</td>\n      <td>2015.0</td>\n      <td>34.887671</td>\n      <td>1401.088455</td>\n      <td>-4612.103909</td>\n      <td>4159.824236</td>\n      <td>8396</td>\n    </tr>\n    <tr>\n      <th>25190</th>\n      <td>25190</td>\n      <td>1814201</td>\n      <td>300231135</td>\n      <td>33</td>\n      <td>Smoking</td>\n      <td>2015</td>\n      <td>1</td>\n      <td>0.01</td>\n      <td>38.980000</td>\n      <td>-95.690000</td>\n      <td>...</td>\n      <td>776971.0</td>\n      <td>10.0</td>\n      <td>13920.0</td>\n      <td>7.9</td>\n      <td>2015.0</td>\n      <td>34.887671</td>\n      <td>-488.694111</td>\n      <td>-4927.408389</td>\n      <td>4002.563383</td>\n      <td>8396</td>\n    </tr>\n    <tr>\n      <th>...</th>\n      <td>...</td>\n      <td>...</td>\n      <td>...</td>\n      <td>...</td>\n      <td>...</td>\n      <td>...</td>\n      <td>...</td>\n      <td>...</td>\n      <td>...</td>\n      <td>...</td>\n      <td>...</td>\n      <td>...</td>\n      <td>...</td>\n      <td>...</td>\n      <td>...</td>\n      <td>...</td>\n      <td>...</td>\n      <td>...</td>\n      <td>...</td>\n      <td>...</td>\n      <td>...</td>\n    </tr>\n    <tr>\n      <th>67821</th>\n      <td>67821</td>\n      <td>1856832</td>\n      <td>300289975</td>\n      <td>155240</td>\n      <td>Missing/Undefined</td>\n      <td>2015</td>\n      <td>365</td>\n      <td>0.10</td>\n      <td>33.421270</td>\n      <td>-111.954210</td>\n      <td>...</td>\n      <td>633830.0</td>\n      <td>10.0</td>\n      <td>23183.0</td>\n      <td>3.0</td>\n      <td>2015.0</td>\n      <td>12734.000000</td>\n      <td>-1990.914567</td>\n      <td>-4926.696177</td>\n      <td>3507.508085</td>\n      <td>8760</td>\n    </tr>\n    <tr>\n      <th>73246</th>\n      <td>73246</td>\n      <td>1871977</td>\n      <td>300308335</td>\n      <td>ACADEMY 2</td>\n      <td>Debris Burning</td>\n      <td>2015</td>\n      <td>365</td>\n      <td>0.10</td>\n      <td>36.536611</td>\n      <td>-119.556721</td>\n      <td>...</td>\n      <td>718899.0</td>\n      <td>3.0</td>\n      <td>53119.0</td>\n      <td>1.4</td>\n      <td>2015.0</td>\n      <td>12734.000000</td>\n      <td>-2536.226147</td>\n      <td>-4459.308573</td>\n      <td>3771.049321</td>\n      <td>8760</td>\n    </tr>\n    <tr>\n      <th>73254</th>\n      <td>73254</td>\n      <td>1871985</td>\n      <td>300308343</td>\n      <td>LEIGH</td>\n      <td>Missing/Undefined</td>\n      <td>2015</td>\n      <td>365</td>\n      <td>0.10</td>\n      <td>32.701123</td>\n      <td>-117.007382</td>\n      <td>...</td>\n      <td>645412.0</td>\n      <td>8.0</td>\n      <td>53143.0</td>\n      <td>1.5</td>\n      <td>2015.0</td>\n      <td>12734.000000</td>\n      <td>-2426.748558</td>\n      <td>-4768.315811</td>\n      <td>3451.484429</td>\n      <td>8760</td>\n    </tr>\n    <tr>\n      <th>73554</th>\n      <td>73554</td>\n      <td>1872285</td>\n      <td>300308657</td>\n      <td>NaN</td>\n      <td>Missing/Undefined</td>\n      <td>2015</td>\n      <td>365</td>\n      <td>0.01</td>\n      <td>35.050000</td>\n      <td>-120.166666</td>\n      <td>...</td>\n      <td>721087.0</td>\n      <td>10.0</td>\n      <td>23273.0</td>\n      <td>2.9</td>\n      <td>2015.0</td>\n      <td>12734.000000</td>\n      <td>-2646.344348</td>\n      <td>-4501.759462</td>\n      <td>3642.761636</td>\n      <td>8760</td>\n    </tr>\n    <tr>\n      <th>73557</th>\n      <td>73557</td>\n      <td>1872288</td>\n      <td>300308660</td>\n      <td>RODEO</td>\n      <td>Arson</td>\n      <td>2015</td>\n      <td>365</td>\n      <td>0.01</td>\n      <td>39.173027</td>\n      <td>-121.057377</td>\n      <td>...</td>\n      <td>1070373.0</td>\n      <td>10.0</td>\n      <td>397.0</td>\n      <td>2.6</td>\n      <td>2015.0</td>\n      <td>12734.000000</td>\n      <td>-2540.587702</td>\n      <td>-4227.746548</td>\n      <td>4026.196996</td>\n      <td>8760</td>\n    </tr>\n  </tbody>\n</table>\n<p>74491 rows × 63 columns</p>\n</div>"
     },
     "metadata": {},
     "execution_count": 74
    }
   ],
   "source": [
    "data"
   ]
  },
  {
   "cell_type": "code",
   "execution_count": 75,
   "metadata": {},
   "outputs": [],
   "source": [
    "order_dict = dict(zip(range(data.shape[0],data.index)))"
   ]
  },
  {
   "cell_type": "markdown",
   "metadata": {},
   "source": [
    "# Using both\n",
    "Threshold: only if edge meets **both** criteria"
   ]
  },
  {
   "cell_type": "code",
   "execution_count": 2,
   "metadata": {},
   "outputs": [],
   "source": [
    "def get_block(values, dist, row_start, row_end, col_start, col_end):\n",
    "    \n",
    "    N = values.shape[0]\n",
    "\n",
    "    # Get the relevant values for this block\n",
    "    #print(\"Get row/col vals\")\n",
    "    row_values = values[row_start:row_end, :]\n",
    "    col_values = values[col_start:col_end, :]\n",
    "\n",
    "    # Get distance matrix for this block\n",
    "    #print(\"Calculate distance\")\n",
    "    # use cuda implementation from stackoverflow\n",
    "    D = spatial.distance.cdist(row_values, col_values)\n",
    "\n",
    "    # Threshold it\n",
    "    #print(\"Threshold it\")\n",
    "    subA = D <= dist\n",
    "    \n",
    "    return subA\n",
    "\n",
    "def get_A_both(data_space, dist_space, data_time, dist_time, blocksize=10000, ordering=None):\n",
    "    \n",
    "    print(\"Setting up...\")\n",
    "    space_values = np.array(data_space.values)\n",
    "    time_values = np.array(data_time.values)\n",
    "    \n",
    "    # Dimensions should be be (N, K), even if K = 1 columns. Reshape if needed\n",
    "    if len(space_values.shape) == 1:\n",
    "        space_values = space_values.reshape((space_values.shape[0], 1))\n",
    "    if len(time_values.shape) == 1:\n",
    "        time_values = time_values.reshape((time_values.shape[0], 1))\n",
    "        \n",
    "    assert space_values.shape[0] == time_values.shape[0], \"Datasets must have same number of observations\"\n",
    "    N = space_values.shape[0]\n",
    "        \n",
    "    print(\"Initializing sparse matrix...\")\n",
    "    # Initialize sparse matrix\n",
    "    A = sparse.lil_matrix((N,N))\n",
    "    \n",
    "    # Divide-and-conquer: split the overall big adjacency matrix into\n",
    "    # blocksize x blocksize chunks, then use scipy's super-fast C implementation for distance matrix\n",
    "    for i in range(N // blocksize+1):\n",
    "        skip_row = False\n",
    "            \n",
    "        for j in range(i, N // blocksize+1):\n",
    "            \n",
    "            if skip_row:\n",
    "                continue\n",
    "            \n",
    "            # Make sure we don't go out of bounds if N isn't divisible by blocksize!\n",
    "            row_start = i * blocksize\n",
    "            row_end   = min((i+1) * blocksize, N-1)\n",
    "            col_start = j * blocksize\n",
    "            col_end   = min((j+1) * blocksize, N-1)\n",
    "            \n",
    "            sub_A_time = get_block(time_values, dist_time, row_start, row_end, col_start, col_end)\n",
    "            \n",
    "            if (sub_A_time == 0).all():\n",
    "                #print((i,j))\n",
    "                #print(\"No more non-zeroes column-wise on this row!  Skipping to next\")\n",
    "                skip_row = True\n",
    "                \n",
    "            sub_A_space = get_block(space_values, dist_space, row_start, row_end, col_start, col_end)\n",
    "            \n",
    "            # Insert into matrix\n",
    "            #print(\"Insert into matrix\")\n",
    "            subA = sub_A_time * sub_A_space            \n",
    "            \n",
    "            A[row_start:row_end, col_start:col_end] = subA\n",
    "            \n",
    "            # This graph is undirected--A will be symmetric! So set the other side now\n",
    "            #if i != j:\n",
    "                #print(\"Insert into matrix, transposed\")\n",
    "                #A[col_start:col_end, row_start:row_end] = subA.T\n",
    "\n",
    "    # Convert to CSR format for fast arithmetic\n",
    "    if ordering!=None:\n",
    "        row = np.array(sparse.find(A)[0])\n",
    "        row = [ordering[i] for i in row]\n",
    "        col = np.array(sparse.find(A)[1])\n",
    "        entries = np.array(sparse.find(A)[2])\n",
    "        A = sparse.csr_matrix( (entries, (row,col)), shape=(A.shape[0],A.shape[1]) )\n",
    "    else:\n",
    "        A = A.tocsr()\n",
    "    \n",
    "    # This graph is undirected--so set the other side to be symmetric\n",
    "    # Do this efficiently by adding the transpose, and then removing the elements equal to 2 to 1\n",
    "    A += A.T\n",
    "    A[A == 2] = 1\n",
    "            \n",
    "    return A"
   ]
  },
  {
   "cell_type": "code",
   "execution_count": 115,
   "metadata": {},
   "outputs": [],
   "source": [
    "attr_time = data[[\"DAY\"]]\n",
    "attr_space = data[[\"LATITUDE\", \"LONGITUDE\"]]"
   ]
  },
  {
   "cell_type": "code",
   "execution_count": 117,
   "metadata": {},
   "outputs": [
    {
     "output_type": "stream",
     "name": "stdout",
     "text": "Setting up...\nInitializing sparse matrix...\n"
    }
   ],
   "source": [
    "%%time\n",
    "Aboth = get_A_both(attr_space, 1.0, attr_time, 1.01, blocksize=100,ordering=order_dict)"
   ]
  },
  {
   "cell_type": "code",
   "execution_count": 106,
   "metadata": {},
   "outputs": [
    {
     "output_type": "display_data",
     "data": {
      "text/plain": "<Figure size 750x450 with 1 Axes>",
      "image/png": "[encoded data removed]"
     },
     "metadata": {
      "needs_background": "light"
     }
    }
   ],
   "source": [
    "deg = Aboth.sum(axis=1)\n",
    "\n",
    "fig, ax = plt.subplots(figsize=(5,3), dpi=150)\n",
    "ax.hist(deg)\n",
    "ax.set_ylabel(\"Count\")\n",
    "ax.set_xlabel(\"Degree\")\n",
    "ax.axvline(x=deg.mean(), ymin=0, ymax=1, color='black')\n",
    "ax.set_title(\"Degree distribution for $A_{both}$\" + \"\\n$c={0:.1f}$\".format(deg.mean()))\n",
    "plt.show()"
   ]
  },
  {
   "cell_type": "markdown",
   "metadata": {},
   "source": [
    "# Save sparse matrices to disk"
   ]
  },
  {
   "cell_type": "code",
   "execution_count": null,
   "metadata": {},
   "outputs": [],
   "source": [
    "with open('A_mat.pkl', 'wb') as f:\n",
    "    pickle.dump(Aboth, f)"
   ]
  }
 ],
 "metadata": {
  "kernelspec": {
   "display_name": "Python 3",
   "language": "python",
   "name": "python3"
  },
  "language_info": {
   "codemirror_mode": {
    "name": "ipython",
    "version": 3
   },
   "file_extension": ".py",
   "mimetype": "text/x-python",
   "name": "python",
   "nbconvert_exporter": "python",
   "pygments_lexer": "ipython3",
   "version": "3.7.7-final"
  }
 },
 "nbformat": 4,
 "nbformat_minor": 4
}