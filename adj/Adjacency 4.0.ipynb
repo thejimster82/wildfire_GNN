{
 "cells": [
  {
   "cell_type": "markdown",
   "metadata": {},
   "source": [
    "# Import data"
   ]
  },
  {
   "cell_type": "code",
   "execution_count": 1,
   "metadata": {},
   "outputs": [],
   "source": [
    "import pandas as pd\n",
    "import numpy as np\n",
    "import matplotlib.pyplot as plt\n",
    "import gc\n",
    "import pickle\n",
    "#from numba import cuda\n",
    "from scipy import spatial, sparse"
   ]
  },
  {
   "cell_type": "code",
   "execution_count": 2,
   "metadata": {},
   "outputs": [
    {
     "name": "stderr",
     "output_type": "stream",
     "text": [
      "/home/mark/.local/lib/python3.6/site-packages/IPython/core/interactiveshell.py:3051: DtypeWarning: Columns (4) have mixed types.Specify dtype option on import or set low_memory=False.\n",
      "  interactivity=interactivity, compiler=compiler, result=result)\n",
      "/home/mark/.local/lib/python3.6/site-packages/numpy/lib/arraysetops.py:569: FutureWarning: elementwise comparison failed; returning scalar instead, but in the future will perform elementwise comparison\n",
      "  mask |= (ar1 == a)\n"
     ]
    }
   ],
   "source": [
    "data = pd.read_csv('/mnt/d/wildfires/fires_merged_weather.csv', index_col=0,\n",
    "                  #dtype for smaller representation\n",
    "                  dtype={'STAT_CAUSE_DESCR': 'category', 'STATE': 'category', 'DISCOVERY_MONTH': 'category',\n",
    "                        'Fog': 'bool', 'FunnelCloud': 'bool', 'Hail': 'bool', 'Rain': 'bool',\n",
    "                        'Snow': 'bool', 'Thunder': 'bool'}\n",
    "                  )"
   ]
  },
  {
   "cell_type": "markdown",
   "metadata": {},
   "source": [
    "making doy relative to year, equal to days since 1/1/1992 now"
   ]
  },
  {
   "cell_type": "code",
   "execution_count": 3,
   "metadata": {},
   "outputs": [],
   "source": [
    "data['DAY'] = (data['FIRE_YEAR']-1992)*365+data['DISCOVERY_DOY']"
   ]
  },
  {
   "cell_type": "markdown",
   "metadata": {},
   "source": [
    "## Sort data by day"
   ]
  },
  {
   "cell_type": "code",
   "execution_count": 4,
   "metadata": {},
   "outputs": [
    {
     "name": "stdout",
     "output_type": "stream",
     "text": [
      "CPU times: user 906 ms, sys: 1.22 s, total: 2.12 s\n",
      "Wall time: 2.11 s\n"
     ]
    }
   ],
   "source": [
    "%%time\n",
    "data = data.sort_values('DAY', ascending=True, kind='mergesort')"
   ]
  },
  {
   "cell_type": "markdown",
   "metadata": {},
   "source": [
    "# Using both\n",
    "Threshold: only if edge meets **both** criteria"
   ]
  },
  {
   "cell_type": "code",
   "execution_count": 5,
   "metadata": {},
   "outputs": [],
   "source": [
    "def get_block(values, dist, row_start, row_end, col_start, col_end):\n",
    "    \n",
    "    N = values.shape[0]\n",
    "\n",
    "    # Get the relevant values for this block\n",
    "    #print(\"Get row/col vals\")\n",
    "    row_values = values[row_start:row_end, :]\n",
    "    col_values = values[col_start:col_end, :]\n",
    "\n",
    "    # Get distance matrix for this block\n",
    "    #print(\"Calculate distance\")\n",
    "    # use cuda implementation from stackoverflow\n",
    "    D = spatial.distance.cdist(row_values, col_values)\n",
    "\n",
    "    # Threshold it\n",
    "    #print(\"Threshold it\")\n",
    "    subA = D <= dist\n",
    "    \n",
    "    return subA\n",
    "\n",
    "def get_A_both(data_space, dist_space, data_time, dist_time, blocksize=10000):\n",
    "    \n",
    "    print(\"Setting up...\")\n",
    "    space_values = np.array(data_space.values)\n",
    "    time_values = np.array(data_time.values)\n",
    "    \n",
    "    # Dimensions should be be (N, K), even if K = 1 columns. Reshape if needed\n",
    "    if len(space_values.shape) == 1:\n",
    "        space_values = space_values.reshape((space_values.shape[0], 1))\n",
    "    if len(time_values.shape) == 1:\n",
    "        time_values = time_values.reshape((time_values.shape[0], 1))\n",
    "        \n",
    "    assert space_values.shape[0] == time_values.shape[0], \"Datasets must have same number of observations\"\n",
    "    N = space_values.shape[0]\n",
    "        \n",
    "    print(\"Initializing sparse matrix...\")\n",
    "    # Initialize sparse matrix\n",
    "    A = sparse.lil_matrix((N,N))\n",
    "    \n",
    "    # Divide-and-conquer: split the overall big adjacency matrix into\n",
    "    # blocksize x blocksize chunks, then use scipy's super-fast C implementation for distance matrix\n",
    "    for i in range(N // blocksize + 1):\n",
    "        skip_row = False\n",
    "            \n",
    "        for j in range(i, N // blocksize + 1):\n",
    "            \n",
    "            if skip_row:\n",
    "                continue\n",
    "            \n",
    "            # Make sure we don't go out of bounds if N isn't divisible by blocksize!\n",
    "            row_start = i * blocksize\n",
    "            row_end   = min((i+1) * blocksize, N-1)\n",
    "            col_start = j * blocksize\n",
    "            col_end   = min((j+1) * blocksize, N-1)\n",
    "            \n",
    "            sub_A_time = get_block(time_values, dist_time, row_start, row_end, col_start, col_end)\n",
    "            \n",
    "            if (sub_A_time == 0).all():\n",
    "                #print((i,j))\n",
    "                #print(\"No more non-zeroes column-wise on this row!  Skipping to next\")\n",
    "                skip_row = True\n",
    "                \n",
    "            sub_A_space = get_block(space_values, dist_space, row_start, row_end, col_start, col_end)\n",
    "            \n",
    "            # Insert into matrix\n",
    "            #print(\"Insert into matrix\")\n",
    "            subA = sub_A_time * sub_A_space            \n",
    "            \n",
    "            A[row_start:row_end, col_start:col_end] = subA\n",
    "            \n",
    "            # This graph is undirected--A will be symmetric! So set the other side now\n",
    "            #if i != j:\n",
    "                #print(\"Insert into matrix, transposed\")\n",
    "                #A[col_start:col_end, row_start:row_end] = subA.T\n",
    "            \n",
    "    # Convert to CSR format for fast arithmetic\n",
    "    #print(\"Convert CSR\")\n",
    "    A = A.tocsr()\n",
    "    \n",
    "    # This graph is undirected--so set the other side to be symmetric\n",
    "    # Do this efficiently by adding the transpose, and then removing the elements equal to 2 to 1\n",
    "    A += A.T\n",
    "    A[A == 2] = 1\n",
    "            \n",
    "    return A"
   ]
  },
  {
   "cell_type": "code",
   "execution_count": 6,
   "metadata": {},
   "outputs": [],
   "source": [
    "attr_time = data[[\"DAY\"]]\n",
    "attr_space = data[[\"LATITUDE\", \"LONGITUDE\"]]"
   ]
  },
  {
   "cell_type": "code",
   "execution_count": 7,
   "metadata": {},
   "outputs": [
    {
     "name": "stdout",
     "output_type": "stream",
     "text": [
      "Setting up...\n",
      "Initializing sparse matrix...\n",
      "CPU times: user 1min 27s, sys: 7.58 s, total: 1min 35s\n",
      "Wall time: 1min 35s\n"
     ]
    }
   ],
   "source": [
    "%%time\n",
    "Aboth = get_A_both(attr_space, 1.0, attr_time, 1.01, blocksize=100)"
   ]
  },
  {
   "cell_type": "code",
   "execution_count": 8,
   "metadata": {},
   "outputs": [
    {
     "data": {
      "image/png": "[encoded data removed]",
      "text/plain": [
       "<Figure size 750x450 with 1 Axes>"
      ]
     },
     "metadata": {
      "needs_background": "light"
     },
     "output_type": "display_data"
    }
   ],
   "source": [
    "deg = Aboth.sum(axis=1)\n",
    "\n",
    "fig, ax = plt.subplots(figsize=(5,3), dpi=150)\n",
    "ax.hist(deg)\n",
    "ax.set_ylabel(\"Count\")\n",
    "ax.set_xlabel(\"Degree\")\n",
    "ax.axvline(x=deg.mean(), ymin=0, ymax=1, color='black')\n",
    "ax.set_title(\"Degree distribution for $A_{both}$\" + \"\\n$c={0:.1f}$\".format(deg.mean()))\n",
    "plt.show()"
   ]
  },
  {
   "cell_type": "markdown",
   "metadata": {},
   "source": [
    "# Save sparse matrices to disk"
   ]
  },
  {
   "cell_type": "code",
   "execution_count": 9,
   "metadata": {},
   "outputs": [],
   "source": [
    "with open('A_both_full.pkl', 'wb') as f:\n",
    "    pickle.dump(Aboth, f)"
   ]
  }
 ],
 "metadata": {
  "kernelspec": {
   "display_name": "Python 3",
   "language": "python",
   "name": "python3"
  },
  "language_info": {
   "codemirror_mode": {
    "name": "ipython",
    "version": 3
   },
   "file_extension": ".py",
   "mimetype": "text/x-python",
   "name": "python",
   "nbconvert_exporter": "python",
   "pygments_lexer": "ipython3",
   "version": "3.6.9"
  }
 },
 "nbformat": 4,
 "nbformat_minor": 4
}
