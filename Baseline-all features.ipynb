{
 "cells": [
  {
   "cell_type": "code",
   "execution_count": 1,
   "metadata": {},
   "outputs": [],
   "source": [
    "# Set up AMD GPU (change if using Nvidia)\n",
    "import plaidml.keras\n",
    "plaidml.keras.install_backend()"
   ]
  },
  {
   "cell_type": "code",
   "execution_count": 2,
   "metadata": {},
   "outputs": [],
   "source": [
    "import pandas as pd\n",
    "import numpy as np\n",
    "import matplotlib.pyplot as plt\n",
    "import gc"
   ]
  },
  {
   "cell_type": "code",
   "execution_count": 3,
   "metadata": {},
   "outputs": [],
   "source": [
    "from sklearn.model_selection import train_test_split\n",
    "from sklearn.impute import SimpleImputer\n",
    "from sklearn.preprocessing import MinMaxScaler\n",
    "from sklearn.metrics import confusion_matrix"
   ]
  },
  {
   "cell_type": "code",
   "execution_count": 4,
   "metadata": {},
   "outputs": [],
   "source": [
    "from keras import callbacks, models, layers"
   ]
  },
  {
   "cell_type": "markdown",
   "metadata": {},
   "source": [
    "# Read data"
   ]
  },
  {
   "cell_type": "code",
   "execution_count": 5,
   "metadata": {},
   "outputs": [
    {
     "name": "stderr",
     "output_type": "stream",
     "text": [
      "C:\\ProgramData\\Anaconda3\\lib\\site-packages\\IPython\\core\\interactiveshell.py:3063: DtypeWarning: Columns (4) have mixed types. Specify dtype option on import or set low_memory=False.\n",
      "  interactivity=interactivity, compiler=compiler, result=result)\n",
      "C:\\ProgramData\\Anaconda3\\lib\\site-packages\\numpy\\lib\\arraysetops.py:569: FutureWarning: elementwise comparison failed; returning scalar instead, but in the future will perform elementwise comparison\n",
      "  mask |= (ar1 == a)\n"
     ]
    }
   ],
   "source": [
    "data = pd.read_csv('D:/wildfires/fires_merged_weather.csv', index_col=0,\n",
    "                  #dtype for smaller representation\n",
    "                  dtype={'STAT_CAUSE_DESCR': 'category', 'STATE': 'category', 'DISCOVERY_MONTH': 'category',\n",
    "                        'Fog': 'bool', 'FunnelCloud': 'bool', 'Hail': 'bool', 'Rain': 'bool',\n",
    "                        'Snow': 'bool', 'Thunder': 'bool'}\n",
    "                  )"
   ]
  },
  {
   "cell_type": "markdown",
   "metadata": {},
   "source": [
    "# Drop unnecessary columns"
   ]
  },
  {
   "cell_type": "code",
   "execution_count": 6,
   "metadata": {},
   "outputs": [],
   "source": [
    "data.drop(['Unnamed: 0.1', 'index_x', 'FOD_ID', 'FIRE_NAME', 'DISCOVERY_DOY_SCALED',\n",
    "           'x_fire', 'y_fire', 'z_fire',\n",
    "           'index_y', 'Begin', 'End', 'Country', 'Day', 'ICAO', 'Latitude', 'Longitude', 'Month', 'STATION NAME',\n",
    "           'State', 'Station', 'USAF', 'Unnamed: 0.1.1', 'Unnamed: 0.1.1.1', \n",
    "           'WBAN', 'Year', 'doy', 'x', 'y', 'z',\n",
    "          ],\n",
    "         axis='columns', inplace=True)"
   ]
  },
  {
   "cell_type": "code",
   "execution_count": 7,
   "metadata": {},
   "outputs": [
    {
     "data": {
      "text/plain": [
       "2476"
      ]
     },
     "execution_count": 7,
     "metadata": {},
     "output_type": "execute_result"
    }
   ],
   "source": [
    "gc.collect()"
   ]
  },
  {
   "cell_type": "code",
   "execution_count": 8,
   "metadata": {},
   "outputs": [
    {
     "data": {
      "text/plain": [
       "Index(['STAT_CAUSE_DESCR', 'FIRE_YEAR', 'DISCOVERY_DOY', 'FIRE_SIZE',\n",
       "       'LATITUDE', 'LONGITUDE', 'STATE', 'CONTAINED', 'DISCOVERY_MONTH',\n",
       "       'DISTANCE_CITY_1000000', 'DISTANCE_CITY_100000', 'DISTANCE_CITY_10000',\n",
       "       'DISTANCE_CITY_1000', 'APPROX_ELEVATION', 'DewPoint', 'Elevation',\n",
       "       'Fog', 'FunnelCloud', 'Gust', 'Hail', 'MaxTemp', 'MaxWindspeed',\n",
       "       'MinTemp', 'Precip', 'Rain', 'SeaLevelPressure', 'Snow', 'SnowDepth',\n",
       "       'StationPressure', 'Temp', 'Thunder', 'Visibility', 'Windspeed'],\n",
       "      dtype='object')"
      ]
     },
     "execution_count": 8,
     "metadata": {},
     "output_type": "execute_result"
    }
   ],
   "source": [
    "data.columns"
   ]
  },
  {
   "cell_type": "markdown",
   "metadata": {},
   "source": [
    "# Drop unknown fires"
   ]
  },
  {
   "cell_type": "code",
   "execution_count": 9,
   "metadata": {},
   "outputs": [],
   "source": [
    "data = data[data['STAT_CAUSE_DESCR'] != 'Missing/Undefined']\n",
    "data = data[data['STAT_CAUSE_DESCR'] != 'Miscellaneous']"
   ]
  },
  {
   "cell_type": "code",
   "execution_count": 10,
   "metadata": {},
   "outputs": [
    {
     "data": {
      "text/plain": [
       "60"
      ]
     },
     "execution_count": 10,
     "metadata": {},
     "output_type": "execute_result"
    }
   ],
   "source": [
    "gc.collect()"
   ]
  },
  {
   "cell_type": "markdown",
   "metadata": {},
   "source": [
    "# Split into features/labels and one-hot code\n",
    "\n",
    "Also convert missing values to `np.nan`."
   ]
  },
  {
   "cell_type": "code",
   "execution_count": 11,
   "metadata": {},
   "outputs": [
    {
     "data": {
      "text/plain": [
       "Index(['FIRE_YEAR', 'DISCOVERY_DOY', 'FIRE_SIZE', 'LATITUDE', 'LONGITUDE',\n",
       "       'STATE', 'CONTAINED', 'DISCOVERY_MONTH', 'DISTANCE_CITY_1000000',\n",
       "       'DISTANCE_CITY_100000', 'DISTANCE_CITY_10000', 'DISTANCE_CITY_1000',\n",
       "       'APPROX_ELEVATION', 'DewPoint', 'Elevation', 'Fog', 'FunnelCloud',\n",
       "       'Gust', 'Hail', 'MaxTemp', 'MaxWindspeed', 'MinTemp', 'Precip', 'Rain',\n",
       "       'SeaLevelPressure', 'Snow', 'SnowDepth', 'StationPressure', 'Temp',\n",
       "       'Thunder', 'Visibility', 'Windspeed'],\n",
       "      dtype='object')"
      ]
     },
     "execution_count": 11,
     "metadata": {},
     "output_type": "execute_result"
    }
   ],
   "source": [
    "data.drop('STAT_CAUSE_DESCR', axis='columns').columns"
   ]
  },
  {
   "cell_type": "markdown",
   "metadata": {},
   "source": [
    "#### Zero-imputing for some features -- see EDA.ipynb"
   ]
  },
  {
   "cell_type": "code",
   "execution_count": 12,
   "metadata": {},
   "outputs": [],
   "source": [
    "for zcol in ['Gust', 'MaxWindspeed', 'Precip', 'SnowDepth', 'Visibility', 'Windspeed']:\n",
    "    data.loc[data[zcol].isna(), zcol] = 0"
   ]
  },
  {
   "cell_type": "code",
   "execution_count": 13,
   "metadata": {},
   "outputs": [],
   "source": [
    "Y = pd.get_dummies(data['STAT_CAUSE_DESCR'].cat.remove_unused_categories())\n",
    "X = pd.get_dummies(data.drop('STAT_CAUSE_DESCR', axis='columns'))\n",
    "\n",
    "for na in [9999.9, 999.9, 99.99]:\n",
    "    X[X == na] = np.nan"
   ]
  },
  {
   "cell_type": "code",
   "execution_count": 14,
   "metadata": {},
   "outputs": [
    {
     "data": {
      "text/plain": [
       "(1389937, 94)"
      ]
     },
     "execution_count": 14,
     "metadata": {},
     "output_type": "execute_result"
    }
   ],
   "source": [
    "X.shape"
   ]
  },
  {
   "cell_type": "markdown",
   "metadata": {},
   "source": [
    "# Train/test split"
   ]
  },
  {
   "cell_type": "code",
   "execution_count": 15,
   "metadata": {},
   "outputs": [],
   "source": [
    "X_train, X_test, Y_train, Y_test = train_test_split(\n",
    "    X, Y, test_size=0.1, random_state=42)"
   ]
  },
  {
   "cell_type": "markdown",
   "metadata": {},
   "source": [
    "# Impute missing features"
   ]
  },
  {
   "cell_type": "markdown",
   "metadata": {},
   "source": [
    "#### Mean imputing for some features -- see EDA.ipynb"
   ]
  },
  {
   "cell_type": "code",
   "execution_count": 16,
   "metadata": {},
   "outputs": [],
   "source": [
    "imp = SimpleImputer(missing_values=np.nan, strategy='mean')"
   ]
  },
  {
   "cell_type": "code",
   "execution_count": 17,
   "metadata": {},
   "outputs": [
    {
     "data": {
      "text/plain": [
       "SimpleImputer(add_indicator=False, copy=True, fill_value=None,\n",
       "              missing_values=nan, strategy='mean', verbose=0)"
      ]
     },
     "execution_count": 17,
     "metadata": {},
     "output_type": "execute_result"
    }
   ],
   "source": [
    "imp.fit(X_train)"
   ]
  },
  {
   "cell_type": "code",
   "execution_count": 18,
   "metadata": {},
   "outputs": [],
   "source": [
    "X_train = imp.transform(X_train)\n",
    "X_test = imp.transform(X_test)"
   ]
  },
  {
   "cell_type": "markdown",
   "metadata": {},
   "source": [
    "# Scale the features"
   ]
  },
  {
   "cell_type": "code",
   "execution_count": 19,
   "metadata": {},
   "outputs": [],
   "source": [
    "scale = MinMaxScaler()"
   ]
  },
  {
   "cell_type": "code",
   "execution_count": 20,
   "metadata": {},
   "outputs": [
    {
     "data": {
      "text/plain": [
       "MinMaxScaler(copy=True, feature_range=(0, 1))"
      ]
     },
     "execution_count": 20,
     "metadata": {},
     "output_type": "execute_result"
    }
   ],
   "source": [
    "scale.fit(X_train)"
   ]
  },
  {
   "cell_type": "code",
   "execution_count": 21,
   "metadata": {},
   "outputs": [],
   "source": [
    "X_train = scale.transform(X_train)\n",
    "X_test = scale.transform(X_test)"
   ]
  },
  {
   "cell_type": "markdown",
   "metadata": {},
   "source": [
    "# Define the model"
   ]
  },
  {
   "cell_type": "code",
   "execution_count": 22,
   "metadata": {},
   "outputs": [
    {
     "name": "stderr",
     "output_type": "stream",
     "text": [
      "INFO:plaidml:Opening device \"opencl_amd_tonga.0\"\n"
     ]
    }
   ],
   "source": [
    "model = models.Sequential()\n",
    "\n",
    "model.add(layers.Dense(512, input_shape=(X.shape[1],)))\n",
    "model.add(layers.BatchNormalization())\n",
    "model.add(layers.Activation('relu'))\n",
    "\n",
    "model.add(layers.Dense(512))\n",
    "model.add(layers.BatchNormalization())\n",
    "model.add(layers.Activation('relu'))\n",
    "\n",
    "model.add(layers.Dense(512))\n",
    "model.add(layers.BatchNormalization())\n",
    "model.add(layers.Activation('relu'))\n",
    "\n",
    "\n",
    "model.add(layers.Dense(Y.shape[1], activation='softmax'))\n",
    "\n",
    "model.compile(optimizer='rmsprop', loss='categorical_crossentropy', metrics=['categorical_accuracy'])"
   ]
  },
  {
   "cell_type": "code",
   "execution_count": 23,
   "metadata": {},
   "outputs": [
    {
     "name": "stdout",
     "output_type": "stream",
     "text": [
      "_________________________________________________________________\n",
      "Layer (type)                 Output Shape              Param #   \n",
      "=================================================================\n",
      "dense_1 (Dense)              (None, 512)               48640     \n",
      "_________________________________________________________________\n",
      "batch_normalization_1 (Batch (None, 512)               2048      \n",
      "_________________________________________________________________\n",
      "activation_1 (Activation)    (None, 512)               0         \n",
      "_________________________________________________________________\n",
      "dense_2 (Dense)              (None, 512)               262656    \n",
      "_________________________________________________________________\n",
      "batch_normalization_2 (Batch (None, 512)               2048      \n",
      "_________________________________________________________________\n",
      "activation_2 (Activation)    (None, 512)               0         \n",
      "_________________________________________________________________\n",
      "dense_3 (Dense)              (None, 512)               262656    \n",
      "_________________________________________________________________\n",
      "batch_normalization_3 (Batch (None, 512)               2048      \n",
      "_________________________________________________________________\n",
      "activation_3 (Activation)    (None, 512)               0         \n",
      "_________________________________________________________________\n",
      "dense_4 (Dense)              (None, 11)                5643      \n",
      "=================================================================\n",
      "Total params: 585,739\n",
      "Trainable params: 582,667\n",
      "Non-trainable params: 3,072\n",
      "_________________________________________________________________\n"
     ]
    }
   ],
   "source": [
    "model.summary()"
   ]
  },
  {
   "cell_type": "markdown",
   "metadata": {},
   "source": [
    "# Fit model"
   ]
  },
  {
   "cell_type": "code",
   "execution_count": 24,
   "metadata": {},
   "outputs": [
    {
     "name": "stdout",
     "output_type": "stream",
     "text": [
      "Train on 1250943 samples, validate on 138994 samples\n",
      "Epoch 1/100\n",
      "1250943/1250943 [==============================] - 36s 29us/step - loss: 1.3889 - categorical_accuracy: 0.5182 - val_loss: 1.7392 - val_categorical_accuracy: 0.4555\n",
      "Epoch 2/100\n",
      "1250943/1250943 [==============================] - 23s 19us/step - loss: 1.2936 - categorical_accuracy: 0.5446 - val_loss: 1.5264 - val_categorical_accuracy: 0.5012\n",
      "Epoch 3/100\n",
      "1250943/1250943 [==============================] - 22s 18us/step - loss: 1.2643 - categorical_accuracy: 0.5544 - val_loss: 1.3709 - val_categorical_accuracy: 0.5168\n",
      "Epoch 4/100\n",
      "1250943/1250943 [==============================] - 22s 18us/step - loss: 1.2447 - categorical_accuracy: 0.5604 - val_loss: 1.3162 - val_categorical_accuracy: 0.5347\n",
      "Epoch 5/100\n",
      "1250943/1250943 [==============================] - 22s 18us/step - loss: 1.2294 - categorical_accuracy: 0.5654 - val_loss: 1.3104 - val_categorical_accuracy: 0.5376\n",
      "Epoch 6/100\n",
      "1250943/1250943 [==============================] - 23s 19us/step - loss: 1.2169 - categorical_accuracy: 0.5696 - val_loss: 1.3081 - val_categorical_accuracy: 0.5465\n",
      "Epoch 7/100\n",
      "1250943/1250943 [==============================] - 22s 17us/step - loss: 1.2055 - categorical_accuracy: 0.5735 - val_loss: 1.3043 - val_categorical_accuracy: 0.5459\n",
      "Epoch 8/100\n",
      "1250943/1250943 [==============================] - 22s 18us/step - loss: 1.1961 - categorical_accuracy: 0.5768 - val_loss: 1.2820 - val_categorical_accuracy: 0.5530\n",
      "Epoch 9/100\n",
      "1250943/1250943 [==============================] - 22s 18us/step - loss: 1.1867 - categorical_accuracy: 0.5796 - val_loss: 1.2775 - val_categorical_accuracy: 0.5550\n",
      "Epoch 10/100\n",
      "1250943/1250943 [==============================] - 23s 19us/step - loss: 1.1786 - categorical_accuracy: 0.5827 - val_loss: 1.2618 - val_categorical_accuracy: 0.5592\n",
      "Epoch 11/100\n",
      "1250943/1250943 [==============================] - 23s 18us/step - loss: 1.1713 - categorical_accuracy: 0.5848 - val_loss: 1.2726 - val_categorical_accuracy: 0.5539\n",
      "Epoch 12/100\n",
      "1250943/1250943 [==============================] - 22s 18us/step - loss: 1.1641 - categorical_accuracy: 0.5873 - val_loss: 1.2871 - val_categorical_accuracy: 0.5486\n",
      "Epoch 13/100\n",
      "1250943/1250943 [==============================] - 22s 18us/step - loss: 1.1567 - categorical_accuracy: 0.5900 - val_loss: 1.2643 - val_categorical_accuracy: 0.5603\n",
      "Epoch 14/100\n",
      "1250943/1250943 [==============================] - 24s 19us/step - loss: 1.1509 - categorical_accuracy: 0.5919 - val_loss: 1.2574 - val_categorical_accuracy: 0.5633\n",
      "Epoch 15/100\n",
      "1250943/1250943 [==============================] - 22s 18us/step - loss: 1.1443 - categorical_accuracy: 0.5939 - val_loss: 1.2556 - val_categorical_accuracy: 0.5647\n",
      "Epoch 16/100\n",
      "1250943/1250943 [==============================] - 22s 18us/step - loss: 1.1385 - categorical_accuracy: 0.5960 - val_loss: 1.2511 - val_categorical_accuracy: 0.5667\n",
      "Epoch 17/100\n",
      "1250943/1250943 [==============================] - 22s 18us/step - loss: 1.1328 - categorical_accuracy: 0.5979 - val_loss: 1.2689 - val_categorical_accuracy: 0.5591\n",
      "Epoch 18/100\n",
      "1250943/1250943 [==============================] - 23s 18us/step - loss: 1.1273 - categorical_accuracy: 0.5996 - val_loss: 1.2520 - val_categorical_accuracy: 0.5577\n",
      "Epoch 19/100\n",
      "1250943/1250943 [==============================] - 39s 31us/step - loss: 1.1220 - categorical_accuracy: 0.6012 - val_loss: 1.2614 - val_categorical_accuracy: 0.5620\n",
      "Epoch 20/100\n",
      "1250943/1250943 [==============================] - 36s 29us/step - loss: 1.1166 - categorical_accuracy: 0.6031 - val_loss: 1.2505 - val_categorical_accuracy: 0.5663\n",
      "Epoch 21/100\n",
      "1250943/1250943 [==============================] - 22s 18us/step - loss: 1.1115 - categorical_accuracy: 0.6043 - val_loss: 1.2747 - val_categorical_accuracy: 0.5609\n",
      "Epoch 22/100\n",
      "1250943/1250943 [==============================] - 22s 18us/step - loss: 1.1070 - categorical_accuracy: 0.6057 - val_loss: 1.2412 - val_categorical_accuracy: 0.5708\n",
      "Epoch 23/100\n",
      "1250943/1250943 [==============================] - 22s 18us/step - loss: 1.1022 - categorical_accuracy: 0.6078 - val_loss: 1.2646 - val_categorical_accuracy: 0.5620\n",
      "Epoch 24/100\n",
      "1250943/1250943 [==============================] - 23s 18us/step - loss: 1.0973 - categorical_accuracy: 0.6091 - val_loss: 1.2591 - val_categorical_accuracy: 0.5659\n",
      "Epoch 25/100\n",
      "1250943/1250943 [==============================] - 24s 19us/step - loss: 1.0923 - categorical_accuracy: 0.6104 - val_loss: 1.2651 - val_categorical_accuracy: 0.5668\n",
      "Epoch 26/100\n",
      "1250943/1250943 [==============================] - 27s 22us/step - loss: 1.0878 - categorical_accuracy: 0.6115 - val_loss: 1.2667 - val_categorical_accuracy: 0.5602\n",
      "Epoch 27/100\n",
      "1250943/1250943 [==============================] - 26s 20us/step - loss: 1.0838 - categorical_accuracy: 0.6130 - val_loss: 1.2438 - val_categorical_accuracy: 0.5695\n"
     ]
    }
   ],
   "source": [
    "history = model.fit(x = X_train, y = Y_train,\n",
    "                    validation_data = (X_test, Y_test),\n",
    "                    batch_size = 10000, epochs=100,\n",
    "                    callbacks = [callbacks.EarlyStopping(patience=5)])"
   ]
  },
  {
   "cell_type": "code",
   "execution_count": 25,
   "metadata": {},
   "outputs": [
    {
     "data": {
      "text/plain": [
       "STAT_CAUSE_DESCR\n",
       "Arson                0.202495\n",
       "Campfire             0.054779\n",
       "Children             0.044007\n",
       "Debris Burning       0.308667\n",
       "Equipment Use        0.106200\n",
       "Fireworks            0.008274\n",
       "Lightning            0.200346\n",
       "Miscellaneous        0.000000\n",
       "Missing/Undefined    0.000000\n",
       "Powerline            0.010395\n",
       "Railroad             0.024069\n",
       "Smoking              0.038037\n",
       "Structure            0.002731\n",
       "Name: STAT_CAUSE_DESCR, dtype: float64"
      ]
     },
     "execution_count": 25,
     "metadata": {},
     "output_type": "execute_result"
    }
   ],
   "source": [
    "data['STAT_CAUSE_DESCR'].groupby(data['STAT_CAUSE_DESCR']).count() / data.shape[0]"
   ]
  },
  {
   "cell_type": "code",
   "execution_count": 26,
   "metadata": {},
   "outputs": [],
   "source": [
    "Y_pred = model.predict(X_test)"
   ]
  },
  {
   "cell_type": "code",
   "execution_count": 27,
   "metadata": {},
   "outputs": [],
   "source": [
    "C = confusion_matrix(np.argmax(Y_test.values, axis=-1), np.argmax(Y_pred, axis=-1))"
   ]
  },
  {
   "cell_type": "code",
   "execution_count": 28,
   "metadata": {},
   "outputs": [
    {
     "data": {
      "image/png": "[encoded data removed]",
      "text/plain": [
       "<Figure size 500x500 with 2 Axes>"
      ]
     },
     "metadata": {
      "needs_background": "light"
     },
     "output_type": "display_data"
    }
   ],
   "source": [
    "fig, ax = plt.subplots(figsize=(5,5), dpi=100)\n",
    "\n",
    "Cnorm = C / C.sum(axis=0)\n",
    "\n",
    "m = ax.matshow(Cnorm, cmap='Blues')\n",
    "for i in range(11):\n",
    "    for j in range(11):\n",
    "        ax.text(j, i, '{:0.2f}'.format(Cnorm[i,j]), ha='center', va='center', fontsize=6)\n",
    "        \n",
    "fig.colorbar(m)\n",
    "\n",
    "ax.set_xlabel(\"true\")\n",
    "plt.yticks(ticks=np.arange(11), labels=Y.columns)\n",
    "plt.xticks(ticks=np.arange(11), labels=Y.columns, rotation=90)\n",
    "ax.set_ylabel('predicted')\n",
    "plt.show()"
   ]
  }
 ],
 "metadata": {
  "kernelspec": {
   "display_name": "Python 3",
   "language": "python",
   "name": "python3"
  },
  "language_info": {
   "codemirror_mode": {
    "name": "ipython",
    "version": 3
   },
   "file_extension": ".py",
   "mimetype": "text/x-python",
   "name": "python",
   "nbconvert_exporter": "python",
   "pygments_lexer": "ipython3",
   "version": "3.7.3"
  }
 },
 "nbformat": 4,
 "nbformat_minor": 2
}
