{
 "cells": [
  {
   "cell_type": "markdown",
   "metadata": {},
   "source": [
    "# Import data"
   ]
  },
  {
   "cell_type": "code",
   "execution_count": null,
   "metadata": {},
   "outputs": [],
   "source": [
    "import pandas as pd\n",
    "import numpy as np\n",
    "import matplotlib.pyplot as plt\n",
    "import gc\n",
    "import pickle\n",
    "from numba import cuda\n",
    "from scipy import spatial, sparse"
   ]
  },
  {
   "cell_type": "code",
   "execution_count": null,
   "metadata": {},
   "outputs": [],
   "source": [
    "data = pd.read_csv('~/fires_merged_weather.csv', index_col=0,\n",
    "                  #dtype for smaller representation\n",
    "                  dtype={'STAT_CAUSE_DESCR': 'category', 'STATE': 'category', 'DISCOVERY_MONTH': 'category',\n",
    "                        'Fog': 'bool', 'FunnelCloud': 'bool', 'Hail': 'bool', 'Rain': 'bool',\n",
    "                        'Snow': 'bool', 'Thunder': 'bool'}\n",
    "                  )"
   ]
  },
  {
   "cell_type": "markdown",
   "metadata": {},
   "source": [
    "making doy relative to year, equal to days since 1/1/1992 now"
   ]
  },
  {
   "cell_type": "code",
   "execution_count": null,
   "metadata": {},
   "outputs": [],
   "source": [
    "data['DAY'] = (data['FIRE_YEAR']-1992)*365+data['DISCOVERY_DOY']"
   ]
  },
  {
   "cell_type": "code",
   "execution_count": null,
   "metadata": {},
   "outputs": [],
   "source": [
    "data2015 = data[data.FIRE_YEAR == 2015]"
   ]
  },
  {
   "cell_type": "markdown",
   "metadata": {},
   "source": [
    "distance matrix calculation using cuda from: https://stackoverflow.com/questions/46655878/how-to-calculate-pairwise-distance-matrix-on-the-gpu\n",
    "\n",
    "not integrated into get_A yet"
   ]
  },
  {
   "cell_type": "code",
   "execution_count": null,
   "metadata": {},
   "outputs": [],
   "source": [
    "USE_64 = True\n",
    "\n",
    "if USE_64:\n",
    "    bits = 64\n",
    "    np_type = np.float64\n",
    "else:\n",
    "    bits = 32\n",
    "    np_type = np.float32\n",
    "\n",
    "@cuda.jit(\"void(float{}[:, :], float{}[:, :])\".format(bits, bits))\n",
    "def distance_matrix(mat, out):\n",
    "    m = mat.shape[0]\n",
    "    n = mat.shape[1]\n",
    "    i, j = cuda.grid(2)\n",
    "    d = 0\n",
    "    if i < m and j < m:\n",
    "        for k in range(n):\n",
    "            tmp = mat[i, k] - mat[j, k]\n",
    "            d += tmp * tmp\n",
    "        out[i, j] = d\n",
    "\n",
    "def gpu_dist_matrix(mat):\n",
    "    rows = mat.shape[0]\n",
    "\n",
    "    block_dim = (16, 16)\n",
    "    grid_dim = (int(rows/block_dim[0] + 1), int(rows/block_dim[1] + 1))\n",
    "\n",
    "    stream = cuda.stream()\n",
    "    mat2 = cuda.to_device(np.asarray(mat, dtype=np_type), stream=stream)\n",
    "    out2 = cuda.device_array((rows, rows))\n",
    "    distance_matrix[grid_dim, block_dim](mat2, out2)\n",
    "    out = out2.copy_to_host(stream=stream)\n",
    "\n",
    "    return out"
   ]
  },
  {
   "cell_type": "code",
   "execution_count": null,
   "metadata": {},
   "outputs": [],
   "source": [
    "def get_A(data, dist, blocksize=10000):\n",
    "    \n",
    "    print(\"Setting up...\")\n",
    "    values = np.array(data.values)\n",
    "    \n",
    "    # Dimensions should be be (N, K), even if K = 1 columns. Reshape if needed\n",
    "    if len(values.shape) == 1:\n",
    "        values = values.reshape((values.shape[0], 1))\n",
    "    N = values.shape[0]\n",
    "        \n",
    "    print(\"Initializing sparse matrix...\")\n",
    "    # Initialize sparse matrix\n",
    "    A = sparse.lil_matrix((N,N))\n",
    "    \n",
    "    # Divide-and-conquer: split the overall big adjacency matrix into\n",
    "    # blocksize x blocksize chunks, then use scipy's super-fast C implementation for distance matrix\n",
    "    for i in range(N // blocksize):\n",
    "        for j in range(i, N // blocksize):\n",
    "            \n",
    "            print((i,j))\n",
    "            \n",
    "            # Make sure we don't go out of bounds if N isn't divisible by blocksize!\n",
    "            row_start = i * blocksize\n",
    "            row_end   = min((i+1) * blocksize, N-1)\n",
    "            col_start = j * blocksize\n",
    "            col_end   = min((j+1) * blocksize, N-1)\n",
    "            \n",
    "            # Get the relevant values for this block\n",
    "            #print(\"Get row/col vals\")\n",
    "            row_values = values[row_start:row_end, :]\n",
    "            col_values = values[col_start:col_end, :]\n",
    "            \n",
    "            # Get distance matrix for this block\n",
    "            #print(\"Calculate distance\")\n",
    "            # use cuda implementation from stackoverflow\n",
    "            D = spatial.distance.cdist(row_values, col_values)\n",
    "            \n",
    "            # Threshold it\n",
    "            #print(\"Threshold it\")\n",
    "            subA = D <= dist\n",
    "            \n",
    "            # Insert into matrix\n",
    "            #print(\"Insert into matrix\")\n",
    "            A[row_start:row_end, col_start:col_end] = subA\n",
    "            \n",
    "            # This graph is undirected--A will be symmetric! So set the other side now\n",
    "            if i != j:\n",
    "                #print(\"Insert into matrix, transposed\")\n",
    "                A[col_start:col_end, row_start:row_end] = subA.T\n",
    "            \n",
    "    # Convert to CSR format for fast arithmetic\n",
    "    #print(\"Convert CSR\")\n",
    "    A = A.tocsr()\n",
    "            \n",
    "    return A"
   ]
  },
  {
   "cell_type": "code",
   "execution_count": null,
   "metadata": {},
   "outputs": [],
   "source": [
    "attr_time = data2015[[\"DAY\"]]\n",
    "attr_space = data2015[[\"LATITUDE\", \"LONGITUDE\"]]"
   ]
  },
  {
   "cell_type": "code",
   "execution_count": null,
   "metadata": {},
   "outputs": [],
   "source": [
    "gc.collect()"
   ]
  },
  {
   "cell_type": "markdown",
   "metadata": {},
   "source": [
    "# Using time\n",
    "Threshold = 1 day"
   ]
  },
  {
   "cell_type": "code",
   "execution_count": null,
   "metadata": {},
   "outputs": [],
   "source": [
    "%%time\n",
    "Atime = get_A(attr_time, 1.01, blocksize=20000)"
   ]
  },
  {
   "cell_type": "markdown",
   "metadata": {},
   "source": [
    "### Degree distribution"
   ]
  },
  {
   "cell_type": "code",
   "execution_count": null,
   "metadata": {},
   "outputs": [],
   "source": [
    "deg = Atime.sum(axis=1)\n",
    "\n",
    "fig, ax = plt.subplots(figsize=(5,3), dpi=150)\n",
    "ax.hist(deg)\n",
    "ax.set_ylabel(\"Count\")\n",
    "ax.set_xlabel(\"Degree\")\n",
    "ax.axvline(x=deg.mean(), ymin=0, ymax=1, color='black')\n",
    "ax.set_title(\"Degree distribution for $A_{time}$\" + \"\\n$c={0:.1f}$\".format(deg.mean()))\n",
    "plt.show()"
   ]
  },
  {
   "cell_type": "markdown",
   "metadata": {},
   "source": [
    "# Using space\n",
    "Threshold = 1$^\\circ$ radius"
   ]
  },
  {
   "cell_type": "code",
   "execution_count": null,
   "metadata": {},
   "outputs": [],
   "source": [
    "%%time\n",
    "Aspace = get_A(attr_space, 1.0, blocksize=20000)"
   ]
  },
  {
   "cell_type": "markdown",
   "metadata": {},
   "source": [
    "### Degree distribution"
   ]
  },
  {
   "cell_type": "code",
   "execution_count": null,
   "metadata": {},
   "outputs": [],
   "source": [
    "deg = Aspace.sum(axis=1)\n",
    "\n",
    "fig, ax = plt.subplots(figsize=(5,3), dpi=150)\n",
    "ax.hist(deg)\n",
    "ax.set_ylabel(\"Count\")\n",
    "ax.set_xlabel(\"Degree\")\n",
    "ax.axvline(x=deg.mean(), ymin=0, ymax=1, color='black')\n",
    "ax.set_title(\"Degree distribution for $A_{space}$\" + \"\\n$c={0:.1f}$\".format(deg.mean()))\n",
    "plt.show()"
   ]
  },
  {
   "cell_type": "markdown",
   "metadata": {},
   "source": [
    "# Using both\n",
    "Threshold: only if edge meets **both** criteria"
   ]
  },
  {
   "cell_type": "code",
   "execution_count": null,
   "metadata": {},
   "outputs": [],
   "source": [
    "%%time\n",
    "Aboth = Aspace.multiply(Atime)"
   ]
  },
  {
   "cell_type": "code",
   "execution_count": null,
   "metadata": {},
   "outputs": [],
   "source": [
    "deg = Aboth.sum(axis=1)\n",
    "\n",
    "fig, ax = plt.subplots(figsize=(5,3), dpi=150)\n",
    "ax.hist(deg)\n",
    "ax.set_ylabel(\"Count\")\n",
    "ax.set_xlabel(\"Degree\")\n",
    "ax.axvline(x=deg.mean(), ymin=0, ymax=1, color='black')\n",
    "ax.set_title(\"Degree distribution for $A_{both}$\" + \"\\n$c={0:.1f}$\".format(deg.mean()))\n",
    "plt.show()"
   ]
  },
  {
   "cell_type": "markdown",
   "metadata": {},
   "source": [
    "# Save sparse matrices to disk"
   ]
  },
  {
   "cell_type": "code",
   "execution_count": null,
   "metadata": {},
   "outputs": [],
   "source": [
    "with open('A_time.pkl', 'wb') as f:\n",
    "    pickle.dump(Atime, f)\n",
    "    \n",
    "with open('A_space.pkl', 'wb') as f:\n",
    "    pickle.dump(Aspace, f)\n",
    "\n",
    "with open('A_both.pkl', 'wb') as f:\n",
    "    pickle.dump(Aboth, f)"
   ]
  },
  {
   "cell_type": "code",
   "execution_count": null,
   "metadata": {},
   "outputs": [],
   "source": []
  }
 ],
 "metadata": {
  "kernelspec": {
   "display_name": "Python 3.7.7 64-bit ('tf_gpu': conda)",
   "language": "python",
   "name": "python37764bittfgpuconda3d4368209cc64153a32fc64613561f52"
  },
  "language_info": {
   "codemirror_mode": {
    "name": "ipython",
    "version": 3
   },
   "file_extension": ".py",
   "mimetype": "text/x-python",
   "name": "python",
   "nbconvert_exporter": "python",
   "pygments_lexer": "ipython3",
   "version": "3.7.7-final"
  }
 },
 "nbformat": 4,
 "nbformat_minor": 4
}