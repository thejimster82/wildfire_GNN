{
 "cells": [
  {
   "cell_type": "markdown",
   "metadata": {},
   "source": [
    "# Import data"
   ]
  },
  {
   "cell_type": "code",
   "execution_count": 1,
   "metadata": {},
   "outputs": [],
   "source": [
    "import pandas as pd\n",
    "import numpy as np\n",
    "import matplotlib.pyplot as plt\n",
    "import gc\n",
    "import pickle\n",
    "#from numba import cuda\n",
    "from scipy import spatial, sparse"
   ]
  },
  {
   "cell_type": "code",
   "execution_count": null,
   "metadata": {},
   "outputs": [],
   "source": [
    "dataLoc = '../data/'\n",
    "adjLoc = '../adj/'"
   ]
  },
  {
   "cell_type": "code",
   "execution_count": 2,
   "metadata": {},
   "outputs": [
    {
     "name": "stderr",
     "output_type": "stream",
     "text": [
      "/home/mark/.local/lib/python3.6/site-packages/IPython/core/interactiveshell.py:3051: DtypeWarning: Columns (4) have mixed types.Specify dtype option on import or set low_memory=False.\n",
      "  interactivity=interactivity, compiler=compiler, result=result)\n",
      "/home/mark/.local/lib/python3.6/site-packages/numpy/lib/arraysetops.py:569: FutureWarning: elementwise comparison failed; returning scalar instead, but in the future will perform elementwise comparison\n",
      "  mask |= (ar1 == a)\n"
     ]
    }
   ],
   "source": [
    "data = pd.read_csv(dataLoc+'fires_merged_weather.csv', index_col=0,\n",
    "                  #dtype for smaller representation\n",
    "                  dtype={'STAT_CAUSE_DESCR': 'category', 'STATE': 'category', 'DISCOVERY_MONTH': 'category',\n",
    "                        'Fog': 'bool', 'FunnelCloud': 'bool', 'Hail': 'bool', 'Rain': 'bool',\n",
    "                        'Snow': 'bool', 'Thunder': 'bool'}\n",
    "                  )"
   ]
  },
  {
   "cell_type": "markdown",
   "metadata": {},
   "source": [
    "making doy relative to year, equal to days since 1/1/1992 now"
   ]
  },
  {
   "cell_type": "code",
   "execution_count": 3,
   "metadata": {},
   "outputs": [],
   "source": [
    "data['DAY'] = (data['FIRE_YEAR']-1992)*365+data['DISCOVERY_DOY']"
   ]
  },
  {
   "cell_type": "code",
   "execution_count": 4,
   "metadata": {},
   "outputs": [],
   "source": [
    "data2015 = data[data.FIRE_YEAR == 2015]\n",
    "data2015 = data2015.sort_values(by = \"DISCOVERY_DOY\", kind='mergesort')"
   ]
  },
  {
   "cell_type": "markdown",
   "metadata": {},
   "source": [
    "distance matrix calculation using cuda from: https://stackoverflow.com/questions/46655878/how-to-calculate-pairwise-distance-matrix-on-the-gpu\n",
    "\n",
    "not integrated into get_A yet"
   ]
  },
  {
   "cell_type": "markdown",
   "metadata": {},
   "source": [
    "USE_64 = True\n",
    "\n",
    "if USE_64:\n",
    "    bits = 64\n",
    "    np_type = np.float64\n",
    "else:\n",
    "    bits = 32\n",
    "    np_type = np.float32\n",
    "\n",
    "@cuda.jit(\"void(float{}[:, :], float{}[:, :])\".format(bits, bits))\n",
    "def distance_matrix(mat, out):\n",
    "    m = mat.shape[0]\n",
    "    n = mat.shape[1]\n",
    "    i, j = cuda.grid(2)\n",
    "    d = 0\n",
    "    if i < m and j < m:\n",
    "        for k in range(n):\n",
    "            tmp = mat[i, k] - mat[j, k]\n",
    "            d += tmp * tmp\n",
    "        out[i, j] = d\n",
    "\n",
    "def gpu_dist_matrix(mat):\n",
    "    rows = mat.shape[0]\n",
    "\n",
    "    block_dim = (16, 16)\n",
    "    grid_dim = (int(rows/block_dim[0] + 1), int(rows/block_dim[1] + 1))\n",
    "\n",
    "    stream = cuda.stream()\n",
    "    mat2 = cuda.to_device(np.asarray(mat, dtype=np_type), stream=stream)\n",
    "    out2 = cuda.device_array((rows, rows))\n",
    "    distance_matrix[grid_dim, block_dim](mat2, out2)\n",
    "    out = out2.copy_to_host(stream=stream)\n",
    "\n",
    "    return out"
   ]
  },
  {
   "cell_type": "code",
   "execution_count": 5,
   "metadata": {},
   "outputs": [],
   "source": [
    "def get_A(data, dist, blocksize=10000):\n",
    "    \n",
    "    print(\"Setting up...\")\n",
    "    values = np.array(data.values)\n",
    "    \n",
    "    # Dimensions should be be (N, K), even if K = 1 columns. Reshape if needed\n",
    "    if len(values.shape) == 1:\n",
    "        values = values.reshape((values.shape[0], 1))\n",
    "    N = values.shape[0]\n",
    "        \n",
    "    print(\"Initializing sparse matrix...\")\n",
    "    # Initialize sparse matrix\n",
    "    A = sparse.lil_matrix((N,N))\n",
    "    \n",
    "    # Divide-and-conquer: split the overall big adjacency matrix into\n",
    "    # blocksize x blocksize chunks, then use scipy's super-fast C implementation for distance matrix\n",
    "    for i in range(N // blocksize + 1):\n",
    "        for j in range(i, N // blocksize + 1):\n",
    "            \n",
    "            print((i,j))\n",
    "            \n",
    "            # Make sure we don't go out of bounds if N isn't divisible by blocksize!\n",
    "            row_start = i * blocksize\n",
    "            row_end   = min((i+1) * blocksize, N-1)\n",
    "            col_start = j * blocksize\n",
    "            col_end   = min((j+1) * blocksize, N-1)\n",
    "            \n",
    "            # Get the relevant values for this block\n",
    "            #print(\"Get row/col vals\")\n",
    "            row_values = values[row_start:row_end, :]\n",
    "            col_values = values[col_start:col_end, :]\n",
    "            \n",
    "            # Get distance matrix for this block\n",
    "            #print(\"Calculate distance\")\n",
    "            # use cuda implementation from stackoverflow\n",
    "            D = spatial.distance.cdist(row_values, col_values)\n",
    "            \n",
    "            # Threshold it\n",
    "            #print(\"Threshold it\")\n",
    "            subA = D <= dist\n",
    "            \n",
    "            # Insert into matrix\n",
    "            #print(\"Insert into matrix\")\n",
    "            A[row_start:row_end, col_start:col_end] = subA\n",
    "            \n",
    "            # This graph is undirected--A will be symmetric! So set the other side now\n",
    "            if i != j:\n",
    "                #print(\"Insert into matrix, transposed\")\n",
    "                A[col_start:col_end, row_start:row_end] = subA.T\n",
    "            \n",
    "    # Convert to CSR format for fast arithmetic\n",
    "    #print(\"Convert CSR\")\n",
    "    A = A.tocsr()\n",
    "            \n",
    "    return A"
   ]
  },
  {
   "cell_type": "code",
   "execution_count": 6,
   "metadata": {},
   "outputs": [],
   "source": [
    "attr_time = data2015[[\"DAY\"]]\n",
    "attr_space = data2015[[\"LATITUDE\", \"LONGITUDE\"]]"
   ]
  },
  {
   "cell_type": "code",
   "execution_count": 7,
   "metadata": {},
   "outputs": [
    {
     "data": {
      "text/plain": [
       "0"
      ]
     },
     "execution_count": 7,
     "metadata": {},
     "output_type": "execute_result"
    }
   ],
   "source": [
    "gc.collect()"
   ]
  },
  {
   "cell_type": "markdown",
   "metadata": {},
   "source": [
    "# Using time\n",
    "Threshold = 1 day"
   ]
  },
  {
   "cell_type": "code",
   "execution_count": 8,
   "metadata": {},
   "outputs": [
    {
     "name": "stdout",
     "output_type": "stream",
     "text": [
      "Setting up...\n",
      "Initializing sparse matrix...\n",
      "(0, 0)\n",
      "(0, 1)\n",
      "(0, 2)\n",
      "(0, 3)\n",
      "(1, 1)\n",
      "(1, 2)\n",
      "(1, 3)\n",
      "(2, 2)\n",
      "(2, 3)\n",
      "(3, 3)\n",
      "CPU times: user 5min 10s, sys: 1min 36s, total: 6min 47s\n",
      "Wall time: 6min 47s\n"
     ]
    }
   ],
   "source": [
    "%%time\n",
    "Atime = get_A(attr_time, 1.01, blocksize=20000)"
   ]
  },
  {
   "cell_type": "markdown",
   "metadata": {},
   "source": [
    "### Degree distribution"
   ]
  },
  {
   "cell_type": "code",
   "execution_count": 9,
   "metadata": {},
   "outputs": [
    {
     "data": {
      "image/png": "[encoded data removed]",
      "text/plain": [
       "<Figure size 750x450 with 1 Axes>"
      ]
     },
     "metadata": {
      "needs_background": "light"
     },
     "output_type": "display_data"
    }
   ],
   "source": [
    "deg = Atime.sum(axis=1)\n",
    "\n",
    "fig, ax = plt.subplots(figsize=(5,3), dpi=150)\n",
    "ax.hist(deg)\n",
    "ax.set_ylabel(\"Count\")\n",
    "ax.set_xlabel(\"Degree\")\n",
    "ax.axvline(x=deg.mean(), ymin=0, ymax=1, color='black')\n",
    "ax.set_title(\"Degree distribution for $A_{time}$\" + \"\\n$c={0:.1f}$\".format(deg.mean()))\n",
    "plt.show()"
   ]
  },
  {
   "cell_type": "markdown",
   "metadata": {},
   "source": [
    "# Using space\n",
    "Threshold = 1$^\\circ$ radius"
   ]
  },
  {
   "cell_type": "code",
   "execution_count": 10,
   "metadata": {},
   "outputs": [
    {
     "name": "stdout",
     "output_type": "stream",
     "text": [
      "Setting up...\n",
      "Initializing sparse matrix...\n",
      "(0, 0)\n",
      "(0, 1)\n",
      "(0, 2)\n",
      "(0, 3)\n",
      "(1, 1)\n",
      "(1, 2)\n",
      "(1, 3)\n",
      "(2, 2)\n",
      "(2, 3)\n",
      "(3, 3)\n",
      "CPU times: user 5min 52s, sys: 1min 33s, total: 7min 25s\n",
      "Wall time: 7min 25s\n"
     ]
    }
   ],
   "source": [
    "%%time\n",
    "Aspace = get_A(attr_space, 1.0, blocksize=20000)"
   ]
  },
  {
   "cell_type": "markdown",
   "metadata": {},
   "source": [
    "### Degree distribution"
   ]
  },
  {
   "cell_type": "code",
   "execution_count": 11,
   "metadata": {},
   "outputs": [
    {
     "data": {
      "image/png": "[encoded data removed]",
      "text/plain": [
       "<Figure size 750x450 with 1 Axes>"
      ]
     },
     "metadata": {
      "needs_background": "light"
     },
     "output_type": "display_data"
    }
   ],
   "source": [
    "deg = Aspace.sum(axis=1)\n",
    "\n",
    "fig, ax = plt.subplots(figsize=(5,3), dpi=150)\n",
    "ax.hist(deg)\n",
    "ax.set_ylabel(\"Count\")\n",
    "ax.set_xlabel(\"Degree\")\n",
    "ax.axvline(x=deg.mean(), ymin=0, ymax=1, color='black')\n",
    "ax.set_title(\"Degree distribution for $A_{space}$\" + \"\\n$c={0:.1f}$\".format(deg.mean()))\n",
    "plt.show()"
   ]
  },
  {
   "cell_type": "markdown",
   "metadata": {},
   "source": [
    "# Using both\n",
    "Threshold: only if edge meets **both** criteria"
   ]
  },
  {
   "cell_type": "code",
   "execution_count": 12,
   "metadata": {},
   "outputs": [
    {
     "name": "stdout",
     "output_type": "stream",
     "text": [
      "CPU times: user 312 ms, sys: 62.5 ms, total: 375 ms\n",
      "Wall time: 360 ms\n"
     ]
    }
   ],
   "source": [
    "%%time\n",
    "Aboth = Aspace.multiply(Atime)"
   ]
  },
  {
   "cell_type": "code",
   "execution_count": 13,
   "metadata": {},
   "outputs": [
    {
     "data": {
      "image/png": "[encoded data removed]",
      "text/plain": [
       "<Figure size 750x450 with 1 Axes>"
      ]
     },
     "metadata": {
      "needs_background": "light"
     },
     "output_type": "display_data"
    }
   ],
   "source": [
    "deg = Aboth.sum(axis=1)\n",
    "\n",
    "fig, ax = plt.subplots(figsize=(5,3), dpi=150)\n",
    "ax.hist(deg)\n",
    "ax.set_ylabel(\"Count\")\n",
    "ax.set_xlabel(\"Degree\")\n",
    "ax.axvline(x=deg.mean(), ymin=0, ymax=1, color='black')\n",
    "ax.set_title(\"Degree distribution for $A_{both}$\" + \"\\n$c={0:.1f}$\".format(deg.mean()))\n",
    "plt.show()"
   ]
  },
  {
   "cell_type": "markdown",
   "metadata": {},
   "source": [
    "# Save sparse matrices to disk"
   ]
  },
  {
   "cell_type": "code",
   "execution_count": 14,
   "metadata": {},
   "outputs": [],
   "source": [
    "with open(adjLoc+'A_time.pkl', 'wb') as f:\n",
    "    pickle.dump(Atime, f)\n",
    "    \n",
    "with open(adjLoc+'A_space.pkl', 'wb') as f:\n",
    "    pickle.dump(Aspace, f)\n",
    "\n",
    "with open(adjLoc+'A_both.pkl', 'wb') as f:\n",
    "    pickle.dump(Aboth, f)"
   ]
  },
  {
   "cell_type": "code",
   "execution_count": 15,
   "metadata": {},
   "outputs": [
    {
     "data": {
      "text/plain": [
       "0         140\n",
       "1         218\n",
       "2         279\n",
       "3         298\n",
       "4         159\n",
       "         ... \n",
       "74486    8664\n",
       "74487    8673\n",
       "74488    8517\n",
       "74489    8682\n",
       "74490    8468\n",
       "Name: DAY, Length: 1880465, dtype: int64"
      ]
     },
     "execution_count": 15,
     "metadata": {},
     "output_type": "execute_result"
    }
   ],
   "source": [
    "data.DAY"
   ]
  }
 ],
 "metadata": {
  "kernelspec": {
   "display_name": "Python 3",
   "language": "python",
   "name": "python3"
  },
  "language_info": {
   "codemirror_mode": {
    "name": "ipython",
    "version": 3
   },
   "file_extension": ".py",
   "mimetype": "text/x-python",
   "name": "python",
   "nbconvert_exporter": "python",
   "pygments_lexer": "ipython3",
   "version": "3.6.9"
  }
 },
 "nbformat": 4,
 "nbformat_minor": 4
}