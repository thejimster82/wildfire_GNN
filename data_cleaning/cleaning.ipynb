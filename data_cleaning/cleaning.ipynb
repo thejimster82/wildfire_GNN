{
 "cells": [
  {
   "cell_type": "code",
   "execution_count": 1,
   "metadata": {},
   "outputs": [],
   "source": [
    "import numpy as np\n",
    "import pandas as pd\n",
    "import sys"
   ]
  },
  {
   "cell_type": "code",
   "execution_count": 2,
   "metadata": {},
   "outputs": [
    {
     "name": "stderr",
     "output_type": "stream",
     "text": [
      "C:\\ProgramData\\Anaconda3\\lib\\site-packages\\numpy\\lib\\arraysetops.py:569: FutureWarning: elementwise comparison failed; returning scalar instead, but in the future will perform elementwise comparison\n",
      "  mask |= (ar1 == a)\n"
     ]
    }
   ],
   "source": [
    "# Save space using smaller dtypes\n",
    "fires = pd.read_csv(\"D:/wildfires/fires.csv\", parse_dates = ['DISCOVERY_DATE'], index_col=\"FOD_ID\", dtype={\n",
    "    'FIRE_YEAR': np.int16,\n",
    "    'DISCOVERY_DOY': np.int16\n",
    "})"
   ]
  },
  {
   "cell_type": "code",
   "execution_count": 3,
   "metadata": {},
   "outputs": [],
   "source": [
    "# Shrink memory use by using categoricals rather than strings, when appropriate\n",
    "fires.STAT_CAUSE_DESCR = pd.Categorical(fires.STAT_CAUSE_DESCR)\n",
    "fires.STATE = pd.Categorical(fires.STATE)"
   ]
  },
  {
   "cell_type": "code",
   "execution_count": 4,
   "metadata": {},
   "outputs": [
    {
     "data": {
      "text/plain": [
       "FIRE_NAME           960479\n",
       "STAT_CAUSE_DESCR         0\n",
       "FIRE_YEAR                0\n",
       "DISCOVERY_DATE           0\n",
       "DISCOVERY_DOY            0\n",
       "CONT_DATE           891531\n",
       "FIRE_SIZE                0\n",
       "LATITUDE                 0\n",
       "LONGITUDE                0\n",
       "STATE                    0\n",
       "dtype: int64"
      ]
     },
     "execution_count": 4,
     "metadata": {},
     "output_type": "execute_result"
    }
   ],
   "source": [
    "# Show NA count by column\n",
    "pd.isna(fires).sum(axis=0)"
   ]
  },
  {
   "cell_type": "code",
   "execution_count": 5,
   "metadata": {},
   "outputs": [],
   "source": [
    "# Was the fire contained?\n",
    "fires['CONTAINED'] = ~pd.isna(fires.CONT_DATE)\n",
    "fires.drop('CONT_DATE', axis='columns', inplace=True)"
   ]
  },
  {
   "cell_type": "code",
   "execution_count": 6,
   "metadata": {},
   "outputs": [],
   "source": [
    "# Convert DISCOVERY_DATE to an actual datetime\n",
    "fires.DISCOVERY_DATE = pd.to_datetime(np.ceil(fires.DISCOVERY_DATE.astype(float)).astype(int), origin='julian', unit='D')"
   ]
  },
  {
   "cell_type": "code",
   "execution_count": 7,
   "metadata": {},
   "outputs": [],
   "source": [
    "# Get all we need from it, the month\n",
    "fires['DISCOVERY_MONTH'] = pd.Categorical(fires.DISCOVERY_DATE.dt.month)\n",
    "\n",
    "fires.drop('DISCOVERY_DATE', axis='columns', inplace=True)"
   ]
  },
  {
   "cell_type": "code",
   "execution_count": 8,
   "metadata": {},
   "outputs": [
    {
     "data": {
      "text/plain": [
       "169041994"
      ]
     },
     "execution_count": 8,
     "metadata": {},
     "output_type": "execute_result"
    }
   ],
   "source": [
    "sys.getsizeof(fires)"
   ]
  },
  {
   "cell_type": "code",
   "execution_count": 9,
   "metadata": {},
   "outputs": [
    {
     "data": {
      "text/html": [
       "<div>\n",
       "<style scoped>\n",
       "    .dataframe tbody tr th:only-of-type {\n",
       "        vertical-align: middle;\n",
       "    }\n",
       "\n",
       "    .dataframe tbody tr th {\n",
       "        vertical-align: top;\n",
       "    }\n",
       "\n",
       "    .dataframe thead th {\n",
       "        text-align: right;\n",
       "    }\n",
       "</style>\n",
       "<table border=\"1\" class=\"dataframe\">\n",
       "  <thead>\n",
       "    <tr style=\"text-align: right;\">\n",
       "      <th></th>\n",
       "      <th>FIRE_NAME</th>\n",
       "      <th>STAT_CAUSE_DESCR</th>\n",
       "      <th>FIRE_YEAR</th>\n",
       "      <th>DISCOVERY_DOY</th>\n",
       "      <th>FIRE_SIZE</th>\n",
       "      <th>LATITUDE</th>\n",
       "      <th>LONGITUDE</th>\n",
       "      <th>STATE</th>\n",
       "      <th>CONTAINED</th>\n",
       "      <th>DISCOVERY_MONTH</th>\n",
       "    </tr>\n",
       "    <tr>\n",
       "      <th>FOD_ID</th>\n",
       "      <th></th>\n",
       "      <th></th>\n",
       "      <th></th>\n",
       "      <th></th>\n",
       "      <th></th>\n",
       "      <th></th>\n",
       "      <th></th>\n",
       "      <th></th>\n",
       "      <th></th>\n",
       "      <th></th>\n",
       "    </tr>\n",
       "  </thead>\n",
       "  <tbody>\n",
       "    <tr>\n",
       "      <th>201420370</th>\n",
       "      <td>11-26120</td>\n",
       "      <td>Miscellaneous</td>\n",
       "      <td>2011</td>\n",
       "      <td>256</td>\n",
       "      <td>0.25</td>\n",
       "      <td>32.467190</td>\n",
       "      <td>-94.621810</td>\n",
       "      <td>TX</td>\n",
       "      <td>False</td>\n",
       "      <td>9</td>\n",
       "    </tr>\n",
       "    <tr>\n",
       "      <th>1424180</th>\n",
       "      <td>NaN</td>\n",
       "      <td>Arson</td>\n",
       "      <td>1999</td>\n",
       "      <td>78</td>\n",
       "      <td>5.00</td>\n",
       "      <td>31.724995</td>\n",
       "      <td>-88.892058</td>\n",
       "      <td>MS</td>\n",
       "      <td>True</td>\n",
       "      <td>3</td>\n",
       "    </tr>\n",
       "    <tr>\n",
       "      <th>1774827</th>\n",
       "      <td>NaN</td>\n",
       "      <td>Miscellaneous</td>\n",
       "      <td>2007</td>\n",
       "      <td>114</td>\n",
       "      <td>0.10</td>\n",
       "      <td>40.874976</td>\n",
       "      <td>-73.021435</td>\n",
       "      <td>NY</td>\n",
       "      <td>True</td>\n",
       "      <td>4</td>\n",
       "    </tr>\n",
       "    <tr>\n",
       "      <th>201822647</th>\n",
       "      <td>UNKNOWN</td>\n",
       "      <td>Miscellaneous</td>\n",
       "      <td>2013</td>\n",
       "      <td>185</td>\n",
       "      <td>0.10</td>\n",
       "      <td>40.348400</td>\n",
       "      <td>-105.508600</td>\n",
       "      <td>CO</td>\n",
       "      <td>True</td>\n",
       "      <td>7</td>\n",
       "    </tr>\n",
       "    <tr>\n",
       "      <th>1624965</th>\n",
       "      <td>NaN</td>\n",
       "      <td>Miscellaneous</td>\n",
       "      <td>2010</td>\n",
       "      <td>167</td>\n",
       "      <td>0.10</td>\n",
       "      <td>39.542300</td>\n",
       "      <td>-105.009000</td>\n",
       "      <td>CO</td>\n",
       "      <td>False</td>\n",
       "      <td>6</td>\n",
       "    </tr>\n",
       "  </tbody>\n",
       "</table>\n",
       "</div>"
      ],
      "text/plain": [
       "          FIRE_NAME STAT_CAUSE_DESCR  FIRE_YEAR  DISCOVERY_DOY  FIRE_SIZE  \\\n",
       "FOD_ID                                                                      \n",
       "201420370  11-26120    Miscellaneous       2011            256       0.25   \n",
       "1424180         NaN            Arson       1999             78       5.00   \n",
       "1774827         NaN    Miscellaneous       2007            114       0.10   \n",
       "201822647   UNKNOWN    Miscellaneous       2013            185       0.10   \n",
       "1624965         NaN    Miscellaneous       2010            167       0.10   \n",
       "\n",
       "            LATITUDE   LONGITUDE STATE  CONTAINED DISCOVERY_MONTH  \n",
       "FOD_ID                                                             \n",
       "201420370  32.467190  -94.621810    TX      False               9  \n",
       "1424180    31.724995  -88.892058    MS       True               3  \n",
       "1774827    40.874976  -73.021435    NY       True               4  \n",
       "201822647  40.348400 -105.508600    CO       True               7  \n",
       "1624965    39.542300 -105.009000    CO      False               6  "
      ]
     },
     "execution_count": 9,
     "metadata": {},
     "output_type": "execute_result"
    }
   ],
   "source": [
    "fires.sample(5)"
   ]
  },
  {
   "cell_type": "code",
   "execution_count": 10,
   "metadata": {},
   "outputs": [],
   "source": [
    "fires.to_csv(\"D:/wildfires/fires_cleaned.csv\")"
   ]
  }
 ],
 "metadata": {
  "kernelspec": {
   "display_name": "Python 3",
   "language": "python",
   "name": "python3"
  },
  "language_info": {
   "codemirror_mode": {
    "name": "ipython",
    "version": 3
   },
   "file_extension": ".py",
   "mimetype": "text/x-python",
   "name": "python",
   "nbconvert_exporter": "python",
   "pygments_lexer": "ipython3",
   "version": "3.7.3"
  }
 },
 "nbformat": 4,
 "nbformat_minor": 2
}
