{
 "cells": [
  {
   "cell_type": "markdown",
   "metadata": {},
   "source": [
    "# This file was used to augment a former version of the fires_merged_weather.csv file that is no longer present in our repo"
   ]
  },
  {
   "cell_type": "code",
   "execution_count": 1,
   "metadata": {},
   "outputs": [],
   "source": [
    "import pandas as pd\n",
    "import mpu\n",
    "import neo4j\n",
    "from neo4j import GraphDatabase as G_DB\n",
    "import py2neo\n",
    "from scipy.spatial import KDTree as KD\n",
    "import json\n",
    "import os\n",
    "import math"
   ]
  },
  {
   "cell_type": "code",
   "execution_count": null,
   "metadata": {},
   "outputs": [],
   "source": [
    "dataLoc = '../data/'"
   ]
  },
  {
   "cell_type": "markdown",
   "metadata": {},
   "source": [
    "STN---  1-6       Int.   Station number (WMO/DATSAV3 number)\n",
    "                         for the location.\n",
    "\n",
    "WBAN    8-12      Int.   WBAN number where applicable--this is the\n",
    "                         historical \"Weather Bureau Air Force Navy\"\n",
    "                         number - with WBAN being the acronym.\n",
    "\n",
    "YEAR    15-18     Int.   The year.\n",
    "\n",
    "MODA    19-22     Int.   The month and day.\n",
    "\n",
    "TEMP    25-30     Real   Mean temperature for the day in degrees\n",
    "                         Fahrenheit to tenths.  Missing = 9999.9\n",
    "Count   32-33     Int.   Number of observations used in \n",
    "                         calculating mean temperature.\n",
    "\n",
    "DEWP    36-41     Real   Mean dew point for the day in degrees\n",
    "                         Fahrenheit to tenths.  Missing = 9999.9\n",
    "Count   43-44     Int.   Number of observations used in \n",
    "                         calculating mean dew point.  \n",
    "\n",
    "SLP     47-52     Real   Mean sea level pressure for the day\n",
    "                         in millibars to tenths.  Missing =       \n",
    "                         9999.9\n",
    "Count   54-55     Int.   Number of observations used in \n",
    "                         calculating mean sea level pressure.\n",
    "\n",
    "STP     58-63     Real   Mean station pressure for the day\n",
    "                         in millibars to tenths.  Missing =       \n",
    "                         9999.9\n",
    "Count   65-66     Int.   Number of observations used in \n",
    "                         calculating mean station pressure.  \n",
    "\n",
    "VISIB   69-73     Real   Mean visibility for the day in miles\n",
    "                         to tenths.  Missing = 999.9\n",
    "Count   75-76     Int.   Number of observations used in \n",
    "                         calculating mean visibility.      \n",
    "\n",
    "WDSP    79-83     Real   Mean wind speed for the day in knots\n",
    "                         to tenths.  Missing = 999.9 \n",
    "Count   85-86     Int.   Number of observations used in \n",
    "                         calculating mean wind speed.\n",
    "\n",
    "MXSPD   89-93     Real   Maximum sustained wind speed reported \n",
    "                         for the day in knots to tenths.\n",
    "                         Missing = 999.9\n",
    "\n",
    "GUST    96-100    Real   Maximum wind gust reported for the day\n",
    "                         in knots to tenths.  Missing = 999.9\n",
    "\n",
    "MAX     103-108   Real   Maximum temperature reported during the \n",
    "                         day in Fahrenheit to tenths--time of max \n",
    "                         temp report varies by country and        \n",
    "                         region, so this will sometimes not be    \n",
    "                         the max for the calendar day.  Missing = \n",
    "                         9999.9     \n",
    "Flag    109-109   Char   Blank indicates max temp was taken from the\n",
    "                         explicit max temp report and not from the              \n",
    "                         'hourly' data.  * indicates max temp was \n",
    "                         derived from the hourly data (i.e., highest\n",
    "                         hourly or synoptic-reported temperature).\n",
    "\n",
    "MIN     111-116   Real   Minimum temperature reported during the \n",
    "                         day in Fahrenheit to tenths--time of min \n",
    "                         temp report varies by country and        \n",
    "                         region, so this will sometimes not be  \n",
    "                         the min for the calendar day.  Missing = \n",
    "                         9999.9\n",
    "Flag    117-117   Char   Blank indicates min temp was taken from the\n",
    "                         explicit min temp report and not from the              \n",
    "                         'hourly' data.  * indicates min temp was \n",
    "                         derived from the hourly data (i.e., lowest\n",
    "                         hourly or synoptic-reported temperature).\n",
    "\n",
    "PRCP    119-123   Real   Total precipitation (rain and/or melted\n",
    "                         snow) reported during the day in inches\n",
    "                         and hundredths; will usually not end \n",
    "                         with the midnight observation--i.e., \n",
    "                         may include latter part of previous day.\n",
    "                         .00 indicates no measurable              \n",
    "                         precipitation (includes a trace).        \n",
    "                         Missing = 99.99\n",
    "                         Note:  Many stations do not report '0' on\n",
    "                         days with no precipitation--therefore,  \n",
    "                         '99.99' will often appear on these days.\n",
    "                         Also, for example, a station may only\n",
    "                         report a 6-hour amount for the period \n",
    "                         during which rain fell.\n",
    "                         See Flag field for source of data.\n",
    "Flag    124-124   Char   A = 1 report of 6-hour precipitation \n",
    "                             amount.\n",
    "                         B = Summation of 2 reports of 6-hour \n",
    "                             precipitation amount.\n",
    "                         C = Summation of 3 reports of 6-hour \n",
    "                             precipitation amount.\n",
    "                         D = Summation of 4 reports of 6-hour \n",
    "                             precipitation amount.\n",
    "                         E = 1 report of 12-hour precipitation\n",
    "                             amount.\n",
    "                         F = Summation of 2 reports of 12-hour\n",
    "                             precipitation amount.\n",
    "                         G = 1 report of 24-hour precipitation\n",
    "                             amount.\n",
    "                         H = Station reported '0' as the amount\n",
    "                             for the day (eg, from 6-hour reports),\n",
    "                             but also reported at least one\n",
    "                             occurrence of precipitation in hourly\n",
    "                             observations--this could indicate a\n",
    "                             trace occurred, but should be considered\n",
    "                             as incomplete data for the day.\n",
    "                         I = Station did not report any precip data\n",
    "                             for the day and did not report any\n",
    "                             occurrences of precipitation in its hourly\n",
    "                             observations--it's still possible that\n",
    "                             precip occurred but was not reported.\n",
    "\n",
    "SNDP    126-130   Real   Snow depth in inches to tenths--last     \n",
    "                         report for the day if reported more than\n",
    "                         once.  Missing = 999.9\n",
    "                         Note:  Most stations do not report '0' on\n",
    "                         days with no snow on the ground--therefore,\n",
    "                         '999.9' will often appear on these days.\n",
    "\n",
    "FRSHTT  133-138   Int.   Indicators (1 = yes, 0 = no/not          \n",
    "                         reported) for the occurrence during the \n",
    "                         day of:\n",
    "                         Fog ('F' - 1st digit).\n",
    "                         Rain or Drizzle ('R' - 2nd digit).\n",
    "                         Snow or Ice Pellets ('S' - 3rd digit).\n",
    "                         Hail ('H' - 4th digit).\n",
    "                         Thunder ('T' - 5th digit).\n",
    "                         Tornado or Funnel Cloud ('T' - 6th       \n",
    "                         digit)."
   ]
  },
  {
   "cell_type": "code",
   "execution_count": 2,
   "metadata": {},
   "outputs": [],
   "source": [
    "colspecs = [[0,6],[7,12],[14,18],[18,20],[20,22],[24,30],[35,41],[46,52],[57,63],[68,73],[78,83],[88,93],[95,100],[102,108],[110,116],[118,123],[125,130],[132,133],[133,134],[134,135],[135,136],[136,137],[137,138]]\n",
    "stations_US = [str(x) for x in list(range(70,80))]"
   ]
  },
  {
   "cell_type": "markdown",
   "metadata": {},
   "source": [
    "Read and append thousands of fixed width files and save them to a single csv for each year"
   ]
  },
  {
   "cell_type": "code",
   "execution_count": 3,
   "metadata": {},
   "outputs": [],
   "source": [
    "os.chdir(dataLoc+'noaa-global-surface-summary-of-the-day/gsod_all_years')\n",
    "for year_num in range(1992,2016):\n",
    "    global_data = pd.DataFrame()\n",
    "    yf = 'gsod_'+str(year_num)\n",
    "    os.chdir(yf)\n",
    "    station_folders = os.listdir()\n",
    "    for sf in station_folders:\n",
    "        if '.gz' not in sf:\n",
    "            os.chdir(sf)\n",
    "            station_files = os.listdir()\n",
    "            for f in station_files:\n",
    "                if f[0:2] in stations_US:\n",
    "                    station_df = pd.read_fwf(f,colspecs=colspecs)\n",
    "                    global_data = global_data.append(station_df, ignore_index = True)\n",
    "            os.chdir('..')\n",
    "            break\n",
    "    os.chdir('..')\n",
    "    global_data.to_csv(dataLoc+'global_weather_data_'+str(year_num)+'.csv')\n",
    "    del global_data\n",
    "os.chdir('../../..')"
   ]
  },
  {
   "cell_type": "markdown",
   "metadata": {},
   "source": [
    "Merge lat long onto the dfs using the weather station information"
   ]
  },
  {
   "cell_type": "code",
   "execution_count": 4,
   "metadata": {},
   "outputs": [],
   "source": [
    "weather_files = [dataLoc+'global_weather_data_' + str(x) + '.csv' for x in list(range(1992,2016))]"
   ]
  },
  {
   "cell_type": "code",
   "execution_count": 5,
   "metadata": {},
   "outputs": [],
   "source": [
    "weather_stations = pd.read_csv(dataLoc+'noaa-global-surface-summary-of-the-day/isd-history.csv')\n",
    "weather_stations_US = weather_stations[weather_stations.USAF.str[:2].isin(stations_US)]\n",
    "weather_stations_US.USAF=weather_stations_US.USAF.apply(lambda x: int(x))"
   ]
  },
  {
   "cell_type": "markdown",
   "metadata": {},
   "source": [
    " USAF = Air Force station ID. May contain a letter in the first position.\n",
    "\n",
    " WBAN = NCDC WBAN number\n",
    "\n",
    " CTRY = FIPS country ID\n",
    " \n",
    "   ST = State for US stations\n",
    "\n",
    " ICAO = ICAO ID\n",
    "\n",
    "  LAT = Latitude in thousandths of decimal degrees\n",
    "\n",
    "  LON = Longitude in thousandths of decimal degrees\n",
    "\n",
    " ELEV = Elevation in meters\n",
    "\n",
    "BEGIN = Beginning Period Of Record (YYYYMMDD). There may be reporting gaps within the P.O.R.\n",
    "\n",
    "  END = Ending Period Of Record (YYYYMMDD). There may be reporting gaps within the P.O.R."
   ]
  },
  {
   "cell_type": "code",
   "execution_count": 6,
   "metadata": {},
   "outputs": [
    {
     "output_type": "execute_result",
     "data": {
      "text/plain": "Index(['USAF', 'WBAN', 'STATION NAME', 'CTRY', 'STATE', 'ICAO', 'LAT', 'LON',\n       'ELEV(M)', 'BEGIN', 'END'],\n      dtype='object')"
     },
     "metadata": {},
     "execution_count": 6
    }
   ],
   "source": [
    "weather_stations_US.columns"
   ]
  },
  {
   "cell_type": "code",
   "execution_count": 7,
   "metadata": {},
   "outputs": [],
   "source": [
    "name_dict = {'STN---':'Station','YEAR':'Year','MO':'Month','DA':'Day','TEMP':'Temp','DEWP':'DewPoint','SLP':'SeaLevelPressure','STP':'StationPressure','VISIB':'Visibility','WDSP':'Windspeed','MXSPD':'MaxWindspeed','GUST':'Gust','MAX':'MaxTemp','MIN':'MinTemp','PRCP':'Precip','SNDP':'SnowDepth','F':'Fog','R':'Rain','S':'Snow','H':'Hail','T':'Thunder','T.1':'FunnelCloud','CTRY':'Country','STATE':'State','LAT':'Latitude','LON':'Longitude','ELEV(M)':'Elevation','BEGIN':'Begin','END':'End','WBAN_x':'WBAN'}\n",
    ""
   ]
  },
  {
   "cell_type": "code",
   "execution_count": 8,
   "metadata": {},
   "outputs": [],
   "source": [
    "for wf in weather_files:\n",
    "    wf_df = pd.read_csv(dataLoc+'weather/'+wf)\n",
    "    wf_df_merged = wf_df.merge(weather_stations_US,left_on='STN---',right_on='USAF')\n",
    "    wf_df_merged = wf_df_merged.rename(columns=name_dict)\n",
    "    wf_df_merged = wf_df_merged.drop(columns='WBAN_y')  \n",
    "    wf_df_merged.to_csv(dataLoc+'weather/'+wf)"
   ]
  },
  {
   "cell_type": "markdown",
   "metadata": {},
   "source": [
    "### merge with fires"
   ]
  },
  {
   "cell_type": "code",
   "execution_count": 42,
   "metadata": {},
   "outputs": [],
   "source": [
    "# https://stackoverflow.com/questions/43020919/scipy-how-to-convert-kd-tree-distance-from-query-to-kilometers-python-pandas\n",
    "# https://en.wikipedia.org/wiki/Geographic_coordinate_conversion\n",
    "def to_Cartesian(series):\n",
    "    # convert to radians\n",
    "    lat = series[0]*math.pi/180\n",
    "    lng = series[1]*math.pi/180\n",
    "    R = 6367 # radius of the Earth in kilometers\n",
    "\n",
    "    x = R * math.cos(lat) * math.cos(lng)\n",
    "    y = R * math.cos(lat) * math.sin(lng)\n",
    "    z = R * math.sin(lat)\n",
    "    return x, y, z\n",
    "day_cartesian_scale_factor = 2*6367/365 #2*earth radius/days per year, scales 1 day to 1 kilometer"
   ]
  },
  {
   "cell_type": "code",
   "execution_count": 43,
   "metadata": {},
   "outputs": [],
   "source": [
    "fires = pd.read_csv('./data/fires_merged.csv')\n",
    "fires_1992 = fires[fires.FIRE_YEAR==1992]\n",
    "fires_1992['DISCOVERY_DOY_SCALED'] = fires_1992.DISCOVERY_DOY*day_cartesian_scale_factor"
   ]
  },
  {
   "cell_type": "code",
   "execution_count": 44,
   "metadata": {},
   "outputs": [],
   "source": [
    "weather_1992 = pd.read_csv('./data/weather/global_weather_data_1992.csv')\n",
    "days_per_month = [31,28,31,30,31,30,31,31,30,31,30,31]\n",
    "weather_1992['doy'] = (weather_1992.Month.apply(lambda x:sum(days_per_month[0:x-1]))+weather_1992.Day)*day_cartesian_scale_factor"
   ]
  },
  {
   "cell_type": "code",
   "execution_count": 45,
   "metadata": {},
   "outputs": [
    {
     "output_type": "execute_result",
     "data": {
      "text/plain": "41875       4884.273973\n41876       7605.512329\n41877       9733.660274\n41878      10396.526027\n41879       5547.139726\n               ...     \n1861638     5407.589041\n1861639     6419.331507\n1864564     7640.400000\n1864565     7710.175342\n1864566     7675.287671\nName: DISCOVERY_DOY_SCALED, Length: 67975, dtype: float64"
     },
     "metadata": {},
     "execution_count": 45
    }
   ],
   "source": [
    "fires_1992.DISCOVERY_DOY_SCALED"
   ]
  },
  {
   "cell_type": "markdown",
   "metadata": {},
   "source": [
    "convert lat,long to cartesian coordinates"
   ]
  },
  {
   "cell_type": "code",
   "execution_count": 46,
   "metadata": {},
   "outputs": [],
   "source": [
    "weather_cartesian = weather_1992[['Latitude','Longitude']].apply(to_Cartesian,axis=1)\n",
    "new_cols = ['x','y','z']\n",
    "for i in range(len(new_cols)):\n",
    "    weather_1992[new_cols[i]]=[r[i] for r in weather_cartesian]"
   ]
  },
  {
   "cell_type": "code",
   "execution_count": 47,
   "metadata": {},
   "outputs": [],
   "source": [
    "fires_cartesian = fires_1992[['LATITUDE','LONGITUDE']].apply(to_Cartesian,axis=1)\n",
    "new_cols = ['x','y','z']\n",
    "for i in range(len(new_cols)):\n",
    "    fires_1992[new_cols[i]]=[r[i] for r in fires_cartesian]"
   ]
  },
  {
   "cell_type": "markdown",
   "metadata": {},
   "source": [
    "Make KD trees"
   ]
  },
  {
   "cell_type": "code",
   "execution_count": 48,
   "metadata": {},
   "outputs": [],
   "source": [
    "weather_1992_kd = KD(weather_1992[['x','y','z','doy']])"
   ]
  },
  {
   "cell_type": "code",
   "execution_count": 49,
   "metadata": {},
   "outputs": [],
   "source": [
    "weather_1992_kd_loc = KD(weather_1992[['x','y','z']])"
   ]
  },
  {
   "cell_type": "markdown",
   "metadata": {},
   "source": [
    "Test KD trees"
   ]
  },
  {
   "cell_type": "code",
   "execution_count": 85,
   "metadata": {},
   "outputs": [
    {
     "output_type": "stream",
     "name": "stdout",
     "text": "[-1719.02395065 -4139.05302654  4522.37611224  4919.16164384]\n[-1719.02395065 -4139.05302654  4522.37611224]\nLATITUDE                  45.36\nLONGITUDE              -113.078\nx                      -1753.67\ny                      -4115.74\nz                       4530.35\nDISCOVERY_DOY_SCALED    4884.27\nName: 41875, dtype: object\n______________________________\n[-1819.0603937  -4108.23351129  4511.33302925  7605.51232877]\n[-1722.47496116 -4196.28107868  4467.99665587]\nLATITUDE                  44.54\nLONGITUDE              -112.683\nx                      -1750.08\ny                      -4187.12\nz                       4465.86\nDISCOVERY_DOY_SCALED    7605.51\nName: 41876, dtype: object\n______________________________\n[-1819.0603937  -4108.23351129  4511.33302925  9733.66027397]\n[-1722.47496116 -4196.28107868  4467.99665587]\nLATITUDE                44.5167\nLONGITUDE              -112.983\nx                      -1772.69\ny                      -4179.58\nz                       4464.01\nDISCOVERY_DOY_SCALED    9733.66\nName: 41877, dtype: object\n______________________________\n[-1819.0603937  -4108.23351129  4511.33302925 10396.5260274 ]\n[-1722.47496116 -4196.28107868  4467.99665587]\nLATITUDE                  44.69\nLONGITUDE               -112.73\nx                      -1748.97\ny                       -4174.9\nz                       4477.72\nDISCOVERY_DOY_SCALED    10396.5\nName: 41878, dtype: object\n______________________________\n[-1693.70837968 -4088.77189574  4577.33386473  5547.13972603]\n[-1693.70837968 -4088.77189574  4577.33386473]\nLATITUDE                45.7633\nLONGITUDE               -112.82\nx                      -1722.68\ny                       -4094.1\nz                       4561.73\nDISCOVERY_DOY_SCALED    5547.14\nName: 41879, dtype: object\n______________________________\n[-1693.70837968 -4088.77189574  4577.33386473  5826.24109589]\n[-1693.70837968 -4088.77189574  4577.33386473]\nLATITUDE                  45.75\nLONGITUDE              -112.825\nx                      -1723.45\ny                      -4094.93\nz                       4560.69\nDISCOVERY_DOY_SCALED    5826.24\nName: 41880, dtype: object\n______________________________\n[-1693.70837968 -4088.77189574  4577.33386473  6175.11780822]\n[-1693.70837968 -4088.77189574  4577.33386473]\nLATITUDE                45.6933\nLONGITUDE              -112.717\nx                      -1717.45\ny                      -4102.34\nz                        4556.3\nDISCOVERY_DOY_SCALED    6175.12\nName: 41881, dtype: object\n______________________________\n[-1693.70837968 -4088.77189574  4577.33386473  6175.11780822]\n[-1693.70837968 -4088.77189574  4577.33386473]\nLATITUDE                 45.705\nLONGITUDE              -112.677\nx                      -1714.23\ny                      -4102.68\nz                        4557.2\nDISCOVERY_DOY_SCALED    6175.12\nName: 41882, dtype: object\n______________________________\n[-1693.70837968 -4088.77189574  4577.33386473  7570.62465753]\n[-1693.70837968 -4088.77189574  4577.33386473]\nLATITUDE                45.9417\nLONGITUDE              -113.167\nx                      -1741.83\ny                      -4070.53\nz                       4575.53\nDISCOVERY_DOY_SCALED    7570.62\nName: 41883, dtype: object\n______________________________\n[-1693.70837968 -4088.77189574  4577.33386473  8128.82739726]\n[-1719.02395065 -4139.05302654  4522.37611224]\nLATITUDE                 45.545\nLONGITUDE               -113.11\nx                      -1750.19\ny                      -4101.29\nz                       4544.77\nDISCOVERY_DOY_SCALED    8128.83\nName: 41884, dtype: object\n______________________________\n0.0\n-136.0\n"
    }
   ],
   "source": [
    "day_sep = []\n",
    "time_sep = []\n",
    "for i,row in fires_1992.head(10).iterrows():\n",
    "    row_predictors = row[['x','y','z','DISCOVERY_DOY_SCALED']]\n",
    "    closest_weather_time = weather_1992_kd.query(row_predictors,1)\n",
    "    closest_weather = weather_1992_kd_loc.query(row[['x','y','z']],1)\n",
    "    predicted_weather_point = weather_1992_kd.data[closest_weather[1]]\n",
    "    closest_weather_station = weather_1992_kd_loc.data[closest_weather[1]]\n",
    "    print(weather_1992_kd.data[closest_weather_time[1]])\n",
    "    #print(weather_1992.iloc[closest_weather_time[1]])\n",
    "    print(closest_weather_station)\n",
    "    print(row[['LATITUDE','LONGITUDE','x','y','z','DISCOVERY_DOY_SCALED']])\n",
    "    time_sep.append((predicted_weather_point[3]-row.DISCOVERY_DOY_SCALED)/day_cartesian_scale_factor)\n",
    "    day_sep.append(math.sqrt(pow(predicted_weather_point[0]-closest_weather_station[0],2)+\\\n",
    "    pow(predicted_weather_point[1]-closest_weather_station[1],2)+\\\n",
    "    pow(predicted_weather_point[2]-closest_weather_station[2],2)))\n",
    "    print(\"______________________________\")\n",
    "print(max(day_sep))\n",
    "print(max(time_sep))"
   ]
  },
  {
   "cell_type": "code",
   "execution_count": null,
   "metadata": {},
   "outputs": [],
   "source": [
    "fires_1992"
   ]
  },
  {
   "cell_type": "code",
   "execution_count": 87,
   "metadata": {},
   "outputs": [],
   "source": [
    "day_sep = []\n",
    "time_sep = []\n",
    "predicted_weather_points = pd.DataFrame()\n",
    "for i,row in fires_1992.head(10).iterrows():\n",
    "    row_predictors = row[['x','y','z','DISCOVERY_DOY_SCALED']]\n",
    "    closest_weather_time = weather_1992_kd.query(row_predictors,1)\n",
    "    predicted_weather_point = weather_1992.iloc[closest_weather_time[1]]\n",
    "    predicted_weather_points = predicted_weather_points.append(predicted_weather_point)"
   ]
  },
  {
   "cell_type": "code",
   "execution_count": 98,
   "metadata": {},
   "outputs": [
    {
     "output_type": "execute_result",
     "data": {
      "text/plain": "             Begin Country   Day  DewPoint  Elevation         End  Fog  \\\n674342  19730101.0      US  21.0      40.7     1591.7  20100801.0  0.0   \n678120  20060101.0      US   6.0      36.5     1232.6  20190416.0  0.0   \n678242  20060101.0      US   6.0      33.8     1232.6  20190416.0  0.0   \n678280  20060101.0      US  25.0      26.2     1232.6  20190416.0  0.0   \n674043  19770301.0      US   8.0      33.5     1686.5  20100801.0  0.0   \n674051  19770301.0      US  16.0      44.5     1686.5  20100801.0  1.0   \n674061  19770301.0      US  26.0      48.3     1686.5  20100801.0  0.0   \n674061  19770301.0      US  26.0      48.3     1686.5  20100801.0  0.0   \n674101  19770301.0      US   5.0      33.6     1686.5  20100801.0  0.0   \n674117  19770301.0      US  21.0      50.0     1686.5  20100801.0  0.0   \n\n        FunnelCloud   Gust  Hail  ... Unnamed: 0  Unnamed: 0.1  Visibility  \\\n674342          0.0  999.9   0.0  ...   674342.0      494048.0        43.5   \n678120          0.0   19.8   0.0  ...   678120.0      496688.0        10.0   \n678242          0.0   22.0   0.0  ...   678242.0      496749.0         8.9   \n678280          0.0  999.9   0.0  ...   678280.0      496768.0         4.5   \n674043          0.0   22.9   0.0  ...   674043.0      493749.0        25.7   \n674051          0.0   22.9   0.0  ...   674051.0      493757.0         9.6   \n674061          0.0   19.8   0.0  ...   674061.0      493767.0        23.3   \n674061          0.0   19.8   0.0  ...   674061.0      493767.0        23.3   \n674101          0.0  999.9   0.0  ...   674101.0      493807.0        23.1   \n674117          0.0   21.0   0.0  ...   674117.0      493823.0        21.8   \n\n           WBAN  Windspeed    Year           doy            x            y  \\\n674342  24138.0        8.5  1992.0   4919.161644 -1719.023951 -4139.053027   \n678120  99999.0        4.1  1992.0   7605.512329 -1819.060394 -4108.233511   \n678242  99999.0        5.7  1992.0   9733.660274 -1819.060394 -4108.233511   \n678280  99999.0        0.7  1992.0  10396.526027 -1819.060394 -4108.233511   \n674043  24135.0        5.6  1992.0   5547.139726 -1693.708380 -4088.771896   \n674051  24135.0       11.1  1992.0   5826.241096 -1693.708380 -4088.771896   \n674061  24135.0        5.6  1992.0   6175.117808 -1693.708380 -4088.771896   \n674061  24135.0        5.6  1992.0   6175.117808 -1693.708380 -4088.771896   \n674101  24135.0        9.1  1992.0   7570.624658 -1693.708380 -4088.771896   \n674117  24135.0       10.2  1992.0   8128.827397 -1693.708380 -4088.771896   \n\n                  z  \n674342  4522.376112  \n678120  4511.333029  \n678242  4511.333029  \n678280  4511.333029  \n674043  4577.333865  \n674051  4577.333865  \n674061  4577.333865  \n674061  4577.333865  \n674101  4577.333865  \n674117  4577.333865  \n\n[10 rows x 39 columns]",
      "text/html": "<div>\n<style scoped>\n    .dataframe tbody tr th:only-of-type {\n        vertical-align: middle;\n    }\n\n    .dataframe tbody tr th {\n        vertical-align: top;\n    }\n\n    .dataframe thead th {\n        text-align: right;\n    }\n</style>\n<table border=\"1\" class=\"dataframe\">\n  <thead>\n    <tr style=\"text-align: right;\">\n      <th></th>\n      <th>Begin</th>\n      <th>Country</th>\n      <th>Day</th>\n      <th>DewPoint</th>\n      <th>Elevation</th>\n      <th>End</th>\n      <th>Fog</th>\n      <th>FunnelCloud</th>\n      <th>Gust</th>\n      <th>Hail</th>\n      <th>...</th>\n      <th>Unnamed: 0</th>\n      <th>Unnamed: 0.1</th>\n      <th>Visibility</th>\n      <th>WBAN</th>\n      <th>Windspeed</th>\n      <th>Year</th>\n      <th>doy</th>\n      <th>x</th>\n      <th>y</th>\n      <th>z</th>\n    </tr>\n  </thead>\n  <tbody>\n    <tr>\n      <td>674342</td>\n      <td>19730101.0</td>\n      <td>US</td>\n      <td>21.0</td>\n      <td>40.7</td>\n      <td>1591.7</td>\n      <td>20100801.0</td>\n      <td>0.0</td>\n      <td>0.0</td>\n      <td>999.9</td>\n      <td>0.0</td>\n      <td>...</td>\n      <td>674342.0</td>\n      <td>494048.0</td>\n      <td>43.5</td>\n      <td>24138.0</td>\n      <td>8.5</td>\n      <td>1992.0</td>\n      <td>4919.161644</td>\n      <td>-1719.023951</td>\n      <td>-4139.053027</td>\n      <td>4522.376112</td>\n    </tr>\n    <tr>\n      <td>678120</td>\n      <td>20060101.0</td>\n      <td>US</td>\n      <td>6.0</td>\n      <td>36.5</td>\n      <td>1232.6</td>\n      <td>20190416.0</td>\n      <td>0.0</td>\n      <td>0.0</td>\n      <td>19.8</td>\n      <td>0.0</td>\n      <td>...</td>\n      <td>678120.0</td>\n      <td>496688.0</td>\n      <td>10.0</td>\n      <td>99999.0</td>\n      <td>4.1</td>\n      <td>1992.0</td>\n      <td>7605.512329</td>\n      <td>-1819.060394</td>\n      <td>-4108.233511</td>\n      <td>4511.333029</td>\n    </tr>\n    <tr>\n      <td>678242</td>\n      <td>20060101.0</td>\n      <td>US</td>\n      <td>6.0</td>\n      <td>33.8</td>\n      <td>1232.6</td>\n      <td>20190416.0</td>\n      <td>0.0</td>\n      <td>0.0</td>\n      <td>22.0</td>\n      <td>0.0</td>\n      <td>...</td>\n      <td>678242.0</td>\n      <td>496749.0</td>\n      <td>8.9</td>\n      <td>99999.0</td>\n      <td>5.7</td>\n      <td>1992.0</td>\n      <td>9733.660274</td>\n      <td>-1819.060394</td>\n      <td>-4108.233511</td>\n      <td>4511.333029</td>\n    </tr>\n    <tr>\n      <td>678280</td>\n      <td>20060101.0</td>\n      <td>US</td>\n      <td>25.0</td>\n      <td>26.2</td>\n      <td>1232.6</td>\n      <td>20190416.0</td>\n      <td>0.0</td>\n      <td>0.0</td>\n      <td>999.9</td>\n      <td>0.0</td>\n      <td>...</td>\n      <td>678280.0</td>\n      <td>496768.0</td>\n      <td>4.5</td>\n      <td>99999.0</td>\n      <td>0.7</td>\n      <td>1992.0</td>\n      <td>10396.526027</td>\n      <td>-1819.060394</td>\n      <td>-4108.233511</td>\n      <td>4511.333029</td>\n    </tr>\n    <tr>\n      <td>674043</td>\n      <td>19770301.0</td>\n      <td>US</td>\n      <td>8.0</td>\n      <td>33.5</td>\n      <td>1686.5</td>\n      <td>20100801.0</td>\n      <td>0.0</td>\n      <td>0.0</td>\n      <td>22.9</td>\n      <td>0.0</td>\n      <td>...</td>\n      <td>674043.0</td>\n      <td>493749.0</td>\n      <td>25.7</td>\n      <td>24135.0</td>\n      <td>5.6</td>\n      <td>1992.0</td>\n      <td>5547.139726</td>\n      <td>-1693.708380</td>\n      <td>-4088.771896</td>\n      <td>4577.333865</td>\n    </tr>\n    <tr>\n      <td>674051</td>\n      <td>19770301.0</td>\n      <td>US</td>\n      <td>16.0</td>\n      <td>44.5</td>\n      <td>1686.5</td>\n      <td>20100801.0</td>\n      <td>1.0</td>\n      <td>0.0</td>\n      <td>22.9</td>\n      <td>0.0</td>\n      <td>...</td>\n      <td>674051.0</td>\n      <td>493757.0</td>\n      <td>9.6</td>\n      <td>24135.0</td>\n      <td>11.1</td>\n      <td>1992.0</td>\n      <td>5826.241096</td>\n      <td>-1693.708380</td>\n      <td>-4088.771896</td>\n      <td>4577.333865</td>\n    </tr>\n    <tr>\n      <td>674061</td>\n      <td>19770301.0</td>\n      <td>US</td>\n      <td>26.0</td>\n      <td>48.3</td>\n      <td>1686.5</td>\n      <td>20100801.0</td>\n      <td>0.0</td>\n      <td>0.0</td>\n      <td>19.8</td>\n      <td>0.0</td>\n      <td>...</td>\n      <td>674061.0</td>\n      <td>493767.0</td>\n      <td>23.3</td>\n      <td>24135.0</td>\n      <td>5.6</td>\n      <td>1992.0</td>\n      <td>6175.117808</td>\n      <td>-1693.708380</td>\n      <td>-4088.771896</td>\n      <td>4577.333865</td>\n    </tr>\n    <tr>\n      <td>674061</td>\n      <td>19770301.0</td>\n      <td>US</td>\n      <td>26.0</td>\n      <td>48.3</td>\n      <td>1686.5</td>\n      <td>20100801.0</td>\n      <td>0.0</td>\n      <td>0.0</td>\n      <td>19.8</td>\n      <td>0.0</td>\n      <td>...</td>\n      <td>674061.0</td>\n      <td>493767.0</td>\n      <td>23.3</td>\n      <td>24135.0</td>\n      <td>5.6</td>\n      <td>1992.0</td>\n      <td>6175.117808</td>\n      <td>-1693.708380</td>\n      <td>-4088.771896</td>\n      <td>4577.333865</td>\n    </tr>\n    <tr>\n      <td>674101</td>\n      <td>19770301.0</td>\n      <td>US</td>\n      <td>5.0</td>\n      <td>33.6</td>\n      <td>1686.5</td>\n      <td>20100801.0</td>\n      <td>0.0</td>\n      <td>0.0</td>\n      <td>999.9</td>\n      <td>0.0</td>\n      <td>...</td>\n      <td>674101.0</td>\n      <td>493807.0</td>\n      <td>23.1</td>\n      <td>24135.0</td>\n      <td>9.1</td>\n      <td>1992.0</td>\n      <td>7570.624658</td>\n      <td>-1693.708380</td>\n      <td>-4088.771896</td>\n      <td>4577.333865</td>\n    </tr>\n    <tr>\n      <td>674117</td>\n      <td>19770301.0</td>\n      <td>US</td>\n      <td>21.0</td>\n      <td>50.0</td>\n      <td>1686.5</td>\n      <td>20100801.0</td>\n      <td>0.0</td>\n      <td>0.0</td>\n      <td>21.0</td>\n      <td>0.0</td>\n      <td>...</td>\n      <td>674117.0</td>\n      <td>493823.0</td>\n      <td>21.8</td>\n      <td>24135.0</td>\n      <td>10.2</td>\n      <td>1992.0</td>\n      <td>8128.827397</td>\n      <td>-1693.708380</td>\n      <td>-4088.771896</td>\n      <td>4577.333865</td>\n    </tr>\n  </tbody>\n</table>\n<p>10 rows × 39 columns</p>\n</div>"
     },
     "metadata": {},
     "execution_count": 98
    }
   ],
   "source": [
    "predicted_weather_points"
   ]
  },
  {
   "cell_type": "code",
   "execution_count": 99,
   "metadata": {},
   "outputs": [
    {
     "output_type": "execute_result",
     "data": {
      "text/plain": "       FOD_ID FIRE_NAME STAT_CAUSE_DESCR  FIRE_YEAR  DISCOVERY_DOY  FIRE_SIZE  \\\n41875   42087       NaN        Lightning       1992            140        1.0   \n41876   42088       NaN        Lightning       1992            218        0.6   \n41877   42089       NaN         Campfire       1992            279        0.1   \n41878   42090       NaN         Campfire       1992            298        0.1   \n41879   42091       NaN         Campfire       1992            159        0.1   \n41880   42092       NaN        Lightning       1992            167        0.1   \n41881   42093       NaN        Lightning       1992            177        0.5   \n41882   42094       NaN        Lightning       1992            177        0.5   \n41883   42095       NaN         Campfire       1992            217        0.1   \n41884   42096       NaN        Lightning       1992            233        0.3   \n\n        LATITUDE   LONGITUDE STATE  CONTAINED  DISCOVERY_MONTH  \\\n41875  45.360000 -113.078333    MT       True                5   \n41876  44.540000 -112.683333    MT       True                8   \n41877  44.516667 -112.983333    MT       True               10   \n41878  44.690000 -112.730000    MT       True               10   \n41879  45.763333 -112.820000    MT       True                6   \n41880  45.750000 -112.825000    MT       True                6   \n41881  45.693333 -112.716667    MT       True                6   \n41882  45.705000 -112.676667    MT       True                6   \n41883  45.941667 -113.166667    MT       True                8   \n41884  45.545000 -113.110000    MT       True                8   \n\n       DISTANCE_CITY_1000000  DISTANCE_CITY_100000  DISTANCE_CITY_10000  \\\n41875              10.781239              4.750138             0.843216   \n41876              11.108428              3.861481             1.144407   \n41877              11.105679              3.911656             1.379697   \n41878              11.260830              4.017896             1.277495   \n41879              10.886766              4.979875             0.373800   \n41880              10.886309              4.980347             0.386271   \n41881              11.007126              5.001247             0.360350   \n41882              11.041236              5.006315             0.331240   \n41883              10.501405              4.591542             0.635830   \n41884              10.686170              4.804972             0.736534   \n\n       DISTANCE_CITY_1000  APPROX_ELEVATION  DISCOVERY_DOY_SCALED  \\\n41875            0.464428            1820.0           4884.273973   \n41876            0.677997            2068.0           7605.512329   \n41877            0.780890            1820.0           9733.660274   \n41878            0.534599            2068.0          10396.526027   \n41879            0.373800            1686.5           5547.139726   \n41880            0.386271            1686.5           5826.241096   \n41881            0.360350            1686.5           6175.117808   \n41882            0.331240            1686.5           6175.117808   \n41883            0.292743            1686.5           7570.624658   \n41884            0.576220            1820.0           8128.827397   \n\n                 x            y            z  \n41875 -1753.670688 -4115.735442  4530.347657  \n41876 -1750.081193 -4187.124525  4465.858599  \n41877 -1772.690821 -4179.577742  4464.010098  \n41878 -1748.967464 -4174.899812  4477.724128  \n41879 -1722.684484 -4094.103393  4561.728244  \n41880 -1723.453508 -4094.931370  4560.694474  \n41881 -1717.448890 -4102.341413  4556.298195  \n41882 -1714.226782 -4102.683293  4557.203676  \n41883 -1741.829865 -4070.532200  4575.531153  \n41884 -1750.194594 -4101.290142  4544.769197  ",
      "text/html": "<div>\n<style scoped>\n    .dataframe tbody tr th:only-of-type {\n        vertical-align: middle;\n    }\n\n    .dataframe tbody tr th {\n        vertical-align: top;\n    }\n\n    .dataframe thead th {\n        text-align: right;\n    }\n</style>\n<table border=\"1\" class=\"dataframe\">\n  <thead>\n    <tr style=\"text-align: right;\">\n      <th></th>\n      <th>FOD_ID</th>\n      <th>FIRE_NAME</th>\n      <th>STAT_CAUSE_DESCR</th>\n      <th>FIRE_YEAR</th>\n      <th>DISCOVERY_DOY</th>\n      <th>FIRE_SIZE</th>\n      <th>LATITUDE</th>\n      <th>LONGITUDE</th>\n      <th>STATE</th>\n      <th>CONTAINED</th>\n      <th>DISCOVERY_MONTH</th>\n      <th>DISTANCE_CITY_1000000</th>\n      <th>DISTANCE_CITY_100000</th>\n      <th>DISTANCE_CITY_10000</th>\n      <th>DISTANCE_CITY_1000</th>\n      <th>APPROX_ELEVATION</th>\n      <th>DISCOVERY_DOY_SCALED</th>\n      <th>x</th>\n      <th>y</th>\n      <th>z</th>\n    </tr>\n  </thead>\n  <tbody>\n    <tr>\n      <td>41875</td>\n      <td>42087</td>\n      <td>NaN</td>\n      <td>Lightning</td>\n      <td>1992</td>\n      <td>140</td>\n      <td>1.0</td>\n      <td>45.360000</td>\n      <td>-113.078333</td>\n      <td>MT</td>\n      <td>True</td>\n      <td>5</td>\n      <td>10.781239</td>\n      <td>4.750138</td>\n      <td>0.843216</td>\n      <td>0.464428</td>\n      <td>1820.0</td>\n      <td>4884.273973</td>\n      <td>-1753.670688</td>\n      <td>-4115.735442</td>\n      <td>4530.347657</td>\n    </tr>\n    <tr>\n      <td>41876</td>\n      <td>42088</td>\n      <td>NaN</td>\n      <td>Lightning</td>\n      <td>1992</td>\n      <td>218</td>\n      <td>0.6</td>\n      <td>44.540000</td>\n      <td>-112.683333</td>\n      <td>MT</td>\n      <td>True</td>\n      <td>8</td>\n      <td>11.108428</td>\n      <td>3.861481</td>\n      <td>1.144407</td>\n      <td>0.677997</td>\n      <td>2068.0</td>\n      <td>7605.512329</td>\n      <td>-1750.081193</td>\n      <td>-4187.124525</td>\n      <td>4465.858599</td>\n    </tr>\n    <tr>\n      <td>41877</td>\n      <td>42089</td>\n      <td>NaN</td>\n      <td>Campfire</td>\n      <td>1992</td>\n      <td>279</td>\n      <td>0.1</td>\n      <td>44.516667</td>\n      <td>-112.983333</td>\n      <td>MT</td>\n      <td>True</td>\n      <td>10</td>\n      <td>11.105679</td>\n      <td>3.911656</td>\n      <td>1.379697</td>\n      <td>0.780890</td>\n      <td>1820.0</td>\n      <td>9733.660274</td>\n      <td>-1772.690821</td>\n      <td>-4179.577742</td>\n      <td>4464.010098</td>\n    </tr>\n    <tr>\n      <td>41878</td>\n      <td>42090</td>\n      <td>NaN</td>\n      <td>Campfire</td>\n      <td>1992</td>\n      <td>298</td>\n      <td>0.1</td>\n      <td>44.690000</td>\n      <td>-112.730000</td>\n      <td>MT</td>\n      <td>True</td>\n      <td>10</td>\n      <td>11.260830</td>\n      <td>4.017896</td>\n      <td>1.277495</td>\n      <td>0.534599</td>\n      <td>2068.0</td>\n      <td>10396.526027</td>\n      <td>-1748.967464</td>\n      <td>-4174.899812</td>\n      <td>4477.724128</td>\n    </tr>\n    <tr>\n      <td>41879</td>\n      <td>42091</td>\n      <td>NaN</td>\n      <td>Campfire</td>\n      <td>1992</td>\n      <td>159</td>\n      <td>0.1</td>\n      <td>45.763333</td>\n      <td>-112.820000</td>\n      <td>MT</td>\n      <td>True</td>\n      <td>6</td>\n      <td>10.886766</td>\n      <td>4.979875</td>\n      <td>0.373800</td>\n      <td>0.373800</td>\n      <td>1686.5</td>\n      <td>5547.139726</td>\n      <td>-1722.684484</td>\n      <td>-4094.103393</td>\n      <td>4561.728244</td>\n    </tr>\n    <tr>\n      <td>41880</td>\n      <td>42092</td>\n      <td>NaN</td>\n      <td>Lightning</td>\n      <td>1992</td>\n      <td>167</td>\n      <td>0.1</td>\n      <td>45.750000</td>\n      <td>-112.825000</td>\n      <td>MT</td>\n      <td>True</td>\n      <td>6</td>\n      <td>10.886309</td>\n      <td>4.980347</td>\n      <td>0.386271</td>\n      <td>0.386271</td>\n      <td>1686.5</td>\n      <td>5826.241096</td>\n      <td>-1723.453508</td>\n      <td>-4094.931370</td>\n      <td>4560.694474</td>\n    </tr>\n    <tr>\n      <td>41881</td>\n      <td>42093</td>\n      <td>NaN</td>\n      <td>Lightning</td>\n      <td>1992</td>\n      <td>177</td>\n      <td>0.5</td>\n      <td>45.693333</td>\n      <td>-112.716667</td>\n      <td>MT</td>\n      <td>True</td>\n      <td>6</td>\n      <td>11.007126</td>\n      <td>5.001247</td>\n      <td>0.360350</td>\n      <td>0.360350</td>\n      <td>1686.5</td>\n      <td>6175.117808</td>\n      <td>-1717.448890</td>\n      <td>-4102.341413</td>\n      <td>4556.298195</td>\n    </tr>\n    <tr>\n      <td>41882</td>\n      <td>42094</td>\n      <td>NaN</td>\n      <td>Lightning</td>\n      <td>1992</td>\n      <td>177</td>\n      <td>0.5</td>\n      <td>45.705000</td>\n      <td>-112.676667</td>\n      <td>MT</td>\n      <td>True</td>\n      <td>6</td>\n      <td>11.041236</td>\n      <td>5.006315</td>\n      <td>0.331240</td>\n      <td>0.331240</td>\n      <td>1686.5</td>\n      <td>6175.117808</td>\n      <td>-1714.226782</td>\n      <td>-4102.683293</td>\n      <td>4557.203676</td>\n    </tr>\n    <tr>\n      <td>41883</td>\n      <td>42095</td>\n      <td>NaN</td>\n      <td>Campfire</td>\n      <td>1992</td>\n      <td>217</td>\n      <td>0.1</td>\n      <td>45.941667</td>\n      <td>-113.166667</td>\n      <td>MT</td>\n      <td>True</td>\n      <td>8</td>\n      <td>10.501405</td>\n      <td>4.591542</td>\n      <td>0.635830</td>\n      <td>0.292743</td>\n      <td>1686.5</td>\n      <td>7570.624658</td>\n      <td>-1741.829865</td>\n      <td>-4070.532200</td>\n      <td>4575.531153</td>\n    </tr>\n    <tr>\n      <td>41884</td>\n      <td>42096</td>\n      <td>NaN</td>\n      <td>Lightning</td>\n      <td>1992</td>\n      <td>233</td>\n      <td>0.3</td>\n      <td>45.545000</td>\n      <td>-113.110000</td>\n      <td>MT</td>\n      <td>True</td>\n      <td>8</td>\n      <td>10.686170</td>\n      <td>4.804972</td>\n      <td>0.736534</td>\n      <td>0.576220</td>\n      <td>1820.0</td>\n      <td>8128.827397</td>\n      <td>-1750.194594</td>\n      <td>-4101.290142</td>\n      <td>4544.769197</td>\n    </tr>\n  </tbody>\n</table>\n</div>"
     },
     "metadata": {},
     "execution_count": 99
    }
   ],
   "source": [
    "fires_1992.head(10)"
   ]
  },
  {
   "cell_type": "code",
   "execution_count": 97,
   "metadata": {},
   "outputs": [
    {
     "output_type": "execute_result",
     "data": {
      "text/plain": "   index  FOD_ID FIRE_NAME STAT_CAUSE_DESCR  FIRE_YEAR  DISCOVERY_DOY  \\\n0  41875   42087       NaN        Lightning       1992            140   \n1  41876   42088       NaN        Lightning       1992            218   \n2  41877   42089       NaN         Campfire       1992            279   \n3  41878   42090       NaN         Campfire       1992            298   \n4  41879   42091       NaN         Campfire       1992            159   \n5  41880   42092       NaN        Lightning       1992            167   \n6  41881   42093       NaN        Lightning       1992            177   \n7  41882   42094       NaN        Lightning       1992            177   \n8  41883   42095       NaN         Campfire       1992            217   \n9  41884   42096       NaN        Lightning       1992            233   \n\n   FIRE_SIZE   LATITUDE   LONGITUDE STATE  ...  Unnamed: 0  Unnamed: 0.1  \\\n0        1.0  45.360000 -113.078333    MT  ...    674342.0      494048.0   \n1        0.6  44.540000 -112.683333    MT  ...    678120.0      496688.0   \n2        0.1  44.516667 -112.983333    MT  ...    678242.0      496749.0   \n3        0.1  44.690000 -112.730000    MT  ...    678280.0      496768.0   \n4        0.1  45.763333 -112.820000    MT  ...    674043.0      493749.0   \n5        0.1  45.750000 -112.825000    MT  ...    674051.0      493757.0   \n6        0.5  45.693333 -112.716667    MT  ...    674061.0      493767.0   \n7        0.5  45.705000 -112.676667    MT  ...    674061.0      493767.0   \n8        0.1  45.941667 -113.166667    MT  ...    674101.0      493807.0   \n9        0.3  45.545000 -113.110000    MT  ...    674117.0      493823.0   \n\n   Visibility     WBAN  Windspeed    Year           doy            x  \\\n0        43.5  24138.0        8.5  1992.0   4919.161644 -1719.023951   \n1        10.0  99999.0        4.1  1992.0   7605.512329 -1819.060394   \n2         8.9  99999.0        5.7  1992.0   9733.660274 -1819.060394   \n3         4.5  99999.0        0.7  1992.0  10396.526027 -1819.060394   \n4        25.7  24135.0        5.6  1992.0   5547.139726 -1693.708380   \n5         9.6  24135.0       11.1  1992.0   5826.241096 -1693.708380   \n6        23.3  24135.0        5.6  1992.0   6175.117808 -1693.708380   \n7        23.3  24135.0        5.6  1992.0   6175.117808 -1693.708380   \n8        23.1  24135.0        9.1  1992.0   7570.624658 -1693.708380   \n9        21.8  24135.0       10.2  1992.0   8128.827397 -1693.708380   \n\n             y            z  \n0 -4139.053027  4522.376112  \n1 -4108.233511  4511.333029  \n2 -4108.233511  4511.333029  \n3 -4108.233511  4511.333029  \n4 -4088.771896  4577.333865  \n5 -4088.771896  4577.333865  \n6 -4088.771896  4577.333865  \n7 -4088.771896  4577.333865  \n8 -4088.771896  4577.333865  \n9 -4088.771896  4577.333865  \n\n[10 rows x 61 columns]",
      "text/html": "<div>\n<style scoped>\n    .dataframe tbody tr th:only-of-type {\n        vertical-align: middle;\n    }\n\n    .dataframe tbody tr th {\n        vertical-align: top;\n    }\n\n    .dataframe thead th {\n        text-align: right;\n    }\n</style>\n<table border=\"1\" class=\"dataframe\">\n  <thead>\n    <tr style=\"text-align: right;\">\n      <th></th>\n      <th>index</th>\n      <th>FOD_ID</th>\n      <th>FIRE_NAME</th>\n      <th>STAT_CAUSE_DESCR</th>\n      <th>FIRE_YEAR</th>\n      <th>DISCOVERY_DOY</th>\n      <th>FIRE_SIZE</th>\n      <th>LATITUDE</th>\n      <th>LONGITUDE</th>\n      <th>STATE</th>\n      <th>...</th>\n      <th>Unnamed: 0</th>\n      <th>Unnamed: 0.1</th>\n      <th>Visibility</th>\n      <th>WBAN</th>\n      <th>Windspeed</th>\n      <th>Year</th>\n      <th>doy</th>\n      <th>x</th>\n      <th>y</th>\n      <th>z</th>\n    </tr>\n  </thead>\n  <tbody>\n    <tr>\n      <td>0</td>\n      <td>41875</td>\n      <td>42087</td>\n      <td>NaN</td>\n      <td>Lightning</td>\n      <td>1992</td>\n      <td>140</td>\n      <td>1.0</td>\n      <td>45.360000</td>\n      <td>-113.078333</td>\n      <td>MT</td>\n      <td>...</td>\n      <td>674342.0</td>\n      <td>494048.0</td>\n      <td>43.5</td>\n      <td>24138.0</td>\n      <td>8.5</td>\n      <td>1992.0</td>\n      <td>4919.161644</td>\n      <td>-1719.023951</td>\n      <td>-4139.053027</td>\n      <td>4522.376112</td>\n    </tr>\n    <tr>\n      <td>1</td>\n      <td>41876</td>\n      <td>42088</td>\n      <td>NaN</td>\n      <td>Lightning</td>\n      <td>1992</td>\n      <td>218</td>\n      <td>0.6</td>\n      <td>44.540000</td>\n      <td>-112.683333</td>\n      <td>MT</td>\n      <td>...</td>\n      <td>678120.0</td>\n      <td>496688.0</td>\n      <td>10.0</td>\n      <td>99999.0</td>\n      <td>4.1</td>\n      <td>1992.0</td>\n      <td>7605.512329</td>\n      <td>-1819.060394</td>\n      <td>-4108.233511</td>\n      <td>4511.333029</td>\n    </tr>\n    <tr>\n      <td>2</td>\n      <td>41877</td>\n      <td>42089</td>\n      <td>NaN</td>\n      <td>Campfire</td>\n      <td>1992</td>\n      <td>279</td>\n      <td>0.1</td>\n      <td>44.516667</td>\n      <td>-112.983333</td>\n      <td>MT</td>\n      <td>...</td>\n      <td>678242.0</td>\n      <td>496749.0</td>\n      <td>8.9</td>\n      <td>99999.0</td>\n      <td>5.7</td>\n      <td>1992.0</td>\n      <td>9733.660274</td>\n      <td>-1819.060394</td>\n      <td>-4108.233511</td>\n      <td>4511.333029</td>\n    </tr>\n    <tr>\n      <td>3</td>\n      <td>41878</td>\n      <td>42090</td>\n      <td>NaN</td>\n      <td>Campfire</td>\n      <td>1992</td>\n      <td>298</td>\n      <td>0.1</td>\n      <td>44.690000</td>\n      <td>-112.730000</td>\n      <td>MT</td>\n      <td>...</td>\n      <td>678280.0</td>\n      <td>496768.0</td>\n      <td>4.5</td>\n      <td>99999.0</td>\n      <td>0.7</td>\n      <td>1992.0</td>\n      <td>10396.526027</td>\n      <td>-1819.060394</td>\n      <td>-4108.233511</td>\n      <td>4511.333029</td>\n    </tr>\n    <tr>\n      <td>4</td>\n      <td>41879</td>\n      <td>42091</td>\n      <td>NaN</td>\n      <td>Campfire</td>\n      <td>1992</td>\n      <td>159</td>\n      <td>0.1</td>\n      <td>45.763333</td>\n      <td>-112.820000</td>\n      <td>MT</td>\n      <td>...</td>\n      <td>674043.0</td>\n      <td>493749.0</td>\n      <td>25.7</td>\n      <td>24135.0</td>\n      <td>5.6</td>\n      <td>1992.0</td>\n      <td>5547.139726</td>\n      <td>-1693.708380</td>\n      <td>-4088.771896</td>\n      <td>4577.333865</td>\n    </tr>\n    <tr>\n      <td>5</td>\n      <td>41880</td>\n      <td>42092</td>\n      <td>NaN</td>\n      <td>Lightning</td>\n      <td>1992</td>\n      <td>167</td>\n      <td>0.1</td>\n      <td>45.750000</td>\n      <td>-112.825000</td>\n      <td>MT</td>\n      <td>...</td>\n      <td>674051.0</td>\n      <td>493757.0</td>\n      <td>9.6</td>\n      <td>24135.0</td>\n      <td>11.1</td>\n      <td>1992.0</td>\n      <td>5826.241096</td>\n      <td>-1693.708380</td>\n      <td>-4088.771896</td>\n      <td>4577.333865</td>\n    </tr>\n    <tr>\n      <td>6</td>\n      <td>41881</td>\n      <td>42093</td>\n      <td>NaN</td>\n      <td>Lightning</td>\n      <td>1992</td>\n      <td>177</td>\n      <td>0.5</td>\n      <td>45.693333</td>\n      <td>-112.716667</td>\n      <td>MT</td>\n      <td>...</td>\n      <td>674061.0</td>\n      <td>493767.0</td>\n      <td>23.3</td>\n      <td>24135.0</td>\n      <td>5.6</td>\n      <td>1992.0</td>\n      <td>6175.117808</td>\n      <td>-1693.708380</td>\n      <td>-4088.771896</td>\n      <td>4577.333865</td>\n    </tr>\n    <tr>\n      <td>7</td>\n      <td>41882</td>\n      <td>42094</td>\n      <td>NaN</td>\n      <td>Lightning</td>\n      <td>1992</td>\n      <td>177</td>\n      <td>0.5</td>\n      <td>45.705000</td>\n      <td>-112.676667</td>\n      <td>MT</td>\n      <td>...</td>\n      <td>674061.0</td>\n      <td>493767.0</td>\n      <td>23.3</td>\n      <td>24135.0</td>\n      <td>5.6</td>\n      <td>1992.0</td>\n      <td>6175.117808</td>\n      <td>-1693.708380</td>\n      <td>-4088.771896</td>\n      <td>4577.333865</td>\n    </tr>\n    <tr>\n      <td>8</td>\n      <td>41883</td>\n      <td>42095</td>\n      <td>NaN</td>\n      <td>Campfire</td>\n      <td>1992</td>\n      <td>217</td>\n      <td>0.1</td>\n      <td>45.941667</td>\n      <td>-113.166667</td>\n      <td>MT</td>\n      <td>...</td>\n      <td>674101.0</td>\n      <td>493807.0</td>\n      <td>23.1</td>\n      <td>24135.0</td>\n      <td>9.1</td>\n      <td>1992.0</td>\n      <td>7570.624658</td>\n      <td>-1693.708380</td>\n      <td>-4088.771896</td>\n      <td>4577.333865</td>\n    </tr>\n    <tr>\n      <td>9</td>\n      <td>41884</td>\n      <td>42096</td>\n      <td>NaN</td>\n      <td>Lightning</td>\n      <td>1992</td>\n      <td>233</td>\n      <td>0.3</td>\n      <td>45.545000</td>\n      <td>-113.110000</td>\n      <td>MT</td>\n      <td>...</td>\n      <td>674117.0</td>\n      <td>493823.0</td>\n      <td>21.8</td>\n      <td>24135.0</td>\n      <td>10.2</td>\n      <td>1992.0</td>\n      <td>8128.827397</td>\n      <td>-1693.708380</td>\n      <td>-4088.771896</td>\n      <td>4577.333865</td>\n    </tr>\n  </tbody>\n</table>\n<p>10 rows × 61 columns</p>\n</div>"
     },
     "metadata": {},
     "execution_count": 97
    }
   ],
   "source": [
    "pd.concat([fires_1992.head(10),predicted_weather_points],axis=1,sort=False)"
   ]
  },
  {
   "cell_type": "markdown",
   "metadata": {},
   "source": [
    "Run KD Tree and merge"
   ]
  },
  {
   "cell_type": "code",
   "execution_count": 100,
   "metadata": {},
   "outputs": [],
   "source": [
    "day_sep = []\n",
    "time_sep = []\n",
    "predicted_weather_points = pd.DataFrame()\n",
    "for i,row in fires_1992.iterrows():\n",
    "    row_predictors = row[['x','y','z','DISCOVERY_DOY_SCALED']]\n",
    "    closest_weather_time = weather_1992_kd.query(row_predictors,1)\n",
    "    predicted_weather_point = weather_1992.iloc[closest_weather_time[1]]\n",
    "    predicted_weather_points = predicted_weather_points.append(predicted_weather_point)"
   ]
  },
  {
   "cell_type": "code",
   "execution_count": 105,
   "metadata": {},
   "outputs": [
    {
     "output_type": "execute_result",
     "data": {
      "text/plain": "(67975, 20)"
     },
     "metadata": {},
     "execution_count": 105
    }
   ],
   "source": [
    "fires_1992.shape"
   ]
  },
  {
   "cell_type": "code",
   "execution_count": 106,
   "metadata": {},
   "outputs": [
    {
     "output_type": "execute_result",
     "data": {
      "text/plain": "(67975, 39)"
     },
     "metadata": {},
     "execution_count": 106
    }
   ],
   "source": [
    "predicted_weather_points.shape"
   ]
  },
  {
   "cell_type": "code",
   "execution_count": 130,
   "metadata": {},
   "outputs": [],
   "source": [
    "fires_1992=fires_1992.rename(columns={'x':'x_fire','y':'y_fire','z':'z_fire'})"
   ]
  },
  {
   "cell_type": "code",
   "execution_count": 153,
   "metadata": {},
   "outputs": [],
   "source": [
    "fires_1992_merged = fires_1992.reset_index().merge(predicted_weather_points.reset_index(),left_index=True,right_index=True)"
   ]
  },
  {
   "cell_type": "code",
   "execution_count": 154,
   "metadata": {},
   "outputs": [
    {
     "output_type": "execute_result",
     "data": {
      "text/plain": "       index_x     FOD_ID FIRE_NAME   STAT_CAUSE_DESCR  FIRE_YEAR  \\\n0        41875      42087       NaN          Lightning       1992   \n1        41876      42088       NaN          Lightning       1992   \n2        41877      42089       NaN           Campfire       1992   \n3        41878      42090       NaN           Campfire       1992   \n4        41879      42091       NaN           Campfire       1992   \n...        ...        ...       ...                ...        ...   \n67970  1861638  300296712       NaN  Missing/Undefined       1992   \n67971  1861639  300296713       NaN  Missing/Undefined       1992   \n67972  1864564  300299713       NaN  Missing/Undefined       1992   \n67973  1864565  300299714       NaN  Missing/Undefined       1992   \n67974  1864566  300299715       NaN  Missing/Undefined       1992   \n\n       DISCOVERY_DOY  FIRE_SIZE   LATITUDE   LONGITUDE STATE  ...  Unnamed: 0  \\\n0                140        1.0  45.360000 -113.078333    MT  ...    674342.0   \n1                218        0.6  44.540000 -112.683333    MT  ...    678120.0   \n2                279        0.1  44.516667 -112.983333    MT  ...    678242.0   \n3                298        0.1  44.690000 -112.730000    MT  ...    678280.0   \n4                159        0.1  45.763333 -112.820000    MT  ...    674043.0   \n...              ...        ...        ...         ...   ...  ...         ...   \n67970            155       10.0  21.366400 -157.839188    HI  ...     52537.0   \n67971            184       10.0  21.323521 -157.819824    HI  ...     52552.0   \n67972            219        0.1  21.497620 -158.187042    HI  ...     53061.0   \n67973            221        0.1  21.497620 -158.187042    HI  ...     53065.0   \n67974            220        0.1  21.497620 -158.187042    HI  ...     53063.0   \n\n       Unnamed: 0.1  Visibility     WBAN  Windspeed    Year           doy  \\\n0          494048.0        43.5  24138.0        8.5  1992.0   4919.161644   \n1          496688.0        10.0  99999.0        4.1  1992.0   7605.512329   \n2          496749.0         8.9  99999.0        5.7  1992.0   9733.660274   \n3          496768.0         4.5  99999.0        0.7  1992.0  10396.526027   \n4          493749.0        25.7  24135.0        5.6  1992.0   5547.139726   \n...             ...         ...      ...        ...     ...           ...   \n67970       32925.0       999.9  25626.0       21.6  1992.0   5407.589041   \n67971       32940.0       999.9  25626.0       12.7  1992.0   5930.904110   \n67972       33230.0        14.8  99999.0        6.3  1992.0   7640.400000   \n67973       33232.0         8.7  99999.0        5.7  1992.0   7710.175342   \n67974       33231.0         9.0  99999.0        7.2  1992.0   7675.287671   \n\n                 x            y            z  \n0     -1719.023951 -4139.053027  4522.376112  \n1     -1819.060394 -4108.233511  4511.333029  \n2     -1819.060394 -4108.233511  4511.333029  \n3     -1819.060394 -4108.233511  4511.333029  \n4     -1693.708380 -4088.771896  4577.333865  \n...            ...          ...          ...  \n67970 -3763.781338  -741.836070  5081.566519  \n67971 -3763.781338  -741.836070  5081.566519  \n67972 -3648.854178  -873.116633  5144.144199  \n67973 -3648.854178  -873.116633  5144.144199  \n67974 -3648.854178  -873.116633  5144.144199  \n\n[67975 rows x 61 columns]",
      "text/html": "<div>\n<style scoped>\n    .dataframe tbody tr th:only-of-type {\n        vertical-align: middle;\n    }\n\n    .dataframe tbody tr th {\n        vertical-align: top;\n    }\n\n    .dataframe thead th {\n        text-align: right;\n    }\n</style>\n<table border=\"1\" class=\"dataframe\">\n  <thead>\n    <tr style=\"text-align: right;\">\n      <th></th>\n      <th>index_x</th>\n      <th>FOD_ID</th>\n      <th>FIRE_NAME</th>\n      <th>STAT_CAUSE_DESCR</th>\n      <th>FIRE_YEAR</th>\n      <th>DISCOVERY_DOY</th>\n      <th>FIRE_SIZE</th>\n      <th>LATITUDE</th>\n      <th>LONGITUDE</th>\n      <th>STATE</th>\n      <th>...</th>\n      <th>Unnamed: 0</th>\n      <th>Unnamed: 0.1</th>\n      <th>Visibility</th>\n      <th>WBAN</th>\n      <th>Windspeed</th>\n      <th>Year</th>\n      <th>doy</th>\n      <th>x</th>\n      <th>y</th>\n      <th>z</th>\n    </tr>\n  </thead>\n  <tbody>\n    <tr>\n      <td>0</td>\n      <td>41875</td>\n      <td>42087</td>\n      <td>NaN</td>\n      <td>Lightning</td>\n      <td>1992</td>\n      <td>140</td>\n      <td>1.0</td>\n      <td>45.360000</td>\n      <td>-113.078333</td>\n      <td>MT</td>\n      <td>...</td>\n      <td>674342.0</td>\n      <td>494048.0</td>\n      <td>43.5</td>\n      <td>24138.0</td>\n      <td>8.5</td>\n      <td>1992.0</td>\n      <td>4919.161644</td>\n      <td>-1719.023951</td>\n      <td>-4139.053027</td>\n      <td>4522.376112</td>\n    </tr>\n    <tr>\n      <td>1</td>\n      <td>41876</td>\n      <td>42088</td>\n      <td>NaN</td>\n      <td>Lightning</td>\n      <td>1992</td>\n      <td>218</td>\n      <td>0.6</td>\n      <td>44.540000</td>\n      <td>-112.683333</td>\n      <td>MT</td>\n      <td>...</td>\n      <td>678120.0</td>\n      <td>496688.0</td>\n      <td>10.0</td>\n      <td>99999.0</td>\n      <td>4.1</td>\n      <td>1992.0</td>\n      <td>7605.512329</td>\n      <td>-1819.060394</td>\n      <td>-4108.233511</td>\n      <td>4511.333029</td>\n    </tr>\n    <tr>\n      <td>2</td>\n      <td>41877</td>\n      <td>42089</td>\n      <td>NaN</td>\n      <td>Campfire</td>\n      <td>1992</td>\n      <td>279</td>\n      <td>0.1</td>\n      <td>44.516667</td>\n      <td>-112.983333</td>\n      <td>MT</td>\n      <td>...</td>\n      <td>678242.0</td>\n      <td>496749.0</td>\n      <td>8.9</td>\n      <td>99999.0</td>\n      <td>5.7</td>\n      <td>1992.0</td>\n      <td>9733.660274</td>\n      <td>-1819.060394</td>\n      <td>-4108.233511</td>\n      <td>4511.333029</td>\n    </tr>\n    <tr>\n      <td>3</td>\n      <td>41878</td>\n      <td>42090</td>\n      <td>NaN</td>\n      <td>Campfire</td>\n      <td>1992</td>\n      <td>298</td>\n      <td>0.1</td>\n      <td>44.690000</td>\n      <td>-112.730000</td>\n      <td>MT</td>\n      <td>...</td>\n      <td>678280.0</td>\n      <td>496768.0</td>\n      <td>4.5</td>\n      <td>99999.0</td>\n      <td>0.7</td>\n      <td>1992.0</td>\n      <td>10396.526027</td>\n      <td>-1819.060394</td>\n      <td>-4108.233511</td>\n      <td>4511.333029</td>\n    </tr>\n    <tr>\n      <td>4</td>\n      <td>41879</td>\n      <td>42091</td>\n      <td>NaN</td>\n      <td>Campfire</td>\n      <td>1992</td>\n      <td>159</td>\n      <td>0.1</td>\n      <td>45.763333</td>\n      <td>-112.820000</td>\n      <td>MT</td>\n      <td>...</td>\n      <td>674043.0</td>\n      <td>493749.0</td>\n      <td>25.7</td>\n      <td>24135.0</td>\n      <td>5.6</td>\n      <td>1992.0</td>\n      <td>5547.139726</td>\n      <td>-1693.708380</td>\n      <td>-4088.771896</td>\n      <td>4577.333865</td>\n    </tr>\n    <tr>\n      <td>...</td>\n      <td>...</td>\n      <td>...</td>\n      <td>...</td>\n      <td>...</td>\n      <td>...</td>\n      <td>...</td>\n      <td>...</td>\n      <td>...</td>\n      <td>...</td>\n      <td>...</td>\n      <td>...</td>\n      <td>...</td>\n      <td>...</td>\n      <td>...</td>\n      <td>...</td>\n      <td>...</td>\n      <td>...</td>\n      <td>...</td>\n      <td>...</td>\n      <td>...</td>\n      <td>...</td>\n    </tr>\n    <tr>\n      <td>67970</td>\n      <td>1861638</td>\n      <td>300296712</td>\n      <td>NaN</td>\n      <td>Missing/Undefined</td>\n      <td>1992</td>\n      <td>155</td>\n      <td>10.0</td>\n      <td>21.366400</td>\n      <td>-157.839188</td>\n      <td>HI</td>\n      <td>...</td>\n      <td>52537.0</td>\n      <td>32925.0</td>\n      <td>999.9</td>\n      <td>25626.0</td>\n      <td>21.6</td>\n      <td>1992.0</td>\n      <td>5407.589041</td>\n      <td>-3763.781338</td>\n      <td>-741.836070</td>\n      <td>5081.566519</td>\n    </tr>\n    <tr>\n      <td>67971</td>\n      <td>1861639</td>\n      <td>300296713</td>\n      <td>NaN</td>\n      <td>Missing/Undefined</td>\n      <td>1992</td>\n      <td>184</td>\n      <td>10.0</td>\n      <td>21.323521</td>\n      <td>-157.819824</td>\n      <td>HI</td>\n      <td>...</td>\n      <td>52552.0</td>\n      <td>32940.0</td>\n      <td>999.9</td>\n      <td>25626.0</td>\n      <td>12.7</td>\n      <td>1992.0</td>\n      <td>5930.904110</td>\n      <td>-3763.781338</td>\n      <td>-741.836070</td>\n      <td>5081.566519</td>\n    </tr>\n    <tr>\n      <td>67972</td>\n      <td>1864564</td>\n      <td>300299713</td>\n      <td>NaN</td>\n      <td>Missing/Undefined</td>\n      <td>1992</td>\n      <td>219</td>\n      <td>0.1</td>\n      <td>21.497620</td>\n      <td>-158.187042</td>\n      <td>HI</td>\n      <td>...</td>\n      <td>53061.0</td>\n      <td>33230.0</td>\n      <td>14.8</td>\n      <td>99999.0</td>\n      <td>6.3</td>\n      <td>1992.0</td>\n      <td>7640.400000</td>\n      <td>-3648.854178</td>\n      <td>-873.116633</td>\n      <td>5144.144199</td>\n    </tr>\n    <tr>\n      <td>67973</td>\n      <td>1864565</td>\n      <td>300299714</td>\n      <td>NaN</td>\n      <td>Missing/Undefined</td>\n      <td>1992</td>\n      <td>221</td>\n      <td>0.1</td>\n      <td>21.497620</td>\n      <td>-158.187042</td>\n      <td>HI</td>\n      <td>...</td>\n      <td>53065.0</td>\n      <td>33232.0</td>\n      <td>8.7</td>\n      <td>99999.0</td>\n      <td>5.7</td>\n      <td>1992.0</td>\n      <td>7710.175342</td>\n      <td>-3648.854178</td>\n      <td>-873.116633</td>\n      <td>5144.144199</td>\n    </tr>\n    <tr>\n      <td>67974</td>\n      <td>1864566</td>\n      <td>300299715</td>\n      <td>NaN</td>\n      <td>Missing/Undefined</td>\n      <td>1992</td>\n      <td>220</td>\n      <td>0.1</td>\n      <td>21.497620</td>\n      <td>-158.187042</td>\n      <td>HI</td>\n      <td>...</td>\n      <td>53063.0</td>\n      <td>33231.0</td>\n      <td>9.0</td>\n      <td>99999.0</td>\n      <td>7.2</td>\n      <td>1992.0</td>\n      <td>7675.287671</td>\n      <td>-3648.854178</td>\n      <td>-873.116633</td>\n      <td>5144.144199</td>\n    </tr>\n  </tbody>\n</table>\n<p>67975 rows × 61 columns</p>\n</div>"
     },
     "metadata": {},
     "execution_count": 154
    }
   ],
   "source": [
    "fires_1992_merged"
   ]
  },
  {
   "cell_type": "code",
   "execution_count": 155,
   "metadata": {},
   "outputs": [
    {
     "output_type": "execute_result",
     "data": {
      "text/plain": "   index_x  FOD_ID FIRE_NAME STAT_CAUSE_DESCR  FIRE_YEAR  DISCOVERY_DOY  \\\n0    41875   42087       NaN        Lightning       1992            140   \n1    41876   42088       NaN        Lightning       1992            218   \n2    41877   42089       NaN         Campfire       1992            279   \n3    41878   42090       NaN         Campfire       1992            298   \n4    41879   42091       NaN         Campfire       1992            159   \n\n   FIRE_SIZE   LATITUDE   LONGITUDE STATE  ...  Unnamed: 0  Unnamed: 0.1  \\\n0        1.0  45.360000 -113.078333    MT  ...    674342.0      494048.0   \n1        0.6  44.540000 -112.683333    MT  ...    678120.0      496688.0   \n2        0.1  44.516667 -112.983333    MT  ...    678242.0      496749.0   \n3        0.1  44.690000 -112.730000    MT  ...    678280.0      496768.0   \n4        0.1  45.763333 -112.820000    MT  ...    674043.0      493749.0   \n\n   Visibility     WBAN  Windspeed    Year           doy            x  \\\n0        43.5  24138.0        8.5  1992.0   4919.161644 -1719.023951   \n1        10.0  99999.0        4.1  1992.0   7605.512329 -1819.060394   \n2         8.9  99999.0        5.7  1992.0   9733.660274 -1819.060394   \n3         4.5  99999.0        0.7  1992.0  10396.526027 -1819.060394   \n4        25.7  24135.0        5.6  1992.0   5547.139726 -1693.708380   \n\n             y            z  \n0 -4139.053027  4522.376112  \n1 -4108.233511  4511.333029  \n2 -4108.233511  4511.333029  \n3 -4108.233511  4511.333029  \n4 -4088.771896  4577.333865  \n\n[5 rows x 61 columns]",
      "text/html": "<div>\n<style scoped>\n    .dataframe tbody tr th:only-of-type {\n        vertical-align: middle;\n    }\n\n    .dataframe tbody tr th {\n        vertical-align: top;\n    }\n\n    .dataframe thead th {\n        text-align: right;\n    }\n</style>\n<table border=\"1\" class=\"dataframe\">\n  <thead>\n    <tr style=\"text-align: right;\">\n      <th></th>\n      <th>index_x</th>\n      <th>FOD_ID</th>\n      <th>FIRE_NAME</th>\n      <th>STAT_CAUSE_DESCR</th>\n      <th>FIRE_YEAR</th>\n      <th>DISCOVERY_DOY</th>\n      <th>FIRE_SIZE</th>\n      <th>LATITUDE</th>\n      <th>LONGITUDE</th>\n      <th>STATE</th>\n      <th>...</th>\n      <th>Unnamed: 0</th>\n      <th>Unnamed: 0.1</th>\n      <th>Visibility</th>\n      <th>WBAN</th>\n      <th>Windspeed</th>\n      <th>Year</th>\n      <th>doy</th>\n      <th>x</th>\n      <th>y</th>\n      <th>z</th>\n    </tr>\n  </thead>\n  <tbody>\n    <tr>\n      <td>0</td>\n      <td>41875</td>\n      <td>42087</td>\n      <td>NaN</td>\n      <td>Lightning</td>\n      <td>1992</td>\n      <td>140</td>\n      <td>1.0</td>\n      <td>45.360000</td>\n      <td>-113.078333</td>\n      <td>MT</td>\n      <td>...</td>\n      <td>674342.0</td>\n      <td>494048.0</td>\n      <td>43.5</td>\n      <td>24138.0</td>\n      <td>8.5</td>\n      <td>1992.0</td>\n      <td>4919.161644</td>\n      <td>-1719.023951</td>\n      <td>-4139.053027</td>\n      <td>4522.376112</td>\n    </tr>\n    <tr>\n      <td>1</td>\n      <td>41876</td>\n      <td>42088</td>\n      <td>NaN</td>\n      <td>Lightning</td>\n      <td>1992</td>\n      <td>218</td>\n      <td>0.6</td>\n      <td>44.540000</td>\n      <td>-112.683333</td>\n      <td>MT</td>\n      <td>...</td>\n      <td>678120.0</td>\n      <td>496688.0</td>\n      <td>10.0</td>\n      <td>99999.0</td>\n      <td>4.1</td>\n      <td>1992.0</td>\n      <td>7605.512329</td>\n      <td>-1819.060394</td>\n      <td>-4108.233511</td>\n      <td>4511.333029</td>\n    </tr>\n    <tr>\n      <td>2</td>\n      <td>41877</td>\n      <td>42089</td>\n      <td>NaN</td>\n      <td>Campfire</td>\n      <td>1992</td>\n      <td>279</td>\n      <td>0.1</td>\n      <td>44.516667</td>\n      <td>-112.983333</td>\n      <td>MT</td>\n      <td>...</td>\n      <td>678242.0</td>\n      <td>496749.0</td>\n      <td>8.9</td>\n      <td>99999.0</td>\n      <td>5.7</td>\n      <td>1992.0</td>\n      <td>9733.660274</td>\n      <td>-1819.060394</td>\n      <td>-4108.233511</td>\n      <td>4511.333029</td>\n    </tr>\n    <tr>\n      <td>3</td>\n      <td>41878</td>\n      <td>42090</td>\n      <td>NaN</td>\n      <td>Campfire</td>\n      <td>1992</td>\n      <td>298</td>\n      <td>0.1</td>\n      <td>44.690000</td>\n      <td>-112.730000</td>\n      <td>MT</td>\n      <td>...</td>\n      <td>678280.0</td>\n      <td>496768.0</td>\n      <td>4.5</td>\n      <td>99999.0</td>\n      <td>0.7</td>\n      <td>1992.0</td>\n      <td>10396.526027</td>\n      <td>-1819.060394</td>\n      <td>-4108.233511</td>\n      <td>4511.333029</td>\n    </tr>\n    <tr>\n      <td>4</td>\n      <td>41879</td>\n      <td>42091</td>\n      <td>NaN</td>\n      <td>Campfire</td>\n      <td>1992</td>\n      <td>159</td>\n      <td>0.1</td>\n      <td>45.763333</td>\n      <td>-112.820000</td>\n      <td>MT</td>\n      <td>...</td>\n      <td>674043.0</td>\n      <td>493749.0</td>\n      <td>25.7</td>\n      <td>24135.0</td>\n      <td>5.6</td>\n      <td>1992.0</td>\n      <td>5547.139726</td>\n      <td>-1693.708380</td>\n      <td>-4088.771896</td>\n      <td>4577.333865</td>\n    </tr>\n  </tbody>\n</table>\n<p>5 rows × 61 columns</p>\n</div>"
     },
     "metadata": {},
     "execution_count": 155
    }
   ],
   "source": [
    "fires_1992_merged.head()"
   ]
  },
  {
   "cell_type": "code",
   "execution_count": 156,
   "metadata": {},
   "outputs": [],
   "source": [
    "fires_1992_merged.to_csv(dataLoc+'/fires_weather/fires_merged_weather.csv')"
   ]
  },
  {
   "cell_type": "markdown",
   "metadata": {},
   "source": [
    "### Functionalize the above code so it can be run for every year"
   ]
  },
  {
   "cell_type": "code",
   "execution_count": 158,
   "metadata": {},
   "outputs": [],
   "source": [
    "new_cols = ['x','y','z']\n",
    "for yr in range(1993,2016):\n",
    "    fires_yr = fires[fires.FIRE_YEAR==yr]\n",
    "\n",
    "    fires_yr['DISCOVERY_DOY_SCALED'] = fires_yr.DISCOVERY_DOY*day_cartesian_scale_factor\n",
    "\n",
    "    weather_yr = pd.read_csv('./data/weather/global_weather_data_' + str(yr) + '.csv')\n",
    "\n",
    "    days_per_month = [31,28,31,30,31,30,31,31,30,31,30,31]\n",
    "    weather_yr['doy'] = (weather_yr.Month.apply(lambda x:sum(days_per_month[0:x-1]))+weather_yr.Day)*day_cartesian_scale_factor\n",
    "\n",
    "    weather_cartesian = weather_yr[['Latitude','Longitude']].apply(to_Cartesian,axis=1)\n",
    "    for i in range(len(new_cols)):\n",
    "        weather_yr[new_cols[i]]=[r[i] for r in weather_cartesian]\n",
    "\n",
    "    fires_cartesian = fires_yr[['LATITUDE','LONGITUDE']].apply(to_Cartesian,axis=1)\n",
    "    new_cols = ['x','y','z']\n",
    "    for i in range(len(new_cols)):\n",
    "        fires_yr[new_cols[i]]=[r[i] for r in fires_cartesian]\n",
    "\n",
    "    weather_yr_kd = KD(weather_yr[['x','y','z','doy']])\n",
    "\n",
    "    predicted_weather_points = pd.DataFrame()\n",
    "    for i,row in fires_yr.iterrows():\n",
    "        row_predictors = row[['x','y','z','DISCOVERY_DOY_SCALED']]\n",
    "        closest_weather_time = weather_yr_kd.query(row_predictors,1)\n",
    "        predicted_weather_point = weather_yr.iloc[closest_weather_time[1]]\n",
    "        predicted_weather_points = predicted_weather_points.append(predicted_weather_point)\n",
    "\n",
    "    fires_yr=fires_yr.rename(columns={'x':'x_fire','y':'y_fire','z':'z_fire'})\n",
    "    fires_yr_merged = fires_yr.reset_index().merge(predicted_weather_points.reset_index(),left_index=True,right_index=True)\n",
    "    fires_yr_merged.to_csv(dataLoc+'fires-weather-merged/fires_merged_weather_' + str(yr) + '.csv')"
   ]
  },
  {
   "cell_type": "code",
   "execution_count": 160,
   "metadata": {},
   "outputs": [],
   "source": [
    "merged_fires_weather = pd.DataFrame()\n",
    "for yr in range(1992,2016):\n",
    "    fire_weather_df = pd.read_csv(dataLoc+'fires-weather-merged/fires_merged_weather_'+str(yr)+'.csv')\n",
    "    merged_fires_weather = merged_fires_weather.append(fire_weather_df)\n"
   ]
  },
  {
   "cell_type": "code",
   "execution_count": 162,
   "metadata": {},
   "outputs": [],
   "source": [
    "merged_fires_weather.to_csv(dataLoc+'fires_merged_weather.csv')"
   ]
  }
 ],
 "metadata": {
  "language_info": {
   "name": "python",
   "codemirror_mode": {
    "name": "ipython",
    "version": 3
   },
   "version": "3.7.4-final"
  },
  "orig_nbformat": 2,
  "file_extension": ".py",
  "mimetype": "text/x-python",
  "name": "python",
  "npconvert_exporter": "python",
  "pygments_lexer": "ipython3",
  "version": 3,
  "kernelspec": {
   "name": "python37464bitnnsconda1fbcd458c8894ba78f8709988839bd75",
   "display_name": "Python 3.7.4 64-bit ('NNs': conda)"
  }
 },
 "nbformat": 4,
 "nbformat_minor": 2
}