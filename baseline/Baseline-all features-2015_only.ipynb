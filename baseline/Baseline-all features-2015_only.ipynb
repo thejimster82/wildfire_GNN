{
 "cells": [
  {
   "cell_type": "code",
   "execution_count": 1,
   "metadata": {},
   "outputs": [],
   "source": [
    "# Set up AMD GPU (change if using Nvidia)\n",
    "import plaidml.keras\n",
    "plaidml.keras.install_backend()"
   ]
  },
  {
   "cell_type": "code",
   "execution_count": 2,
   "metadata": {},
   "outputs": [],
   "source": [
    "import pandas as pd\n",
    "import numpy as np\n",
    "import matplotlib.pyplot as plt\n",
    "import gc"
   ]
  },
  {
   "cell_type": "code",
   "execution_count": 3,
   "metadata": {},
   "outputs": [],
   "source": [
    "from sklearn.model_selection import train_test_split\n",
    "from sklearn.impute import SimpleImputer\n",
    "from sklearn.preprocessing import MinMaxScaler\n",
    "from sklearn.metrics import confusion_matrix"
   ]
  },
  {
   "cell_type": "code",
   "execution_count": 4,
   "metadata": {},
   "outputs": [],
   "source": [
    "from keras import callbacks, models, layers"
   ]
  },
  {
   "cell_type": "markdown",
   "metadata": {},
   "source": [
    "# Read data"
   ]
  },
  {
   "cell_type": "code",
   "execution_count": null,
   "metadata": {},
   "outputs": [],
   "source": [
    "dataLoc = '../data/'"
   ]
  },
  {
   "cell_type": "code",
   "execution_count": 5,
   "metadata": {},
   "outputs": [
    {
     "name": "stderr",
     "output_type": "stream",
     "text": [
      "C:\\ProgramData\\Anaconda3\\lib\\site-packages\\IPython\\core\\interactiveshell.py:3063: DtypeWarning: Columns (4) have mixed types. Specify dtype option on import or set low_memory=False.\n",
      "  interactivity=interactivity, compiler=compiler, result=result)\n",
      "C:\\ProgramData\\Anaconda3\\lib\\site-packages\\numpy\\lib\\arraysetops.py:569: FutureWarning: elementwise comparison failed; returning scalar instead, but in the future will perform elementwise comparison\n",
      "  mask |= (ar1 == a)\n"
     ]
    }
   ],
   "source": [
    "data = pd.read_csv(dataLoc+'fires_merged_weather.csv', index_col=0,\n",
    "                  #dtype for smaller representation\n",
    "                  dtype={'STAT_CAUSE_DESCR': 'category', 'STATE': 'category', 'DISCOVERY_MONTH': 'category',\n",
    "                        'Fog': 'bool', 'FunnelCloud': 'bool', 'Hail': 'bool', 'Rain': 'bool',\n",
    "                        'Snow': 'bool', 'Thunder': 'bool'}\n",
    "                  )"
   ]
  },
  {
   "cell_type": "markdown",
   "metadata": {},
   "source": [
    "# Drop unnecessary columns"
   ]
  },
  {
   "cell_type": "code",
   "execution_count": 6,
   "metadata": {},
   "outputs": [],
   "source": [
    "data.drop(['Unnamed: 0.1', 'index_x', 'FOD_ID', 'FIRE_NAME', 'DISCOVERY_DOY_SCALED',\n",
    "           'x_fire', 'y_fire', 'z_fire',\n",
    "           'index_y', 'Begin', 'End', 'Country', 'Day', 'ICAO', 'Latitude', 'Longitude', 'Month', 'STATION NAME',\n",
    "           'State', 'Station', 'USAF', 'Unnamed: 0.1.1', 'Unnamed: 0.1.1.1', \n",
    "           'WBAN', 'Year', 'doy', 'x', 'y', 'z',\n",
    "          ],\n",
    "         axis='columns', inplace=True)"
   ]
  },
  {
   "cell_type": "code",
   "execution_count": 7,
   "metadata": {},
   "outputs": [
    {
     "data": {
      "text/plain": [
       "2476"
      ]
     },
     "execution_count": 7,
     "metadata": {},
     "output_type": "execute_result"
    }
   ],
   "source": [
    "gc.collect()"
   ]
  },
  {
   "cell_type": "code",
   "execution_count": 8,
   "metadata": {},
   "outputs": [
    {
     "data": {
      "text/plain": [
       "Index(['STAT_CAUSE_DESCR', 'FIRE_YEAR', 'DISCOVERY_DOY', 'FIRE_SIZE',\n",
       "       'LATITUDE', 'LONGITUDE', 'STATE', 'CONTAINED', 'DISCOVERY_MONTH',\n",
       "       'DISTANCE_CITY_1000000', 'DISTANCE_CITY_100000', 'DISTANCE_CITY_10000',\n",
       "       'DISTANCE_CITY_1000', 'APPROX_ELEVATION', 'DewPoint', 'Elevation',\n",
       "       'Fog', 'FunnelCloud', 'Gust', 'Hail', 'MaxTemp', 'MaxWindspeed',\n",
       "       'MinTemp', 'Precip', 'Rain', 'SeaLevelPressure', 'Snow', 'SnowDepth',\n",
       "       'StationPressure', 'Temp', 'Thunder', 'Visibility', 'Windspeed'],\n",
       "      dtype='object')"
      ]
     },
     "execution_count": 8,
     "metadata": {},
     "output_type": "execute_result"
    }
   ],
   "source": [
    "data.columns"
   ]
  },
  {
   "cell_type": "markdown",
   "metadata": {},
   "source": [
    "# Only use fires from 2015"
   ]
  },
  {
   "cell_type": "code",
   "execution_count": 9,
   "metadata": {},
   "outputs": [],
   "source": [
    "data = data[data[\"FIRE_YEAR\"] == 2015]"
   ]
  },
  {
   "cell_type": "markdown",
   "metadata": {},
   "source": [
    "# Drop unknown fires"
   ]
  },
  {
   "cell_type": "code",
   "execution_count": 10,
   "metadata": {},
   "outputs": [],
   "source": [
    "data = data[data['STAT_CAUSE_DESCR'] != 'Missing/Undefined']\n",
    "data = data[data['STAT_CAUSE_DESCR'] != 'Miscellaneous']"
   ]
  },
  {
   "cell_type": "code",
   "execution_count": 11,
   "metadata": {},
   "outputs": [
    {
     "data": {
      "text/plain": [
       "80"
      ]
     },
     "execution_count": 11,
     "metadata": {},
     "output_type": "execute_result"
    }
   ],
   "source": [
    "gc.collect()"
   ]
  },
  {
   "cell_type": "markdown",
   "metadata": {},
   "source": [
    "# Split into features/labels and one-hot code\n",
    "\n",
    "Also convert missing values to `np.nan`."
   ]
  },
  {
   "cell_type": "code",
   "execution_count": 12,
   "metadata": {},
   "outputs": [
    {
     "data": {
      "text/plain": [
       "Index(['FIRE_YEAR', 'DISCOVERY_DOY', 'FIRE_SIZE', 'LATITUDE', 'LONGITUDE',\n",
       "       'STATE', 'CONTAINED', 'DISCOVERY_MONTH', 'DISTANCE_CITY_1000000',\n",
       "       'DISTANCE_CITY_100000', 'DISTANCE_CITY_10000', 'DISTANCE_CITY_1000',\n",
       "       'APPROX_ELEVATION', 'DewPoint', 'Elevation', 'Fog', 'FunnelCloud',\n",
       "       'Gust', 'Hail', 'MaxTemp', 'MaxWindspeed', 'MinTemp', 'Precip', 'Rain',\n",
       "       'SeaLevelPressure', 'Snow', 'SnowDepth', 'StationPressure', 'Temp',\n",
       "       'Thunder', 'Visibility', 'Windspeed'],\n",
       "      dtype='object')"
      ]
     },
     "execution_count": 12,
     "metadata": {},
     "output_type": "execute_result"
    }
   ],
   "source": [
    "data.drop('STAT_CAUSE_DESCR', axis='columns').columns"
   ]
  },
  {
   "cell_type": "markdown",
   "metadata": {},
   "source": [
    "#### Zero-imputing for some features -- see EDA.ipynb"
   ]
  },
  {
   "cell_type": "code",
   "execution_count": 13,
   "metadata": {},
   "outputs": [],
   "source": [
    "Y = pd.get_dummies(data['STAT_CAUSE_DESCR'].cat.remove_unused_categories())\n",
    "X = pd.get_dummies(data.drop('STAT_CAUSE_DESCR', axis='columns'))\n",
    "\n",
    "for na in [9999.9, 999.9, 99.99]:\n",
    "    X[X == na] = np.nan"
   ]
  },
  {
   "cell_type": "code",
   "execution_count": 14,
   "metadata": {},
   "outputs": [],
   "source": [
    "for zcol in ['Gust', 'MaxWindspeed', 'Precip', 'SnowDepth', 'Visibility', 'Windspeed']:\n",
    "    X.loc[X[zcol].isna(), zcol] = 0"
   ]
  },
  {
   "cell_type": "code",
   "execution_count": 15,
   "metadata": {},
   "outputs": [
    {
     "data": {
      "text/plain": [
       "(50096, 94)"
      ]
     },
     "execution_count": 15,
     "metadata": {},
     "output_type": "execute_result"
    }
   ],
   "source": [
    "X.shape"
   ]
  },
  {
   "cell_type": "markdown",
   "metadata": {},
   "source": [
    "# Train/test split"
   ]
  },
  {
   "cell_type": "code",
   "execution_count": 16,
   "metadata": {},
   "outputs": [],
   "source": [
    "X_train, X_test, Y_train, Y_test = train_test_split(\n",
    "    X, Y, test_size=0.1, random_state=42)"
   ]
  },
  {
   "cell_type": "markdown",
   "metadata": {},
   "source": [
    "# Impute missing features"
   ]
  },
  {
   "cell_type": "markdown",
   "metadata": {},
   "source": [
    "#### Mean imputing for some features -- see EDA.ipynb"
   ]
  },
  {
   "cell_type": "code",
   "execution_count": 17,
   "metadata": {},
   "outputs": [],
   "source": [
    "imp = SimpleImputer(missing_values=np.nan, strategy='mean')"
   ]
  },
  {
   "cell_type": "code",
   "execution_count": 18,
   "metadata": {},
   "outputs": [
    {
     "data": {
      "text/plain": [
       "SimpleImputer(add_indicator=False, copy=True, fill_value=None,\n",
       "              missing_values=nan, strategy='mean', verbose=0)"
      ]
     },
     "execution_count": 18,
     "metadata": {},
     "output_type": "execute_result"
    }
   ],
   "source": [
    "imp.fit(X_train)"
   ]
  },
  {
   "cell_type": "code",
   "execution_count": 19,
   "metadata": {},
   "outputs": [],
   "source": [
    "X_train = imp.transform(X_train)\n",
    "X_test = imp.transform(X_test)"
   ]
  },
  {
   "cell_type": "markdown",
   "metadata": {},
   "source": [
    "# Scale the features"
   ]
  },
  {
   "cell_type": "code",
   "execution_count": 20,
   "metadata": {},
   "outputs": [],
   "source": [
    "scale = MinMaxScaler()"
   ]
  },
  {
   "cell_type": "code",
   "execution_count": 21,
   "metadata": {},
   "outputs": [
    {
     "data": {
      "text/plain": [
       "MinMaxScaler(copy=True, feature_range=(0, 1))"
      ]
     },
     "execution_count": 21,
     "metadata": {},
     "output_type": "execute_result"
    }
   ],
   "source": [
    "scale.fit(X_train)"
   ]
  },
  {
   "cell_type": "code",
   "execution_count": 22,
   "metadata": {},
   "outputs": [],
   "source": [
    "X_train = scale.transform(X_train)\n",
    "X_test = scale.transform(X_test)"
   ]
  },
  {
   "cell_type": "markdown",
   "metadata": {},
   "source": [
    "# Define the model"
   ]
  },
  {
   "cell_type": "code",
   "execution_count": 23,
   "metadata": {},
   "outputs": [
    {
     "name": "stderr",
     "output_type": "stream",
     "text": [
      "INFO:plaidml:Opening device \"opencl_amd_tonga.0\"\n"
     ]
    }
   ],
   "source": [
    "model = models.Sequential()\n",
    "\n",
    "model.add(layers.Dense(64, input_shape=(X.shape[1],)))\n",
    "model.add(layers.BatchNormalization())\n",
    "model.add(layers.Activation('relu'))\n",
    "\n",
    "model.add(layers.Dense(64))\n",
    "model.add(layers.BatchNormalization())\n",
    "model.add(layers.Activation('relu'))\n",
    "\n",
    "model.add(layers.Dense(64))\n",
    "model.add(layers.BatchNormalization())\n",
    "model.add(layers.Activation('relu'))\n",
    "\n",
    "\n",
    "model.add(layers.Dense(Y.shape[1], activation='softmax'))\n",
    "\n",
    "model.compile(optimizer='rmsprop', loss='categorical_crossentropy', metrics=['categorical_accuracy'])"
   ]
  },
  {
   "cell_type": "code",
   "execution_count": 24,
   "metadata": {},
   "outputs": [
    {
     "name": "stdout",
     "output_type": "stream",
     "text": [
      "_________________________________________________________________\n",
      "Layer (type)                 Output Shape              Param #   \n",
      "=================================================================\n",
      "dense_1 (Dense)              (None, 64)                6080      \n",
      "_________________________________________________________________\n",
      "batch_normalization_1 (Batch (None, 64)                256       \n",
      "_________________________________________________________________\n",
      "activation_1 (Activation)    (None, 64)                0         \n",
      "_________________________________________________________________\n",
      "dense_2 (Dense)              (None, 64)                4160      \n",
      "_________________________________________________________________\n",
      "batch_normalization_2 (Batch (None, 64)                256       \n",
      "_________________________________________________________________\n",
      "activation_2 (Activation)    (None, 64)                0         \n",
      "_________________________________________________________________\n",
      "dense_3 (Dense)              (None, 64)                4160      \n",
      "_________________________________________________________________\n",
      "batch_normalization_3 (Batch (None, 64)                256       \n",
      "_________________________________________________________________\n",
      "activation_3 (Activation)    (None, 64)                0         \n",
      "_________________________________________________________________\n",
      "dense_4 (Dense)              (None, 11)                715       \n",
      "=================================================================\n",
      "Total params: 15,883\n",
      "Trainable params: 15,499\n",
      "Non-trainable params: 384\n",
      "_________________________________________________________________\n"
     ]
    }
   ],
   "source": [
    "model.summary()"
   ]
  },
  {
   "cell_type": "markdown",
   "metadata": {},
   "source": [
    "# Fit model"
   ]
  },
  {
   "cell_type": "code",
   "execution_count": 25,
   "metadata": {},
   "outputs": [
    {
     "name": "stdout",
     "output_type": "stream",
     "text": [
      "Train on 45086 samples, validate on 5010 samples\n",
      "Epoch 1/1000\n",
      "45086/45086 [==============================] - 25s 553us/step - loss: 2.2574 - categorical_accuracy: 0.2480 - val_loss: 2.3191 - val_categorical_accuracy: 0.2924\n",
      "Epoch 2/1000\n",
      "45086/45086 [==============================] - 0s 7us/step - loss: 1.8221 - categorical_accuracy: 0.4365 - val_loss: 2.2815 - val_categorical_accuracy: 0.3261\n",
      "Epoch 3/1000\n",
      "45086/45086 [==============================] - 0s 7us/step - loss: 1.6596 - categorical_accuracy: 0.4997 - val_loss: 2.2540 - val_categorical_accuracy: 0.3860\n",
      "Epoch 4/1000\n",
      "45086/45086 [==============================] - 0s 7us/step - loss: 1.5658 - categorical_accuracy: 0.5214 - val_loss: 2.2233 - val_categorical_accuracy: 0.4313\n",
      "Epoch 5/1000\n",
      "45086/45086 [==============================] - 0s 7us/step - loss: 1.5041 - categorical_accuracy: 0.5326 - val_loss: 2.1932 - val_categorical_accuracy: 0.4663\n",
      "Epoch 6/1000\n",
      "45086/45086 [==============================] - 0s 7us/step - loss: 1.4598 - categorical_accuracy: 0.5368 - val_loss: 2.1619 - val_categorical_accuracy: 0.4850\n",
      "Epoch 7/1000\n",
      "45086/45086 [==============================] - 0s 7us/step - loss: 1.4262 - categorical_accuracy: 0.5417 - val_loss: 2.1301 - val_categorical_accuracy: 0.4964\n",
      "Epoch 8/1000\n",
      "45086/45086 [==============================] - 0s 7us/step - loss: 1.3994 - categorical_accuracy: 0.5456 - val_loss: 2.1037 - val_categorical_accuracy: 0.5014\n",
      "Epoch 9/1000\n",
      "45086/45086 [==============================] - 0s 7us/step - loss: 1.3780 - categorical_accuracy: 0.5503 - val_loss: 2.0695 - val_categorical_accuracy: 0.5034\n",
      "Epoch 10/1000\n",
      "45086/45086 [==============================] - 0s 7us/step - loss: 1.3600 - categorical_accuracy: 0.5532 - val_loss: 2.0447 - val_categorical_accuracy: 0.5212\n",
      "Epoch 11/1000\n",
      "45086/45086 [==============================] - 0s 7us/step - loss: 1.3458 - categorical_accuracy: 0.5563 - val_loss: 2.0140 - val_categorical_accuracy: 0.5186\n",
      "Epoch 12/1000\n",
      "45086/45086 [==============================] - 0s 7us/step - loss: 1.3330 - categorical_accuracy: 0.5589 - val_loss: 1.9856 - val_categorical_accuracy: 0.5194\n",
      "Epoch 13/1000\n",
      "45086/45086 [==============================] - 0s 7us/step - loss: 1.3227 - categorical_accuracy: 0.5608 - val_loss: 1.9548 - val_categorical_accuracy: 0.5176\n",
      "Epoch 14/1000\n",
      "45086/45086 [==============================] - 0s 7us/step - loss: 1.3131 - categorical_accuracy: 0.5640 - val_loss: 1.9291 - val_categorical_accuracy: 0.5146\n",
      "Epoch 15/1000\n",
      "45086/45086 [==============================] - 0s 7us/step - loss: 1.3061 - categorical_accuracy: 0.5642 - val_loss: 1.9060 - val_categorical_accuracy: 0.5142\n",
      "Epoch 16/1000\n",
      "45086/45086 [==============================] - 0s 7us/step - loss: 1.2980 - categorical_accuracy: 0.5661 - val_loss: 1.8760 - val_categorical_accuracy: 0.5140\n",
      "Epoch 17/1000\n",
      "45086/45086 [==============================] - 0s 7us/step - loss: 1.2919 - categorical_accuracy: 0.5678 - val_loss: 1.8584 - val_categorical_accuracy: 0.5070\n",
      "Epoch 18/1000\n",
      "45086/45086 [==============================] - 0s 7us/step - loss: 1.2857 - categorical_accuracy: 0.5694 - val_loss: 1.8449 - val_categorical_accuracy: 0.4946\n",
      "Epoch 19/1000\n",
      "45086/45086 [==============================] - 0s 7us/step - loss: 1.2803 - categorical_accuracy: 0.5713 - val_loss: 1.8200 - val_categorical_accuracy: 0.5046\n",
      "Epoch 20/1000\n",
      "45086/45086 [==============================] - 0s 7us/step - loss: 1.2756 - categorical_accuracy: 0.5718 - val_loss: 1.8074 - val_categorical_accuracy: 0.4914\n",
      "Epoch 21/1000\n",
      "45086/45086 [==============================] - 0s 7us/step - loss: 1.2701 - categorical_accuracy: 0.5734 - val_loss: 1.7952 - val_categorical_accuracy: 0.4834\n",
      "Epoch 22/1000\n",
      "45086/45086 [==============================] - 0s 7us/step - loss: 1.2660 - categorical_accuracy: 0.5748 - val_loss: 1.7724 - val_categorical_accuracy: 0.4870\n",
      "Epoch 23/1000\n",
      "45086/45086 [==============================] - 0s 7us/step - loss: 1.2610 - categorical_accuracy: 0.5763 - val_loss: 1.7725 - val_categorical_accuracy: 0.4673\n",
      "Epoch 24/1000\n",
      "45086/45086 [==============================] - ETA: 0s - loss: 1.2568 - categorical_accuracy: 0.57 - 0s 7us/step - loss: 1.2574 - categorical_accuracy: 0.5774 - val_loss: 1.7479 - val_categorical_accuracy: 0.4816\n",
      "Epoch 25/1000\n",
      "45086/45086 [==============================] - 0s 7us/step - loss: 1.2530 - categorical_accuracy: 0.5785 - val_loss: 1.7469 - val_categorical_accuracy: 0.4681\n",
      "Epoch 26/1000\n",
      "45086/45086 [==============================] - 0s 7us/step - loss: 1.2501 - categorical_accuracy: 0.5794 - val_loss: 1.7300 - val_categorical_accuracy: 0.4737\n",
      "Epoch 27/1000\n",
      "45086/45086 [==============================] - 0s 6us/step - loss: 1.2452 - categorical_accuracy: 0.5806 - val_loss: 1.7270 - val_categorical_accuracy: 0.4647\n",
      "Epoch 28/1000\n",
      "45086/45086 [==============================] - 0s 7us/step - loss: 1.2418 - categorical_accuracy: 0.5829 - val_loss: 1.7066 - val_categorical_accuracy: 0.4691\n",
      "Epoch 29/1000\n",
      "45086/45086 [==============================] - 0s 7us/step - loss: 1.2390 - categorical_accuracy: 0.5829 - val_loss: 1.6945 - val_categorical_accuracy: 0.4786\n",
      "Epoch 30/1000\n",
      "45086/45086 [==============================] - 0s 7us/step - loss: 1.2366 - categorical_accuracy: 0.5824 - val_loss: 1.7106 - val_categorical_accuracy: 0.4541\n",
      "Epoch 31/1000\n",
      "45086/45086 [==============================] - 0s 7us/step - loss: 1.2330 - categorical_accuracy: 0.5841 - val_loss: 1.6922 - val_categorical_accuracy: 0.4655\n",
      "Epoch 32/1000\n",
      "45086/45086 [==============================] - 0s 7us/step - loss: 1.2298 - categorical_accuracy: 0.5846 - val_loss: 1.6874 - val_categorical_accuracy: 0.4657\n",
      "Epoch 33/1000\n",
      "45086/45086 [==============================] - 0s 7us/step - loss: 1.2273 - categorical_accuracy: 0.5852 - val_loss: 1.6874 - val_categorical_accuracy: 0.4595\n",
      "Epoch 34/1000\n",
      "45086/45086 [==============================] - 0s 7us/step - loss: 1.2251 - categorical_accuracy: 0.5882 - val_loss: 1.6836 - val_categorical_accuracy: 0.4621\n",
      "Epoch 35/1000\n",
      "45086/45086 [==============================] - 0s 7us/step - loss: 1.2214 - categorical_accuracy: 0.5883 - val_loss: 1.6677 - val_categorical_accuracy: 0.4665\n",
      "Epoch 36/1000\n",
      "45086/45086 [==============================] - 0s 7us/step - loss: 1.2195 - categorical_accuracy: 0.5882 - val_loss: 1.6764 - val_categorical_accuracy: 0.4581\n",
      "Epoch 37/1000\n",
      "45086/45086 [==============================] - 0s 6us/step - loss: 1.2164 - categorical_accuracy: 0.5885 - val_loss: 1.6709 - val_categorical_accuracy: 0.4623\n",
      "Epoch 38/1000\n",
      "45086/45086 [==============================] - 0s 6us/step - loss: 1.2162 - categorical_accuracy: 0.5887 - val_loss: 1.6481 - val_categorical_accuracy: 0.4719\n",
      "Epoch 39/1000\n",
      "45086/45086 [==============================] - 0s 7us/step - loss: 1.2119 - categorical_accuracy: 0.5909 - val_loss: 1.6296 - val_categorical_accuracy: 0.4792\n",
      "Epoch 40/1000\n",
      "45086/45086 [==============================] - 0s 7us/step - loss: 1.2093 - categorical_accuracy: 0.5909 - val_loss: 1.6293 - val_categorical_accuracy: 0.4768\n",
      "Epoch 41/1000\n",
      "45086/45086 [==============================] - 0s 7us/step - loss: 1.2068 - categorical_accuracy: 0.5916 - val_loss: 1.6290 - val_categorical_accuracy: 0.4806\n",
      "Epoch 42/1000\n",
      "45086/45086 [==============================] - 0s 7us/step - loss: 1.2053 - categorical_accuracy: 0.5921 - val_loss: 1.5923 - val_categorical_accuracy: 0.4958\n",
      "Epoch 43/1000\n",
      "45086/45086 [==============================] - 0s 7us/step - loss: 1.2033 - categorical_accuracy: 0.5929 - val_loss: 1.5996 - val_categorical_accuracy: 0.4884\n",
      "Epoch 44/1000\n",
      "45086/45086 [==============================] - 0s 7us/step - loss: 1.2011 - categorical_accuracy: 0.5933 - val_loss: 1.5870 - val_categorical_accuracy: 0.4934\n",
      "Epoch 45/1000\n",
      "45086/45086 [==============================] - 0s 6us/step - loss: 1.1992 - categorical_accuracy: 0.5937 - val_loss: 1.5948 - val_categorical_accuracy: 0.4850\n",
      "Epoch 46/1000\n",
      "45086/45086 [==============================] - 0s 7us/step - loss: 1.1968 - categorical_accuracy: 0.5952 - val_loss: 1.5667 - val_categorical_accuracy: 0.4982\n",
      "Epoch 47/1000\n",
      "45086/45086 [==============================] - 0s 7us/step - loss: 1.1949 - categorical_accuracy: 0.5952 - val_loss: 1.5897 - val_categorical_accuracy: 0.4890\n"
     ]
    },
    {
     "name": "stdout",
     "output_type": "stream",
     "text": [
      "Epoch 48/1000\n",
      "45086/45086 [==============================] - 0s 7us/step - loss: 1.1938 - categorical_accuracy: 0.5959 - val_loss: 1.5637 - val_categorical_accuracy: 0.5004\n",
      "Epoch 49/1000\n",
      "45086/45086 [==============================] - 0s 7us/step - loss: 1.1918 - categorical_accuracy: 0.5954 - val_loss: 1.5502 - val_categorical_accuracy: 0.5042\n",
      "Epoch 50/1000\n",
      "45086/45086 [==============================] - 0s 7us/step - loss: 1.1899 - categorical_accuracy: 0.5964 - val_loss: 1.5518 - val_categorical_accuracy: 0.5034\n",
      "Epoch 51/1000\n",
      "45086/45086 [==============================] - 0s 6us/step - loss: 1.1875 - categorical_accuracy: 0.5982 - val_loss: 1.5237 - val_categorical_accuracy: 0.5130\n",
      "Epoch 52/1000\n",
      "45086/45086 [==============================] - 0s 7us/step - loss: 1.1854 - categorical_accuracy: 0.5988 - val_loss: 1.5224 - val_categorical_accuracy: 0.5130\n",
      "Epoch 53/1000\n",
      "45086/45086 [==============================] - 0s 6us/step - loss: 1.1849 - categorical_accuracy: 0.5984 - val_loss: 1.5330 - val_categorical_accuracy: 0.5064\n",
      "Epoch 54/1000\n",
      "45086/45086 [==============================] - 0s 6us/step - loss: 1.1846 - categorical_accuracy: 0.5972 - val_loss: 1.4928 - val_categorical_accuracy: 0.5251\n",
      "Epoch 55/1000\n",
      "45086/45086 [==============================] - 0s 7us/step - loss: 1.1807 - categorical_accuracy: 0.5994 - val_loss: 1.5036 - val_categorical_accuracy: 0.5194\n",
      "Epoch 56/1000\n",
      "45086/45086 [==============================] - 0s 6us/step - loss: 1.1786 - categorical_accuracy: 0.6004 - val_loss: 1.5010 - val_categorical_accuracy: 0.5204\n",
      "Epoch 57/1000\n",
      "45086/45086 [==============================] - 0s 7us/step - loss: 1.1783 - categorical_accuracy: 0.6006 - val_loss: 1.5024 - val_categorical_accuracy: 0.5194\n",
      "Epoch 58/1000\n",
      "45086/45086 [==============================] - 0s 6us/step - loss: 1.1754 - categorical_accuracy: 0.6004 - val_loss: 1.4645 - val_categorical_accuracy: 0.5321\n",
      "Epoch 59/1000\n",
      "45086/45086 [==============================] - 0s 7us/step - loss: 1.1752 - categorical_accuracy: 0.6016 - val_loss: 1.4882 - val_categorical_accuracy: 0.5188\n",
      "Epoch 60/1000\n",
      "45086/45086 [==============================] - 0s 7us/step - loss: 1.1739 - categorical_accuracy: 0.6023 - val_loss: 1.4577 - val_categorical_accuracy: 0.5313\n",
      "Epoch 61/1000\n",
      "45086/45086 [==============================] - 0s 7us/step - loss: 1.1716 - categorical_accuracy: 0.6030 - val_loss: 1.4383 - val_categorical_accuracy: 0.5363\n",
      "Epoch 62/1000\n",
      "45086/45086 [==============================] - 0s 7us/step - loss: 1.1713 - categorical_accuracy: 0.6018 - val_loss: 1.4594 - val_categorical_accuracy: 0.5299\n",
      "Epoch 63/1000\n",
      "45086/45086 [==============================] - 0s 7us/step - loss: 1.1690 - categorical_accuracy: 0.6039 - val_loss: 1.4449 - val_categorical_accuracy: 0.5383\n",
      "Epoch 64/1000\n",
      "45086/45086 [==============================] - 0s 7us/step - loss: 1.1681 - categorical_accuracy: 0.6029 - val_loss: 1.4260 - val_categorical_accuracy: 0.5429\n",
      "Epoch 65/1000\n",
      "45086/45086 [==============================] - 0s 6us/step - loss: 1.1658 - categorical_accuracy: 0.6048 - val_loss: 1.4185 - val_categorical_accuracy: 0.5443\n",
      "Epoch 66/1000\n",
      "45086/45086 [==============================] - 0s 7us/step - loss: 1.1641 - categorical_accuracy: 0.6047 - val_loss: 1.4197 - val_categorical_accuracy: 0.5445\n",
      "Epoch 67/1000\n",
      "45086/45086 [==============================] - 0s 7us/step - loss: 1.1629 - categorical_accuracy: 0.6060 - val_loss: 1.3944 - val_categorical_accuracy: 0.5539\n",
      "Epoch 68/1000\n",
      "45086/45086 [==============================] - 0s 7us/step - loss: 1.1623 - categorical_accuracy: 0.6057 - val_loss: 1.3967 - val_categorical_accuracy: 0.5507\n",
      "Epoch 69/1000\n",
      "45086/45086 [==============================] - 0s 7us/step - loss: 1.1623 - categorical_accuracy: 0.6042 - val_loss: 1.3979 - val_categorical_accuracy: 0.5471\n",
      "Epoch 70/1000\n",
      "45086/45086 [==============================] - 0s 7us/step - loss: 1.1587 - categorical_accuracy: 0.6071 - val_loss: 1.3919 - val_categorical_accuracy: 0.5489\n",
      "Epoch 71/1000\n",
      "45086/45086 [==============================] - 0s 6us/step - loss: 1.1587 - categorical_accuracy: 0.6058 - val_loss: 1.3737 - val_categorical_accuracy: 0.5581\n",
      "Epoch 72/1000\n",
      "45086/45086 [==============================] - 0s 6us/step - loss: 1.1582 - categorical_accuracy: 0.6062 - val_loss: 1.3842 - val_categorical_accuracy: 0.5529\n",
      "Epoch 73/1000\n",
      "45086/45086 [==============================] - 0s 7us/step - loss: 1.1561 - categorical_accuracy: 0.6083 - val_loss: 1.3686 - val_categorical_accuracy: 0.5601\n",
      "Epoch 74/1000\n",
      "45086/45086 [==============================] - 0s 6us/step - loss: 1.1538 - categorical_accuracy: 0.6069 - val_loss: 1.3618 - val_categorical_accuracy: 0.5579\n",
      "Epoch 75/1000\n",
      "45086/45086 [==============================] - 0s 6us/step - loss: 1.1527 - categorical_accuracy: 0.6074 - val_loss: 1.3524 - val_categorical_accuracy: 0.5601\n",
      "Epoch 76/1000\n",
      "45086/45086 [==============================] - 0s 6us/step - loss: 1.1545 - categorical_accuracy: 0.6081 - val_loss: 1.3549 - val_categorical_accuracy: 0.5601\n",
      "Epoch 77/1000\n",
      "45086/45086 [==============================] - 0s 6us/step - loss: 1.1509 - categorical_accuracy: 0.6090 - val_loss: 1.3577 - val_categorical_accuracy: 0.5605\n",
      "Epoch 78/1000\n",
      "45086/45086 [==============================] - 0s 7us/step - loss: 1.1488 - categorical_accuracy: 0.6084 - val_loss: 1.3478 - val_categorical_accuracy: 0.5647\n",
      "Epoch 79/1000\n",
      "45086/45086 [==============================] - 0s 6us/step - loss: 1.1485 - categorical_accuracy: 0.6097 - val_loss: 1.3337 - val_categorical_accuracy: 0.5635\n",
      "Epoch 80/1000\n",
      "45086/45086 [==============================] - 0s 6us/step - loss: 1.1480 - categorical_accuracy: 0.6104 - val_loss: 1.3393 - val_categorical_accuracy: 0.5649\n",
      "Epoch 81/1000\n",
      "45086/45086 [==============================] - 0s 6us/step - loss: 1.1466 - categorical_accuracy: 0.6095 - val_loss: 1.3283 - val_categorical_accuracy: 0.5679\n",
      "Epoch 82/1000\n",
      "45086/45086 [==============================] - 0s 7us/step - loss: 1.1453 - categorical_accuracy: 0.6107 - val_loss: 1.3326 - val_categorical_accuracy: 0.5667\n",
      "Epoch 83/1000\n",
      "45086/45086 [==============================] - 0s 7us/step - loss: 1.1436 - categorical_accuracy: 0.6104 - val_loss: 1.3226 - val_categorical_accuracy: 0.5713\n",
      "Epoch 84/1000\n",
      "45086/45086 [==============================] - 0s 6us/step - loss: 1.1439 - categorical_accuracy: 0.6102 - val_loss: 1.3219 - val_categorical_accuracy: 0.5725\n",
      "Epoch 85/1000\n",
      "45086/45086 [==============================] - 0s 7us/step - loss: 1.1428 - categorical_accuracy: 0.6114 - val_loss: 1.3232 - val_categorical_accuracy: 0.5707\n",
      "Epoch 86/1000\n",
      "45086/45086 [==============================] - 0s 6us/step - loss: 1.1425 - categorical_accuracy: 0.6119 - val_loss: 1.3213 - val_categorical_accuracy: 0.5679\n",
      "Epoch 87/1000\n",
      "45086/45086 [==============================] - 0s 7us/step - loss: 1.1392 - categorical_accuracy: 0.6125 - val_loss: 1.3267 - val_categorical_accuracy: 0.5697\n",
      "Epoch 88/1000\n",
      "45086/45086 [==============================] - 0s 6us/step - loss: 1.1386 - categorical_accuracy: 0.6122 - val_loss: 1.3126 - val_categorical_accuracy: 0.5733\n",
      "Epoch 89/1000\n",
      "45086/45086 [==============================] - 0s 6us/step - loss: 1.1402 - categorical_accuracy: 0.6109 - val_loss: 1.3251 - val_categorical_accuracy: 0.5685\n",
      "Epoch 90/1000\n",
      "45086/45086 [==============================] - 0s 7us/step - loss: 1.1384 - categorical_accuracy: 0.6144 - val_loss: 1.3240 - val_categorical_accuracy: 0.5727\n",
      "Epoch 91/1000\n",
      "45086/45086 [==============================] - 0s 7us/step - loss: 1.1352 - categorical_accuracy: 0.6133 - val_loss: 1.3106 - val_categorical_accuracy: 0.5727\n",
      "Epoch 92/1000\n",
      "45086/45086 [==============================] - 0s 7us/step - loss: 1.1347 - categorical_accuracy: 0.6134 - val_loss: 1.3191 - val_categorical_accuracy: 0.5709\n",
      "Epoch 93/1000\n",
      "45086/45086 [==============================] - 0s 7us/step - loss: 1.1330 - categorical_accuracy: 0.6146 - val_loss: 1.3262 - val_categorical_accuracy: 0.5647\n",
      "Epoch 94/1000\n",
      "45086/45086 [==============================] - 0s 7us/step - loss: 1.1335 - categorical_accuracy: 0.6141 - val_loss: 1.3251 - val_categorical_accuracy: 0.5689\n",
      "Epoch 95/1000\n"
     ]
    },
    {
     "name": "stdout",
     "output_type": "stream",
     "text": [
      "45086/45086 [==============================] - 0s 6us/step - loss: 1.1317 - categorical_accuracy: 0.6138 - val_loss: 1.3099 - val_categorical_accuracy: 0.5673\n",
      "Epoch 96/1000\n",
      "45086/45086 [==============================] - 0s 6us/step - loss: 1.1338 - categorical_accuracy: 0.6129 - val_loss: 1.3074 - val_categorical_accuracy: 0.5725\n",
      "Epoch 97/1000\n",
      "45086/45086 [==============================] - 0s 6us/step - loss: 1.1313 - categorical_accuracy: 0.6160 - val_loss: 1.3014 - val_categorical_accuracy: 0.5764\n",
      "Epoch 98/1000\n",
      "45086/45086 [==============================] - 0s 6us/step - loss: 1.1287 - categorical_accuracy: 0.6159 - val_loss: 1.3077 - val_categorical_accuracy: 0.5731\n",
      "Epoch 99/1000\n",
      "45086/45086 [==============================] - 0s 6us/step - loss: 1.1292 - categorical_accuracy: 0.6137 - val_loss: 1.3080 - val_categorical_accuracy: 0.5705\n",
      "Epoch 100/1000\n",
      "45086/45086 [==============================] - 0s 7us/step - loss: 1.1275 - categorical_accuracy: 0.6154 - val_loss: 1.2954 - val_categorical_accuracy: 0.5752\n",
      "Epoch 101/1000\n",
      "45086/45086 [==============================] - 0s 6us/step - loss: 1.1263 - categorical_accuracy: 0.6157 - val_loss: 1.3025 - val_categorical_accuracy: 0.5729\n",
      "Epoch 102/1000\n",
      "45086/45086 [==============================] - 0s 6us/step - loss: 1.1261 - categorical_accuracy: 0.6153 - val_loss: 1.3076 - val_categorical_accuracy: 0.5699\n",
      "Epoch 103/1000\n",
      "45086/45086 [==============================] - 0s 6us/step - loss: 1.1240 - categorical_accuracy: 0.6167 - val_loss: 1.3021 - val_categorical_accuracy: 0.5741\n",
      "Epoch 104/1000\n",
      "45086/45086 [==============================] - 0s 7us/step - loss: 1.1248 - categorical_accuracy: 0.6167 - val_loss: 1.2953 - val_categorical_accuracy: 0.5747\n",
      "Epoch 105/1000\n",
      "45086/45086 [==============================] - 0s 6us/step - loss: 1.1224 - categorical_accuracy: 0.6186 - val_loss: 1.2904 - val_categorical_accuracy: 0.5764\n",
      "Epoch 106/1000\n",
      "45086/45086 [==============================] - 0s 6us/step - loss: 1.1216 - categorical_accuracy: 0.6177 - val_loss: 1.2976 - val_categorical_accuracy: 0.5743\n",
      "Epoch 107/1000\n",
      "45086/45086 [==============================] - 0s 6us/step - loss: 1.1213 - categorical_accuracy: 0.6173 - val_loss: 1.2924 - val_categorical_accuracy: 0.5756\n",
      "Epoch 108/1000\n",
      "45086/45086 [==============================] - 0s 6us/step - loss: 1.1203 - categorical_accuracy: 0.6171 - val_loss: 1.2906 - val_categorical_accuracy: 0.5745\n",
      "Epoch 109/1000\n",
      "45086/45086 [==============================] - 0s 6us/step - loss: 1.1204 - categorical_accuracy: 0.6172 - val_loss: 1.2927 - val_categorical_accuracy: 0.5794\n",
      "Epoch 110/1000\n",
      "45086/45086 [==============================] - 0s 6us/step - loss: 1.1187 - categorical_accuracy: 0.6190 - val_loss: 1.3152 - val_categorical_accuracy: 0.5689\n",
      "Epoch 111/1000\n",
      "45086/45086 [==============================] - 0s 6us/step - loss: 1.1184 - categorical_accuracy: 0.6183 - val_loss: 1.3238 - val_categorical_accuracy: 0.5683\n",
      "Epoch 112/1000\n",
      "45086/45086 [==============================] - 0s 6us/step - loss: 1.1180 - categorical_accuracy: 0.6186 - val_loss: 1.3035 - val_categorical_accuracy: 0.5723\n",
      "Epoch 113/1000\n",
      "45086/45086 [==============================] - 0s 7us/step - loss: 1.1167 - categorical_accuracy: 0.6191 - val_loss: 1.3003 - val_categorical_accuracy: 0.5770\n",
      "Epoch 114/1000\n",
      "45086/45086 [==============================] - 0s 6us/step - loss: 1.1152 - categorical_accuracy: 0.6205 - val_loss: 1.2908 - val_categorical_accuracy: 0.5806\n",
      "Epoch 115/1000\n",
      "45086/45086 [==============================] - 0s 6us/step - loss: 1.1143 - categorical_accuracy: 0.6202 - val_loss: 1.3059 - val_categorical_accuracy: 0.5727\n",
      "Epoch 116/1000\n",
      "45086/45086 [==============================] - 0s 6us/step - loss: 1.1135 - categorical_accuracy: 0.6213 - val_loss: 1.2864 - val_categorical_accuracy: 0.5810\n",
      "Epoch 117/1000\n",
      "45086/45086 [==============================] - 0s 6us/step - loss: 1.1128 - categorical_accuracy: 0.6205 - val_loss: 1.3026 - val_categorical_accuracy: 0.5747\n",
      "Epoch 118/1000\n",
      "45086/45086 [==============================] - 0s 7us/step - loss: 1.1136 - categorical_accuracy: 0.6196 - val_loss: 1.2918 - val_categorical_accuracy: 0.5814\n",
      "Epoch 119/1000\n",
      "45086/45086 [==============================] - 0s 6us/step - loss: 1.1110 - categorical_accuracy: 0.6217 - val_loss: 1.2910 - val_categorical_accuracy: 0.5790\n",
      "Epoch 120/1000\n",
      "45086/45086 [==============================] - 0s 6us/step - loss: 1.1103 - categorical_accuracy: 0.6217 - val_loss: 1.2931 - val_categorical_accuracy: 0.5794\n",
      "Epoch 121/1000\n",
      "45086/45086 [==============================] - 0s 7us/step - loss: 1.1093 - categorical_accuracy: 0.6211 - val_loss: 1.3132 - val_categorical_accuracy: 0.5719\n",
      "Epoch 122/1000\n",
      "45086/45086 [==============================] - 0s 6us/step - loss: 1.1100 - categorical_accuracy: 0.6198 - val_loss: 1.3148 - val_categorical_accuracy: 0.5679\n",
      "Epoch 123/1000\n",
      "45086/45086 [==============================] - 0s 6us/step - loss: 1.1085 - categorical_accuracy: 0.6210 - val_loss: 1.2997 - val_categorical_accuracy: 0.5749\n",
      "Epoch 124/1000\n",
      "45086/45086 [==============================] - 0s 6us/step - loss: 1.1064 - categorical_accuracy: 0.6228 - val_loss: 1.2938 - val_categorical_accuracy: 0.5798\n",
      "Epoch 125/1000\n",
      "45086/45086 [==============================] - 0s 6us/step - loss: 1.1087 - categorical_accuracy: 0.6205 - val_loss: 1.3008 - val_categorical_accuracy: 0.5786\n",
      "Epoch 126/1000\n",
      "45086/45086 [==============================] - 0s 6us/step - loss: 1.1053 - categorical_accuracy: 0.6223 - val_loss: 1.3064 - val_categorical_accuracy: 0.5741\n",
      "Epoch 127/1000\n",
      "45086/45086 [==============================] - 0s 6us/step - loss: 1.1052 - categorical_accuracy: 0.6216 - val_loss: 1.2946 - val_categorical_accuracy: 0.5800\n",
      "Epoch 128/1000\n",
      "45086/45086 [==============================] - 0s 6us/step - loss: 1.1049 - categorical_accuracy: 0.6222 - val_loss: 1.2984 - val_categorical_accuracy: 0.5802\n",
      "Epoch 129/1000\n",
      "45086/45086 [==============================] - 0s 6us/step - loss: 1.1063 - categorical_accuracy: 0.6209 - val_loss: 1.2857 - val_categorical_accuracy: 0.5812\n",
      "Epoch 130/1000\n",
      "45086/45086 [==============================] - 0s 6us/step - loss: 1.1040 - categorical_accuracy: 0.6232 - val_loss: 1.2943 - val_categorical_accuracy: 0.5812\n",
      "Epoch 131/1000\n",
      "45086/45086 [==============================] - 0s 6us/step - loss: 1.1026 - categorical_accuracy: 0.6222 - val_loss: 1.2998 - val_categorical_accuracy: 0.5758\n",
      "Epoch 132/1000\n",
      "45086/45086 [==============================] - 0s 6us/step - loss: 1.1014 - categorical_accuracy: 0.6237 - val_loss: 1.2921 - val_categorical_accuracy: 0.5788\n",
      "Epoch 133/1000\n",
      "45086/45086 [==============================] - 0s 6us/step - loss: 1.0998 - categorical_accuracy: 0.6237 - val_loss: 1.2934 - val_categorical_accuracy: 0.5806\n",
      "Epoch 134/1000\n",
      "45086/45086 [==============================] - 0s 6us/step - loss: 1.1012 - categorical_accuracy: 0.6237 - val_loss: 1.2974 - val_categorical_accuracy: 0.5792\n",
      "Epoch 135/1000\n",
      "45086/45086 [==============================] - 0s 7us/step - loss: 1.0996 - categorical_accuracy: 0.6251 - val_loss: 1.2903 - val_categorical_accuracy: 0.5814\n",
      "Epoch 136/1000\n",
      "45086/45086 [==============================] - 0s 7us/step - loss: 1.1007 - categorical_accuracy: 0.6240 - val_loss: 1.2903 - val_categorical_accuracy: 0.5818\n",
      "Epoch 137/1000\n",
      "45086/45086 [==============================] - 0s 7us/step - loss: 1.0988 - categorical_accuracy: 0.6242 - val_loss: 1.2934 - val_categorical_accuracy: 0.5816\n",
      "Epoch 138/1000\n",
      "45086/45086 [==============================] - 0s 7us/step - loss: 1.0966 - categorical_accuracy: 0.6254 - val_loss: 1.2915 - val_categorical_accuracy: 0.5824\n",
      "Epoch 139/1000\n",
      "45086/45086 [==============================] - 0s 7us/step - loss: 1.0985 - categorical_accuracy: 0.6243 - val_loss: 1.2914 - val_categorical_accuracy: 0.5816\n",
      "Epoch 140/1000\n",
      "45086/45086 [==============================] - 0s 6us/step - loss: 1.0959 - categorical_accuracy: 0.6247 - val_loss: 1.2897 - val_categorical_accuracy: 0.5780\n",
      "Epoch 141/1000\n",
      "45086/45086 [==============================] - 0s 6us/step - loss: 1.0955 - categorical_accuracy: 0.6249 - val_loss: 1.2897 - val_categorical_accuracy: 0.5798\n",
      "Epoch 142/1000\n"
     ]
    },
    {
     "name": "stdout",
     "output_type": "stream",
     "text": [
      "45086/45086 [==============================] - 0s 6us/step - loss: 1.0939 - categorical_accuracy: 0.6254 - val_loss: 1.3106 - val_categorical_accuracy: 0.5741\n",
      "Epoch 143/1000\n",
      "45086/45086 [==============================] - 0s 7us/step - loss: 1.0970 - categorical_accuracy: 0.6265 - val_loss: 1.2862 - val_categorical_accuracy: 0.5822\n",
      "Epoch 144/1000\n",
      "45086/45086 [==============================] - 0s 6us/step - loss: 1.0926 - categorical_accuracy: 0.6255 - val_loss: 1.2877 - val_categorical_accuracy: 0.5806\n",
      "Epoch 145/1000\n",
      "45086/45086 [==============================] - 0s 6us/step - loss: 1.0923 - categorical_accuracy: 0.6278 - val_loss: 1.2911 - val_categorical_accuracy: 0.5844\n",
      "Epoch 146/1000\n",
      "45086/45086 [==============================] - 0s 6us/step - loss: 1.0932 - categorical_accuracy: 0.6270 - val_loss: 1.3045 - val_categorical_accuracy: 0.5709\n",
      "Epoch 147/1000\n",
      "45086/45086 [==============================] - 0s 6us/step - loss: 1.0915 - categorical_accuracy: 0.6267 - val_loss: 1.2897 - val_categorical_accuracy: 0.5818\n",
      "Epoch 148/1000\n",
      "45086/45086 [==============================] - 0s 6us/step - loss: 1.0910 - categorical_accuracy: 0.6277 - val_loss: 1.2941 - val_categorical_accuracy: 0.5784\n",
      "Epoch 149/1000\n",
      "45086/45086 [==============================] - 0s 6us/step - loss: 1.0884 - categorical_accuracy: 0.6271 - val_loss: 1.2862 - val_categorical_accuracy: 0.5802\n",
      "Epoch 150/1000\n",
      "45086/45086 [==============================] - 0s 6us/step - loss: 1.0885 - categorical_accuracy: 0.6278 - val_loss: 1.2969 - val_categorical_accuracy: 0.5806\n",
      "Epoch 151/1000\n",
      "45086/45086 [==============================] - 0s 7us/step - loss: 1.0884 - categorical_accuracy: 0.6277 - val_loss: 1.3036 - val_categorical_accuracy: 0.5766\n",
      "Epoch 152/1000\n",
      "45086/45086 [==============================] - 0s 6us/step - loss: 1.0889 - categorical_accuracy: 0.6273 - val_loss: 1.2889 - val_categorical_accuracy: 0.5832\n",
      "Epoch 153/1000\n",
      "45086/45086 [==============================] - 0s 6us/step - loss: 1.0873 - categorical_accuracy: 0.6278 - val_loss: 1.2886 - val_categorical_accuracy: 0.5864\n",
      "Epoch 154/1000\n",
      "45086/45086 [==============================] - 0s 6us/step - loss: 1.0895 - categorical_accuracy: 0.6264 - val_loss: 1.2988 - val_categorical_accuracy: 0.5812\n",
      "Epoch 155/1000\n",
      "45086/45086 [==============================] - 0s 6us/step - loss: 1.0863 - categorical_accuracy: 0.6285 - val_loss: 1.2941 - val_categorical_accuracy: 0.5800\n",
      "Epoch 156/1000\n",
      "45086/45086 [==============================] - 0s 6us/step - loss: 1.0854 - categorical_accuracy: 0.6286 - val_loss: 1.2830 - val_categorical_accuracy: 0.5840\n",
      "Epoch 157/1000\n",
      "45086/45086 [==============================] - 0s 6us/step - loss: 1.0859 - categorical_accuracy: 0.6280 - val_loss: 1.2887 - val_categorical_accuracy: 0.5836\n",
      "Epoch 158/1000\n",
      "45086/45086 [==============================] - 0s 6us/step - loss: 1.0840 - categorical_accuracy: 0.6282 - val_loss: 1.2925 - val_categorical_accuracy: 0.5816\n",
      "Epoch 159/1000\n",
      "45086/45086 [==============================] - 0s 6us/step - loss: 1.0850 - categorical_accuracy: 0.6279 - val_loss: 1.2929 - val_categorical_accuracy: 0.5752\n",
      "Epoch 160/1000\n",
      "45086/45086 [==============================] - 0s 6us/step - loss: 1.0850 - categorical_accuracy: 0.6280 - val_loss: 1.2993 - val_categorical_accuracy: 0.5782\n",
      "Epoch 161/1000\n",
      "45086/45086 [==============================] - 0s 6us/step - loss: 1.0815 - categorical_accuracy: 0.6289 - val_loss: 1.3108 - val_categorical_accuracy: 0.5715\n",
      "Epoch 162/1000\n",
      "45086/45086 [==============================] - 0s 6us/step - loss: 1.0851 - categorical_accuracy: 0.6285 - val_loss: 1.2917 - val_categorical_accuracy: 0.5834\n",
      "Epoch 163/1000\n",
      "45086/45086 [==============================] - 0s 6us/step - loss: 1.0800 - categorical_accuracy: 0.6304 - val_loss: 1.3028 - val_categorical_accuracy: 0.5780\n",
      "Epoch 164/1000\n",
      "45086/45086 [==============================] - 0s 6us/step - loss: 1.0838 - categorical_accuracy: 0.6275 - val_loss: 1.2952 - val_categorical_accuracy: 0.5758\n",
      "Epoch 165/1000\n",
      "45086/45086 [==============================] - 0s 6us/step - loss: 1.0787 - categorical_accuracy: 0.6309 - val_loss: 1.2941 - val_categorical_accuracy: 0.5812\n",
      "Epoch 166/1000\n",
      "45086/45086 [==============================] - 0s 6us/step - loss: 1.0823 - categorical_accuracy: 0.6301 - val_loss: 1.2890 - val_categorical_accuracy: 0.5812\n",
      "Epoch 167/1000\n",
      "45086/45086 [==============================] - 0s 6us/step - loss: 1.0777 - categorical_accuracy: 0.6306 - val_loss: 1.3044 - val_categorical_accuracy: 0.5739\n",
      "Epoch 168/1000\n",
      "45086/45086 [==============================] - 0s 6us/step - loss: 1.0789 - categorical_accuracy: 0.6306 - val_loss: 1.2918 - val_categorical_accuracy: 0.5826\n",
      "Epoch 169/1000\n",
      "45086/45086 [==============================] - 0s 6us/step - loss: 1.0789 - categorical_accuracy: 0.6294 - val_loss: 1.3000 - val_categorical_accuracy: 0.5802\n",
      "Epoch 170/1000\n",
      "45086/45086 [==============================] - 0s 6us/step - loss: 1.0783 - categorical_accuracy: 0.6299 - val_loss: 1.2929 - val_categorical_accuracy: 0.5808\n",
      "Epoch 171/1000\n",
      "45086/45086 [==============================] - 0s 6us/step - loss: 1.0790 - categorical_accuracy: 0.6291 - val_loss: 1.2925 - val_categorical_accuracy: 0.5822\n",
      "Epoch 172/1000\n",
      "45086/45086 [==============================] - 0s 6us/step - loss: 1.0763 - categorical_accuracy: 0.6308 - val_loss: 1.3030 - val_categorical_accuracy: 0.5729\n",
      "Epoch 173/1000\n",
      "45086/45086 [==============================] - 0s 6us/step - loss: 1.0769 - categorical_accuracy: 0.6312 - val_loss: 1.2942 - val_categorical_accuracy: 0.5824\n",
      "Epoch 174/1000\n",
      "45086/45086 [==============================] - 0s 7us/step - loss: 1.0744 - categorical_accuracy: 0.6323 - val_loss: 1.3004 - val_categorical_accuracy: 0.5790\n",
      "Epoch 175/1000\n",
      "45086/45086 [==============================] - 0s 6us/step - loss: 1.0740 - categorical_accuracy: 0.6321 - val_loss: 1.2932 - val_categorical_accuracy: 0.5828\n",
      "Epoch 176/1000\n",
      "45086/45086 [==============================] - 0s 6us/step - loss: 1.0741 - categorical_accuracy: 0.6315 - val_loss: 1.2956 - val_categorical_accuracy: 0.5812\n",
      "Epoch 177/1000\n",
      "45086/45086 [==============================] - 0s 6us/step - loss: 1.0763 - categorical_accuracy: 0.6301 - val_loss: 1.2937 - val_categorical_accuracy: 0.5872\n",
      "Epoch 178/1000\n",
      "45086/45086 [==============================] - 0s 6us/step - loss: 1.0721 - categorical_accuracy: 0.6333 - val_loss: 1.2955 - val_categorical_accuracy: 0.5818\n",
      "Epoch 179/1000\n",
      "45086/45086 [==============================] - 0s 6us/step - loss: 1.0718 - categorical_accuracy: 0.6309 - val_loss: 1.2932 - val_categorical_accuracy: 0.5880\n",
      "Epoch 180/1000\n",
      "45086/45086 [==============================] - 0s 6us/step - loss: 1.0731 - categorical_accuracy: 0.6304 - val_loss: 1.2974 - val_categorical_accuracy: 0.5808\n",
      "Epoch 181/1000\n",
      "45086/45086 [==============================] - 0s 7us/step - loss: 1.0708 - categorical_accuracy: 0.6312 - val_loss: 1.2911 - val_categorical_accuracy: 0.5800\n",
      "Epoch 182/1000\n",
      "45086/45086 [==============================] - 0s 6us/step - loss: 1.0733 - categorical_accuracy: 0.6327 - val_loss: 1.3093 - val_categorical_accuracy: 0.5778\n",
      "Epoch 183/1000\n",
      "45086/45086 [==============================] - 0s 6us/step - loss: 1.0708 - categorical_accuracy: 0.6331 - val_loss: 1.3024 - val_categorical_accuracy: 0.5792\n",
      "Epoch 184/1000\n",
      "45086/45086 [==============================] - 0s 6us/step - loss: 1.0700 - categorical_accuracy: 0.6332 - val_loss: 1.2956 - val_categorical_accuracy: 0.5828\n",
      "Epoch 185/1000\n",
      "45086/45086 [==============================] - 0s 6us/step - loss: 1.0688 - categorical_accuracy: 0.6322 - val_loss: 1.3043 - val_categorical_accuracy: 0.5758\n",
      "Epoch 186/1000\n",
      "45086/45086 [==============================] - 0s 6us/step - loss: 1.0691 - categorical_accuracy: 0.6318 - val_loss: 1.2933 - val_categorical_accuracy: 0.5876\n",
      "Epoch 187/1000\n",
      "45086/45086 [==============================] - 0s 6us/step - loss: 1.0714 - categorical_accuracy: 0.6333 - val_loss: 1.2894 - val_categorical_accuracy: 0.5894\n",
      "Epoch 188/1000\n",
      "45086/45086 [==============================] - 0s 6us/step - loss: 1.0677 - categorical_accuracy: 0.6327 - val_loss: 1.2950 - val_categorical_accuracy: 0.5854\n",
      "Epoch 189/1000\n"
     ]
    },
    {
     "name": "stdout",
     "output_type": "stream",
     "text": [
      "45086/45086 [==============================] - 0s 7us/step - loss: 1.0673 - categorical_accuracy: 0.6322 - val_loss: 1.2993 - val_categorical_accuracy: 0.5788\n",
      "Epoch 190/1000\n",
      "45086/45086 [==============================] - 0s 6us/step - loss: 1.0674 - categorical_accuracy: 0.6343 - val_loss: 1.2913 - val_categorical_accuracy: 0.5872\n",
      "Epoch 191/1000\n",
      "45086/45086 [==============================] - 0s 6us/step - loss: 1.0653 - categorical_accuracy: 0.6340 - val_loss: 1.2973 - val_categorical_accuracy: 0.5830\n",
      "Epoch 192/1000\n",
      "45086/45086 [==============================] - 0s 6us/step - loss: 1.0671 - categorical_accuracy: 0.6332 - val_loss: 1.2932 - val_categorical_accuracy: 0.5812\n",
      "Epoch 193/1000\n",
      "45086/45086 [==============================] - 0s 6us/step - loss: 1.0671 - categorical_accuracy: 0.6345 - val_loss: 1.2953 - val_categorical_accuracy: 0.5844\n",
      "Epoch 194/1000\n",
      "45086/45086 [==============================] - 0s 6us/step - loss: 1.0638 - categorical_accuracy: 0.6337 - val_loss: 1.2946 - val_categorical_accuracy: 0.5864\n",
      "Epoch 195/1000\n",
      "45086/45086 [==============================] - 0s 6us/step - loss: 1.0670 - categorical_accuracy: 0.6335 - val_loss: 1.2957 - val_categorical_accuracy: 0.5852\n",
      "Epoch 196/1000\n",
      "45086/45086 [==============================] - 0s 6us/step - loss: 1.0634 - categorical_accuracy: 0.6355 - val_loss: 1.2923 - val_categorical_accuracy: 0.5814\n",
      "Epoch 197/1000\n",
      "45086/45086 [==============================] - 0s 7us/step - loss: 1.0633 - categorical_accuracy: 0.6343 - val_loss: 1.2949 - val_categorical_accuracy: 0.5826\n",
      "Epoch 198/1000\n",
      "45086/45086 [==============================] - 0s 6us/step - loss: 1.0635 - categorical_accuracy: 0.6340 - val_loss: 1.2942 - val_categorical_accuracy: 0.5842\n",
      "Epoch 199/1000\n",
      "45086/45086 [==============================] - 0s 6us/step - loss: 1.0626 - categorical_accuracy: 0.6347 - val_loss: 1.2918 - val_categorical_accuracy: 0.5868\n",
      "Epoch 200/1000\n",
      "45086/45086 [==============================] - 0s 6us/step - loss: 1.0617 - categorical_accuracy: 0.6362 - val_loss: 1.2990 - val_categorical_accuracy: 0.5834\n",
      "Epoch 201/1000\n",
      "45086/45086 [==============================] - 0s 6us/step - loss: 1.0616 - categorical_accuracy: 0.6344 - val_loss: 1.2973 - val_categorical_accuracy: 0.5864\n",
      "Epoch 202/1000\n",
      "45086/45086 [==============================] - 0s 6us/step - loss: 1.0607 - categorical_accuracy: 0.6343 - val_loss: 1.2968 - val_categorical_accuracy: 0.5814\n",
      "Epoch 203/1000\n",
      "45086/45086 [==============================] - 0s 7us/step - loss: 1.0591 - categorical_accuracy: 0.6359 - val_loss: 1.2957 - val_categorical_accuracy: 0.5832\n",
      "Epoch 204/1000\n",
      "45086/45086 [==============================] - 0s 7us/step - loss: 1.0604 - categorical_accuracy: 0.6365 - val_loss: 1.2946 - val_categorical_accuracy: 0.5904\n",
      "Epoch 205/1000\n",
      "45086/45086 [==============================] - 0s 6us/step - loss: 1.0596 - categorical_accuracy: 0.6351 - val_loss: 1.2936 - val_categorical_accuracy: 0.5856\n",
      "Epoch 206/1000\n",
      "45086/45086 [==============================] - 0s 6us/step - loss: 1.0576 - categorical_accuracy: 0.6358 - val_loss: 1.2972 - val_categorical_accuracy: 0.5898\n"
     ]
    }
   ],
   "source": [
    "history = model.fit(x = X_train, y = Y_train,\n",
    "                    validation_data = (X_test, Y_test),\n",
    "                    batch_size = 10000, epochs=1000,\n",
    "                    callbacks = [callbacks.EarlyStopping(patience=50)])"
   ]
  },
  {
   "cell_type": "code",
   "execution_count": 26,
   "metadata": {},
   "outputs": [
    {
     "data": {
      "text/plain": [
       "STAT_CAUSE_DESCR\n",
       "Arson                0.132266\n",
       "Campfire             0.074477\n",
       "Children             0.026948\n",
       "Debris Burning       0.366077\n",
       "Equipment Use        0.109470\n",
       "Fireworks            0.011678\n",
       "Lightning            0.195864\n",
       "Miscellaneous        0.000000\n",
       "Missing/Undefined    0.000000\n",
       "Powerline            0.031539\n",
       "Railroad             0.007386\n",
       "Smoking              0.037608\n",
       "Structure            0.006687\n",
       "Name: STAT_CAUSE_DESCR, dtype: float64"
      ]
     },
     "execution_count": 26,
     "metadata": {},
     "output_type": "execute_result"
    }
   ],
   "source": [
    "data['STAT_CAUSE_DESCR'].groupby(data['STAT_CAUSE_DESCR']).count() / data.shape[0]"
   ]
  },
  {
   "cell_type": "code",
   "execution_count": 30,
   "metadata": {},
   "outputs": [
    {
     "data": {
      "image/png": "[encoded data removed]",
      "text/plain": [
       "<Figure size 432x288 with 1 Axes>"
      ]
     },
     "metadata": {
      "needs_background": "light"
     },
     "output_type": "display_data"
    }
   ],
   "source": [
    "fig, ax = plt.subplots()\n",
    "ax.plot(history.history['loss'], label='loss')\n",
    "ax.plot(history.history['val_loss'], label='val_loss')\n",
    "ax.legend()\n",
    "plt.show()"
   ]
  },
  {
   "cell_type": "code",
   "execution_count": 31,
   "metadata": {},
   "outputs": [
    {
     "data": {
      "image/png": "[encoded data removed]",
      "text/plain": [
       "<Figure size 432x288 with 1 Axes>"
      ]
     },
     "metadata": {
      "needs_background": "light"
     },
     "output_type": "display_data"
    }
   ],
   "source": [
    "fig, ax = plt.subplots()\n",
    "ax.plot(history.history['categorical_accuracy'], label='categorical_accuracy')\n",
    "ax.plot(history.history['val_categorical_accuracy'], label='val_categorical_accuracy')\n",
    "ax.legend()\n",
    "plt.show()"
   ]
  },
  {
   "cell_type": "code",
   "execution_count": 27,
   "metadata": {},
   "outputs": [],
   "source": [
    "Y_pred = model.predict(X_test)"
   ]
  },
  {
   "cell_type": "code",
   "execution_count": 28,
   "metadata": {},
   "outputs": [],
   "source": [
    "C = confusion_matrix(np.argmax(Y_test.values, axis=-1), np.argmax(Y_pred, axis=-1))"
   ]
  },
  {
   "cell_type": "code",
   "execution_count": 29,
   "metadata": {},
   "outputs": [
    {
     "name": "stderr",
     "output_type": "stream",
     "text": [
      "C:\\ProgramData\\Anaconda3\\lib\\site-packages\\ipykernel_launcher.py:3: RuntimeWarning: invalid value encountered in true_divide\n",
      "  This is separate from the ipykernel package so we can avoid doing imports until\n"
     ]
    },
    {
     "data": {
      "image/png": "[encoded data removed]",
      "text/plain": [
       "<Figure size 500x500 with 2 Axes>"
      ]
     },
     "metadata": {
      "needs_background": "light"
     },
     "output_type": "display_data"
    }
   ],
   "source": [
    "fig, ax = plt.subplots(figsize=(5,5), dpi=100)\n",
    "\n",
    "Cnorm = C / C.sum(axis=0)\n",
    "\n",
    "m = ax.matshow(Cnorm, cmap='Blues')\n",
    "for i in range(11):\n",
    "    for j in range(11):\n",
    "        ax.text(j, i, '{:0.2f}'.format(Cnorm[i,j]), ha='center', va='center', fontsize=6)\n",
    "        \n",
    "fig.colorbar(m)\n",
    "\n",
    "ax.set_ylabel(\"true\")\n",
    "plt.yticks(ticks=np.arange(11), labels=Y.columns)\n",
    "plt.xticks(ticks=np.arange(11), labels=Y.columns, rotation=90)\n",
    "ax.set_xlabel('predicted')\n",
    "plt.show()"
   ]
  }
 ],
 "metadata": {
  "kernelspec": {
   "display_name": "Python 3",
   "language": "python",
   "name": "python3"
  },
  "language_info": {
   "codemirror_mode": {
    "name": "ipython",
    "version": 3
   },
   "file_extension": ".py",
   "mimetype": "text/x-python",
   "name": "python",
   "nbconvert_exporter": "python",
   "pygments_lexer": "ipython3",
   "version": "3.7.3"
  }
 },
 "nbformat": 4,
 "nbformat_minor": 4
}