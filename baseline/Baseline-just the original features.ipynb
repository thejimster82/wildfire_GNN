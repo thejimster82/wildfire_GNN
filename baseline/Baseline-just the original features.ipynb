{
 "cells": [
  {
   "cell_type": "code",
   "execution_count": 1,
   "metadata": {},
   "outputs": [],
   "source": [
    "# Set up AMD GPU (change if using Nvidia)\n",
    "import plaidml.keras\n",
    "plaidml.keras.install_backend()"
   ]
  },
  {
   "cell_type": "code",
   "execution_count": 2,
   "metadata": {},
   "outputs": [],
   "source": [
    "import pandas as pd\n",
    "import numpy as np\n",
    "import matplotlib.pyplot as plt\n",
    "import gc"
   ]
  },
  {
   "cell_type": "code",
   "execution_count": 28,
   "metadata": {},
   "outputs": [],
   "source": [
    "from sklearn.model_selection import train_test_split\n",
    "from sklearn.impute import SimpleImputer\n",
    "from sklearn.preprocessing import MinMaxScaler\n",
    "from sklearn.metrics import confusion_matrix"
   ]
  },
  {
   "cell_type": "code",
   "execution_count": 4,
   "metadata": {},
   "outputs": [],
   "source": [
    "from keras import callbacks, models, layers"
   ]
  },
  {
   "cell_type": "markdown",
   "metadata": {},
   "source": [
    "# Read data"
   ]
  },
  {
   "cell_type": "code",
   "execution_count": null,
   "metadata": {},
   "outputs": [],
   "source": [
    "dataLoc = '../data/'"
   ]
  },
  {
   "cell_type": "code",
   "execution_count": 5,
   "metadata": {},
   "outputs": [
    {
     "name": "stderr",
     "output_type": "stream",
     "text": [
      "C:\\ProgramData\\Anaconda3\\lib\\site-packages\\IPython\\core\\interactiveshell.py:3063: DtypeWarning: Columns (4) have mixed types. Specify dtype option on import or set low_memory=False.\n",
      "  interactivity=interactivity, compiler=compiler, result=result)\n",
      "C:\\ProgramData\\Anaconda3\\lib\\site-packages\\numpy\\lib\\arraysetops.py:569: FutureWarning: elementwise comparison failed; returning scalar instead, but in the future will perform elementwise comparison\n",
      "  mask |= (ar1 == a)\n"
     ]
    }
   ],
   "source": [
    "data = pd.read_csv(dataLoc+'fires_merged_weather.csv', index_col=0,\n",
    "                  #dtype for smaller representation\n",
    "                  dtype={'STAT_CAUSE_DESCR': 'category', 'STATE': 'category', 'DISCOVERY_MONTH': 'category',\n",
    "                        'Fog': 'bool', 'FunnelCloud': 'bool', 'Hail': 'bool', 'Rain': 'bool',\n",
    "                        'Snow': 'bool', 'Thunder': 'bool'}\n",
    "                  )"
   ]
  },
  {
   "cell_type": "markdown",
   "metadata": {},
   "source": [
    "# Drop unnecessary columns"
   ]
  },
  {
   "cell_type": "code",
   "execution_count": 6,
   "metadata": {},
   "outputs": [],
   "source": [
    "data.drop(['Unnamed: 0.1', 'index_x', 'FOD_ID', 'FIRE_NAME', 'DISCOVERY_DOY_SCALED',\n",
    "           'x_fire', 'y_fire', 'z_fire',\n",
    "           'index_y', 'Begin', 'End', 'Country', 'Day', 'ICAO', 'Latitude', 'Longitude', 'Month', 'STATION NAME',\n",
    "           'State', 'Station', 'USAF', 'Unnamed: 0.1.1', 'Unnamed: 0.1.1.1', \n",
    "           'WBAN', 'Year', 'doy', 'x', 'y', 'z',\n",
    "          ],\n",
    "         axis='columns', inplace=True)"
   ]
  },
  {
   "cell_type": "code",
   "execution_count": 7,
   "metadata": {},
   "outputs": [
    {
     "data": {
      "text/plain": [
       "2476"
      ]
     },
     "execution_count": 7,
     "metadata": {},
     "output_type": "execute_result"
    }
   ],
   "source": [
    "gc.collect()"
   ]
  },
  {
   "cell_type": "code",
   "execution_count": 8,
   "metadata": {},
   "outputs": [
    {
     "data": {
      "text/plain": [
       "Index(['STAT_CAUSE_DESCR', 'FIRE_YEAR', 'DISCOVERY_DOY', 'FIRE_SIZE',\n",
       "       'LATITUDE', 'LONGITUDE', 'STATE', 'CONTAINED', 'DISCOVERY_MONTH',\n",
       "       'DISTANCE_CITY_1000000', 'DISTANCE_CITY_100000', 'DISTANCE_CITY_10000',\n",
       "       'DISTANCE_CITY_1000', 'APPROX_ELEVATION', 'DewPoint', 'Elevation',\n",
       "       'Fog', 'FunnelCloud', 'Gust', 'Hail', 'MaxTemp', 'MaxWindspeed',\n",
       "       'MinTemp', 'Precip', 'Rain', 'SeaLevelPressure', 'Snow', 'SnowDepth',\n",
       "       'StationPressure', 'Temp', 'Thunder', 'Visibility', 'Windspeed'],\n",
       "      dtype='object')"
      ]
     },
     "execution_count": 8,
     "metadata": {},
     "output_type": "execute_result"
    }
   ],
   "source": [
    "data.columns"
   ]
  },
  {
   "cell_type": "markdown",
   "metadata": {},
   "source": [
    "# Drop unknown fires"
   ]
  },
  {
   "cell_type": "code",
   "execution_count": 9,
   "metadata": {},
   "outputs": [],
   "source": [
    "data = data[data['STAT_CAUSE_DESCR'] != 'Missing/Undefined']\n",
    "data = data[data['STAT_CAUSE_DESCR'] != 'Miscellaneous']"
   ]
  },
  {
   "cell_type": "code",
   "execution_count": 10,
   "metadata": {},
   "outputs": [
    {
     "data": {
      "text/plain": [
       "60"
      ]
     },
     "execution_count": 10,
     "metadata": {},
     "output_type": "execute_result"
    }
   ],
   "source": [
    "gc.collect()"
   ]
  },
  {
   "cell_type": "markdown",
   "metadata": {},
   "source": [
    "# Split into features/labels and one-hot code\n",
    "\n",
    "Also convert missing values to `np.nan`."
   ]
  },
  {
   "cell_type": "code",
   "execution_count": 11,
   "metadata": {},
   "outputs": [
    {
     "data": {
      "text/plain": [
       "Index(['FIRE_YEAR', 'DISCOVERY_DOY', 'FIRE_SIZE', 'LATITUDE', 'LONGITUDE',\n",
       "       'STATE', 'CONTAINED', 'DISCOVERY_MONTH'],\n",
       "      dtype='object')"
      ]
     },
     "execution_count": 11,
     "metadata": {},
     "output_type": "execute_result"
    }
   ],
   "source": [
    "data.drop('STAT_CAUSE_DESCR', axis='columns').iloc[:,:8].columns"
   ]
  },
  {
   "cell_type": "code",
   "execution_count": 12,
   "metadata": {},
   "outputs": [],
   "source": [
    "Y = pd.get_dummies(data['STAT_CAUSE_DESCR'].cat.remove_unused_categories())\n",
    "X = pd.get_dummies(data.drop('STAT_CAUSE_DESCR', axis='columns').iloc[:,:8])\n",
    "\n",
    "for na in [9999.9, 999.9, 99.99]:\n",
    "    X[X == na] = np.nan"
   ]
  },
  {
   "cell_type": "code",
   "execution_count": 13,
   "metadata": {},
   "outputs": [
    {
     "data": {
      "text/plain": [
       "(1389937, 70)"
      ]
     },
     "execution_count": 13,
     "metadata": {},
     "output_type": "execute_result"
    }
   ],
   "source": [
    "X.shape"
   ]
  },
  {
   "cell_type": "markdown",
   "metadata": {},
   "source": [
    "# Train/test split"
   ]
  },
  {
   "cell_type": "code",
   "execution_count": 14,
   "metadata": {},
   "outputs": [],
   "source": [
    "X_train, X_test, Y_train, Y_test = train_test_split(\n",
    "    X, Y, test_size=0.1, random_state=42)"
   ]
  },
  {
   "cell_type": "markdown",
   "metadata": {},
   "source": [
    "# Impute missing features"
   ]
  },
  {
   "cell_type": "code",
   "execution_count": 15,
   "metadata": {},
   "outputs": [],
   "source": [
    "imp = SimpleImputer(missing_values=np.nan, strategy='mean')"
   ]
  },
  {
   "cell_type": "code",
   "execution_count": 16,
   "metadata": {},
   "outputs": [
    {
     "data": {
      "text/plain": [
       "SimpleImputer(add_indicator=False, copy=True, fill_value=None,\n",
       "              missing_values=nan, strategy='mean', verbose=0)"
      ]
     },
     "execution_count": 16,
     "metadata": {},
     "output_type": "execute_result"
    }
   ],
   "source": [
    "imp.fit(X_train)"
   ]
  },
  {
   "cell_type": "code",
   "execution_count": 17,
   "metadata": {},
   "outputs": [],
   "source": [
    "X_train = imp.transform(X_train)\n",
    "X_test = imp.transform(X_test)"
   ]
  },
  {
   "cell_type": "markdown",
   "metadata": {},
   "source": [
    "# Scale the features"
   ]
  },
  {
   "cell_type": "code",
   "execution_count": 18,
   "metadata": {},
   "outputs": [],
   "source": [
    "scale = MinMaxScaler()"
   ]
  },
  {
   "cell_type": "code",
   "execution_count": 19,
   "metadata": {},
   "outputs": [
    {
     "data": {
      "text/plain": [
       "MinMaxScaler(copy=True, feature_range=(0, 1))"
      ]
     },
     "execution_count": 19,
     "metadata": {},
     "output_type": "execute_result"
    }
   ],
   "source": [
    "scale.fit(X_train)"
   ]
  },
  {
   "cell_type": "code",
   "execution_count": 20,
   "metadata": {},
   "outputs": [],
   "source": [
    "X_train = scale.transform(X_train)\n",
    "X_test = scale.transform(X_test)"
   ]
  },
  {
   "cell_type": "code",
   "execution_count": 21,
   "metadata": {},
   "outputs": [
    {
     "data": {
      "text/plain": [
       "(1389937, 70)"
      ]
     },
     "execution_count": 21,
     "metadata": {},
     "output_type": "execute_result"
    }
   ],
   "source": [
    "X.shape"
   ]
  },
  {
   "cell_type": "markdown",
   "metadata": {},
   "source": [
    "# Define the model"
   ]
  },
  {
   "cell_type": "code",
   "execution_count": 22,
   "metadata": {},
   "outputs": [
    {
     "name": "stderr",
     "output_type": "stream",
     "text": [
      "INFO:plaidml:Opening device \"opencl_amd_tonga.0\"\n"
     ]
    }
   ],
   "source": [
    "model = models.Sequential()\n",
    "\n",
    "model.add(layers.Dense(64, input_shape=(X.shape[1],)))\n",
    "model.add(layers.BatchNormalization())\n",
    "model.add(layers.Activation('relu'))\n",
    "\n",
    "model.add(layers.Dense(64))\n",
    "model.add(layers.BatchNormalization())\n",
    "model.add(layers.Activation('relu'))\n",
    "\n",
    "model.add(layers.Dense(64))\n",
    "model.add(layers.BatchNormalization())\n",
    "model.add(layers.Activation('relu'))\n",
    "\n",
    "\n",
    "model.add(layers.Dense(Y.shape[1], activation='softmax'))\n",
    "\n",
    "model.compile(optimizer='rmsprop', loss='categorical_crossentropy', metrics=['categorical_accuracy'])"
   ]
  },
  {
   "cell_type": "code",
   "execution_count": 23,
   "metadata": {},
   "outputs": [
    {
     "name": "stdout",
     "output_type": "stream",
     "text": [
      "_________________________________________________________________\n",
      "Layer (type)                 Output Shape              Param #   \n",
      "=================================================================\n",
      "dense_1 (Dense)              (None, 512)               36352     \n",
      "_________________________________________________________________\n",
      "batch_normalization_1 (Batch (None, 512)               2048      \n",
      "_________________________________________________________________\n",
      "activation_1 (Activation)    (None, 512)               0         \n",
      "_________________________________________________________________\n",
      "dense_2 (Dense)              (None, 512)               262656    \n",
      "_________________________________________________________________\n",
      "batch_normalization_2 (Batch (None, 512)               2048      \n",
      "_________________________________________________________________\n",
      "activation_2 (Activation)    (None, 512)               0         \n",
      "_________________________________________________________________\n",
      "dense_3 (Dense)              (None, 512)               262656    \n",
      "_________________________________________________________________\n",
      "batch_normalization_3 (Batch (None, 512)               2048      \n",
      "_________________________________________________________________\n",
      "activation_3 (Activation)    (None, 512)               0         \n",
      "_________________________________________________________________\n",
      "dense_4 (Dense)              (None, 11)                5643      \n",
      "=================================================================\n",
      "Total params: 573,451\n",
      "Trainable params: 570,379\n",
      "Non-trainable params: 3,072\n",
      "_________________________________________________________________\n"
     ]
    }
   ],
   "source": [
    "model.summary()"
   ]
  },
  {
   "cell_type": "markdown",
   "metadata": {},
   "source": [
    "# Fit model"
   ]
  },
  {
   "cell_type": "code",
   "execution_count": 24,
   "metadata": {},
   "outputs": [
    {
     "name": "stdout",
     "output_type": "stream",
     "text": [
      "Train on 1250943 samples, validate on 138994 samples\n",
      "Epoch 1/100\n",
      "1250943/1250943 [==============================] - 34s 27us/step - loss: 1.4405 - categorical_accuracy: 0.5041 - val_loss: 1.8091 - val_categorical_accuracy: 0.4306\n",
      "Epoch 2/100\n",
      "1250943/1250943 [==============================] - 22s 17us/step - loss: 1.3665 - categorical_accuracy: 0.5229 - val_loss: 1.5965 - val_categorical_accuracy: 0.4663\n",
      "Epoch 3/100\n",
      "1250943/1250943 [==============================] - 22s 17us/step - loss: 1.3449 - categorical_accuracy: 0.5301 - val_loss: 1.4562 - val_categorical_accuracy: 0.5045\n",
      "Epoch 4/100\n",
      "1250943/1250943 [==============================] - 22s 18us/step - loss: 1.3285 - categorical_accuracy: 0.5352 - val_loss: 1.4198 - val_categorical_accuracy: 0.5002\n",
      "Epoch 5/100\n",
      "1250943/1250943 [==============================] - 21s 17us/step - loss: 1.3141 - categorical_accuracy: 0.5395 - val_loss: 1.4200 - val_categorical_accuracy: 0.5114\n",
      "Epoch 6/100\n",
      "1250943/1250943 [==============================] - 22s 17us/step - loss: 1.3010 - categorical_accuracy: 0.5436 - val_loss: 1.4349 - val_categorical_accuracy: 0.4941\n",
      "Epoch 7/100\n",
      "1250943/1250943 [==============================] - 26s 21us/step - loss: 1.2894 - categorical_accuracy: 0.5477 - val_loss: 1.4197 - val_categorical_accuracy: 0.5147\n",
      "Epoch 8/100\n",
      "1250943/1250943 [==============================] - 21s 17us/step - loss: 1.2793 - categorical_accuracy: 0.5508 - val_loss: 1.4405 - val_categorical_accuracy: 0.5099\n",
      "Epoch 9/100\n",
      "1250943/1250943 [==============================] - 24s 20us/step - loss: 1.2696 - categorical_accuracy: 0.5537 - val_loss: 1.4175 - val_categorical_accuracy: 0.4990\n",
      "Epoch 10/100\n",
      "1250943/1250943 [==============================] - 23s 19us/step - loss: 1.2615 - categorical_accuracy: 0.5565 - val_loss: 1.4265 - val_categorical_accuracy: 0.5050\n",
      "Epoch 11/100\n",
      "1250943/1250943 [==============================] - 21s 16us/step - loss: 1.2550 - categorical_accuracy: 0.5591 - val_loss: 1.3841 - val_categorical_accuracy: 0.5212\n",
      "Epoch 12/100\n",
      "1250943/1250943 [==============================] - 20s 16us/step - loss: 1.2486 - categorical_accuracy: 0.5607 - val_loss: 1.3997 - val_categorical_accuracy: 0.5212\n",
      "Epoch 13/100\n",
      "1250943/1250943 [==============================] - 21s 16us/step - loss: 1.2429 - categorical_accuracy: 0.5626 - val_loss: 1.3437 - val_categorical_accuracy: 0.5282\n",
      "Epoch 14/100\n",
      "1250943/1250943 [==============================] - 20s 16us/step - loss: 1.2373 - categorical_accuracy: 0.5646 - val_loss: 1.3703 - val_categorical_accuracy: 0.5214\n",
      "Epoch 15/100\n",
      "1250943/1250943 [==============================] - 21s 17us/step - loss: 1.2326 - categorical_accuracy: 0.5663 - val_loss: 1.3690 - val_categorical_accuracy: 0.5134\n",
      "Epoch 16/100\n",
      "1250943/1250943 [==============================] - 20s 16us/step - loss: 1.2286 - categorical_accuracy: 0.5673 - val_loss: 1.3111 - val_categorical_accuracy: 0.5376\n",
      "Epoch 17/100\n",
      "1250943/1250943 [==============================] - 24s 20us/step - loss: 1.2245 - categorical_accuracy: 0.5686 - val_loss: 1.3111 - val_categorical_accuracy: 0.5380\n",
      "Epoch 18/100\n",
      "1250943/1250943 [==============================] - 21s 17us/step - loss: 1.2205 - categorical_accuracy: 0.5704 - val_loss: 1.3699 - val_categorical_accuracy: 0.5238\n",
      "Epoch 19/100\n",
      "1250943/1250943 [==============================] - 22s 17us/step - loss: 1.2170 - categorical_accuracy: 0.5712 - val_loss: 1.3377 - val_categorical_accuracy: 0.5319\n",
      "Epoch 20/100\n",
      "1250943/1250943 [==============================] - 21s 17us/step - loss: 1.2138 - categorical_accuracy: 0.5718 - val_loss: 1.4274 - val_categorical_accuracy: 0.4991\n",
      "Epoch 21/100\n",
      "1250943/1250943 [==============================] - 27s 22us/step - loss: 1.2103 - categorical_accuracy: 0.5735 - val_loss: 1.3362 - val_categorical_accuracy: 0.5344\n"
     ]
    }
   ],
   "source": [
    "history = model.fit(x = X_train, y = Y_train,\n",
    "                    validation_data = (X_test, Y_test),\n",
    "                    batch_size = 10000, epochs=100,\n",
    "                    callbacks = [callbacks.EarlyStopping(patience=5)])"
   ]
  },
  {
   "cell_type": "code",
   "execution_count": 25,
   "metadata": {},
   "outputs": [
    {
     "data": {
      "text/plain": [
       "STAT_CAUSE_DESCR\n",
       "Arson                0.202495\n",
       "Campfire             0.054779\n",
       "Children             0.044007\n",
       "Debris Burning       0.308667\n",
       "Equipment Use        0.106200\n",
       "Fireworks            0.008274\n",
       "Lightning            0.200346\n",
       "Miscellaneous        0.000000\n",
       "Missing/Undefined    0.000000\n",
       "Powerline            0.010395\n",
       "Railroad             0.024069\n",
       "Smoking              0.038037\n",
       "Structure            0.002731\n",
       "Name: STAT_CAUSE_DESCR, dtype: float64"
      ]
     },
     "execution_count": 25,
     "metadata": {},
     "output_type": "execute_result"
    }
   ],
   "source": [
    "data['STAT_CAUSE_DESCR'].groupby(data['STAT_CAUSE_DESCR']).count() / data.shape[0]"
   ]
  },
  {
   "cell_type": "code",
   "execution_count": 27,
   "metadata": {},
   "outputs": [],
   "source": [
    "Y_pred = model.predict(X_test)"
   ]
  },
  {
   "cell_type": "code",
   "execution_count": 37,
   "metadata": {},
   "outputs": [],
   "source": [
    "C = confusion_matrix(np.argmax(Y_test.values, axis=-1), np.argmax(Y_pred, axis=-1))"
   ]
  },
  {
   "cell_type": "code",
   "execution_count": 85,
   "metadata": {},
   "outputs": [],
   "source": [
    "?plt.colorbar"
   ]
  },
  {
   "cell_type": "code",
   "execution_count": 84,
   "metadata": {},
   "outputs": [
    {
     "name": "stderr",
     "output_type": "stream",
     "text": [
      "C:\\ProgramData\\Anaconda3\\lib\\site-packages\\ipykernel_launcher.py:3: RuntimeWarning: invalid value encountered in true_divide\n",
      "  This is separate from the ipykernel package so we can avoid doing imports until\n"
     ]
    },
    {
     "data": {
      "image/png": "[encoded data removed]",
      "text/plain": [
       "<Figure size 500x500 with 2 Axes>"
      ]
     },
     "metadata": {
      "needs_background": "light"
     },
     "output_type": "display_data"
    }
   ],
   "source": [
    "fig, ax = plt.subplots(figsize=(5,5), dpi=100)\n",
    "\n",
    "Cnorm = C / C.sum(axis=1)\n",
    "\n",
    "m = ax.matshow(Cnorm, cmap='Blues')\n",
    "for i in range(11):\n",
    "    for j in range(11):\n",
    "        ax.text(j, i, '{:0.2f}'.format(Cnorm[i,j]), ha='center', va='center', fontsize=6)\n",
    "        \n",
    "fig.colorbar(m)\n",
    "\n",
    "ax.set_xlabel(\"predicted\")\n",
    "plt.yticks(ticks=np.arange(11), labels=Y.columns)\n",
    "plt.xticks(ticks=np.arange(11), labels=Y.columns, rotation=90)\n",
    "ax.set_ylabel('true')\n",
    "plt.show()"
   ]
  }
 ],
 "metadata": {
  "kernelspec": {
   "display_name": "Python 3",
   "language": "python",
   "name": "python3"
  },
  "language_info": {
   "codemirror_mode": {
    "name": "ipython",
    "version": 3
   },
   "file_extension": ".py",
   "mimetype": "text/x-python",
   "name": "python",
   "nbconvert_exporter": "python",
   "pygments_lexer": "ipython3",
   "version": "3.7.3"
  }
 },
 "nbformat": 4,
 "nbformat_minor": 2
}