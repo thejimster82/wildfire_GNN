{
 "cells": [
  {
   "cell_type": "code",
   "execution_count": 1,
   "metadata": {},
   "outputs": [],
   "source": [
    "# Set up AMD GPU (change if using Nvidia)\n",
    "import plaidml.keras\n",
    "plaidml.keras.install_backend()"
   ]
  },
  {
   "cell_type": "code",
   "execution_count": 2,
   "metadata": {},
   "outputs": [],
   "source": [
    "import pandas as pd\n",
    "import numpy as np\n",
    "import matplotlib.pyplot as plt\n",
    "import gc"
   ]
  },
  {
   "cell_type": "code",
   "execution_count": 3,
   "metadata": {},
   "outputs": [],
   "source": [
    "from sklearn.model_selection import train_test_split\n",
    "from sklearn.impute import SimpleImputer\n",
    "from sklearn.preprocessing import MinMaxScaler\n",
    "from sklearn.metrics import confusion_matrix"
   ]
  },
  {
   "cell_type": "code",
   "execution_count": 4,
   "metadata": {},
   "outputs": [],
   "source": [
    "from keras import callbacks, models, layers"
   ]
  },
  {
   "cell_type": "markdown",
   "metadata": {},
   "source": [
    "# Read data"
   ]
  },
  {
   "cell_type": "code",
   "execution_count": 5,
   "metadata": {},
   "outputs": [
    {
     "name": "stderr",
     "output_type": "stream",
     "text": [
      "C:\\ProgramData\\Anaconda3\\lib\\site-packages\\IPython\\core\\interactiveshell.py:3063: DtypeWarning: Columns (4) have mixed types. Specify dtype option on import or set low_memory=False.\n",
      "  interactivity=interactivity, compiler=compiler, result=result)\n",
      "C:\\ProgramData\\Anaconda3\\lib\\site-packages\\numpy\\lib\\arraysetops.py:569: FutureWarning: elementwise comparison failed; returning scalar instead, but in the future will perform elementwise comparison\n",
      "  mask |= (ar1 == a)\n"
     ]
    }
   ],
   "source": [
    "data = pd.read_csv('D:/wildfires/fires_merged_weather.csv', index_col=0,\n",
    "                  #dtype for smaller representation\n",
    "                  dtype={'STAT_CAUSE_DESCR': 'category', 'STATE': 'category', 'DISCOVERY_MONTH': 'category',\n",
    "                        'Fog': 'bool', 'FunnelCloud': 'bool', 'Hail': 'bool', 'Rain': 'bool',\n",
    "                        'Snow': 'bool', 'Thunder': 'bool'}\n",
    "                  )"
   ]
  },
  {
   "cell_type": "markdown",
   "metadata": {},
   "source": [
    "# Drop unnecessary columns"
   ]
  },
  {
   "cell_type": "code",
   "execution_count": 6,
   "metadata": {},
   "outputs": [],
   "source": [
    "data.drop(['Unnamed: 0.1', 'index_x', 'FOD_ID', 'FIRE_NAME', 'DISCOVERY_DOY_SCALED',\n",
    "           'x_fire', 'y_fire', 'z_fire',\n",
    "           'index_y', 'Begin', 'End', 'Country', 'Day', 'ICAO', 'Latitude', 'Longitude', 'Month', 'STATION NAME',\n",
    "           'State', 'Station', 'USAF', 'Unnamed: 0.1.1', 'Unnamed: 0.1.1.1', \n",
    "           'WBAN', 'Year', 'doy', 'x', 'y', 'z',\n",
    "          ],\n",
    "         axis='columns', inplace=True)"
   ]
  },
  {
   "cell_type": "code",
   "execution_count": 7,
   "metadata": {},
   "outputs": [
    {
     "data": {
      "text/plain": [
       "2476"
      ]
     },
     "execution_count": 7,
     "metadata": {},
     "output_type": "execute_result"
    }
   ],
   "source": [
    "gc.collect()"
   ]
  },
  {
   "cell_type": "code",
   "execution_count": 8,
   "metadata": {},
   "outputs": [
    {
     "data": {
      "text/plain": [
       "Index(['STAT_CAUSE_DESCR', 'FIRE_YEAR', 'DISCOVERY_DOY', 'FIRE_SIZE',\n",
       "       'LATITUDE', 'LONGITUDE', 'STATE', 'CONTAINED', 'DISCOVERY_MONTH',\n",
       "       'DISTANCE_CITY_1000000', 'DISTANCE_CITY_100000', 'DISTANCE_CITY_10000',\n",
       "       'DISTANCE_CITY_1000', 'APPROX_ELEVATION', 'DewPoint', 'Elevation',\n",
       "       'Fog', 'FunnelCloud', 'Gust', 'Hail', 'MaxTemp', 'MaxWindspeed',\n",
       "       'MinTemp', 'Precip', 'Rain', 'SeaLevelPressure', 'Snow', 'SnowDepth',\n",
       "       'StationPressure', 'Temp', 'Thunder', 'Visibility', 'Windspeed'],\n",
       "      dtype='object')"
      ]
     },
     "execution_count": 8,
     "metadata": {},
     "output_type": "execute_result"
    }
   ],
   "source": [
    "data.columns"
   ]
  },
  {
   "cell_type": "markdown",
   "metadata": {},
   "source": [
    "# Drop unknown fires"
   ]
  },
  {
   "cell_type": "code",
   "execution_count": 9,
   "metadata": {},
   "outputs": [],
   "source": [
    "data = data[data['STAT_CAUSE_DESCR'] != 'Missing/Undefined']\n",
    "data = data[data['STAT_CAUSE_DESCR'] != 'Miscellaneous']"
   ]
  },
  {
   "cell_type": "code",
   "execution_count": 10,
   "metadata": {},
   "outputs": [
    {
     "data": {
      "text/plain": [
       "60"
      ]
     },
     "execution_count": 10,
     "metadata": {},
     "output_type": "execute_result"
    }
   ],
   "source": [
    "gc.collect()"
   ]
  },
  {
   "cell_type": "markdown",
   "metadata": {},
   "source": [
    "# Split into features/labels and one-hot code\n",
    "\n",
    "Also convert missing values to `np.nan`."
   ]
  },
  {
   "cell_type": "code",
   "execution_count": 11,
   "metadata": {},
   "outputs": [
    {
     "data": {
      "text/plain": [
       "Index(['FIRE_YEAR', 'DISCOVERY_DOY', 'FIRE_SIZE', 'LATITUDE', 'LONGITUDE',\n",
       "       'STATE', 'CONTAINED', 'DISCOVERY_MONTH', 'DISTANCE_CITY_1000000',\n",
       "       'DISTANCE_CITY_100000', 'DISTANCE_CITY_10000', 'DISTANCE_CITY_1000',\n",
       "       'APPROX_ELEVATION', 'DewPoint', 'Elevation', 'Fog', 'FunnelCloud',\n",
       "       'Gust', 'Hail', 'MaxTemp', 'MaxWindspeed', 'MinTemp', 'Precip', 'Rain',\n",
       "       'SeaLevelPressure', 'Snow', 'SnowDepth', 'StationPressure', 'Temp',\n",
       "       'Thunder', 'Visibility', 'Windspeed'],\n",
       "      dtype='object')"
      ]
     },
     "execution_count": 11,
     "metadata": {},
     "output_type": "execute_result"
    }
   ],
   "source": [
    "data.drop('STAT_CAUSE_DESCR', axis='columns').columns"
   ]
  },
  {
   "cell_type": "markdown",
   "metadata": {},
   "source": [
    "#### Zero-imputing for some features -- see EDA.ipynb"
   ]
  },
  {
   "cell_type": "code",
   "execution_count": 12,
   "metadata": {},
   "outputs": [],
   "source": [
    "Y = pd.get_dummies(data['STAT_CAUSE_DESCR'].cat.remove_unused_categories())\n",
    "X = pd.get_dummies(data.drop('STAT_CAUSE_DESCR', axis='columns'))\n",
    "\n",
    "for na in [9999.9, 999.9, 99.99]:\n",
    "    X[X == na] = np.nan"
   ]
  },
  {
   "cell_type": "code",
   "execution_count": 13,
   "metadata": {},
   "outputs": [],
   "source": [
    "for zcol in ['Gust', 'MaxWindspeed', 'Precip', 'SnowDepth', 'Visibility', 'Windspeed']:\n",
    "    X.loc[X[zcol].isna(), zcol] = 0"
   ]
  },
  {
   "cell_type": "code",
   "execution_count": 14,
   "metadata": {},
   "outputs": [
    {
     "data": {
      "text/plain": [
       "(1389937, 94)"
      ]
     },
     "execution_count": 14,
     "metadata": {},
     "output_type": "execute_result"
    }
   ],
   "source": [
    "X.shape"
   ]
  },
  {
   "cell_type": "markdown",
   "metadata": {},
   "source": [
    "# Train/test split"
   ]
  },
  {
   "cell_type": "code",
   "execution_count": 15,
   "metadata": {},
   "outputs": [],
   "source": [
    "X_train, X_test, Y_train, Y_test = train_test_split(\n",
    "    X, Y, test_size=0.1, random_state=42)"
   ]
  },
  {
   "cell_type": "markdown",
   "metadata": {},
   "source": [
    "# Impute missing features"
   ]
  },
  {
   "cell_type": "markdown",
   "metadata": {},
   "source": [
    "#### Mean imputing for some features -- see EDA.ipynb"
   ]
  },
  {
   "cell_type": "code",
   "execution_count": 16,
   "metadata": {},
   "outputs": [],
   "source": [
    "imp = SimpleImputer(missing_values=np.nan, strategy='mean')"
   ]
  },
  {
   "cell_type": "code",
   "execution_count": 17,
   "metadata": {},
   "outputs": [
    {
     "data": {
      "text/plain": [
       "SimpleImputer(add_indicator=False, copy=True, fill_value=None,\n",
       "              missing_values=nan, strategy='mean', verbose=0)"
      ]
     },
     "execution_count": 17,
     "metadata": {},
     "output_type": "execute_result"
    }
   ],
   "source": [
    "imp.fit(X_train)"
   ]
  },
  {
   "cell_type": "code",
   "execution_count": 18,
   "metadata": {},
   "outputs": [],
   "source": [
    "X_train = imp.transform(X_train)\n",
    "X_test = imp.transform(X_test)"
   ]
  },
  {
   "cell_type": "markdown",
   "metadata": {},
   "source": [
    "# Scale the features"
   ]
  },
  {
   "cell_type": "code",
   "execution_count": 19,
   "metadata": {},
   "outputs": [],
   "source": [
    "scale = MinMaxScaler()"
   ]
  },
  {
   "cell_type": "code",
   "execution_count": 20,
   "metadata": {},
   "outputs": [
    {
     "data": {
      "text/plain": [
       "MinMaxScaler(copy=True, feature_range=(0, 1))"
      ]
     },
     "execution_count": 20,
     "metadata": {},
     "output_type": "execute_result"
    }
   ],
   "source": [
    "scale.fit(X_train)"
   ]
  },
  {
   "cell_type": "code",
   "execution_count": 21,
   "metadata": {},
   "outputs": [],
   "source": [
    "X_train = scale.transform(X_train)\n",
    "X_test = scale.transform(X_test)"
   ]
  },
  {
   "cell_type": "markdown",
   "metadata": {},
   "source": [
    "# Define the model"
   ]
  },
  {
   "cell_type": "code",
   "execution_count": 22,
   "metadata": {},
   "outputs": [
    {
     "name": "stderr",
     "output_type": "stream",
     "text": [
      "INFO:plaidml:Opening device \"opencl_amd_tonga.0\"\n"
     ]
    }
   ],
   "source": [
    "model = models.Sequential()\n",
    "\n",
    "model.add(layers.Dense(64, input_shape=(X.shape[1],)))\n",
    "model.add(layers.BatchNormalization())\n",
    "model.add(layers.Activation('relu'))\n",
    "\n",
    "model.add(layers.Dense(64))\n",
    "model.add(layers.BatchNormalization())\n",
    "model.add(layers.Activation('relu'))\n",
    "\n",
    "model.add(layers.Dense(64))\n",
    "model.add(layers.BatchNormalization())\n",
    "model.add(layers.Activation('relu'))\n",
    "\n",
    "\n",
    "model.add(layers.Dense(Y.shape[1], activation='softmax'))\n",
    "\n",
    "model.compile(optimizer='rmsprop', loss='categorical_crossentropy', metrics=['categorical_accuracy'])"
   ]
  },
  {
   "cell_type": "code",
   "execution_count": 23,
   "metadata": {},
   "outputs": [
    {
     "name": "stdout",
     "output_type": "stream",
     "text": [
      "_________________________________________________________________\n",
      "Layer (type)                 Output Shape              Param #   \n",
      "=================================================================\n",
      "dense_1 (Dense)              (None, 64)                6080      \n",
      "_________________________________________________________________\n",
      "batch_normalization_1 (Batch (None, 64)                256       \n",
      "_________________________________________________________________\n",
      "activation_1 (Activation)    (None, 64)                0         \n",
      "_________________________________________________________________\n",
      "dense_2 (Dense)              (None, 64)                4160      \n",
      "_________________________________________________________________\n",
      "batch_normalization_2 (Batch (None, 64)                256       \n",
      "_________________________________________________________________\n",
      "activation_2 (Activation)    (None, 64)                0         \n",
      "_________________________________________________________________\n",
      "dense_3 (Dense)              (None, 64)                4160      \n",
      "_________________________________________________________________\n",
      "batch_normalization_3 (Batch (None, 64)                256       \n",
      "_________________________________________________________________\n",
      "activation_3 (Activation)    (None, 64)                0         \n",
      "_________________________________________________________________\n",
      "dense_4 (Dense)              (None, 11)                715       \n",
      "=================================================================\n",
      "Total params: 15,883\n",
      "Trainable params: 15,499\n",
      "Non-trainable params: 384\n",
      "_________________________________________________________________\n"
     ]
    }
   ],
   "source": [
    "model.summary()"
   ]
  },
  {
   "cell_type": "markdown",
   "metadata": {},
   "source": [
    "# Fit model"
   ]
  },
  {
   "cell_type": "code",
   "execution_count": 24,
   "metadata": {},
   "outputs": [
    {
     "name": "stdout",
     "output_type": "stream",
     "text": [
      "Train on 1250943 samples, validate on 138994 samples\n",
      "Epoch 1/1000\n",
      "1250943/1250943 [==============================] - 44s 35us/step - loss: 1.4968 - categorical_accuracy: 0.5017 - val_loss: 1.6596 - val_categorical_accuracy: 0.4754\n",
      "Epoch 2/1000\n",
      "1250943/1250943 [==============================] - 14s 11us/step - loss: 1.3333 - categorical_accuracy: 0.5393 - val_loss: 1.4424 - val_categorical_accuracy: 0.5008\n",
      "Epoch 3/1000\n",
      "1250943/1250943 [==============================] - 15s 12us/step - loss: 1.3092 - categorical_accuracy: 0.5455 - val_loss: 1.3497 - val_categorical_accuracy: 0.5280\n",
      "Epoch 4/1000\n",
      "1250943/1250943 [==============================] - 14s 12us/step - loss: 1.2956 - categorical_accuracy: 0.5493 - val_loss: 1.3264 - val_categorical_accuracy: 0.5392\n",
      "Epoch 5/1000\n",
      "1250943/1250943 [==============================] - 14s 11us/step - loss: 1.2853 - categorical_accuracy: 0.5522 - val_loss: 1.3154 - val_categorical_accuracy: 0.5393\n",
      "Epoch 6/1000\n",
      "1250943/1250943 [==============================] - 13s 11us/step - loss: 1.2772 - categorical_accuracy: 0.5543 - val_loss: 1.3206 - val_categorical_accuracy: 0.5360\n",
      "Epoch 7/1000\n",
      "1250943/1250943 [==============================] - 14s 11us/step - loss: 1.2703 - categorical_accuracy: 0.5565 - val_loss: 1.3011 - val_categorical_accuracy: 0.5422\n",
      "Epoch 8/1000\n",
      "1250943/1250943 [==============================] - 14s 11us/step - loss: 1.2645 - categorical_accuracy: 0.5585 - val_loss: 1.2850 - val_categorical_accuracy: 0.5507\n",
      "Epoch 9/1000\n",
      "1250943/1250943 [==============================] - 15s 12us/step - loss: 1.2596 - categorical_accuracy: 0.5600 - val_loss: 1.2894 - val_categorical_accuracy: 0.5494\n",
      "Epoch 10/1000\n",
      "1250943/1250943 [==============================] - 21s 17us/step - loss: 1.2554 - categorical_accuracy: 0.5616 - val_loss: 1.2811 - val_categorical_accuracy: 0.5508\n",
      "Epoch 11/1000\n",
      "1250943/1250943 [==============================] - 14s 11us/step - loss: 1.2516 - categorical_accuracy: 0.5628 - val_loss: 1.2772 - val_categorical_accuracy: 0.5553\n",
      "Epoch 12/1000\n",
      "1250943/1250943 [==============================] - 12s 9us/step - loss: 1.2481 - categorical_accuracy: 0.5638 - val_loss: 1.2862 - val_categorical_accuracy: 0.5495\n",
      "Epoch 13/1000\n",
      "1250943/1250943 [==============================] - 9s 7us/step - loss: 1.2451 - categorical_accuracy: 0.5651 - val_loss: 1.2788 - val_categorical_accuracy: 0.5541\n",
      "Epoch 14/1000\n",
      "1250943/1250943 [==============================] - 9s 7us/step - loss: 1.2423 - categorical_accuracy: 0.5662 - val_loss: 1.2707 - val_categorical_accuracy: 0.5564\n",
      "Epoch 15/1000\n",
      "1250943/1250943 [==============================] - 8s 6us/step - loss: 1.2394 - categorical_accuracy: 0.5667 - val_loss: 1.2685 - val_categorical_accuracy: 0.5572\n",
      "Epoch 16/1000\n",
      "1250943/1250943 [==============================] - 8s 6us/step - loss: 1.2372 - categorical_accuracy: 0.5675 - val_loss: 1.2758 - val_categorical_accuracy: 0.5533\n",
      "Epoch 17/1000\n",
      "1250943/1250943 [==============================] - 8s 7us/step - loss: 1.2350 - categorical_accuracy: 0.5681 - val_loss: 1.2765 - val_categorical_accuracy: 0.5553\n",
      "Epoch 18/1000\n",
      "1250943/1250943 [==============================] - 8s 6us/step - loss: 1.2331 - categorical_accuracy: 0.5687 - val_loss: 1.2628 - val_categorical_accuracy: 0.5597\n",
      "Epoch 19/1000\n",
      "1250943/1250943 [==============================] - 9s 7us/step - loss: 1.2312 - categorical_accuracy: 0.5693 - val_loss: 1.2633 - val_categorical_accuracy: 0.5579\n",
      "Epoch 20/1000\n",
      "1250943/1250943 [==============================] - 8s 6us/step - loss: 1.2296 - categorical_accuracy: 0.5701 - val_loss: 1.2588 - val_categorical_accuracy: 0.5602\n",
      "Epoch 21/1000\n",
      "1250943/1250943 [==============================] - 8s 7us/step - loss: 1.2278 - categorical_accuracy: 0.5703 - val_loss: 1.2647 - val_categorical_accuracy: 0.5573\n",
      "Epoch 22/1000\n",
      "1250943/1250943 [==============================] - 9s 7us/step - loss: 1.2262 - categorical_accuracy: 0.5710 - val_loss: 1.2550 - val_categorical_accuracy: 0.5605\n",
      "Epoch 23/1000\n",
      "1250943/1250943 [==============================] - 9s 7us/step - loss: 1.2248 - categorical_accuracy: 0.5714 - val_loss: 1.2621 - val_categorical_accuracy: 0.5590\n",
      "Epoch 24/1000\n",
      "1250943/1250943 [==============================] - 8s 7us/step - loss: 1.2234 - categorical_accuracy: 0.5718 - val_loss: 1.2550 - val_categorical_accuracy: 0.5621\n",
      "Epoch 25/1000\n",
      "1250943/1250943 [==============================] - 8s 7us/step - loss: 1.2222 - categorical_accuracy: 0.5723 - val_loss: 1.2522 - val_categorical_accuracy: 0.5605\n",
      "Epoch 26/1000\n",
      "1250943/1250943 [==============================] - 8s 7us/step - loss: 1.2210 - categorical_accuracy: 0.5727 - val_loss: 1.2582 - val_categorical_accuracy: 0.5615\n",
      "Epoch 27/1000\n",
      "1250943/1250943 [==============================] - 8s 7us/step - loss: 1.2199 - categorical_accuracy: 0.5733 - val_loss: 1.2491 - val_categorical_accuracy: 0.5634\n",
      "Epoch 28/1000\n",
      "1250943/1250943 [==============================] - 10s 8us/step - loss: 1.2187 - categorical_accuracy: 0.5734 - val_loss: 1.2627 - val_categorical_accuracy: 0.5535\n",
      "Epoch 29/1000\n",
      "1250943/1250943 [==============================] - 13s 10us/step - loss: 1.2178 - categorical_accuracy: 0.5738 - val_loss: 1.2505 - val_categorical_accuracy: 0.5629\n",
      "Epoch 30/1000\n",
      "1250943/1250943 [==============================] - 8s 7us/step - loss: 1.2167 - categorical_accuracy: 0.5740 - val_loss: 1.2590 - val_categorical_accuracy: 0.5596\n",
      "Epoch 31/1000\n",
      "1250943/1250943 [==============================] - 9s 7us/step - loss: 1.2159 - categorical_accuracy: 0.5745 - val_loss: 1.2555 - val_categorical_accuracy: 0.5599\n",
      "Epoch 32/1000\n",
      "1250943/1250943 [==============================] - 8s 7us/step - loss: 1.2150 - categorical_accuracy: 0.5745 - val_loss: 1.2442 - val_categorical_accuracy: 0.5631\n",
      "Epoch 33/1000\n",
      "1250943/1250943 [==============================] - 8s 7us/step - loss: 1.2140 - categorical_accuracy: 0.5749 - val_loss: 1.2627 - val_categorical_accuracy: 0.5570\n",
      "Epoch 34/1000\n",
      "1250943/1250943 [==============================] - 9s 7us/step - loss: 1.2133 - categorical_accuracy: 0.5751 - val_loss: 1.2463 - val_categorical_accuracy: 0.5631\n",
      "Epoch 35/1000\n",
      "1250943/1250943 [==============================] - 9s 7us/step - loss: 1.2124 - categorical_accuracy: 0.5754 - val_loss: 1.2454 - val_categorical_accuracy: 0.5630\n",
      "Epoch 36/1000\n",
      "1250943/1250943 [==============================] - 8s 7us/step - loss: 1.2117 - categorical_accuracy: 0.5755 - val_loss: 1.2483 - val_categorical_accuracy: 0.5637\n",
      "Epoch 37/1000\n",
      "1250943/1250943 [==============================] - 8s 6us/step - loss: 1.2108 - categorical_accuracy: 0.5759 - val_loss: 1.2636 - val_categorical_accuracy: 0.5533\n",
      "Epoch 38/1000\n",
      "1250943/1250943 [==============================] - 13s 11us/step - loss: 1.2103 - categorical_accuracy: 0.5763 - val_loss: 1.2433 - val_categorical_accuracy: 0.5633\n",
      "Epoch 39/1000\n",
      "1250943/1250943 [==============================] - 8s 7us/step - loss: 1.2095 - categorical_accuracy: 0.5764 - val_loss: 1.2392 - val_categorical_accuracy: 0.5681\n",
      "Epoch 40/1000\n",
      "1250943/1250943 [==============================] - 8s 7us/step - loss: 1.2089 - categorical_accuracy: 0.5765 - val_loss: 1.2471 - val_categorical_accuracy: 0.5619\n",
      "Epoch 41/1000\n",
      "1250943/1250943 [==============================] - 9s 7us/step - loss: 1.2080 - categorical_accuracy: 0.5768 - val_loss: 1.2481 - val_categorical_accuracy: 0.5633\n",
      "Epoch 42/1000\n",
      "1250943/1250943 [==============================] - 9s 7us/step - loss: 1.2076 - categorical_accuracy: 0.5772 - val_loss: 1.2448 - val_categorical_accuracy: 0.5651\n",
      "Epoch 43/1000\n",
      "1250943/1250943 [==============================] - 8s 7us/step - loss: 1.2068 - categorical_accuracy: 0.5776 - val_loss: 1.2523 - val_categorical_accuracy: 0.5612\n",
      "Epoch 44/1000\n",
      "1250943/1250943 [==============================] - 10s 8us/step - loss: 1.2062 - categorical_accuracy: 0.5775 - val_loss: 1.2530 - val_categorical_accuracy: 0.5628\n",
      "Epoch 45/1000\n",
      "1250943/1250943 [==============================] - 13s 10us/step - loss: 1.2055 - categorical_accuracy: 0.5777 - val_loss: 1.2400 - val_categorical_accuracy: 0.5662\n",
      "Epoch 46/1000\n",
      "1250943/1250943 [==============================] - 9s 7us/step - loss: 1.2051 - categorical_accuracy: 0.5780 - val_loss: 1.2546 - val_categorical_accuracy: 0.5607\n"
     ]
    },
    {
     "name": "stdout",
     "output_type": "stream",
     "text": [
      "Epoch 47/1000\n",
      "1250943/1250943 [==============================] - 8s 7us/step - loss: 1.2045 - categorical_accuracy: 0.5783 - val_loss: 1.2488 - val_categorical_accuracy: 0.5640\n",
      "Epoch 48/1000\n",
      "1250943/1250943 [==============================] - 8s 7us/step - loss: 1.2041 - categorical_accuracy: 0.5786 - val_loss: 1.2403 - val_categorical_accuracy: 0.5667\n",
      "Epoch 49/1000\n",
      "1250943/1250943 [==============================] - 8s 7us/step - loss: 1.2033 - categorical_accuracy: 0.5790 - val_loss: 1.2372 - val_categorical_accuracy: 0.5679\n",
      "Epoch 50/1000\n",
      "1250943/1250943 [==============================] - 8s 7us/step - loss: 1.2028 - categorical_accuracy: 0.5788 - val_loss: 1.2404 - val_categorical_accuracy: 0.5657\n",
      "Epoch 51/1000\n",
      "1250943/1250943 [==============================] - 8s 6us/step - loss: 1.2024 - categorical_accuracy: 0.5790 - val_loss: 1.2535 - val_categorical_accuracy: 0.5625\n",
      "Epoch 52/1000\n",
      "1250943/1250943 [==============================] - 8s 6us/step - loss: 1.2018 - categorical_accuracy: 0.5791 - val_loss: 1.2437 - val_categorical_accuracy: 0.5649\n",
      "Epoch 53/1000\n",
      "1250943/1250943 [==============================] - 8s 6us/step - loss: 1.2014 - categorical_accuracy: 0.5794 - val_loss: 1.2375 - val_categorical_accuracy: 0.5689\n",
      "Epoch 54/1000\n",
      "1250943/1250943 [==============================] - 8s 6us/step - loss: 1.2012 - categorical_accuracy: 0.5797 - val_loss: 1.2517 - val_categorical_accuracy: 0.5602\n",
      "Epoch 55/1000\n",
      "1250943/1250943 [==============================] - 8s 6us/step - loss: 1.2008 - categorical_accuracy: 0.5794 - val_loss: 1.2390 - val_categorical_accuracy: 0.5649\n",
      "Epoch 56/1000\n",
      "1250943/1250943 [==============================] - 8s 6us/step - loss: 1.2002 - categorical_accuracy: 0.5795 - val_loss: 1.2463 - val_categorical_accuracy: 0.5656\n",
      "Epoch 57/1000\n",
      "1250943/1250943 [==============================] - 8s 6us/step - loss: 1.1997 - categorical_accuracy: 0.5800 - val_loss: 1.2380 - val_categorical_accuracy: 0.5689\n",
      "Epoch 58/1000\n",
      "1250943/1250943 [==============================] - 8s 6us/step - loss: 1.1994 - categorical_accuracy: 0.5801 - val_loss: 1.2329 - val_categorical_accuracy: 0.5693\n",
      "Epoch 59/1000\n",
      "1250943/1250943 [==============================] - 9s 7us/step - loss: 1.1988 - categorical_accuracy: 0.5801 - val_loss: 1.2358 - val_categorical_accuracy: 0.5673\n",
      "Epoch 60/1000\n",
      "1250943/1250943 [==============================] - 13s 10us/step - loss: 1.1985 - categorical_accuracy: 0.5805 - val_loss: 1.2412 - val_categorical_accuracy: 0.5671\n",
      "Epoch 61/1000\n",
      "1250943/1250943 [==============================] - 8s 6us/step - loss: 1.1983 - categorical_accuracy: 0.5804 - val_loss: 1.2466 - val_categorical_accuracy: 0.5642\n",
      "Epoch 62/1000\n",
      "1250943/1250943 [==============================] - 8s 7us/step - loss: 1.1979 - categorical_accuracy: 0.5806 - val_loss: 1.2484 - val_categorical_accuracy: 0.5647\n",
      "Epoch 63/1000\n",
      "1250943/1250943 [==============================] - 9s 7us/step - loss: 1.1974 - categorical_accuracy: 0.5810 - val_loss: 1.2471 - val_categorical_accuracy: 0.5644\n",
      "Epoch 64/1000\n",
      "1250943/1250943 [==============================] - 8s 7us/step - loss: 1.1971 - categorical_accuracy: 0.5808 - val_loss: 1.2408 - val_categorical_accuracy: 0.5678\n",
      "Epoch 65/1000\n",
      "1250943/1250943 [==============================] - 8s 7us/step - loss: 1.1968 - categorical_accuracy: 0.5808 - val_loss: 1.2426 - val_categorical_accuracy: 0.5652\n",
      "Epoch 66/1000\n",
      "1250943/1250943 [==============================] - 9s 7us/step - loss: 1.1964 - categorical_accuracy: 0.5812 - val_loss: 1.2370 - val_categorical_accuracy: 0.5670\n",
      "Epoch 67/1000\n",
      "1250943/1250943 [==============================] - 8s 6us/step - loss: 1.1963 - categorical_accuracy: 0.5810 - val_loss: 1.2542 - val_categorical_accuracy: 0.5594\n",
      "Epoch 68/1000\n",
      "1250943/1250943 [==============================] - 8s 6us/step - loss: 1.1957 - categorical_accuracy: 0.5813 - val_loss: 1.2333 - val_categorical_accuracy: 0.5699\n"
     ]
    }
   ],
   "source": [
    "history = model.fit(x = X_train, y = Y_train,\n",
    "                    validation_data = (X_test, Y_test),\n",
    "                    batch_size = 10000, epochs=1000,\n",
    "                    callbacks = [callbacks.EarlyStopping(patience=10)])"
   ]
  },
  {
   "cell_type": "code",
   "execution_count": 25,
   "metadata": {},
   "outputs": [
    {
     "data": {
      "text/plain": [
       "STAT_CAUSE_DESCR\n",
       "Arson                0.202495\n",
       "Campfire             0.054779\n",
       "Children             0.044007\n",
       "Debris Burning       0.308667\n",
       "Equipment Use        0.106200\n",
       "Fireworks            0.008274\n",
       "Lightning            0.200346\n",
       "Miscellaneous        0.000000\n",
       "Missing/Undefined    0.000000\n",
       "Powerline            0.010395\n",
       "Railroad             0.024069\n",
       "Smoking              0.038037\n",
       "Structure            0.002731\n",
       "Name: STAT_CAUSE_DESCR, dtype: float64"
      ]
     },
     "execution_count": 25,
     "metadata": {},
     "output_type": "execute_result"
    }
   ],
   "source": [
    "data['STAT_CAUSE_DESCR'].groupby(data['STAT_CAUSE_DESCR']).count() / data.shape[0]"
   ]
  },
  {
   "cell_type": "code",
   "execution_count": 26,
   "metadata": {},
   "outputs": [],
   "source": [
    "Y_pred = model.predict(X_test)"
   ]
  },
  {
   "cell_type": "code",
   "execution_count": 27,
   "metadata": {},
   "outputs": [],
   "source": [
    "C = confusion_matrix(np.argmax(Y_test.values, axis=-1), np.argmax(Y_pred, axis=-1))"
   ]
  },
  {
   "cell_type": "code",
   "execution_count": 28,
   "metadata": {},
   "outputs": [
    {
     "data": {
      "image/png": "[encoded data removed]",
      "text/plain": [
       "<Figure size 500x500 with 2 Axes>"
      ]
     },
     "metadata": {
      "needs_background": "light"
     },
     "output_type": "display_data"
    }
   ],
   "source": [
    "fig, ax = plt.subplots(figsize=(5,5), dpi=100)\n",
    "\n",
    "Cnorm = C / C.sum(axis=1)\n",
    "\n",
    "m = ax.matshow(Cnorm, cmap='Blues')\n",
    "for i in range(11):\n",
    "    for j in range(11):\n",
    "        ax.text(j, i, '{:0.2f}'.format(Cnorm[i,j]), ha='center', va='center', fontsize=6)\n",
    "        \n",
    "fig.colorbar(m)\n",
    "\n",
    "ax.set_xlabel(\"predicted\")\n",
    "plt.yticks(ticks=np.arange(11), labels=Y.columns)\n",
    "plt.xticks(ticks=np.arange(11), labels=Y.columns, rotation=90)\n",
    "ax.set_ylabel('true')\n",
    "plt.show()"
   ]
  }
 ],
 "metadata": {
  "kernelspec": {
   "display_name": "Python 3",
   "language": "python",
   "name": "python3"
  },
  "language_info": {
   "codemirror_mode": {
    "name": "ipython",
    "version": 3
   },
   "file_extension": ".py",
   "mimetype": "text/x-python",
   "name": "python",
   "nbconvert_exporter": "python",
   "pygments_lexer": "ipython3",
   "version": "3.7.3"
  }
 },
 "nbformat": 4,
 "nbformat_minor": 4
}
