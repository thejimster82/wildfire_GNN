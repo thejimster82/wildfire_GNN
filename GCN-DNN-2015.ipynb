{
 "cells": [
  {
   "cell_type": "markdown",
   "metadata": {},
   "source": [
    "# GNN runner\n",
    "## Mark Tenzer & Jimmy Howerton\n",
    "## Adapted from code provided with the Spektral package, cited below:\n",
    "https://github.com/danielegrattarola/spektral/blob/master/examples/node_prediction/citation_gcn.py\n"
   ]
  },
  {
   "cell_type": "markdown",
   "metadata": {},
   "source": [
    "# Imports"
   ]
  },
  {
   "cell_type": "code",
   "execution_count": 22,
   "metadata": {},
   "outputs": [],
   "source": [
    "# Base python\n",
    "import pickle # for loading sparse matrix from disk\n",
    "import gc     # for garbage collection (RAM management/cleanup)\n",
    "\n",
    "# Common scientific packages\n",
    "import pandas as pd\n",
    "import numpy as np\n",
    "import matplotlib.pyplot as plt\n",
    "from scipy import sparse\n",
    "\n",
    "# Scikit-learn imports\n",
    "from sklearn.model_selection import train_test_split\n",
    "from sklearn.impute import SimpleImputer\n",
    "from sklearn.preprocessing import MinMaxScaler\n",
    "from sklearn.metrics import confusion_matrix\n",
    "\n",
    "# TF imports\n",
    "from tensorflow.keras.callbacks import EarlyStopping\n",
    "from tensorflow.keras.layers import Input, Dropout, BatchNormalization, Dense, Activation, Flatten\n",
    "from tensorflow.keras.models import Model\n",
    "from tensorflow.keras.optimizers import Adam\n",
    "from tensorflow.keras.regularizers import l2\n",
    "\n",
    "# Spektral imports for GNN\n",
    "from spektral.layers import GraphConv, GraphSageConv, GINConv"
   ]
  },
  {
   "cell_type": "markdown",
   "metadata": {},
   "source": [
    "# Config"
   ]
  },
  {
   "cell_type": "code",
   "execution_count": 2,
   "metadata": {},
   "outputs": [],
   "source": [
    "# Type of graph convolution\n",
    "Conv = GraphConv\n",
    "\n",
    "# File location to save model\n",
    "modelfile = \"GCN-DNN-2015.h5\"\n",
    "\n",
    "# Number of graph convolution layers\n",
    "n_layers = 5\n",
    "\n",
    "# Number of channels at each conv\n",
    "channels = 64\n",
    "\n",
    "# Adjacency matrix of choice\n",
    "adj_file = \"Aboth.pkl\"\n",
    "\n",
    "# Maximum number of training epochs\n",
    "epochs = 500\n",
    "\n",
    "# Dropout rate\n",
    "# dropout_rate = 0.5"
   ]
  },
  {
   "cell_type": "markdown",
   "metadata": {},
   "source": [
    "# Read the adjacency matrix $A$"
   ]
  },
  {
   "cell_type": "markdown",
   "metadata": {},
   "source": [
    "#### Load $A$ from disk"
   ]
  },
  {
   "cell_type": "code",
   "execution_count": 3,
   "metadata": {},
   "outputs": [],
   "source": [
    "with open(adj_file, 'rb') as f:\n",
    "    A = pickle.load(f)"
   ]
  },
  {
   "cell_type": "markdown",
   "metadata": {},
   "source": [
    "#### Preprocess $A$ as needed for this GNN convolution technique"
   ]
  },
  {
   "cell_type": "code",
   "execution_count": 4,
   "metadata": {},
   "outputs": [],
   "source": [
    "fltr = Conv.preprocess(A.astype('float32'))"
   ]
  },
  {
   "cell_type": "markdown",
   "metadata": {},
   "source": [
    "# Read the data"
   ]
  },
  {
   "cell_type": "markdown",
   "metadata": {},
   "source": [
    "#### Initial read of file"
   ]
  },
  {
   "cell_type": "code",
   "execution_count": 5,
   "metadata": {},
   "outputs": [
    {
     "name": "stderr",
     "output_type": "stream",
     "text": [
      "/home/mark/.local/lib/python3.6/site-packages/IPython/core/interactiveshell.py:3051: DtypeWarning: Columns (4) have mixed types.Specify dtype option on import or set low_memory=False.\n",
      "  interactivity=interactivity, compiler=compiler, result=result)\n",
      "/home/mark/.local/lib/python3.6/site-packages/numpy/lib/arraysetops.py:569: FutureWarning: elementwise comparison failed; returning scalar instead, but in the future will perform elementwise comparison\n",
      "  mask |= (ar1 == a)\n"
     ]
    }
   ],
   "source": [
    "data = pd.read_csv('/mnt/d/wildfires/fires_merged_weather.csv', index_col=0,\n",
    "                  #dtype for smaller representation\n",
    "                  dtype={#'STAT_CAUSE_DESCR': 'category', 'STATE': 'category', 'DISCOVERY_MONTH': 'category',\n",
    "                        'Fog': 'bool', 'FunnelCloud': 'bool', 'Hail': 'bool', 'Rain': 'bool',\n",
    "                        'Snow': 'bool', 'Thunder': 'bool'}\n",
    "                  )"
   ]
  },
  {
   "cell_type": "markdown",
   "metadata": {},
   "source": [
    "#### Drop unnecessary columns"
   ]
  },
  {
   "cell_type": "code",
   "execution_count": 6,
   "metadata": {},
   "outputs": [],
   "source": [
    "data.drop(['Unnamed: 0.1', 'index_x', 'FOD_ID', 'FIRE_NAME', 'DISCOVERY_DOY_SCALED',\n",
    "           'x_fire', 'y_fire', 'z_fire',\n",
    "           'index_y', 'Begin', 'End', 'Country', 'Day', 'ICAO', 'Latitude', 'Longitude', 'Month', 'STATION NAME',\n",
    "           'State', 'Station', 'USAF', 'Unnamed: 0.1.1', 'Unnamed: 0.1.1.1', \n",
    "           'WBAN', 'Year', 'doy', 'x', 'y', 'z',\n",
    "          ],\n",
    "         axis='columns', inplace=True)"
   ]
  },
  {
   "cell_type": "markdown",
   "metadata": {},
   "source": [
    "#### Just 2015 data"
   ]
  },
  {
   "cell_type": "code",
   "execution_count": 7,
   "metadata": {},
   "outputs": [],
   "source": [
    "data = data[data.FIRE_YEAR == 2015]"
   ]
  },
  {
   "cell_type": "markdown",
   "metadata": {},
   "source": [
    "#### Cleanup memory"
   ]
  },
  {
   "cell_type": "code",
   "execution_count": 8,
   "metadata": {},
   "outputs": [
    {
     "data": {
      "text/plain": [
       "251"
      ]
     },
     "execution_count": 8,
     "metadata": {},
     "output_type": "execute_result"
    }
   ],
   "source": [
    "gc.collect()"
   ]
  },
  {
   "cell_type": "markdown",
   "metadata": {},
   "source": [
    "# Preprocess the data\n",
    "\n",
    "Perform imputation as appropriate; split into train/validation sets."
   ]
  },
  {
   "cell_type": "markdown",
   "metadata": {},
   "source": [
    "#### Split into features and labels"
   ]
  },
  {
   "cell_type": "code",
   "execution_count": 9,
   "metadata": {},
   "outputs": [],
   "source": [
    "Y = pd.get_dummies(data['STAT_CAUSE_DESCR'])\n",
    "X = pd.get_dummies(data.drop('STAT_CAUSE_DESCR', axis='columns'))\n",
    "\n",
    "# Number of examples\n",
    "N = X.shape[0]\n",
    "# Number of features\n",
    "F = X.shape[1]"
   ]
  },
  {
   "cell_type": "markdown",
   "metadata": {},
   "source": [
    "#### Find the missing values, and set to NA"
   ]
  },
  {
   "cell_type": "code",
   "execution_count": 10,
   "metadata": {},
   "outputs": [],
   "source": [
    "for na in [9999.9, 999.9, 99.99]:\n",
    "    X[X == na] = np.nan"
   ]
  },
  {
   "cell_type": "markdown",
   "metadata": {},
   "source": [
    "#### Zero-imputing for some features -- see EDA.ipynb"
   ]
  },
  {
   "cell_type": "code",
   "execution_count": 11,
   "metadata": {},
   "outputs": [],
   "source": [
    "for zcol in ['Gust', 'MaxWindspeed', 'Precip', 'SnowDepth', 'Visibility', 'Windspeed']:\n",
    "    X.loc[X[zcol].isna(), zcol] = 0"
   ]
  },
  {
   "cell_type": "markdown",
   "metadata": {},
   "source": [
    "# Split into training/testing\n",
    "\n",
    "We'll have three sets of nodes: training nodes, validation nodes, and censored nodes (nodes without valid labels).  Note that this is a semi-supervised problem."
   ]
  },
  {
   "cell_type": "markdown",
   "metadata": {},
   "source": [
    "#### Determine which nodes lack valid labels"
   ]
  },
  {
   "cell_type": "code",
   "execution_count": 12,
   "metadata": {},
   "outputs": [],
   "source": [
    "# Determing which fires fit in these categories\n",
    "censor = (data['STAT_CAUSE_DESCR'] == 'Missing/Undefined') | (data['STAT_CAUSE_DESCR'] == 'Miscellaneous')\n",
    "\n",
    "# Drop these levels from the label\n",
    "Y = Y.drop(['Missing/Undefined', 'Miscellaneous'], axis='columns').values\n",
    "\n",
    "# Number of classes left\n",
    "n_classes = Y.shape[1]"
   ]
  },
  {
   "cell_type": "code",
   "execution_count": 13,
   "metadata": {},
   "outputs": [],
   "source": [
    "labeled_ind  = np.arange(data.shape[0])[~censor]\n",
    "censor_ind = np.arange(data.shape[0])[censor ]"
   ]
  },
  {
   "cell_type": "markdown",
   "metadata": {},
   "source": [
    "#### Determine which nodes lack valid labels"
   ]
  },
  {
   "cell_type": "code",
   "execution_count": 14,
   "metadata": {},
   "outputs": [],
   "source": [
    "train_ind, val_ind = train_test_split(labeled_ind, test_size=0.1, random_state=42)\n",
    "\n",
    "# \"Masks\" for training and validation: 1 if in the given set, 0 if not (or no label)\n",
    "train_mask = np.zeros(N)\n",
    "train_mask[train_ind] = 1\n",
    "\n",
    "val_mask = np.zeros(N)\n",
    "val_mask[val_ind] = 1"
   ]
  },
  {
   "cell_type": "markdown",
   "metadata": {},
   "source": [
    "#### Mean imputation for the other features -- see EDA.ipynb"
   ]
  },
  {
   "cell_type": "code",
   "execution_count": 15,
   "metadata": {},
   "outputs": [],
   "source": [
    "imp = SimpleImputer(missing_values=np.nan, strategy='mean')"
   ]
  },
  {
   "cell_type": "code",
   "execution_count": 16,
   "metadata": {},
   "outputs": [
    {
     "data": {
      "text/plain": [
       "SimpleImputer(add_indicator=False, copy=True, fill_value=None,\n",
       "              missing_values=nan, strategy='mean', verbose=0)"
      ]
     },
     "execution_count": 16,
     "metadata": {},
     "output_type": "execute_result"
    }
   ],
   "source": [
    "# Make sure to fit only on the training data!  Otherwise the imputation introduces bias\n",
    "imp.fit(X.values[train_ind, :])"
   ]
  },
  {
   "cell_type": "code",
   "execution_count": 17,
   "metadata": {},
   "outputs": [],
   "source": [
    "# Impute the training and testing values\n",
    "X = imp.transform(X)"
   ]
  },
  {
   "cell_type": "markdown",
   "metadata": {},
   "source": [
    "# Define the model"
   ]
  },
  {
   "cell_type": "markdown",
   "metadata": {},
   "source": [
    "### Model definition"
   ]
  },
  {
   "cell_type": "code",
   "execution_count": 43,
   "metadata": {},
   "outputs": [
    {
     "name": "stdout",
     "output_type": "stream",
     "text": [
      "(None, 64)\n"
     ]
    }
   ],
   "source": [
    "# Input\n",
    "X_in = Input(shape=(F, ))           # features  for this node\n",
    "fltr_in = Input((N, ), sparse=True) # adjacency for this node\n",
    "\n",
    "currentX = X_in\n",
    "\n",
    "# For each of the specified layers,\n",
    "for _ in range(n_layers):\n",
    "\n",
    "    # Dropout the current layer's inputs\n",
    "    #currentX = Dropout(dropout_rate)(currentX)\n",
    "    \n",
    "    # Graph convolution -- Note that \"Conv\" type was specified in Config section\n",
    "    currentX = Conv(channels,\n",
    "                      activation='relu',\n",
    "                      #kernel_regularizer=l2(0.1),\n",
    "                      #use_bias=False\n",
    "                     )([currentX, fltr_in])\n",
    "    \n",
    "    #currentX = BatchNormalization()(currentX)\n",
    "\n",
    "# Dense Neural Network\n",
    "\n",
    "print(currentX.shape)\n",
    "\n",
    "for _ in range(3):\n",
    "    #currentX = Dropout(dropout_rate)(currentX)\n",
    "\n",
    "    currentX = Dense(64, activation='relu')(currentX)\n",
    "    #currentX = BatchNormalization()(currentX)\n",
    "    #currentX = Activation('relu')(currentX)\n",
    "    \n",
    "# Final layer\n",
    "output = Dense(Y.shape[1], activation='softmax')(currentX)"
   ]
  },
  {
   "cell_type": "markdown",
   "metadata": {},
   "source": [
    "### Model setup"
   ]
  },
  {
   "cell_type": "code",
   "execution_count": 44,
   "metadata": {},
   "outputs": [
    {
     "name": "stdout",
     "output_type": "stream",
     "text": [
      "Model: \"model_1\"\n",
      "__________________________________________________________________________________________________\n",
      "Layer (type)                    Output Shape         Param #     Connected to                     \n",
      "==================================================================================================\n",
      "input_35 (InputLayer)           [(None, 83)]         0                                            \n",
      "__________________________________________________________________________________________________\n",
      "input_36 (InputLayer)           [(None, None)]       0                                            \n",
      "__________________________________________________________________________________________________\n",
      "graph_conv_85 (GraphConv)       (None, 64)           5376        input_35[0][0]                   \n",
      "                                                                 input_36[0][0]                   \n",
      "__________________________________________________________________________________________________\n",
      "graph_conv_86 (GraphConv)       (None, 64)           4160        graph_conv_85[0][0]              \n",
      "                                                                 input_36[0][0]                   \n",
      "__________________________________________________________________________________________________\n",
      "graph_conv_87 (GraphConv)       (None, 64)           4160        graph_conv_86[0][0]              \n",
      "                                                                 input_36[0][0]                   \n",
      "__________________________________________________________________________________________________\n",
      "graph_conv_88 (GraphConv)       (None, 64)           4160        graph_conv_87[0][0]              \n",
      "                                                                 input_36[0][0]                   \n",
      "__________________________________________________________________________________________________\n",
      "graph_conv_89 (GraphConv)       (None, 64)           4160        graph_conv_88[0][0]              \n",
      "                                                                 input_36[0][0]                   \n",
      "__________________________________________________________________________________________________\n",
      "dense_45 (Dense)                (None, 64)           4160        graph_conv_89[0][0]              \n",
      "__________________________________________________________________________________________________\n",
      "dense_46 (Dense)                (None, 64)           4160        dense_45[0][0]                   \n",
      "__________________________________________________________________________________________________\n",
      "dense_47 (Dense)                (None, 64)           4160        dense_46[0][0]                   \n",
      "__________________________________________________________________________________________________\n",
      "dense_48 (Dense)                (None, 11)           715         dense_47[0][0]                   \n",
      "==================================================================================================\n",
      "Total params: 35,211\n",
      "Trainable params: 35,211\n",
      "Non-trainable params: 0\n",
      "__________________________________________________________________________________________________\n"
     ]
    }
   ],
   "source": [
    "# Build model\n",
    "model = Model(inputs=[X_in, fltr_in], outputs=output)\n",
    "model.compile(optimizer=Adam(1e-2),\n",
    "              loss='categorical_crossentropy',\n",
    "              weighted_metrics=['categorical_accuracy'])\n",
    "model.summary()"
   ]
  },
  {
   "cell_type": "markdown",
   "metadata": {},
   "source": [
    "# Model fitting"
   ]
  },
  {
   "cell_type": "code",
   "execution_count": 45,
   "metadata": {},
   "outputs": [
    {
     "name": "stdout",
     "output_type": "stream",
     "text": [
      "WARNING:tensorflow:sample_weight modes were coerced from\n",
      "  ...\n",
      "    to  \n",
      "  ['...']\n",
      "WARNING:tensorflow:sample_weight modes were coerced from\n",
      "  ...\n",
      "    to  \n",
      "  ['...']\n",
      "Train on 74491 samples, validate on 74491 samples\n",
      "Epoch 1/500\n",
      "74491/74491 [==============================] - 4s 56us/sample - loss: 14.1735 - categorical_accuracy: 0.0279 - val_loss: 1.0354 - val_categorical_accuracy: 0.3016\n",
      "Epoch 2/500\n",
      "74491/74491 [==============================] - 2s 33us/sample - loss: 9.3773 - categorical_accuracy: 0.3061 - val_loss: 0.3295 - val_categorical_accuracy: 0.1942\n",
      "Epoch 3/500\n",
      "74491/74491 [==============================] - 3s 34us/sample - loss: 2.9905 - categorical_accuracy: 0.1884 - val_loss: 0.4520 - val_categorical_accuracy: 0.1076\n",
      "Epoch 4/500\n",
      "74491/74491 [==============================] - 3s 35us/sample - loss: 4.0837 - categorical_accuracy: 0.1095 - val_loss: 0.3754 - val_categorical_accuracy: 0.3868\n",
      "Epoch 5/500\n",
      "74491/74491 [==============================] - 2s 32us/sample - loss: 3.4602 - categorical_accuracy: 0.3802 - val_loss: 0.4063 - val_categorical_accuracy: 0.2020\n",
      "Epoch 6/500\n",
      "74491/74491 [==============================] - 3s 34us/sample - loss: 3.7923 - categorical_accuracy: 0.1952 - val_loss: 0.2004 - val_categorical_accuracy: 0.4339\n",
      "Epoch 7/500\n",
      "74491/74491 [==============================] - 3s 36us/sample - loss: 1.8625 - categorical_accuracy: 0.4219 - val_loss: 0.2013 - val_categorical_accuracy: 0.0878\n",
      "Epoch 8/500\n",
      "74491/74491 [==============================] - 3s 40us/sample - loss: 1.8383 - categorical_accuracy: 0.0927 - val_loss: 0.1747 - val_categorical_accuracy: 0.1331\n",
      "Epoch 9/500\n",
      "74491/74491 [==============================] - 3s 37us/sample - loss: 1.5873 - categorical_accuracy: 0.1300 - val_loss: 0.1494 - val_categorical_accuracy: 0.1240\n",
      "Epoch 10/500\n",
      "74491/74491 [==============================] - 3s 36us/sample - loss: 1.3808 - categorical_accuracy: 0.1229 - val_loss: 0.1349 - val_categorical_accuracy: 0.3944\n",
      "Epoch 11/500\n",
      "74491/74491 [==============================] - 3s 35us/sample - loss: 1.2531 - categorical_accuracy: 0.3889 - val_loss: 0.1283 - val_categorical_accuracy: 0.4236\n",
      "Epoch 12/500\n",
      "74491/74491 [==============================] - 3s 35us/sample - loss: 1.1929 - categorical_accuracy: 0.4132 - val_loss: 0.1231 - val_categorical_accuracy: 0.4579\n",
      "Epoch 13/500\n",
      "74491/74491 [==============================] - 2s 33us/sample - loss: 1.1433 - categorical_accuracy: 0.4471 - val_loss: 0.1191 - val_categorical_accuracy: 0.4778\n",
      "Epoch 14/500\n",
      "74491/74491 [==============================] - 3s 37us/sample - loss: 1.1040 - categorical_accuracy: 0.4663 - val_loss: 0.1177 - val_categorical_accuracy: 0.4806\n",
      "Epoch 15/500\n",
      "74491/74491 [==============================] - 3s 36us/sample - loss: 1.0858 - categorical_accuracy: 0.4692 - val_loss: 0.1178 - val_categorical_accuracy: 0.4806\n",
      "Epoch 16/500\n",
      "74491/74491 [==============================] - 3s 35us/sample - loss: 1.0811 - categorical_accuracy: 0.4691 - val_loss: 0.1172 - val_categorical_accuracy: 0.4788\n",
      "Epoch 17/500\n",
      "74491/74491 [==============================] - 2s 33us/sample - loss: 1.0743 - categorical_accuracy: 0.4674 - val_loss: 0.1167 - val_categorical_accuracy: 0.4774\n",
      "Epoch 18/500\n",
      "74491/74491 [==============================] - 3s 36us/sample - loss: 1.0695 - categorical_accuracy: 0.4658 - val_loss: 0.1158 - val_categorical_accuracy: 0.4784\n",
      "Epoch 19/500\n",
      "74491/74491 [==============================] - 3s 36us/sample - loss: 1.0633 - categorical_accuracy: 0.4665 - val_loss: 0.1146 - val_categorical_accuracy: 0.4768\n",
      "Epoch 20/500\n",
      "74491/74491 [==============================] - 3s 35us/sample - loss: 1.0542 - categorical_accuracy: 0.4660 - val_loss: 0.1148 - val_categorical_accuracy: 0.4747\n",
      "Epoch 21/500\n",
      "74491/74491 [==============================] - 3s 34us/sample - loss: 1.0567 - categorical_accuracy: 0.4636 - val_loss: 0.1141 - val_categorical_accuracy: 0.4758\n",
      "Epoch 22/500\n",
      "74491/74491 [==============================] - 2s 33us/sample - loss: 1.0500 - categorical_accuracy: 0.4648 - val_loss: 0.1135 - val_categorical_accuracy: 0.4780\n",
      "Epoch 23/500\n",
      "74491/74491 [==============================] - 2s 33us/sample - loss: 1.0430 - categorical_accuracy: 0.4670 - val_loss: 0.1133 - val_categorical_accuracy: 0.4796\n",
      "Epoch 24/500\n",
      "74491/74491 [==============================] - 3s 34us/sample - loss: 1.0407 - categorical_accuracy: 0.4681 - val_loss: 0.1132 - val_categorical_accuracy: 0.4812\n",
      "Epoch 25/500\n",
      "74491/74491 [==============================] - 3s 35us/sample - loss: 1.0395 - categorical_accuracy: 0.4695 - val_loss: 0.1128 - val_categorical_accuracy: 0.4826\n",
      "Epoch 26/500\n",
      "74491/74491 [==============================] - 2s 31us/sample - loss: 1.0365 - categorical_accuracy: 0.4707 - val_loss: 0.1125 - val_categorical_accuracy: 0.4830\n",
      "Epoch 27/500\n",
      "74491/74491 [==============================] - 2s 31us/sample - loss: 1.0335 - categorical_accuracy: 0.4709 - val_loss: 0.1123 - val_categorical_accuracy: 0.4840\n",
      "Epoch 28/500\n",
      "74491/74491 [==============================] - 2s 32us/sample - loss: 1.0317 - categorical_accuracy: 0.4707 - val_loss: 0.1120 - val_categorical_accuracy: 0.4844\n",
      "Epoch 29/500\n",
      "74491/74491 [==============================] - 2s 32us/sample - loss: 1.0298 - categorical_accuracy: 0.4710 - val_loss: 0.1127 - val_categorical_accuracy: 0.4820\n",
      "Epoch 30/500\n",
      "74491/74491 [==============================] - 3s 34us/sample - loss: 1.0340 - categorical_accuracy: 0.4701 - val_loss: 0.1117 - val_categorical_accuracy: 0.4858\n",
      "Epoch 31/500\n",
      "74491/74491 [==============================] - 3s 37us/sample - loss: 1.0286 - categorical_accuracy: 0.4733 - val_loss: 0.1116 - val_categorical_accuracy: 0.4860\n",
      "Epoch 32/500\n",
      "74491/74491 [==============================] - 3s 36us/sample - loss: 1.0266 - categorical_accuracy: 0.4735 - val_loss: 0.1115 - val_categorical_accuracy: 0.4866\n",
      "Epoch 33/500\n",
      "74491/74491 [==============================] - 2s 32us/sample - loss: 1.0255 - categorical_accuracy: 0.4745 - val_loss: 0.1113 - val_categorical_accuracy: 0.4876\n",
      "Epoch 34/500\n",
      "74491/74491 [==============================] - 2s 33us/sample - loss: 1.0235 - categorical_accuracy: 0.4754 - val_loss: 0.1110 - val_categorical_accuracy: 0.4870\n",
      "Epoch 35/500\n",
      "74491/74491 [==============================] - 2s 33us/sample - loss: 1.0216 - categorical_accuracy: 0.4748 - val_loss: 0.1109 - val_categorical_accuracy: 0.4864\n",
      "Epoch 36/500\n",
      "74491/74491 [==============================] - 2s 33us/sample - loss: 1.0197 - categorical_accuracy: 0.4742 - val_loss: 0.1107 - val_categorical_accuracy: 0.4848\n",
      "Epoch 37/500\n",
      "74491/74491 [==============================] - 3s 34us/sample - loss: 1.0182 - categorical_accuracy: 0.4741 - val_loss: 0.1105 - val_categorical_accuracy: 0.4870\n",
      "Epoch 38/500\n",
      "74491/74491 [==============================] - 2s 33us/sample - loss: 1.0165 - categorical_accuracy: 0.4750 - val_loss: 0.1103 - val_categorical_accuracy: 0.4868\n",
      "Epoch 39/500\n",
      "74491/74491 [==============================] - 2s 34us/sample - loss: 1.0142 - categorical_accuracy: 0.4744 - val_loss: 0.1101 - val_categorical_accuracy: 0.4876\n",
      "Epoch 40/500\n",
      "74491/74491 [==============================] - 2s 32us/sample - loss: 1.0121 - categorical_accuracy: 0.4758 - val_loss: 0.1098 - val_categorical_accuracy: 0.4902\n",
      "Epoch 41/500\n",
      "74491/74491 [==============================] - 3s 34us/sample - loss: 1.0094 - categorical_accuracy: 0.4787 - val_loss: 0.1096 - val_categorical_accuracy: 0.4904\n",
      "Epoch 42/500\n",
      "74491/74491 [==============================] - 3s 36us/sample - loss: 1.0072 - categorical_accuracy: 0.4788 - val_loss: 0.1095 - val_categorical_accuracy: 0.4906\n",
      "Epoch 43/500\n",
      "74491/74491 [==============================] - 3s 40us/sample - loss: 1.0065 - categorical_accuracy: 0.4786 - val_loss: 0.1093 - val_categorical_accuracy: 0.4906\n",
      "Epoch 44/500\n",
      "74491/74491 [==============================] - 3s 38us/sample - loss: 1.0066 - categorical_accuracy: 0.4800 - val_loss: 0.1095 - val_categorical_accuracy: 0.4868\n",
      "Epoch 45/500\n",
      "74491/74491 [==============================] - 3s 35us/sample - loss: 1.0068 - categorical_accuracy: 0.4770 - val_loss: 0.1085 - val_categorical_accuracy: 0.4908\n",
      "Epoch 46/500\n",
      "74491/74491 [==============================] - 3s 35us/sample - loss: 0.9983 - categorical_accuracy: 0.4803 - val_loss: 0.1095 - val_categorical_accuracy: 0.4950\n",
      "Epoch 47/500\n",
      "74491/74491 [==============================] - 3s 34us/sample - loss: 1.0069 - categorical_accuracy: 0.4833 - val_loss: 0.1098 - val_categorical_accuracy: 0.4892\n",
      "Epoch 48/500\n",
      "74491/74491 [==============================] - 2s 34us/sample - loss: 1.0069 - categorical_accuracy: 0.4779 - val_loss: 0.1090 - val_categorical_accuracy: 0.4902\n",
      "Epoch 49/500\n",
      "74491/74491 [==============================] - 3s 35us/sample - loss: 1.0010 - categorical_accuracy: 0.4789 - val_loss: 0.1085 - val_categorical_accuracy: 0.4932\n",
      "Epoch 50/500\n",
      "74491/74491 [==============================] - 2s 33us/sample - loss: 0.9972 - categorical_accuracy: 0.4823 - val_loss: 0.1087 - val_categorical_accuracy: 0.4992\n",
      "Epoch 51/500\n",
      "74491/74491 [==============================] - 3s 37us/sample - loss: 0.9963 - categorical_accuracy: 0.4886 - val_loss: 0.1085 - val_categorical_accuracy: 0.4956\n",
      "Epoch 52/500\n",
      "74491/74491 [==============================] - 2s 31us/sample - loss: 0.9941 - categorical_accuracy: 0.4857 - val_loss: 0.1081 - val_categorical_accuracy: 0.4920\n",
      "Epoch 53/500\n",
      "74491/74491 [==============================] - 2s 33us/sample - loss: 0.9930 - categorical_accuracy: 0.4817 - val_loss: 0.1077 - val_categorical_accuracy: 0.4934\n",
      "Epoch 54/500\n",
      "74491/74491 [==============================] - 3s 35us/sample - loss: 0.9893 - categorical_accuracy: 0.4829 - val_loss: 0.1076 - val_categorical_accuracy: 0.4984\n",
      "Epoch 55/500\n",
      "74491/74491 [==============================] - 3s 34us/sample - loss: 0.9861 - categorical_accuracy: 0.4879 - val_loss: 0.1076 - val_categorical_accuracy: 0.4990\n",
      "Epoch 56/500\n",
      "74491/74491 [==============================] - 2s 32us/sample - loss: 0.9860 - categorical_accuracy: 0.4887 - val_loss: 0.1071 - val_categorical_accuracy: 0.4954\n",
      "Epoch 57/500\n",
      "74491/74491 [==============================] - 3s 35us/sample - loss: 0.9836 - categorical_accuracy: 0.4851 - val_loss: 0.1070 - val_categorical_accuracy: 0.4946\n",
      "Epoch 58/500\n",
      "74491/74491 [==============================] - 3s 36us/sample - loss: 0.9830 - categorical_accuracy: 0.4836 - val_loss: 0.1067 - val_categorical_accuracy: 0.4994\n",
      "Epoch 59/500\n",
      "74491/74491 [==============================] - 3s 35us/sample - loss: 0.9795 - categorical_accuracy: 0.4894 - val_loss: 0.1068 - val_categorical_accuracy: 0.5068\n",
      "Epoch 60/500\n",
      "74491/74491 [==============================] - 3s 36us/sample - loss: 0.9798 - categorical_accuracy: 0.4982 - val_loss: 0.1065 - val_categorical_accuracy: 0.4986\n",
      "Epoch 61/500\n",
      "74491/74491 [==============================] - 3s 38us/sample - loss: 0.9767 - categorical_accuracy: 0.4888 - val_loss: 0.1061 - val_categorical_accuracy: 0.4964\n",
      "Epoch 62/500\n",
      "74491/74491 [==============================] - 3s 34us/sample - loss: 0.9748 - categorical_accuracy: 0.4873 - val_loss: 0.1062 - val_categorical_accuracy: 0.5006\n",
      "Epoch 63/500\n",
      "74491/74491 [==============================] - 2s 33us/sample - loss: 0.9753 - categorical_accuracy: 0.4904 - val_loss: 0.1062 - val_categorical_accuracy: 0.5088\n",
      "Epoch 64/500\n",
      "74491/74491 [==============================] - 2s 31us/sample - loss: 0.9746 - categorical_accuracy: 0.5011 - val_loss: 0.1062 - val_categorical_accuracy: 0.5004\n",
      "Epoch 65/500\n",
      "74491/74491 [==============================] - 2s 32us/sample - loss: 0.9754 - categorical_accuracy: 0.4913 - val_loss: 0.1067 - val_categorical_accuracy: 0.5018\n",
      "Epoch 66/500\n",
      "74491/74491 [==============================] - 2s 32us/sample - loss: 0.9823 - categorical_accuracy: 0.4930 - val_loss: 0.1076 - val_categorical_accuracy: 0.4992\n",
      "Epoch 67/500\n",
      "74491/74491 [==============================] - 2s 31us/sample - loss: 0.9866 - categorical_accuracy: 0.4892 - val_loss: 0.1078 - val_categorical_accuracy: 0.4896\n",
      "Epoch 68/500\n",
      "74491/74491 [==============================] - 2s 33us/sample - loss: 0.9891 - categorical_accuracy: 0.4813 - val_loss: 0.1078 - val_categorical_accuracy: 0.4996\n",
      "Epoch 69/500\n",
      "74491/74491 [==============================] - 2s 32us/sample - loss: 0.9885 - categorical_accuracy: 0.4881 - val_loss: 0.1071 - val_categorical_accuracy: 0.4982\n",
      "Epoch 70/500\n",
      "74491/74491 [==============================] - 2s 31us/sample - loss: 0.9828 - categorical_accuracy: 0.4881 - val_loss: 0.1060 - val_categorical_accuracy: 0.4980\n",
      "Epoch 71/500\n",
      "74491/74491 [==============================] - 2s 32us/sample - loss: 0.9736 - categorical_accuracy: 0.4899 - val_loss: 0.1068 - val_categorical_accuracy: 0.4986\n",
      "Epoch 72/500\n",
      "74491/74491 [==============================] - 2s 33us/sample - loss: 0.9796 - categorical_accuracy: 0.4925 - val_loss: 0.1072 - val_categorical_accuracy: 0.5042\n",
      "Epoch 73/500\n",
      "74491/74491 [==============================] - 2s 33us/sample - loss: 0.9816 - categorical_accuracy: 0.4941 - val_loss: 0.1056 - val_categorical_accuracy: 0.4988\n",
      "Epoch 74/500\n",
      "74491/74491 [==============================] - 2s 31us/sample - loss: 0.9691 - categorical_accuracy: 0.4884 - val_loss: 0.1063 - val_categorical_accuracy: 0.4972\n",
      "Epoch 75/500\n",
      "74491/74491 [==============================] - 2s 33us/sample - loss: 0.9756 - categorical_accuracy: 0.4858 - val_loss: 0.1061 - val_categorical_accuracy: 0.5032\n",
      "Epoch 76/500\n",
      "74491/74491 [==============================] - 2s 32us/sample - loss: 0.9728 - categorical_accuracy: 0.4928 - val_loss: 0.1049 - val_categorical_accuracy: 0.5106\n",
      "Epoch 77/500\n",
      "74491/74491 [==============================] - 2s 32us/sample - loss: 0.9631 - categorical_accuracy: 0.5031 - val_loss: 0.1057 - val_categorical_accuracy: 0.5014\n",
      "Epoch 78/500\n",
      "74491/74491 [==============================] - 2s 33us/sample - loss: 0.9696 - categorical_accuracy: 0.4959 - val_loss: 0.1054 - val_categorical_accuracy: 0.5086\n",
      "Epoch 79/500\n",
      "74491/74491 [==============================] - 2s 33us/sample - loss: 0.9665 - categorical_accuracy: 0.4980 - val_loss: 0.1048 - val_categorical_accuracy: 0.5014\n",
      "Epoch 80/500\n",
      "74491/74491 [==============================] - 2s 31us/sample - loss: 0.9622 - categorical_accuracy: 0.4930 - val_loss: 0.1048 - val_categorical_accuracy: 0.5090\n",
      "Epoch 81/500\n",
      "74491/74491 [==============================] - 2s 32us/sample - loss: 0.9620 - categorical_accuracy: 0.4988 - val_loss: 0.1050 - val_categorical_accuracy: 0.5148\n",
      "Epoch 82/500\n",
      "74491/74491 [==============================] - 3s 35us/sample - loss: 0.9615 - categorical_accuracy: 0.5072 - val_loss: 0.1044 - val_categorical_accuracy: 0.5088\n",
      "Epoch 83/500\n",
      "74491/74491 [==============================] - 2s 33us/sample - loss: 0.9577 - categorical_accuracy: 0.5035 - val_loss: 0.1040 - val_categorical_accuracy: 0.5130\n",
      "Epoch 84/500\n",
      "74491/74491 [==============================] - 2s 33us/sample - loss: 0.9561 - categorical_accuracy: 0.5052 - val_loss: 0.1040 - val_categorical_accuracy: 0.5088\n",
      "Epoch 85/500\n",
      "74491/74491 [==============================] - 2s 33us/sample - loss: 0.9559 - categorical_accuracy: 0.4988 - val_loss: 0.1035 - val_categorical_accuracy: 0.5148\n",
      "Epoch 86/500\n",
      "74491/74491 [==============================] - 2s 32us/sample - loss: 0.9509 - categorical_accuracy: 0.5072 - val_loss: 0.1035 - val_categorical_accuracy: 0.5144\n",
      "Epoch 87/500\n",
      "74491/74491 [==============================] - 2s 32us/sample - loss: 0.9517 - categorical_accuracy: 0.5055 - val_loss: 0.1035 - val_categorical_accuracy: 0.5166\n",
      "Epoch 88/500\n",
      "74491/74491 [==============================] - 2s 31us/sample - loss: 0.9507 - categorical_accuracy: 0.5074 - val_loss: 0.1046 - val_categorical_accuracy: 0.5104\n",
      "Epoch 89/500\n",
      "74491/74491 [==============================] - 2s 31us/sample - loss: 0.9596 - categorical_accuracy: 0.5000 - val_loss: 0.1067 - val_categorical_accuracy: 0.5022\n",
      "Epoch 90/500\n",
      "74491/74491 [==============================] - 2s 32us/sample - loss: 0.9767 - categorical_accuracy: 0.4928 - val_loss: 0.1150 - val_categorical_accuracy: 0.4826\n",
      "Epoch 91/500\n",
      "74491/74491 [==============================] - 2s 32us/sample - loss: 1.0588 - categorical_accuracy: 0.4713 - val_loss: 0.1088 - val_categorical_accuracy: 0.4840\n",
      "Epoch 92/500\n",
      "74491/74491 [==============================] - 2s 33us/sample - loss: 0.9934 - categorical_accuracy: 0.4756 - val_loss: 0.1138 - val_categorical_accuracy: 0.4794\n",
      "Epoch 93/500\n",
      "74491/74491 [==============================] - 2s 34us/sample - loss: 1.0380 - categorical_accuracy: 0.4698 - val_loss: 0.1070 - val_categorical_accuracy: 0.4992\n",
      "Epoch 94/500\n",
      "74491/74491 [==============================] - 3s 36us/sample - loss: 0.9791 - categorical_accuracy: 0.4874 - val_loss: 0.1085 - val_categorical_accuracy: 0.5056\n",
      "Epoch 95/500\n",
      "74491/74491 [==============================] - 2s 33us/sample - loss: 0.9939 - categorical_accuracy: 0.4943 - val_loss: 0.1109 - val_categorical_accuracy: 0.4796\n",
      "Epoch 96/500\n",
      "74491/74491 [==============================] - 2s 33us/sample - loss: 1.0149 - categorical_accuracy: 0.4705 - val_loss: 0.1063 - val_categorical_accuracy: 0.5128\n",
      "Epoch 97/500\n",
      "74491/74491 [==============================] - 2s 32us/sample - loss: 0.9733 - categorical_accuracy: 0.5044 - val_loss: 0.1083 - val_categorical_accuracy: 0.4956\n",
      "Epoch 98/500\n",
      "74491/74491 [==============================] - 2s 33us/sample - loss: 0.9902 - categorical_accuracy: 0.4837 - val_loss: 0.1090 - val_categorical_accuracy: 0.4942\n",
      "Epoch 99/500\n",
      "74491/74491 [==============================] - 2s 32us/sample - loss: 0.9951 - categorical_accuracy: 0.4829 - val_loss: 0.1080 - val_categorical_accuracy: 0.4978\n",
      "Epoch 100/500\n",
      "74491/74491 [==============================] - 2s 32us/sample - loss: 0.9867 - categorical_accuracy: 0.4876 - val_loss: 0.1072 - val_categorical_accuracy: 0.4976\n",
      "Epoch 101/500\n",
      "74491/74491 [==============================] - 3s 34us/sample - loss: 0.9803 - categorical_accuracy: 0.4876 - val_loss: 0.1068 - val_categorical_accuracy: 0.5092\n",
      "Epoch 102/500\n",
      "74491/74491 [==============================] - 3s 34us/sample - loss: 0.9774 - categorical_accuracy: 0.5030 - val_loss: 0.1069 - val_categorical_accuracy: 0.4938\n",
      "Epoch 103/500\n",
      "74491/74491 [==============================] - 3s 34us/sample - loss: 0.9794 - categorical_accuracy: 0.4949 - val_loss: 0.1061 - val_categorical_accuracy: 0.5024\n",
      "Epoch 104/500\n",
      "74491/74491 [==============================] - 2s 33us/sample - loss: 0.9733 - categorical_accuracy: 0.4969 - val_loss: 0.1055 - val_categorical_accuracy: 0.5112\n",
      "Epoch 105/500\n",
      "74491/74491 [==============================] - 3s 34us/sample - loss: 0.9680 - categorical_accuracy: 0.5033 - val_loss: 0.1056 - val_categorical_accuracy: 0.5052\n",
      "Epoch 106/500\n",
      "74491/74491 [==============================] - 2s 31us/sample - loss: 0.9710 - categorical_accuracy: 0.4962 - val_loss: 0.1052 - val_categorical_accuracy: 0.5078\n",
      "Epoch 107/500\n",
      "74491/74491 [==============================] - 2s 33us/sample - loss: 0.9683 - categorical_accuracy: 0.4988 - val_loss: 0.1042 - val_categorical_accuracy: 0.5142\n",
      "Epoch 108/500\n",
      "74491/74491 [==============================] - 2s 33us/sample - loss: 0.9590 - categorical_accuracy: 0.5064 - val_loss: 0.1048 - val_categorical_accuracy: 0.5076\n",
      "Epoch 109/500\n",
      "74491/74491 [==============================] - 2s 33us/sample - loss: 0.9638 - categorical_accuracy: 0.5004 - val_loss: 0.1041 - val_categorical_accuracy: 0.5126\n",
      "Epoch 110/500\n",
      "74491/74491 [==============================] - 2s 31us/sample - loss: 0.9564 - categorical_accuracy: 0.5059 - val_loss: 0.1036 - val_categorical_accuracy: 0.5158\n",
      "Epoch 111/500\n",
      "74491/74491 [==============================] - 2s 33us/sample - loss: 0.9527 - categorical_accuracy: 0.5074 - val_loss: 0.1041 - val_categorical_accuracy: 0.5082\n",
      "Epoch 112/500\n",
      "74491/74491 [==============================] - 2s 31us/sample - loss: 0.9565 - categorical_accuracy: 0.5010 - val_loss: 0.1035 - val_categorical_accuracy: 0.5174\n",
      "Epoch 113/500\n",
      "74491/74491 [==============================] - 2s 32us/sample - loss: 0.9516 - categorical_accuracy: 0.5080 - val_loss: 0.1033 - val_categorical_accuracy: 0.5172\n",
      "Epoch 114/500\n",
      "74491/74491 [==============================] - 2s 32us/sample - loss: 0.9508 - categorical_accuracy: 0.5079 - val_loss: 0.1033 - val_categorical_accuracy: 0.5130\n",
      "Epoch 115/500\n",
      "74491/74491 [==============================] - 2s 32us/sample - loss: 0.9513 - categorical_accuracy: 0.5055 - val_loss: 0.1029 - val_categorical_accuracy: 0.5178\n",
      "Epoch 116/500\n",
      "74491/74491 [==============================] - 2s 32us/sample - loss: 0.9475 - categorical_accuracy: 0.5080 - val_loss: 0.1030 - val_categorical_accuracy: 0.5184\n",
      "Epoch 117/500\n",
      "74491/74491 [==============================] - 2s 32us/sample - loss: 0.9492 - categorical_accuracy: 0.5069 - val_loss: 0.1026 - val_categorical_accuracy: 0.5180\n",
      "Epoch 118/500\n",
      "74491/74491 [==============================] - 2s 32us/sample - loss: 0.9460 - categorical_accuracy: 0.5086 - val_loss: 0.1026 - val_categorical_accuracy: 0.5166\n",
      "Epoch 119/500\n",
      "74491/74491 [==============================] - 3s 34us/sample - loss: 0.9460 - categorical_accuracy: 0.5075 - val_loss: 0.1025 - val_categorical_accuracy: 0.5160\n",
      "Epoch 120/500\n",
      "74491/74491 [==============================] - 2s 33us/sample - loss: 0.9448 - categorical_accuracy: 0.5060 - val_loss: 0.1026 - val_categorical_accuracy: 0.5174\n",
      "Epoch 121/500\n",
      "74491/74491 [==============================] - 2s 33us/sample - loss: 0.9444 - categorical_accuracy: 0.5079 - val_loss: 0.1024 - val_categorical_accuracy: 0.5198\n",
      "Epoch 122/500\n",
      "74491/74491 [==============================] - 2s 33us/sample - loss: 0.9432 - categorical_accuracy: 0.5091 - val_loss: 0.1023 - val_categorical_accuracy: 0.5182\n",
      "Epoch 123/500\n",
      "74491/74491 [==============================] - 2s 31us/sample - loss: 0.9418 - categorical_accuracy: 0.5093 - val_loss: 0.1022 - val_categorical_accuracy: 0.5172\n",
      "Epoch 124/500\n",
      "74491/74491 [==============================] - 2s 32us/sample - loss: 0.9415 - categorical_accuracy: 0.5087 - val_loss: 0.1021 - val_categorical_accuracy: 0.5178\n",
      "Epoch 125/500\n",
      "74491/74491 [==============================] - 2s 32us/sample - loss: 0.9398 - categorical_accuracy: 0.5094 - val_loss: 0.1021 - val_categorical_accuracy: 0.5186\n",
      "Epoch 126/500\n",
      "74491/74491 [==============================] - 3s 35us/sample - loss: 0.9394 - categorical_accuracy: 0.5101 - val_loss: 0.1020 - val_categorical_accuracy: 0.5182\n",
      "Epoch 127/500\n",
      "74491/74491 [==============================] - 2s 33us/sample - loss: 0.9379 - categorical_accuracy: 0.5099 - val_loss: 0.1020 - val_categorical_accuracy: 0.5170\n",
      "Epoch 128/500\n",
      "74491/74491 [==============================] - 2s 32us/sample - loss: 0.9378 - categorical_accuracy: 0.5099 - val_loss: 0.1018 - val_categorical_accuracy: 0.5188\n",
      "Epoch 129/500\n",
      "74491/74491 [==============================] - 2s 33us/sample - loss: 0.9366 - categorical_accuracy: 0.5104 - val_loss: 0.1017 - val_categorical_accuracy: 0.5198\n",
      "Epoch 130/500\n",
      "74491/74491 [==============================] - 2s 32us/sample - loss: 0.9358 - categorical_accuracy: 0.5116 - val_loss: 0.1016 - val_categorical_accuracy: 0.5196\n",
      "Epoch 131/500\n",
      "74491/74491 [==============================] - 3s 34us/sample - loss: 0.9349 - categorical_accuracy: 0.5123 - val_loss: 0.1015 - val_categorical_accuracy: 0.5190\n",
      "Epoch 132/500\n",
      "74491/74491 [==============================] - 2s 32us/sample - loss: 0.9343 - categorical_accuracy: 0.5110 - val_loss: 0.1015 - val_categorical_accuracy: 0.5198\n",
      "Epoch 133/500\n",
      "74491/74491 [==============================] - 2s 31us/sample - loss: 0.9338 - categorical_accuracy: 0.5115 - val_loss: 0.1014 - val_categorical_accuracy: 0.5200\n",
      "Epoch 134/500\n",
      "74491/74491 [==============================] - 2s 31us/sample - loss: 0.9328 - categorical_accuracy: 0.5118 - val_loss: 0.1013 - val_categorical_accuracy: 0.5198\n",
      "Epoch 135/500\n",
      "74491/74491 [==============================] - 2s 33us/sample - loss: 0.9321 - categorical_accuracy: 0.5122 - val_loss: 0.1013 - val_categorical_accuracy: 0.5202\n",
      "Epoch 136/500\n",
      "74491/74491 [==============================] - 2s 33us/sample - loss: 0.9313 - categorical_accuracy: 0.5123 - val_loss: 0.1013 - val_categorical_accuracy: 0.5200\n",
      "Epoch 137/500\n",
      "74491/74491 [==============================] - 2s 33us/sample - loss: 0.9310 - categorical_accuracy: 0.5114 - val_loss: 0.1012 - val_categorical_accuracy: 0.5202\n",
      "Epoch 138/500\n",
      "74491/74491 [==============================] - 2s 33us/sample - loss: 0.9300 - categorical_accuracy: 0.5126 - val_loss: 0.1011 - val_categorical_accuracy: 0.5224\n",
      "Epoch 139/500\n",
      "74491/74491 [==============================] - 3s 34us/sample - loss: 0.9298 - categorical_accuracy: 0.5144 - val_loss: 0.1011 - val_categorical_accuracy: 0.5214\n",
      "Epoch 140/500\n",
      "74491/74491 [==============================] - 2s 33us/sample - loss: 0.9291 - categorical_accuracy: 0.5141 - val_loss: 0.1010 - val_categorical_accuracy: 0.5210\n",
      "Epoch 141/500\n",
      "74491/74491 [==============================] - 2s 32us/sample - loss: 0.9284 - categorical_accuracy: 0.5136 - val_loss: 0.1009 - val_categorical_accuracy: 0.5232\n",
      "Epoch 142/500\n",
      "74491/74491 [==============================] - 2s 31us/sample - loss: 0.9278 - categorical_accuracy: 0.5154 - val_loss: 0.1009 - val_categorical_accuracy: 0.5226\n",
      "Epoch 143/500\n",
      "74491/74491 [==============================] - 2s 32us/sample - loss: 0.9275 - categorical_accuracy: 0.5158 - val_loss: 0.1008 - val_categorical_accuracy: 0.5232\n",
      "Epoch 144/500\n",
      "74491/74491 [==============================] - 2s 33us/sample - loss: 0.9270 - categorical_accuracy: 0.5150 - val_loss: 0.1008 - val_categorical_accuracy: 0.5248\n",
      "Epoch 145/500\n",
      "74491/74491 [==============================] - 2s 33us/sample - loss: 0.9262 - categorical_accuracy: 0.5160 - val_loss: 0.1007 - val_categorical_accuracy: 0.5246\n",
      "Epoch 146/500\n",
      "74491/74491 [==============================] - 2s 31us/sample - loss: 0.9255 - categorical_accuracy: 0.5166 - val_loss: 0.1006 - val_categorical_accuracy: 0.5255\n",
      "Epoch 147/500\n",
      "74491/74491 [==============================] - 2s 31us/sample - loss: 0.9253 - categorical_accuracy: 0.5168 - val_loss: 0.1007 - val_categorical_accuracy: 0.5242\n",
      "Epoch 148/500\n",
      "74491/74491 [==============================] - 2s 33us/sample - loss: 0.9255 - categorical_accuracy: 0.5163 - val_loss: 0.1007 - val_categorical_accuracy: 0.5232\n",
      "Epoch 149/500\n",
      "74491/74491 [==============================] - 2s 32us/sample - loss: 0.9267 - categorical_accuracy: 0.5163 - val_loss: 0.1010 - val_categorical_accuracy: 0.5236\n",
      "Epoch 150/500\n",
      "74491/74491 [==============================] - 2s 34us/sample - loss: 0.9276 - categorical_accuracy: 0.5171 - val_loss: 0.1007 - val_categorical_accuracy: 0.5253\n",
      "Epoch 151/500\n",
      "74491/74491 [==============================] - 2s 32us/sample - loss: 0.9266 - categorical_accuracy: 0.5197 - val_loss: 0.1009 - val_categorical_accuracy: 0.5216\n",
      "Epoch 152/500\n",
      "74491/74491 [==============================] - 2s 31us/sample - loss: 0.9267 - categorical_accuracy: 0.5148 - val_loss: 0.1010 - val_categorical_accuracy: 0.5216\n",
      "Epoch 153/500\n",
      "74491/74491 [==============================] - 2s 31us/sample - loss: 0.9277 - categorical_accuracy: 0.5176 - val_loss: 0.1010 - val_categorical_accuracy: 0.5214\n",
      "Epoch 154/500\n",
      "74491/74491 [==============================] - 2s 31us/sample - loss: 0.9285 - categorical_accuracy: 0.5136 - val_loss: 0.1005 - val_categorical_accuracy: 0.5275\n",
      "Epoch 155/500\n",
      "74491/74491 [==============================] - 2s 32us/sample - loss: 0.9229 - categorical_accuracy: 0.5199 - val_loss: 0.1007 - val_categorical_accuracy: 0.5277\n",
      "Epoch 156/500\n",
      "74491/74491 [==============================] - 2s 32us/sample - loss: 0.9258 - categorical_accuracy: 0.5194 - val_loss: 0.1016 - val_categorical_accuracy: 0.5192\n",
      "Epoch 157/500\n",
      "74491/74491 [==============================] - 2s 32us/sample - loss: 0.9330 - categorical_accuracy: 0.5105 - val_loss: 0.1006 - val_categorical_accuracy: 0.5255\n",
      "Epoch 158/500\n",
      "74491/74491 [==============================] - 2s 33us/sample - loss: 0.9257 - categorical_accuracy: 0.5201 - val_loss: 0.1007 - val_categorical_accuracy: 0.5234\n",
      "Epoch 159/500\n",
      "74491/74491 [==============================] - 2s 31us/sample - loss: 0.9252 - categorical_accuracy: 0.5177 - val_loss: 0.1016 - val_categorical_accuracy: 0.5220\n",
      "Epoch 160/500\n",
      "74491/74491 [==============================] - 3s 34us/sample - loss: 0.9347 - categorical_accuracy: 0.5128 - val_loss: 0.1008 - val_categorical_accuracy: 0.5234\n",
      "Epoch 161/500\n",
      "74491/74491 [==============================] - 3s 39us/sample - loss: 0.9263 - categorical_accuracy: 0.5155 - val_loss: 0.1017 - val_categorical_accuracy: 0.5116\n",
      "Epoch 162/500\n",
      "74491/74491 [==============================] - 3s 39us/sample - loss: 0.9334 - categorical_accuracy: 0.5081 - val_loss: 0.1019 - val_categorical_accuracy: 0.5216\n",
      "Epoch 163/500\n",
      "74491/74491 [==============================] - 2s 32us/sample - loss: 0.9367 - categorical_accuracy: 0.5128 - val_loss: 0.1019 - val_categorical_accuracy: 0.5164\n",
      "Epoch 164/500\n",
      "74491/74491 [==============================] - 2s 31us/sample - loss: 0.9370 - categorical_accuracy: 0.5076 - val_loss: 0.1037 - val_categorical_accuracy: 0.5086\n",
      "Epoch 165/500\n",
      "74491/74491 [==============================] - 2s 33us/sample - loss: 0.9503 - categorical_accuracy: 0.5032 - val_loss: 0.1024 - val_categorical_accuracy: 0.5184\n",
      "Epoch 166/500\n",
      "74491/74491 [==============================] - 2s 32us/sample - loss: 0.9410 - categorical_accuracy: 0.5094 - val_loss: 0.1078 - val_categorical_accuracy: 0.4930\n",
      "Epoch 167/500\n",
      "74491/74491 [==============================] - 2s 31us/sample - loss: 0.9907 - categorical_accuracy: 0.4847 - val_loss: 0.1066 - val_categorical_accuracy: 0.4984\n",
      "Epoch 168/500\n",
      "74491/74491 [==============================] - 2s 33us/sample - loss: 0.9778 - categorical_accuracy: 0.4869 - val_loss: 0.1052 - val_categorical_accuracy: 0.5080\n",
      "Epoch 169/500\n",
      "74491/74491 [==============================] - 3s 34us/sample - loss: 0.9676 - categorical_accuracy: 0.4972 - val_loss: 0.1038 - val_categorical_accuracy: 0.5176\n",
      "Epoch 170/500\n",
      "74491/74491 [==============================] - 2s 32us/sample - loss: 0.9519 - categorical_accuracy: 0.5092 - val_loss: 0.1042 - val_categorical_accuracy: 0.5132\n",
      "Epoch 171/500\n",
      "74491/74491 [==============================] - 2s 33us/sample - loss: 0.9546 - categorical_accuracy: 0.5038 - val_loss: 0.1044 - val_categorical_accuracy: 0.5134\n",
      "Epoch 172/500\n",
      "74491/74491 [==============================] - 2s 33us/sample - loss: 0.9570 - categorical_accuracy: 0.5045 - val_loss: 0.1037 - val_categorical_accuracy: 0.5176\n",
      "Epoch 173/500\n",
      "74491/74491 [==============================] - 2s 33us/sample - loss: 0.9501 - categorical_accuracy: 0.5094 - val_loss: 0.1035 - val_categorical_accuracy: 0.5044\n",
      "Epoch 174/500\n",
      "74491/74491 [==============================] - 2s 32us/sample - loss: 0.9492 - categorical_accuracy: 0.4984 - val_loss: 0.1023 - val_categorical_accuracy: 0.5166\n",
      "Epoch 175/500\n",
      "74491/74491 [==============================] - 2s 33us/sample - loss: 0.9421 - categorical_accuracy: 0.5100 - val_loss: 0.1025 - val_categorical_accuracy: 0.5146\n",
      "Epoch 176/500\n",
      "74491/74491 [==============================] - 2s 31us/sample - loss: 0.9447 - categorical_accuracy: 0.5094 - val_loss: 0.1023 - val_categorical_accuracy: 0.5172\n",
      "Epoch 177/500\n",
      "74491/74491 [==============================] - 2s 32us/sample - loss: 0.9422 - categorical_accuracy: 0.5093 - val_loss: 0.1024 - val_categorical_accuracy: 0.5168\n",
      "Epoch 178/500\n",
      "74491/74491 [==============================] - 2s 32us/sample - loss: 0.9424 - categorical_accuracy: 0.5061 - val_loss: 0.1024 - val_categorical_accuracy: 0.5190\n",
      "Epoch 179/500\n",
      "74491/74491 [==============================] - 2s 31us/sample - loss: 0.9415 - categorical_accuracy: 0.5100 - val_loss: 0.1013 - val_categorical_accuracy: 0.5250\n",
      "Epoch 180/500\n",
      "74491/74491 [==============================] - 2s 31us/sample - loss: 0.9321 - categorical_accuracy: 0.5178 - val_loss: 0.1017 - val_categorical_accuracy: 0.5226\n",
      "Epoch 181/500\n",
      "74491/74491 [==============================] - 2s 33us/sample - loss: 0.9351 - categorical_accuracy: 0.5141 - val_loss: 0.1018 - val_categorical_accuracy: 0.5170\n",
      "Epoch 182/500\n",
      "74491/74491 [==============================] - 2s 33us/sample - loss: 0.9356 - categorical_accuracy: 0.5125 - val_loss: 0.1016 - val_categorical_accuracy: 0.5154\n",
      "Epoch 183/500\n",
      "74491/74491 [==============================] - 2s 32us/sample - loss: 0.9337 - categorical_accuracy: 0.5130 - val_loss: 0.1014 - val_categorical_accuracy: 0.5250\n",
      "Epoch 184/500\n",
      "74491/74491 [==============================] - 2s 32us/sample - loss: 0.9316 - categorical_accuracy: 0.5179 - val_loss: 0.1012 - val_categorical_accuracy: 0.5248\n",
      "Epoch 185/500\n",
      "74491/74491 [==============================] - 3s 34us/sample - loss: 0.9305 - categorical_accuracy: 0.5168 - val_loss: 0.1005 - val_categorical_accuracy: 0.5269\n",
      "Epoch 186/500\n",
      "74491/74491 [==============================] - 2s 31us/sample - loss: 0.9264 - categorical_accuracy: 0.5185 - val_loss: 0.1007 - val_categorical_accuracy: 0.5275\n",
      "Epoch 187/500\n",
      "74491/74491 [==============================] - 2s 31us/sample - loss: 0.9292 - categorical_accuracy: 0.5167 - val_loss: 0.1002 - val_categorical_accuracy: 0.5244\n",
      "Epoch 188/500\n",
      "74491/74491 [==============================] - 2s 31us/sample - loss: 0.9256 - categorical_accuracy: 0.5146 - val_loss: 0.1004 - val_categorical_accuracy: 0.5230\n",
      "Epoch 189/500\n",
      "74491/74491 [==============================] - 2s 31us/sample - loss: 0.9273 - categorical_accuracy: 0.5140 - val_loss: 0.1003 - val_categorical_accuracy: 0.5230\n",
      "Epoch 190/500\n",
      "74491/74491 [==============================] - 2s 31us/sample - loss: 0.9246 - categorical_accuracy: 0.5162 - val_loss: 0.1004 - val_categorical_accuracy: 0.5257\n",
      "Epoch 191/500\n",
      "74491/74491 [==============================] - 2s 32us/sample - loss: 0.9251 - categorical_accuracy: 0.5195 - val_loss: 0.1001 - val_categorical_accuracy: 0.5234\n",
      "Epoch 192/500\n",
      "74491/74491 [==============================] - 2s 31us/sample - loss: 0.9235 - categorical_accuracy: 0.5148 - val_loss: 0.1001 - val_categorical_accuracy: 0.5244\n",
      "Epoch 193/500\n",
      "74491/74491 [==============================] - 2s 31us/sample - loss: 0.9227 - categorical_accuracy: 0.5161 - val_loss: 0.1002 - val_categorical_accuracy: 0.5287\n",
      "Epoch 194/500\n",
      "74491/74491 [==============================] - 2s 31us/sample - loss: 0.9226 - categorical_accuracy: 0.5191 - val_loss: 0.0999 - val_categorical_accuracy: 0.5289\n",
      "Epoch 195/500\n",
      "74491/74491 [==============================] - 2s 33us/sample - loss: 0.9204 - categorical_accuracy: 0.5208 - val_loss: 0.1000 - val_categorical_accuracy: 0.5275\n",
      "Epoch 196/500\n",
      "74491/74491 [==============================] - 2s 32us/sample - loss: 0.9213 - categorical_accuracy: 0.5194 - val_loss: 0.0998 - val_categorical_accuracy: 0.5279\n",
      "Epoch 197/500\n",
      "74491/74491 [==============================] - 2s 32us/sample - loss: 0.9193 - categorical_accuracy: 0.5215 - val_loss: 0.0997 - val_categorical_accuracy: 0.5279\n",
      "Epoch 198/500\n",
      "74491/74491 [==============================] - 2s 31us/sample - loss: 0.9186 - categorical_accuracy: 0.5216 - val_loss: 0.0997 - val_categorical_accuracy: 0.5275\n",
      "Epoch 199/500\n",
      "74491/74491 [==============================] - 2s 31us/sample - loss: 0.9186 - categorical_accuracy: 0.5183 - val_loss: 0.0995 - val_categorical_accuracy: 0.5269\n",
      "Epoch 200/500\n",
      "74491/74491 [==============================] - 2s 32us/sample - loss: 0.9171 - categorical_accuracy: 0.5204 - val_loss: 0.0995 - val_categorical_accuracy: 0.5313\n",
      "Epoch 201/500\n",
      "74491/74491 [==============================] - 2s 31us/sample - loss: 0.9169 - categorical_accuracy: 0.5224 - val_loss: 0.0995 - val_categorical_accuracy: 0.5279\n",
      "Epoch 202/500\n",
      "74491/74491 [==============================] - 2s 32us/sample - loss: 0.9166 - categorical_accuracy: 0.5205 - val_loss: 0.0994 - val_categorical_accuracy: 0.5299\n",
      "Epoch 203/500\n",
      "74491/74491 [==============================] - 3s 34us/sample - loss: 0.9154 - categorical_accuracy: 0.5226 - val_loss: 0.0993 - val_categorical_accuracy: 0.5315\n",
      "Epoch 204/500\n",
      "74491/74491 [==============================] - 2s 33us/sample - loss: 0.9149 - categorical_accuracy: 0.5234 - val_loss: 0.0994 - val_categorical_accuracy: 0.5305\n",
      "Epoch 205/500\n",
      "74491/74491 [==============================] - 3s 34us/sample - loss: 0.9149 - categorical_accuracy: 0.5225 - val_loss: 0.0993 - val_categorical_accuracy: 0.5311\n",
      "Epoch 206/500\n",
      "74491/74491 [==============================] - 3s 34us/sample - loss: 0.9143 - categorical_accuracy: 0.5231 - val_loss: 0.0992 - val_categorical_accuracy: 0.5309\n",
      "Epoch 207/500\n",
      "74491/74491 [==============================] - 3s 34us/sample - loss: 0.9130 - categorical_accuracy: 0.5227 - val_loss: 0.0991 - val_categorical_accuracy: 0.5321\n",
      "Epoch 208/500\n",
      "74491/74491 [==============================] - 2s 33us/sample - loss: 0.9123 - categorical_accuracy: 0.5234 - val_loss: 0.0991 - val_categorical_accuracy: 0.5287\n",
      "Epoch 209/500\n",
      "74491/74491 [==============================] - 2s 34us/sample - loss: 0.9122 - categorical_accuracy: 0.5219 - val_loss: 0.0990 - val_categorical_accuracy: 0.5303\n",
      "Epoch 210/500\n",
      "74491/74491 [==============================] - 2s 32us/sample - loss: 0.9116 - categorical_accuracy: 0.5229 - val_loss: 0.0990 - val_categorical_accuracy: 0.5317\n",
      "Epoch 211/500\n",
      "74491/74491 [==============================] - 2s 31us/sample - loss: 0.9110 - categorical_accuracy: 0.5234 - val_loss: 0.0991 - val_categorical_accuracy: 0.5299\n",
      "Epoch 212/500\n",
      "74491/74491 [==============================] - 2s 32us/sample - loss: 0.9114 - categorical_accuracy: 0.5213 - val_loss: 0.0991 - val_categorical_accuracy: 0.5297\n",
      "Epoch 213/500\n",
      "74491/74491 [==============================] - 2s 32us/sample - loss: 0.9120 - categorical_accuracy: 0.5219 - val_loss: 0.0995 - val_categorical_accuracy: 0.5277\n",
      "Epoch 214/500\n",
      "74491/74491 [==============================] - 2s 33us/sample - loss: 0.9147 - categorical_accuracy: 0.5195 - val_loss: 0.1000 - val_categorical_accuracy: 0.5218\n",
      "Epoch 215/500\n",
      "74491/74491 [==============================] - 2s 31us/sample - loss: 0.9202 - categorical_accuracy: 0.5138 - val_loss: 0.1024 - val_categorical_accuracy: 0.5170\n",
      "Epoch 216/500\n",
      "74491/74491 [==============================] - 2s 33us/sample - loss: 0.9419 - categorical_accuracy: 0.5065 - val_loss: 0.1005 - val_categorical_accuracy: 0.5206\n",
      "Epoch 217/500\n",
      "74491/74491 [==============================] - 2s 31us/sample - loss: 0.9236 - categorical_accuracy: 0.5127 - val_loss: 0.0994 - val_categorical_accuracy: 0.5335\n",
      "Epoch 218/500\n",
      "74491/74491 [==============================] - 2s 33us/sample - loss: 0.9140 - categorical_accuracy: 0.5231 - val_loss: 0.1002 - val_categorical_accuracy: 0.5240\n",
      "Epoch 219/500\n",
      "74491/74491 [==============================] - 2s 32us/sample - loss: 0.9196 - categorical_accuracy: 0.5172 - val_loss: 0.0997 - val_categorical_accuracy: 0.5293\n",
      "Epoch 220/500\n",
      "74491/74491 [==============================] - 2s 30us/sample - loss: 0.9152 - categorical_accuracy: 0.5205 - val_loss: 0.1000 - val_categorical_accuracy: 0.5273\n",
      "Epoch 221/500\n",
      "74491/74491 [==============================] - 2s 32us/sample - loss: 0.9204 - categorical_accuracy: 0.5161 - val_loss: 0.1003 - val_categorical_accuracy: 0.5236\n",
      "Epoch 222/500\n",
      "74491/74491 [==============================] - 3s 34us/sample - loss: 0.9211 - categorical_accuracy: 0.5147 - val_loss: 0.0996 - val_categorical_accuracy: 0.5244\n",
      "Epoch 223/500\n",
      "74491/74491 [==============================] - 2s 33us/sample - loss: 0.9143 - categorical_accuracy: 0.5186 - val_loss: 0.1006 - val_categorical_accuracy: 0.5238\n",
      "Epoch 224/500\n",
      "74491/74491 [==============================] - 2s 31us/sample - loss: 0.9256 - categorical_accuracy: 0.5151 - val_loss: 0.1011 - val_categorical_accuracy: 0.5230\n",
      "Epoch 225/500\n",
      "74491/74491 [==============================] - 2s 31us/sample - loss: 0.9297 - categorical_accuracy: 0.5132 - val_loss: 0.0999 - val_categorical_accuracy: 0.5251\n",
      "Epoch 226/500\n",
      "74491/74491 [==============================] - 2s 31us/sample - loss: 0.9177 - categorical_accuracy: 0.5155 - val_loss: 0.1014 - val_categorical_accuracy: 0.5242\n",
      "Epoch 227/500\n",
      "74491/74491 [==============================] - 2s 33us/sample - loss: 0.9296 - categorical_accuracy: 0.5163 - val_loss: 0.1001 - val_categorical_accuracy: 0.5287\n",
      "Epoch 228/500\n",
      "74491/74491 [==============================] - 2s 31us/sample - loss: 0.9194 - categorical_accuracy: 0.5202 - val_loss: 0.1008 - val_categorical_accuracy: 0.5212\n",
      "Epoch 229/500\n",
      "74491/74491 [==============================] - 2s 33us/sample - loss: 0.9269 - categorical_accuracy: 0.5120 - val_loss: 0.0998 - val_categorical_accuracy: 0.5287\n",
      "Epoch 230/500\n",
      "74491/74491 [==============================] - 2s 33us/sample - loss: 0.9159 - categorical_accuracy: 0.5173 - val_loss: 0.1012 - val_categorical_accuracy: 0.5164\n",
      "Epoch 231/500\n",
      "74491/74491 [==============================] - 3s 35us/sample - loss: 0.9272 - categorical_accuracy: 0.5084 - val_loss: 0.0996 - val_categorical_accuracy: 0.5307\n",
      "Epoch 232/500\n",
      "74491/74491 [==============================] - 2s 31us/sample - loss: 0.9145 - categorical_accuracy: 0.5233 - val_loss: 0.0997 - val_categorical_accuracy: 0.5277\n",
      "Epoch 233/500\n",
      "74491/74491 [==============================] - 2s 32us/sample - loss: 0.9164 - categorical_accuracy: 0.5194 - val_loss: 0.1001 - val_categorical_accuracy: 0.5208\n",
      "Epoch 234/500\n",
      "74491/74491 [==============================] - 2s 32us/sample - loss: 0.9191 - categorical_accuracy: 0.5137 - val_loss: 0.0996 - val_categorical_accuracy: 0.5309\n",
      "Epoch 235/500\n",
      "74491/74491 [==============================] - 2s 31us/sample - loss: 0.9155 - categorical_accuracy: 0.5219 - val_loss: 0.0993 - val_categorical_accuracy: 0.5295\n",
      "Epoch 236/500\n",
      "74491/74491 [==============================] - 2s 30us/sample - loss: 0.9135 - categorical_accuracy: 0.5189 - val_loss: 0.1002 - val_categorical_accuracy: 0.5242\n",
      "Epoch 237/500\n",
      "74491/74491 [==============================] - 2s 33us/sample - loss: 0.9216 - categorical_accuracy: 0.5181 - val_loss: 0.0992 - val_categorical_accuracy: 0.5307\n",
      "Epoch 238/500\n",
      "74491/74491 [==============================] - 2s 33us/sample - loss: 0.9127 - categorical_accuracy: 0.5206 - val_loss: 0.0990 - val_categorical_accuracy: 0.5333\n",
      "Epoch 239/500\n",
      "74491/74491 [==============================] - 2s 31us/sample - loss: 0.9095 - categorical_accuracy: 0.5240 - val_loss: 0.0994 - val_categorical_accuracy: 0.5257\n",
      "Epoch 240/500\n",
      "74491/74491 [==============================] - 2s 32us/sample - loss: 0.9121 - categorical_accuracy: 0.5176 - val_loss: 0.0993 - val_categorical_accuracy: 0.5325\n",
      "Epoch 241/500\n",
      "74491/74491 [==============================] - 2s 32us/sample - loss: 0.9132 - categorical_accuracy: 0.5240 - val_loss: 0.0988 - val_categorical_accuracy: 0.5305\n",
      "Epoch 242/500\n",
      "74491/74491 [==============================] - 2s 32us/sample - loss: 0.9086 - categorical_accuracy: 0.5221 - val_loss: 0.0986 - val_categorical_accuracy: 0.5279\n",
      "Epoch 243/500\n",
      "74491/74491 [==============================] - 2s 32us/sample - loss: 0.9067 - categorical_accuracy: 0.5208 - val_loss: 0.0988 - val_categorical_accuracy: 0.5309\n",
      "Epoch 244/500\n",
      "74491/74491 [==============================] - 3s 34us/sample - loss: 0.9088 - categorical_accuracy: 0.5213 - val_loss: 0.0987 - val_categorical_accuracy: 0.5333\n",
      "Epoch 245/500\n",
      "74491/74491 [==============================] - 2s 32us/sample - loss: 0.9076 - categorical_accuracy: 0.5226 - val_loss: 0.0984 - val_categorical_accuracy: 0.5335\n",
      "Epoch 246/500\n",
      "74491/74491 [==============================] - 2s 33us/sample - loss: 0.9046 - categorical_accuracy: 0.5239 - val_loss: 0.0984 - val_categorical_accuracy: 0.5329\n",
      "Epoch 247/500\n",
      "74491/74491 [==============================] - 2s 33us/sample - loss: 0.9045 - categorical_accuracy: 0.5244 - val_loss: 0.0984 - val_categorical_accuracy: 0.5283\n",
      "Epoch 248/500\n",
      "74491/74491 [==============================] - 2s 31us/sample - loss: 0.9053 - categorical_accuracy: 0.5225 - val_loss: 0.0983 - val_categorical_accuracy: 0.5327\n",
      "Epoch 249/500\n",
      "74491/74491 [==============================] - 2s 32us/sample - loss: 0.9040 - categorical_accuracy: 0.5240 - val_loss: 0.0981 - val_categorical_accuracy: 0.5323\n",
      "Epoch 250/500\n",
      "74491/74491 [==============================] - 3s 35us/sample - loss: 0.9022 - categorical_accuracy: 0.5240 - val_loss: 0.0982 - val_categorical_accuracy: 0.5329\n",
      "Epoch 251/500\n",
      "74491/74491 [==============================] - 2s 31us/sample - loss: 0.9024 - categorical_accuracy: 0.5242 - val_loss: 0.0981 - val_categorical_accuracy: 0.5351\n",
      "Epoch 252/500\n",
      "74491/74491 [==============================] - 2s 32us/sample - loss: 0.9028 - categorical_accuracy: 0.5239 - val_loss: 0.0980 - val_categorical_accuracy: 0.5341\n",
      "Epoch 253/500\n",
      "74491/74491 [==============================] - 2s 31us/sample - loss: 0.9009 - categorical_accuracy: 0.5245 - val_loss: 0.0981 - val_categorical_accuracy: 0.5329\n",
      "Epoch 254/500\n",
      "74491/74491 [==============================] - 2s 33us/sample - loss: 0.9006 - categorical_accuracy: 0.5249 - val_loss: 0.0982 - val_categorical_accuracy: 0.5329\n",
      "Epoch 255/500\n",
      "74491/74491 [==============================] - 2s 31us/sample - loss: 0.9026 - categorical_accuracy: 0.5224 - val_loss: 0.0988 - val_categorical_accuracy: 0.5315\n",
      "Epoch 256/500\n",
      "74491/74491 [==============================] - 2s 33us/sample - loss: 0.9070 - categorical_accuracy: 0.5224 - val_loss: 0.1017 - val_categorical_accuracy: 0.4988\n",
      "Epoch 257/500\n",
      "74491/74491 [==============================] - 2s 33us/sample - loss: 0.9338 - categorical_accuracy: 0.4948 - val_loss: 0.1113 - val_categorical_accuracy: 0.5030\n",
      "Epoch 258/500\n",
      "74491/74491 [==============================] - 2s 31us/sample - loss: 1.0208 - categorical_accuracy: 0.4892 - val_loss: 0.1047 - val_categorical_accuracy: 0.5190\n",
      "Epoch 259/500\n",
      "74491/74491 [==============================] - 3s 34us/sample - loss: 0.9644 - categorical_accuracy: 0.5102 - val_loss: 0.1045 - val_categorical_accuracy: 0.4659\n",
      "Epoch 260/500\n",
      "74491/74491 [==============================] - 2s 30us/sample - loss: 0.9640 - categorical_accuracy: 0.4435 - val_loss: 0.1090 - val_categorical_accuracy: 0.4842\n",
      "Epoch 261/500\n",
      "74491/74491 [==============================] - 3s 34us/sample - loss: 1.0002 - categorical_accuracy: 0.4672 - val_loss: 0.1036 - val_categorical_accuracy: 0.5124\n",
      "Epoch 262/500\n",
      "74491/74491 [==============================] - 2s 30us/sample - loss: 0.9543 - categorical_accuracy: 0.5054 - val_loss: 0.1045 - val_categorical_accuracy: 0.5136\n",
      "Epoch 263/500\n",
      "74491/74491 [==============================] - 3s 34us/sample - loss: 0.9663 - categorical_accuracy: 0.5025 - val_loss: 0.1055 - val_categorical_accuracy: 0.5122\n",
      "Epoch 264/500\n",
      "74491/74491 [==============================] - 2s 31us/sample - loss: 0.9718 - categorical_accuracy: 0.5031 - val_loss: 0.1037 - val_categorical_accuracy: 0.5152\n",
      "Epoch 265/500\n",
      "74491/74491 [==============================] - 2s 32us/sample - loss: 0.9503 - categorical_accuracy: 0.5067 - val_loss: 0.1035 - val_categorical_accuracy: 0.5134\n",
      "Epoch 266/500\n",
      "74491/74491 [==============================] - 2s 31us/sample - loss: 0.9502 - categorical_accuracy: 0.5065 - val_loss: 0.1031 - val_categorical_accuracy: 0.5206\n",
      "Epoch 267/500\n",
      "74491/74491 [==============================] - 2s 33us/sample - loss: 0.9486 - categorical_accuracy: 0.5103 - val_loss: 0.1028 - val_categorical_accuracy: 0.5234\n",
      "Epoch 268/500\n",
      "74491/74491 [==============================] - 2s 33us/sample - loss: 0.9465 - categorical_accuracy: 0.5113 - val_loss: 0.1022 - val_categorical_accuracy: 0.5212\n",
      "Epoch 269/500\n",
      "74491/74491 [==============================] - 2s 31us/sample - loss: 0.9433 - categorical_accuracy: 0.5116 - val_loss: 0.1022 - val_categorical_accuracy: 0.5206\n",
      "Epoch 270/500\n",
      "74491/74491 [==============================] - 2s 33us/sample - loss: 0.9448 - categorical_accuracy: 0.5117 - val_loss: 0.1013 - val_categorical_accuracy: 0.5226\n",
      "Epoch 271/500\n",
      "74491/74491 [==============================] - 2s 33us/sample - loss: 0.9369 - categorical_accuracy: 0.5129 - val_loss: 0.1014 - val_categorical_accuracy: 0.5226\n",
      "Epoch 272/500\n",
      "74491/74491 [==============================] - 2s 32us/sample - loss: 0.9366 - categorical_accuracy: 0.5118 - val_loss: 0.1020 - val_categorical_accuracy: 0.5188\n",
      "Epoch 273/500\n",
      "74491/74491 [==============================] - 2s 32us/sample - loss: 0.9396 - categorical_accuracy: 0.5106 - val_loss: 0.1011 - val_categorical_accuracy: 0.5212\n",
      "Epoch 274/500\n",
      "74491/74491 [==============================] - 2s 32us/sample - loss: 0.9319 - categorical_accuracy: 0.5132 - val_loss: 0.1008 - val_categorical_accuracy: 0.5208\n",
      "Epoch 275/500\n",
      "74491/74491 [==============================] - 2s 32us/sample - loss: 0.9291 - categorical_accuracy: 0.5139 - val_loss: 0.1004 - val_categorical_accuracy: 0.5220\n",
      "Epoch 276/500\n",
      "74491/74491 [==============================] - 2s 32us/sample - loss: 0.9272 - categorical_accuracy: 0.5139 - val_loss: 0.1000 - val_categorical_accuracy: 0.5257\n",
      "Epoch 277/500\n",
      "74491/74491 [==============================] - 2s 31us/sample - loss: 0.9228 - categorical_accuracy: 0.5147 - val_loss: 0.1002 - val_categorical_accuracy: 0.5228\n",
      "Epoch 278/500\n",
      "74491/74491 [==============================] - 2s 31us/sample - loss: 0.9244 - categorical_accuracy: 0.5126 - val_loss: 0.0996 - val_categorical_accuracy: 0.5248\n",
      "Epoch 279/500\n",
      "74491/74491 [==============================] - 2s 32us/sample - loss: 0.9207 - categorical_accuracy: 0.5124 - val_loss: 0.0998 - val_categorical_accuracy: 0.5261\n",
      "Epoch 280/500\n",
      "74491/74491 [==============================] - 2s 31us/sample - loss: 0.9224 - categorical_accuracy: 0.5147 - val_loss: 0.0996 - val_categorical_accuracy: 0.5259\n",
      "Epoch 281/500\n",
      "74491/74491 [==============================] - 2s 33us/sample - loss: 0.9198 - categorical_accuracy: 0.5151 - val_loss: 0.0996 - val_categorical_accuracy: 0.5214\n",
      "Epoch 282/500\n",
      "74491/74491 [==============================] - 3s 34us/sample - loss: 0.9189 - categorical_accuracy: 0.5112 - val_loss: 0.0993 - val_categorical_accuracy: 0.5240\n",
      "Epoch 283/500\n",
      "74491/74491 [==============================] - 2s 31us/sample - loss: 0.9169 - categorical_accuracy: 0.5136 - val_loss: 0.0994 - val_categorical_accuracy: 0.5255\n",
      "Epoch 284/500\n",
      "74491/74491 [==============================] - 2s 32us/sample - loss: 0.9177 - categorical_accuracy: 0.5159 - val_loss: 0.0990 - val_categorical_accuracy: 0.5253\n",
      "Epoch 285/500\n",
      "74491/74491 [==============================] - 2s 32us/sample - loss: 0.9157 - categorical_accuracy: 0.5156 - val_loss: 0.0991 - val_categorical_accuracy: 0.5236\n",
      "Epoch 286/500\n",
      "74491/74491 [==============================] - 2s 29us/sample - loss: 0.9170 - categorical_accuracy: 0.5138 - val_loss: 0.0989 - val_categorical_accuracy: 0.5259\n",
      "Epoch 287/500\n",
      "74491/74491 [==============================] - 2s 31us/sample - loss: 0.9154 - categorical_accuracy: 0.5150 - val_loss: 0.0988 - val_categorical_accuracy: 0.5263\n",
      "Epoch 288/500\n",
      "74491/74491 [==============================] - 2s 33us/sample - loss: 0.9144 - categorical_accuracy: 0.5159 - val_loss: 0.0988 - val_categorical_accuracy: 0.5267\n",
      "Epoch 289/500\n",
      "74491/74491 [==============================] - 2s 30us/sample - loss: 0.9130 - categorical_accuracy: 0.5164 - val_loss: 0.0990 - val_categorical_accuracy: 0.5285\n",
      "Epoch 290/500\n",
      "74491/74491 [==============================] - 2s 31us/sample - loss: 0.9129 - categorical_accuracy: 0.5191 - val_loss: 0.0988 - val_categorical_accuracy: 0.5261\n",
      "Epoch 291/500\n",
      "74491/74491 [==============================] - 2s 30us/sample - loss: 0.9111 - categorical_accuracy: 0.5166 - val_loss: 0.0986 - val_categorical_accuracy: 0.5273\n",
      "Epoch 292/500\n",
      "74491/74491 [==============================] - 2s 29us/sample - loss: 0.9093 - categorical_accuracy: 0.5170 - val_loss: 0.0985 - val_categorical_accuracy: 0.5293\n",
      "Epoch 293/500\n",
      "74491/74491 [==============================] - 2s 30us/sample - loss: 0.9075 - categorical_accuracy: 0.5191 - val_loss: 0.0985 - val_categorical_accuracy: 0.5273\n",
      "Epoch 294/500\n",
      "74491/74491 [==============================] - 2s 30us/sample - loss: 0.9072 - categorical_accuracy: 0.5205 - val_loss: 0.0987 - val_categorical_accuracy: 0.5297\n",
      "Epoch 295/500\n",
      "74491/74491 [==============================] - 2s 30us/sample - loss: 0.9082 - categorical_accuracy: 0.5223 - val_loss: 0.0987 - val_categorical_accuracy: 0.5265\n",
      "Epoch 296/500\n",
      "74491/74491 [==============================] - 2s 32us/sample - loss: 0.9110 - categorical_accuracy: 0.5193 - val_loss: 0.0995 - val_categorical_accuracy: 0.5287\n",
      "Epoch 297/500\n",
      "74491/74491 [==============================] - 2s 29us/sample - loss: 0.9157 - categorical_accuracy: 0.5195 - val_loss: 0.1003 - val_categorical_accuracy: 0.5242\n",
      "Epoch 298/500\n",
      "74491/74491 [==============================] - 2s 30us/sample - loss: 0.9248 - categorical_accuracy: 0.5158 - val_loss: 0.0991 - val_categorical_accuracy: 0.5317\n",
      "Epoch 299/500\n",
      "74491/74491 [==============================] - 2s 31us/sample - loss: 0.9120 - categorical_accuracy: 0.5225 - val_loss: 0.0986 - val_categorical_accuracy: 0.5307\n",
      "Epoch 300/500\n",
      "74491/74491 [==============================] - 2s 30us/sample - loss: 0.9067 - categorical_accuracy: 0.5224 - val_loss: 0.0995 - val_categorical_accuracy: 0.5269\n",
      "Epoch 301/500\n",
      "74491/74491 [==============================] - 2s 31us/sample - loss: 0.9152 - categorical_accuracy: 0.5169 - val_loss: 0.0998 - val_categorical_accuracy: 0.5257\n",
      "Epoch 302/500\n",
      "74491/74491 [==============================] - 2s 29us/sample - loss: 0.9173 - categorical_accuracy: 0.5184 - val_loss: 0.0983 - val_categorical_accuracy: 0.5331\n"
     ]
    }
   ],
   "source": [
    "# Define validation data\n",
    "validation_data = ([X, fltr], Y, val_mask)\n",
    "\n",
    "history = model.fit([X, fltr],\n",
    "          Y,\n",
    "          sample_weight=train_mask,\n",
    "          epochs=epochs,\n",
    "          batch_size=N,\n",
    "          validation_data=validation_data,\n",
    "          shuffle=False,  # Shuffling data means shuffling the whole graph\n",
    "          callbacks=[\n",
    "              EarlyStopping(patience=50,  restore_best_weights=True)\n",
    "          ])"
   ]
  },
  {
   "cell_type": "markdown",
   "metadata": {},
   "source": [
    "# Plot training history"
   ]
  },
  {
   "cell_type": "code",
   "execution_count": 46,
   "metadata": {},
   "outputs": [
    {
     "data": {
      "image/png": "[encoded data removed]",
      "text/plain": [
       "<Figure size 432x288 with 1 Axes>"
      ]
     },
     "metadata": {
      "needs_background": "light"
     },
     "output_type": "display_data"
    }
   ],
   "source": [
    "fig, ax = plt.subplots()\n",
    "ax.plot(history.history['loss'], label='loss')\n",
    "ax.plot(history.history['val_loss'], label='val_loss')\n",
    "ax.legend()\n",
    "plt.show()"
   ]
  },
  {
   "cell_type": "code",
   "execution_count": 47,
   "metadata": {},
   "outputs": [
    {
     "data": {
      "image/png": "[encoded data removed]",
      "text/plain": [
       "<Figure size 432x288 with 1 Axes>"
      ]
     },
     "metadata": {
      "needs_background": "light"
     },
     "output_type": "display_data"
    }
   ],
   "source": [
    "fig, ax = plt.subplots()\n",
    "ax.plot(history.history['categorical_accuracy'], label='categorical_accuracy')\n",
    "ax.plot(history.history['val_categorical_accuracy'], label='val_categorical_accuracy')\n",
    "ax.legend()\n",
    "plt.show()"
   ]
  },
  {
   "cell_type": "markdown",
   "metadata": {},
   "source": [
    "# Save model to disk"
   ]
  },
  {
   "cell_type": "code",
   "execution_count": 49,
   "metadata": {},
   "outputs": [],
   "source": [
    "model.save(modelfile)"
   ]
  }
 ],
 "metadata": {
  "kernelspec": {
   "display_name": "Python 3",
   "language": "python",
   "name": "python3"
  },
  "language_info": {
   "codemirror_mode": {
    "name": "ipython",
    "version": 3
   },
   "file_extension": ".py",
   "mimetype": "text/x-python",
   "name": "python",
   "nbconvert_exporter": "python",
   "pygments_lexer": "ipython3",
   "version": "3.6.9"
  }
 },
 "nbformat": 4,
 "nbformat_minor": 4
}
