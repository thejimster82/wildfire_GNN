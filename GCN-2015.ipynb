{
 "cells": [
  {
   "cell_type": "markdown",
   "metadata": {},
   "source": [
    "# GNN runner\n",
    "## Mark Tenzer & Jimmy Howerton\n",
    "## Adapted from code provided with the Spektral package, cited below:\n",
    "https://github.com/danielegrattarola/spektral/blob/master/examples/node_prediction/citation_gcn.py\n"
   ]
  },
  {
   "cell_type": "markdown",
   "metadata": {},
   "source": [
    "# Imports"
   ]
  },
  {
   "cell_type": "code",
   "execution_count": 1,
   "metadata": {},
   "outputs": [],
   "source": [
    "# Base python\n",
    "import pickle # for loading sparse matrix from disk\n",
    "import gc     # for garbage collection (RAM management/cleanup)\n",
    "\n",
    "# Common scientific packages\n",
    "import pandas as pd\n",
    "import numpy as np\n",
    "import matplotlib.pyplot as plt\n",
    "from scipy import sparse\n",
    "import math\n",
    "\n",
    "# Scikit-learn imports\n",
    "from sklearn.model_selection import train_test_split\n",
    "from sklearn.impute import SimpleImputer\n",
    "from sklearn.preprocessing import MinMaxScaler\n",
    "from sklearn.metrics import confusion_matrix\n",
    "\n",
    "# TF imports\n",
    "from tensorflow.keras.callbacks import EarlyStopping, LearningRateScheduler, Callback\n",
    "from tensorflow.keras.layers import Input, Dropout, BatchNormalization\n",
    "from tensorflow.keras.models import Model\n",
    "from tensorflow.keras.optimizers import Adam\n",
    "from tensorflow.keras.regularizers import l2\n",
    "import tensorflow as tf\n",
    "# Spektral imports for GNN\n",
    "from spektral.layers import GraphConv, GraphSageConv, GINConv"
   ]
  },
  {
   "cell_type": "code",
   "execution_count": 2,
   "metadata": {},
   "outputs": [
    {
     "output_type": "stream",
     "name": "stdout",
     "text": "Num GPUs Available:  1\n"
    }
   ],
   "source": [
    "print(\"Num GPUs Available: \", len(tf.config.experimental.list_physical_devices('GPU')))"
   ]
  },
  {
   "cell_type": "markdown",
   "metadata": {},
   "source": [
    "# Config"
   ]
  },
  {
   "cell_type": "code",
   "execution_count": 56,
   "metadata": {},
   "outputs": [],
   "source": [
    "# Type of graph convolution\n",
    "Conv = GraphConv\n",
    "\n",
    "# File location to save model\n",
    "modelfile = \"GraphConv-adaptive-2015.h5\"\n",
    "\n",
    "# Number of graph convolution layers\n",
    "n_layers = 5\n",
    "\n",
    "# Number of channels at each conv\n",
    "channels = 64\n",
    "\n",
    "# Adjacency matrix of choice\n",
    "adj_file = \"Aboth.pkl\"\n",
    "\n",
    "# Maximum number of training epochs\n",
    "epochs = 500\n",
    "\n",
    "# Dropout rate\n",
    "# dropout_rate = 0.5"
   ]
  },
  {
   "cell_type": "markdown",
   "metadata": {},
   "source": [
    "# Read the adjacency matrix $A$"
   ]
  },
  {
   "cell_type": "markdown",
   "metadata": {},
   "source": [
    "#### Load $A$ from disk"
   ]
  },
  {
   "cell_type": "code",
   "execution_count": 5,
   "metadata": {},
   "outputs": [],
   "source": [
    "with open(adj_file, 'rb') as f:\n",
    "    A = pickle.load(f)"
   ]
  },
  {
   "cell_type": "markdown",
   "metadata": {},
   "source": [
    "#### Preprocess $A$ as needed for this GNN convolution technique"
   ]
  },
  {
   "cell_type": "code",
   "execution_count": 6,
   "metadata": {},
   "outputs": [],
   "source": [
    "fltr = Conv.preprocess(A.astype('float32'))"
   ]
  },
  {
   "cell_type": "markdown",
   "metadata": {},
   "source": [
    "# Read the data"
   ]
  },
  {
   "cell_type": "markdown",
   "metadata": {},
   "source": [
    "#### Initial read of file"
   ]
  },
  {
   "cell_type": "code",
   "execution_count": 7,
   "metadata": {},
   "outputs": [],
   "source": [
    "data = pd.read_csv('~/fires_merged_weather.csv', index_col=0,\n",
    "                  #dtype for smaller representation\n",
    "                  dtype={#'STAT_CAUSE_DESCR': 'category', 'STATE': 'category', 'DISCOVERY_MONTH': 'category',\n",
    "                        'Fog': 'bool', 'FunnelCloud': 'bool', 'Hail': 'bool', 'Rain': 'bool',\n",
    "                        'Snow': 'bool', 'Thunder': 'bool'}\n",
    "                  )"
   ]
  },
  {
   "cell_type": "markdown",
   "metadata": {},
   "source": [
    "#### Drop unnecessary columns"
   ]
  },
  {
   "cell_type": "code",
   "execution_count": 8,
   "metadata": {},
   "outputs": [],
   "source": [
    "data.drop(['Unnamed: 0.1', 'index_x', 'FOD_ID', 'FIRE_NAME', 'DISCOVERY_DOY_SCALED',\n",
    "           'x_fire', 'y_fire', 'z_fire',\n",
    "           'index_y', 'Begin', 'End', 'Country', 'Day', 'ICAO', 'Latitude', 'Longitude', 'Month', 'STATION NAME',\n",
    "           'State', 'Station', 'USAF', 'Unnamed: 0.1.1', 'Unnamed: 0.1.1.1', \n",
    "           'WBAN', 'Year', 'doy', 'x', 'y', 'z',\n",
    "          ],\n",
    "         axis='columns', inplace=True)"
   ]
  },
  {
   "cell_type": "markdown",
   "metadata": {},
   "source": [
    "#### Just 2015 data"
   ]
  },
  {
   "cell_type": "code",
   "execution_count": 9,
   "metadata": {},
   "outputs": [],
   "source": [
    "data = data[data.FIRE_YEAR == 2015]"
   ]
  },
  {
   "cell_type": "markdown",
   "metadata": {},
   "source": [
    "#### Cleanup memory"
   ]
  },
  {
   "cell_type": "code",
   "execution_count": 10,
   "metadata": {},
   "outputs": [
    {
     "output_type": "execute_result",
     "data": {
      "text/plain": "311"
     },
     "metadata": {},
     "execution_count": 10
    }
   ],
   "source": [
    "gc.collect()"
   ]
  },
  {
   "cell_type": "markdown",
   "metadata": {},
   "source": [
    "# Preprocess the data\n",
    "\n",
    "Perform imputation as appropriate; split into train/validation sets."
   ]
  },
  {
   "cell_type": "markdown",
   "metadata": {},
   "source": [
    "#### Split into features and labels"
   ]
  },
  {
   "cell_type": "code",
   "execution_count": 11,
   "metadata": {},
   "outputs": [],
   "source": [
    "Y = pd.get_dummies(data['STAT_CAUSE_DESCR'])\n",
    "X = pd.get_dummies(data.drop('STAT_CAUSE_DESCR', axis='columns'))\n",
    "\n",
    "# Number of examples\n",
    "N = X.shape[0]\n",
    "# Number of features\n",
    "F = X.shape[1]"
   ]
  },
  {
   "cell_type": "markdown",
   "metadata": {},
   "source": [
    "#### Find the missing values, and set to NA"
   ]
  },
  {
   "cell_type": "code",
   "execution_count": 12,
   "metadata": {},
   "outputs": [],
   "source": [
    "for na in [9999.9, 999.9, 99.99]:\n",
    "    X[X == na] = np.nan"
   ]
  },
  {
   "cell_type": "markdown",
   "metadata": {},
   "source": [
    "#### Zero-imputing for some features -- see EDA.ipynb"
   ]
  },
  {
   "cell_type": "code",
   "execution_count": 13,
   "metadata": {},
   "outputs": [],
   "source": [
    "for zcol in ['Gust', 'MaxWindspeed', 'Precip', 'SnowDepth', 'Visibility', 'Windspeed']:\n",
    "    X.loc[X[zcol].isna(), zcol] = 0"
   ]
  },
  {
   "cell_type": "markdown",
   "metadata": {},
   "source": [
    "# Split into training/testing\n",
    "\n",
    "We'll have three sets of nodes: training nodes, validation nodes, and censored nodes (nodes without valid labels).  Note that this is a semi-supervised problem."
   ]
  },
  {
   "cell_type": "markdown",
   "metadata": {},
   "source": [
    "#### Determine which nodes lack valid labels"
   ]
  },
  {
   "cell_type": "code",
   "execution_count": 14,
   "metadata": {},
   "outputs": [],
   "source": [
    "# Determing which fires fit in these categories\n",
    "censor = (data['STAT_CAUSE_DESCR'] == 'Missing/Undefined') | (data['STAT_CAUSE_DESCR'] == 'Miscellaneous')\n",
    "\n",
    "# Drop these levels from the label\n",
    "Y = Y.drop(['Missing/Undefined', 'Miscellaneous'], axis='columns').values\n",
    "\n",
    "# Number of classes left\n",
    "n_classes = Y.shape[1]"
   ]
  },
  {
   "cell_type": "code",
   "execution_count": 15,
   "metadata": {},
   "outputs": [],
   "source": [
    "labeled_ind  = np.arange(data.shape[0])[~censor]\n",
    "censor_ind = np.arange(data.shape[0])[censor ]"
   ]
  },
  {
   "cell_type": "markdown",
   "metadata": {},
   "source": [
    "#### Determine which nodes lack valid labels"
   ]
  },
  {
   "cell_type": "code",
   "execution_count": 16,
   "metadata": {},
   "outputs": [],
   "source": [
    "train_ind, val_ind = train_test_split(labeled_ind, test_size=0.1, random_state=42)\n",
    "\n",
    "# \"Masks\" for training and validation: 1 if in the given set, 0 if not (or no label)\n",
    "train_mask = np.zeros(N)\n",
    "train_mask[train_ind] = 1\n",
    "\n",
    "val_mask = np.zeros(N)\n",
    "val_mask[val_ind] = 1"
   ]
  },
  {
   "cell_type": "markdown",
   "metadata": {},
   "source": [
    "#### Mean imputation for the other features -- see EDA.ipynb"
   ]
  },
  {
   "cell_type": "code",
   "execution_count": 17,
   "metadata": {},
   "outputs": [],
   "source": [
    "imp = SimpleImputer(missing_values=np.nan, strategy='mean')"
   ]
  },
  {
   "cell_type": "code",
   "execution_count": 18,
   "metadata": {},
   "outputs": [
    {
     "output_type": "execute_result",
     "data": {
      "text/plain": "SimpleImputer(add_indicator=False, copy=True, fill_value=None,\n              missing_values=nan, strategy='mean', verbose=0)"
     },
     "metadata": {},
     "execution_count": 18
    }
   ],
   "source": [
    "# Make sure to fit only on the training data!  Otherwise the imputation introduces bias\n",
    "imp.fit(X.values[train_ind, :])"
   ]
  },
  {
   "cell_type": "code",
   "execution_count": 19,
   "metadata": {},
   "outputs": [],
   "source": [
    "# Impute the training and testing values\n",
    "X = imp.transform(X)"
   ]
  },
  {
   "cell_type": "markdown",
   "metadata": {},
   "source": [
    "# Define the model"
   ]
  },
  {
   "cell_type": "markdown",
   "metadata": {},
   "source": [
    "### Model definition"
   ]
  },
  {
   "cell_type": "markdown",
   "metadata": {},
   "source": [
    "GIN: add \"mlp_hidden=\\[64\\]\" parameter to both Conv definitions\n",
    "\n",
    "GraphSAGE: add \"aggregate_op = 'max'\" parameter to both Conv definitions"
   ]
  },
  {
   "cell_type": "code",
   "execution_count": 31,
   "metadata": {},
   "outputs": [],
   "source": [
    "# Input\n",
    "X_in = Input(shape=(F, ))           # features  for this node\n",
    "fltr_in = Input((N, ), sparse=True) # adjacency for this node\n",
    "\n",
    "currentX = X_in\n",
    "\n",
    "# For each of the specified layers, except the last,\n",
    "for _ in range(n_layers - 1):\n",
    "\n",
    "    # Dropout the current layer's inputs\n",
    "    #currentX = Dropout(dropout_rate)(currentX)\n",
    "    \n",
    "    # Graph convolution -- Note that \"Conv\" type was specified in Config section\n",
    "    currentX = Conv(channels,\n",
    "                      activation='relu',\n",
    "                      #kernel_regularizer=l2(0.1),\n",
    "                      #use_bias=False\n",
    "                     )([currentX, fltr_in])\n",
    "    \n",
    "    #currentX = BatchNormalization()(currentX)\n",
    "\n",
    "# Final layer: same approach, except:\n",
    "# instead of n_channels filters, use n_classes so we'll have one probability per class\n",
    "# instead of ReLU activation     use softmax   so we'll have a probability vector summing to 1\n",
    "#currentX = Dropout(dropout_rate)(currentX)\n",
    "\n",
    "output = Conv(n_classes,\n",
    "              activation='softmax',\n",
    "              #use_bias=False\n",
    "             )([currentX, fltr_in])"
   ]
  },
  {
   "cell_type": "markdown",
   "metadata": {},
   "source": [
    "### Model setup"
   ]
  },
  {
   "cell_type": "markdown",
   "metadata": {},
   "source": [
    "Learning Rate Decay: https://towardsdatascience.com/learning-rate-schedules-and-adaptive-learning-rate-methods-for-deep-learning-2c8f433990d1\n",
    "\n",
    "This is only recommended for GIN models"
   ]
  },
  {
   "cell_type": "code",
   "execution_count": 45,
   "metadata": {},
   "outputs": [],
   "source": [
    "# def step_decay(epoch):\n",
    "#    initial_lrate = 1e-2\n",
    "#    drop = 0.5\n",
    "#    epochs_drop = 50.0\n",
    "#    lrate = initial_lrate * math.pow(drop,  \n",
    "#            math.floor((1+epoch)/epochs_drop))\n",
    "#    return lrate"
   ]
  },
  {
   "cell_type": "code",
   "execution_count": 46,
   "metadata": {},
   "outputs": [],
   "source": [
    "# class LossHistory(Callback):\n",
    "#     def on_train_begin(self, logs={}):\n",
    "#        self.losses = []\n",
    "#        self.lr = []\n",
    " \n",
    "#     def on_epoch_end(self, batch, logs={}):\n",
    "#        self.losses.append(logs.get('loss'))\n",
    "#        self.lr.append(step_decay(len(self.losses)))"
   ]
  },
  {
   "cell_type": "code",
   "execution_count": 47,
   "metadata": {},
   "outputs": [],
   "source": [
    "callbacks_list = [EarlyStopping(patience=50,  restore_best_weights=True)]\n",
    "# loss_history = LossHistory()\n",
    "# lrate = LearningRateScheduler(step_decay)\n",
    "# callbacks_list = [loss_history, lrate, EarlyStopping(patience=50,  restore_best_weights=True)]"
   ]
  },
  {
   "cell_type": "code",
   "execution_count": 48,
   "metadata": {},
   "outputs": [
    {
     "output_type": "stream",
     "name": "stdout",
     "text": "Model: \"model_2\"\n__________________________________________________________________________________________________\nLayer (type)                    Output Shape         Param #     Connected to                     \n==================================================================================================\ninput_1 (InputLayer)            [(None, 83)]         0                                            \n__________________________________________________________________________________________________\ninput_2 (InputLayer)            [(None, None)]       0                                            \n__________________________________________________________________________________________________\ngin_conv (GINConv)              (None, 64)           9537        input_1[0][0]                    \n                                                                 input_2[0][0]                    \n__________________________________________________________________________________________________\ngin_conv_1 (GINConv)            (None, 64)           8321        gin_conv[0][0]                   \n                                                                 input_2[0][0]                    \n__________________________________________________________________________________________________\ngin_conv_2 (GINConv)            (None, 64)           8321        gin_conv_1[0][0]                 \n                                                                 input_2[0][0]                    \n__________________________________________________________________________________________________\ngin_conv_3 (GINConv)            (None, 64)           8321        gin_conv_2[0][0]                 \n                                                                 input_2[0][0]                    \n__________________________________________________________________________________________________\ngin_conv_4 (GINConv)            (None, 11)           4876        gin_conv_3[0][0]                 \n                                                                 input_2[0][0]                    \n==================================================================================================\nTotal params: 39,376\nTrainable params: 39,376\nNon-trainable params: 0\n__________________________________________________________________________________________________\n"
    }
   ],
   "source": [
    "# Build model\n",
    "model = Model(inputs=[X_in, fltr_in], outputs=output)\n",
    "model.compile(optimizer=Adam(1e-2),\n",
    "              loss='categorical_crossentropy',\n",
    "              weighted_metrics=['categorical_accuracy'])\n",
    "model.summary()"
   ]
  },
  {
   "cell_type": "markdown",
   "metadata": {},
   "source": [
    "# Model fitting"
   ]
  },
  {
   "cell_type": "code",
   "execution_count": 49,
   "metadata": {
    "tags": [
     "outputPrepend",
     "outputPrepend",
     "outputPrepend",
     "outputPrepend",
     "outputPrepend",
     "outputPrepend",
     "outputPrepend",
     "outputPrepend",
     "outputPrepend",
     "outputPrepend",
     "outputPrepend",
     "outputPrepend",
     "outputPrepend",
     "outputPrepend",
     "outputPrepend",
     "outputPrepend",
     "outputPrepend",
     "outputPrepend",
     "outputPrepend",
     "outputPrepend",
     "outputPrepend",
     "outputPrepend",
     "outputPrepend",
     "outputPrepend",
     "outputPrepend",
     "outputPrepend",
     "outputPrepend",
     "outputPrepend",
     "outputPrepend",
     "outputPrepend",
     "outputPrepend",
     "outputPrepend",
     "outputPrepend",
     "outputPrepend",
     "outputPrepend",
     "outputPrepend",
     "outputPrepend",
     "outputPrepend",
     "outputPrepend",
     "outputPrepend",
     "outputPrepend",
     "outputPrepend",
     "outputPrepend",
     "outputPrepend",
     "outputPrepend",
     "outputPrepend",
     "outputPrepend",
     "outputPrepend",
     "outputPrepend",
     "outputPrepend",
     "outputPrepend",
     "outputPrepend",
     "outputPrepend",
     "outputPrepend",
     "outputPrepend",
     "outputPrepend",
     "outputPrepend",
     "outputPrepend",
     "outputPrepend",
     "outputPrepend",
     "outputPrepend",
     "outputPrepend",
     "outputPrepend",
     "outputPrepend",
     "outputPrepend",
     "outputPrepend",
     "outputPrepend",
     "outputPrepend",
     "outputPrepend",
     "outputPrepend",
     "outputPrepend",
     "outputPrepend",
     "outputPrepend",
     "outputPrepend",
     "outputPrepend",
     "outputPrepend",
     "outputPrepend",
     "outputPrepend",
     "outputPrepend",
     "outputPrepend",
     "outputPrepend",
     "outputPrepend",
     "outputPrepend",
     "outputPrepend",
     "outputPrepend",
     "outputPrepend",
     "outputPrepend",
     "outputPrepend",
     "outputPrepend",
     "outputPrepend",
     "outputPrepend",
     "outputPrepend",
     "outputPrepend",
     "outputPrepend",
     "outputPrepend",
     "outputPrepend",
     "outputPrepend",
     "outputPrepend",
     "outputPrepend",
     "outputPrepend",
     "outputPrepend",
     "outputPrepend",
     "outputPrepend",
     "outputPrepend",
     "outputPrepend",
     "outputPrepend",
     "outputPrepend",
     "outputPrepend",
     "outputPrepend",
     "outputPrepend",
     "outputPrepend",
     "outputPrepend",
     "outputPrepend",
     "outputPrepend",
     "outputPrepend",
     "outputPrepend",
     "outputPrepend",
     "outputPrepend",
     "outputPrepend",
     "outputPrepend",
     "outputPrepend",
     "outputPrepend",
     "outputPrepend",
     "outputPrepend",
     "outputPrepend",
     "outputPrepend",
     "outputPrepend",
     "outputPrepend",
     "outputPrepend",
     "outputPrepend",
     "outputPrepend",
     "outputPrepend",
     "outputPrepend",
     "outputPrepend",
     "outputPrepend",
     "outputPrepend",
     "outputPrepend",
     "outputPrepend",
     "outputPrepend",
     "outputPrepend",
     "outputPrepend",
     "outputPrepend",
     "outputPrepend",
     "outputPrepend",
     "outputPrepend",
     "outputPrepend",
     "outputPrepend",
     "outputPrepend",
     "outputPrepend",
     "outputPrepend",
     "outputPrepend",
     "outputPrepend",
     "outputPrepend",
     "outputPrepend",
     "outputPrepend",
     "outputPrepend",
     "outputPrepend",
     "outputPrepend",
     "outputPrepend",
     "outputPrepend",
     "outputPrepend",
     "outputPrepend",
     "outputPrepend",
     "outputPrepend",
     "outputPrepend",
     "outputPrepend",
     "outputPrepend",
     "outputPrepend",
     "outputPrepend",
     "outputPrepend",
     "outputPrepend",
     "outputPrepend",
     "outputPrepend",
     "outputPrepend",
     "outputPrepend",
     "outputPrepend",
     "outputPrepend",
     "outputPrepend",
     "outputPrepend",
     "outputPrepend",
     "outputPrepend",
     "outputPrepend",
     "outputPrepend",
     "outputPrepend",
     "outputPrepend",
     "outputPrepend",
     "outputPrepend",
     "outputPrepend",
     "outputPrepend",
     "outputPrepend",
     "outputPrepend",
     "outputPrepend",
     "outputPrepend",
     "outputPrepend",
     "outputPrepend",
     "outputPrepend",
     "outputPrepend",
     "outputPrepend",
     "outputPrepend",
     "outputPrepend",
     "outputPrepend",
     "outputPrepend",
     "outputPrepend",
     "outputPrepend",
     "outputPrepend",
     "outputPrepend",
     "outputPrepend",
     "outputPrepend",
     "outputPrepend",
     "outputPrepend",
     "outputPrepend",
     "outputPrepend",
     "outputPrepend",
     "outputPrepend",
     "outputPrepend",
     "outputPrepend",
     "outputPrepend",
     "outputPrepend",
     "outputPrepend",
     "outputPrepend",
     "outputPrepend",
     "outputPrepend",
     "outputPrepend",
     "outputPrepend",
     "outputPrepend",
     "outputPrepend",
     "outputPrepend",
     "outputPrepend",
     "outputPrepend",
     "outputPrepend",
     "outputPrepend",
     "outputPrepend",
     "outputPrepend",
     "outputPrepend",
     "outputPrepend",
     "outputPrepend",
     "outputPrepend",
     "outputPrepend",
     "outputPrepend",
     "outputPrepend",
     "outputPrepend",
     "outputPrepend",
     "outputPrepend",
     "outputPrepend",
     "outputPrepend",
     "outputPrepend",
     "outputPrepend",
     "outputPrepend",
     "outputPrepend",
     "outputPrepend",
     "outputPrepend",
     "outputPrepend",
     "outputPrepend",
     "outputPrepend",
     "outputPrepend",
     "outputPrepend",
     "outputPrepend",
     "outputPrepend",
     "outputPrepend",
     "outputPrepend",
     "outputPrepend",
     "outputPrepend",
     "outputPrepend",
     "outputPrepend",
     "outputPrepend",
     "outputPrepend",
     "outputPrepend",
     "outputPrepend",
     "outputPrepend",
     "outputPrepend",
     "outputPrepend",
     "outputPrepend",
     "outputPrepend",
     "outputPrepend",
     "outputPrepend",
     "outputPrepend",
     "outputPrepend",
     "outputPrepend",
     "outputPrepend",
     "outputPrepend",
     "outputPrepend",
     "outputPrepend",
     "outputPrepend",
     "outputPrepend",
     "outputPrepend",
     "outputPrepend",
     "outputPrepend",
     "outputPrepend",
     "outputPrepend",
     "outputPrepend",
     "outputPrepend",
     "outputPrepend",
     "outputPrepend",
     "outputPrepend",
     "outputPrepend",
     "outputPrepend",
     "outputPrepend",
     "outputPrepend",
     "outputPrepend",
     "outputPrepend",
     "outputPrepend",
     "outputPrepend",
     "outputPrepend",
     "outputPrepend",
     "outputPrepend",
     "outputPrepend",
     "outputPrepend",
     "outputPrepend",
     "outputPrepend",
     "outputPrepend",
     "outputPrepend",
     "outputPrepend",
     "outputPrepend",
     "outputPrepend",
     "outputPrepend",
     "outputPrepend",
     "outputPrepend",
     "outputPrepend",
     "outputPrepend",
     "outputPrepend",
     "outputPrepend",
     "outputPrepend",
     "outputPrepend",
     "outputPrepend",
     "outputPrepend",
     "outputPrepend",
     "outputPrepend",
     "outputPrepend",
     "outputPrepend",
     "outputPrepend",
     "outputPrepend",
     "outputPrepend",
     "outputPrepend",
     "outputPrepend",
     "outputPrepend",
     "outputPrepend",
     "outputPrepend",
     "outputPrepend",
     "outputPrepend",
     "outputPrepend",
     "outputPrepend",
     "outputPrepend",
     "outputPrepend",
     "outputPrepend",
     "outputPrepend",
     "outputPrepend",
     "outputPrepend",
     "outputPrepend",
     "outputPrepend",
     "outputPrepend",
     "outputPrepend",
     "outputPrepend",
     "outputPrepend",
     "outputPrepend",
     "outputPrepend",
     "outputPrepend",
     "outputPrepend",
     "outputPrepend",
     "outputPrepend",
     "outputPrepend",
     "outputPrepend",
     "outputPrepend",
     "outputPrepend",
     "outputPrepend",
     "outputPrepend",
     "outputPrepend",
     "outputPrepend",
     "outputPrepend",
     "outputPrepend",
     "outputPrepend",
     "outputPrepend",
     "outputPrepend",
     "outputPrepend",
     "outputPrepend",
     "outputPrepend",
     "outputPrepend",
     "outputPrepend",
     "outputPrepend",
     "outputPrepend",
     "outputPrepend",
     "outputPrepend",
     "outputPrepend",
     "outputPrepend",
     "outputPrepend",
     "outputPrepend",
     "outputPrepend",
     "outputPrepend",
     "outputPrepend",
     "outputPrepend",
     "outputPrepend",
     "outputPrepend",
     "outputPrepend",
     "outputPrepend",
     "outputPrepend",
     "outputPrepend",
     "outputPrepend",
     "outputPrepend",
     "outputPrepend",
     "outputPrepend",
     "outputPrepend",
     "outputPrepend",
     "outputPrepend",
     "outputPrepend",
     "outputPrepend",
     "outputPrepend",
     "outputPrepend",
     "outputPrepend",
     "outputPrepend",
     "outputPrepend",
     "outputPrepend",
     "outputPrepend",
     "outputPrepend",
     "outputPrepend",
     "outputPrepend",
     "outputPrepend",
     "outputPrepend",
     "outputPrepend",
     "outputPrepend",
     "outputPrepend",
     "outputPrepend",
     "outputPrepend",
     "outputPrepend",
     "outputPrepend",
     "outputPrepend",
     "outputPrepend",
     "outputPrepend",
     "outputPrepend",
     "outputPrepend",
     "outputPrepend",
     "outputPrepend",
     "outputPrepend",
     "outputPrepend",
     "outputPrepend",
     "outputPrepend",
     "outputPrepend",
     "outputPrepend",
     "outputPrepend",
     "outputPrepend",
     "outputPrepend",
     "outputPrepend",
     "outputPrepend",
     "outputPrepend",
     "outputPrepend",
     "outputPrepend",
     "outputPrepend",
     "outputPrepend",
     "outputPrepend",
     "outputPrepend",
     "outputPrepend",
     "outputPrepend",
     "outputPrepend",
     "outputPrepend",
     "outputPrepend",
     "outputPrepend",
     "outputPrepend",
     "outputPrepend",
     "outputPrepend",
     "outputPrepend",
     "outputPrepend",
     "outputPrepend",
     "outputPrepend",
     "outputPrepend",
     "outputPrepend",
     "outputPrepend",
     "outputPrepend",
     "outputPrepend",
     "outputPrepend",
     "outputPrepend",
     "outputPrepend",
     "outputPrepend",
     "outputPrepend",
     "outputPrepend",
     "outputPrepend",
     "outputPrepend",
     "outputPrepend",
     "outputPrepend",
     "outputPrepend",
     "outputPrepend",
     "outputPrepend",
     "outputPrepend",
     "outputPrepend",
     "outputPrepend",
     "outputPrepend",
     "outputPrepend",
     "outputPrepend",
     "outputPrepend",
     "outputPrepend",
     "outputPrepend",
     "outputPrepend",
     "outputPrepend",
     "outputPrepend",
     "outputPrepend",
     "outputPrepend",
     "outputPrepend",
     "outputPrepend",
     "outputPrepend",
     "outputPrepend",
     "outputPrepend",
     "outputPrepend",
     "outputPrepend",
     "outputPrepend",
     "outputPrepend",
     "outputPrepend",
     "outputPrepend",
     "outputPrepend",
     "outputPrepend",
     "outputPrepend",
     "outputPrepend",
     "outputPrepend",
     "outputPrepend",
     "outputPrepend",
     "outputPrepend",
     "outputPrepend",
     "outputPrepend",
     "outputPrepend",
     "outputPrepend",
     "outputPrepend",
     "outputPrepend",
     "outputPrepend",
     "outputPrepend",
     "outputPrepend",
     "outputPrepend",
     "outputPrepend",
     "outputPrepend",
     "outputPrepend",
     "outputPrepend",
     "outputPrepend",
     "outputPrepend",
     "outputPrepend",
     "outputPrepend",
     "outputPrepend",
     "outputPrepend",
     "outputPrepend",
     "outputPrepend",
     "outputPrepend",
     "outputPrepend",
     "outputPrepend",
     "outputPrepend",
     "outputPrepend",
     "outputPrepend",
     "outputPrepend",
     "outputPrepend",
     "outputPrepend",
     "outputPrepend",
     "outputPrepend",
     "outputPrepend",
     "outputPrepend",
     "outputPrepend",
     "outputPrepend",
     "outputPrepend",
     "outputPrepend",
     "outputPrepend",
     "outputPrepend",
     "outputPrepend",
     "outputPrepend",
     "outputPrepend",
     "outputPrepend",
     "outputPrepend",
     "outputPrepend",
     "outputPrepend",
     "outputPrepend",
     "outputPrepend",
     "outputPrepend",
     "outputPrepend",
     "outputPrepend",
     "outputPrepend",
     "outputPrepend",
     "outputPrepend",
     "outputPrepend",
     "outputPrepend",
     "outputPrepend",
     "outputPrepend",
     "outputPrepend",
     "outputPrepend",
     "outputPrepend",
     "outputPrepend",
     "outputPrepend",
     "outputPrepend",
     "outputPrepend",
     "outputPrepend",
     "outputPrepend",
     "outputPrepend",
     "outputPrepend",
     "outputPrepend",
     "outputPrepend",
     "outputPrepend",
     "outputPrepend",
     "outputPrepend",
     "outputPrepend",
     "outputPrepend",
     "outputPrepend",
     "outputPrepend",
     "outputPrepend",
     "outputPrepend",
     "outputPrepend",
     "outputPrepend",
     "outputPrepend",
     "outputPrepend",
     "outputPrepend",
     "outputPrepend",
     "outputPrepend",
     "outputPrepend",
     "outputPrepend",
     "outputPrepend",
     "outputPrepend",
     "outputPrepend",
     "outputPrepend",
     "outputPrepend",
     "outputPrepend",
     "outputPrepend",
     "outputPrepend",
     "outputPrepend",
     "outputPrepend",
     "outputPrepend",
     "outputPrepend",
     "outputPrepend",
     "outputPrepend",
     "outputPrepend",
     "outputPrepend",
     "outputPrepend",
     "outputPrepend",
     "outputPrepend",
     "outputPrepend",
     "outputPrepend",
     "outputPrepend",
     "outputPrepend",
     "outputPrepend",
     "outputPrepend",
     "outputPrepend",
     "outputPrepend",
     "outputPrepend",
     "outputPrepend",
     "outputPrepend",
     "outputPrepend",
     "outputPrepend",
     "outputPrepend",
     "outputPrepend",
     "outputPrepend",
     "outputPrepend",
     "outputPrepend",
     "outputPrepend",
     "outputPrepend",
     "outputPrepend",
     "outputPrepend",
     "outputPrepend",
     "outputPrepend",
     "outputPrepend",
     "outputPrepend",
     "outputPrepend",
     "outputPrepend",
     "outputPrepend",
     "outputPrepend",
     "outputPrepend",
     "outputPrepend",
     "outputPrepend",
     "outputPrepend",
     "outputPrepend",
     "outputPrepend",
     "outputPrepend",
     "outputPrepend",
     "outputPrepend",
     "outputPrepend",
     "outputPrepend",
     "outputPrepend",
     "outputPrepend",
     "outputPrepend",
     "outputPrepend",
     "outputPrepend",
     "outputPrepend",
     "outputPrepend",
     "outputPrepend",
     "outputPrepend",
     "outputPrepend",
     "outputPrepend",
     "outputPrepend",
     "outputPrepend",
     "outputPrepend",
     "outputPrepend",
     "outputPrepend",
     "outputPrepend",
     "outputPrepend",
     "outputPrepend",
     "outputPrepend",
     "outputPrepend",
     "outputPrepend",
     "outputPrepend",
     "outputPrepend",
     "outputPrepend",
     "outputPrepend",
     "outputPrepend",
     "outputPrepend",
     "outputPrepend",
     "outputPrepend",
     "outputPrepend",
     "outputPrepend",
     "outputPrepend",
     "outputPrepend",
     "outputPrepend",
     "outputPrepend",
     "outputPrepend",
     "outputPrepend",
     "outputPrepend",
     "outputPrepend",
     "outputPrepend",
     "outputPrepend",
     "outputPrepend",
     "outputPrepend",
     "outputPrepend",
     "outputPrepend",
     "outputPrepend",
     "outputPrepend",
     "outputPrepend",
     "outputPrepend",
     "outputPrepend",
     "outputPrepend",
     "outputPrepend",
     "outputPrepend",
     "outputPrepend",
     "outputPrepend",
     "outputPrepend",
     "outputPrepend",
     "outputPrepend",
     "outputPrepend",
     "outputPrepend",
     "outputPrepend",
     "outputPrepend",
     "outputPrepend",
     "outputPrepend",
     "outputPrepend",
     "outputPrepend",
     "outputPrepend",
     "outputPrepend",
     "outputPrepend",
     "outputPrepend",
     "outputPrepend",
     "outputPrepend",
     "outputPrepend",
     "outputPrepend",
     "outputPrepend",
     "outputPrepend",
     "outputPrepend",
     "outputPrepend",
     "outputPrepend",
     "outputPrepend",
     "outputPrepend",
     "outputPrepend",
     "outputPrepend",
     "outputPrepend",
     "outputPrepend",
     "outputPrepend",
     "outputPrepend",
     "outputPrepend",
     "outputPrepend",
     "outputPrepend",
     "outputPrepend",
     "outputPrepend",
     "outputPrepend",
     "outputPrepend",
     "outputPrepend",
     "outputPrepend",
     "outputPrepend",
     "outputPrepend",
     "outputPrepend",
     "outputPrepend",
     "outputPrepend",
     "outputPrepend",
     "outputPrepend",
     "outputPrepend",
     "outputPrepend",
     "outputPrepend",
     "outputPrepend",
     "outputPrepend",
     "outputPrepend",
     "outputPrepend",
     "outputPrepend",
     "outputPrepend",
     "outputPrepend",
     "outputPrepend",
     "outputPrepend",
     "outputPrepend",
     "outputPrepend",
     "outputPrepend",
     "outputPrepend",
     "outputPrepend",
     "outputPrepend",
     "outputPrepend",
     "outputPrepend",
     "outputPrepend",
     "outputPrepend"
    ]
   },
   "outputs": [
    {
     "output_type": "stream",
     "name": "stdout",
     "text": "l_loss: 1790.3268 - val_categorical_accuracy: 0.4044\nEpoch 392/500\n74491/74491 [==============================] - 1s 14us/sample - loss: 62130.3359 - categorical_accuracy: 0.3995 - val_loss: 1790.3031 - val_categorical_accuracy: 0.4042\nEpoch 393/500\n74491/74491 [==============================] - 1s 14us/sample - loss: 62043.7734 - categorical_accuracy: 0.3991 - val_loss: 1790.2345 - val_categorical_accuracy: 0.4038\nEpoch 394/500\n74491/74491 [==============================] - 1s 13us/sample - loss: 62000.6406 - categorical_accuracy: 0.3990 - val_loss: 1790.1212 - val_categorical_accuracy: 0.4028\nEpoch 395/500\n74491/74491 [==============================] - 1s 14us/sample - loss: 61901.0078 - categorical_accuracy: 0.3988 - val_loss: 1790.0128 - val_categorical_accuracy: 0.4028\nEpoch 396/500\n74491/74491 [==============================] - 1s 14us/sample - loss: 61862.6523 - categorical_accuracy: 0.3989 - val_loss: 1789.9885 - val_categorical_accuracy: 0.4026\nEpoch 397/500\n74491/74491 [==============================] - 1s 14us/sample - loss: 61835.1250 - categorical_accuracy: 0.3989 - val_loss: 1795.1581 - val_categorical_accuracy: 0.4022\nEpoch 398/500\n74491/74491 [==============================] - 1s 14us/sample - loss: 61808.9727 - categorical_accuracy: 0.3988 - val_loss: 1811.2717 - val_categorical_accuracy: 0.4018\nEpoch 399/500\n74491/74491 [==============================] - 1s 14us/sample - loss: 61891.6680 - categorical_accuracy: 0.3985 - val_loss: 1824.6241 - val_categorical_accuracy: 0.4010\nEpoch 400/500\n74491/74491 [==============================] - 1s 14us/sample - loss: 61981.3906 - categorical_accuracy: 0.3977 - val_loss: 1793.2120 - val_categorical_accuracy: 0.4022\nEpoch 401/500\n74491/74491 [==============================] - 1s 14us/sample - loss: 61760.9570 - categorical_accuracy: 0.3985 - val_loss: 1789.1213 - val_categorical_accuracy: 0.4026\nEpoch 402/500\n74491/74491 [==============================] - 1s 14us/sample - loss: 61786.3125 - categorical_accuracy: 0.3986 - val_loss: 1788.7063 - val_categorical_accuracy: 0.4026\nEpoch 403/500\n74491/74491 [==============================] - 1s 15us/sample - loss: 61795.3984 - categorical_accuracy: 0.3987 - val_loss: 1788.3083 - val_categorical_accuracy: 0.4028\nEpoch 404/500\n74491/74491 [==============================] - 1s 14us/sample - loss: 61826.2930 - categorical_accuracy: 0.3986 - val_loss: 1787.9279 - val_categorical_accuracy: 0.4030\nEpoch 405/500\n74491/74491 [==============================] - 1s 14us/sample - loss: 61848.3555 - categorical_accuracy: 0.3986 - val_loss: 1787.5546 - val_categorical_accuracy: 0.4030\nEpoch 406/500\n74491/74491 [==============================] - 1s 14us/sample - loss: 61865.9102 - categorical_accuracy: 0.3988 - val_loss: 1787.1880 - val_categorical_accuracy: 0.4028\nEpoch 407/500\n74491/74491 [==============================] - 1s 14us/sample - loss: 61876.4961 - categorical_accuracy: 0.3990 - val_loss: 1786.8191 - val_categorical_accuracy: 0.4030\nEpoch 408/500\n74491/74491 [==============================] - 1s 14us/sample - loss: 61881.6367 - categorical_accuracy: 0.3990 - val_loss: 1786.4501 - val_categorical_accuracy: 0.4030\nEpoch 409/500\n74491/74491 [==============================] - 1s 14us/sample - loss: 61883.4883 - categorical_accuracy: 0.3991 - val_loss: 1786.0760 - val_categorical_accuracy: 0.4030\nEpoch 410/500\n74491/74491 [==============================] - 1s 14us/sample - loss: 61881.3477 - categorical_accuracy: 0.3991 - val_loss: 1785.6979 - val_categorical_accuracy: 0.4030\nEpoch 411/500\n74491/74491 [==============================] - 1s 14us/sample - loss: 61875.2930 - categorical_accuracy: 0.3991 - val_loss: 1785.3186 - val_categorical_accuracy: 0.4032\nEpoch 412/500\n74491/74491 [==============================] - 1s 14us/sample - loss: 61890.2773 - categorical_accuracy: 0.3990 - val_loss: 1784.9313 - val_categorical_accuracy: 0.4032\nEpoch 413/500\n74491/74491 [==============================] - 1s 14us/sample - loss: 61868.6680 - categorical_accuracy: 0.3990 - val_loss: 1784.5342 - val_categorical_accuracy: 0.4034\nEpoch 414/500\n74491/74491 [==============================] - 1s 14us/sample - loss: 61859.1836 - categorical_accuracy: 0.3991 - val_loss: 1784.1367 - val_categorical_accuracy: 0.4034\nEpoch 415/500\n74491/74491 [==============================] - 1s 14us/sample - loss: 61854.9219 - categorical_accuracy: 0.3992 - val_loss: 1783.7386 - val_categorical_accuracy: 0.4034\nEpoch 416/500\n74491/74491 [==============================] - 1s 14us/sample - loss: 61847.3281 - categorical_accuracy: 0.3992 - val_loss: 1783.3723 - val_categorical_accuracy: 0.4034\nEpoch 417/500\n74491/74491 [==============================] - 1s 14us/sample - loss: 61839.2383 - categorical_accuracy: 0.3992 - val_loss: 1783.0325 - val_categorical_accuracy: 0.4034\nEpoch 418/500\n74491/74491 [==============================] - 1s 14us/sample - loss: 61818.7617 - categorical_accuracy: 0.3991 - val_loss: 1782.7144 - val_categorical_accuracy: 0.4034\nEpoch 419/500\n74491/74491 [==============================] - 1s 14us/sample - loss: 61798.2227 - categorical_accuracy: 0.3992 - val_loss: 1782.4185 - val_categorical_accuracy: 0.4034\nEpoch 420/500\n74491/74491 [==============================] - 1s 14us/sample - loss: 61775.0195 - categorical_accuracy: 0.3992 - val_loss: 1782.1383 - val_categorical_accuracy: 0.4032\nEpoch 421/500\n74491/74491 [==============================] - 1s 14us/sample - loss: 61753.2109 - categorical_accuracy: 0.3992 - val_loss: 1781.8710 - val_categorical_accuracy: 0.4030\nEpoch 422/500\n74491/74491 [==============================] - 1s 14us/sample - loss: 61749.5586 - categorical_accuracy: 0.3991 - val_loss: 1781.6101 - val_categorical_accuracy: 0.4032\nEpoch 423/500\n74491/74491 [==============================] - 1s 14us/sample - loss: 61717.4492 - categorical_accuracy: 0.3992 - val_loss: 1781.3647 - val_categorical_accuracy: 0.4030\nEpoch 424/500\n74491/74491 [==============================] - 1s 14us/sample - loss: 61703.5625 - categorical_accuracy: 0.3990 - val_loss: 1781.1324 - val_categorical_accuracy: 0.4032\nEpoch 425/500\n74491/74491 [==============================] - 1s 14us/sample - loss: 61689.2109 - categorical_accuracy: 0.3989 - val_loss: 1780.9065 - val_categorical_accuracy: 0.4032\nEpoch 426/500\n74491/74491 [==============================] - 1s 14us/sample - loss: 61673.6016 - categorical_accuracy: 0.3988 - val_loss: 1780.6964 - val_categorical_accuracy: 0.4032\nEpoch 427/500\n74491/74491 [==============================] - 1s 14us/sample - loss: 61657.8516 - categorical_accuracy: 0.3988 - val_loss: 1780.4967 - val_categorical_accuracy: 0.4032\nEpoch 428/500\n74491/74491 [==============================] - 1s 14us/sample - loss: 61649.1406 - categorical_accuracy: 0.3989 - val_loss: 1780.3136 - val_categorical_accuracy: 0.4034\nEpoch 429/500\n74491/74491 [==============================] - 1s 14us/sample - loss: 61632.9414 - categorical_accuracy: 0.3989 - val_loss: 1780.1483 - val_categorical_accuracy: 0.4034\nEpoch 430/500\n74491/74491 [==============================] - 1s 14us/sample - loss: 61621.2891 - categorical_accuracy: 0.3989 - val_loss: 1780.0009 - val_categorical_accuracy: 0.4034\nEpoch 431/500\n74491/74491 [==============================] - 1s 14us/sample - loss: 61606.9102 - categorical_accuracy: 0.3990 - val_loss: 1779.8689 - val_categorical_accuracy: 0.4038\nEpoch 432/500\n74491/74491 [==============================] - 1s 14us/sample - loss: 61594.0312 - categorical_accuracy: 0.3990 - val_loss: 1779.7472 - val_categorical_accuracy: 0.4036\nEpoch 433/500\n74491/74491 [==============================] - 1s 14us/sample - loss: 61579.9492 - categorical_accuracy: 0.3990 - val_loss: 1779.6355 - val_categorical_accuracy: 0.4036\nEpoch 434/500\n74491/74491 [==============================] - 1s 14us/sample - loss: 61566.2070 - categorical_accuracy: 0.3990 - val_loss: 1779.5294 - val_categorical_accuracy: 0.4036\nEpoch 435/500\n74491/74491 [==============================] - 1s 14us/sample - loss: 61553.5547 - categorical_accuracy: 0.3989 - val_loss: 1779.4270 - val_categorical_accuracy: 0.4036\nEpoch 436/500\n74491/74491 [==============================] - 1s 14us/sample - loss: 61539.9023 - categorical_accuracy: 0.3988 - val_loss: 1779.7418 - val_categorical_accuracy: 0.4034\nEpoch 437/500\n74491/74491 [==============================] - 1s 14us/sample - loss: 61527.9766 - categorical_accuracy: 0.3988 - val_loss: 1781.4249 - val_categorical_accuracy: 0.4034\nEpoch 438/500\n74491/74491 [==============================] - 1s 14us/sample - loss: 61517.1445 - categorical_accuracy: 0.3989 - val_loss: 1782.9049 - val_categorical_accuracy: 0.4032\nEpoch 439/500\n74491/74491 [==============================] - 1s 14us/sample - loss: 61507.0898 - categorical_accuracy: 0.3990 - val_loss: 1784.2972 - val_categorical_accuracy: 0.4032\nEpoch 440/500\n74491/74491 [==============================] - 1s 14us/sample - loss: 61500.9805 - categorical_accuracy: 0.3989 - val_loss: 1785.6665 - val_categorical_accuracy: 0.4032\nEpoch 441/500\n74491/74491 [==============================] - 1s 14us/sample - loss: 61490.5117 - categorical_accuracy: 0.3989 - val_loss: 1786.7113 - val_categorical_accuracy: 0.4032\nEpoch 442/500\n74491/74491 [==============================] - 1s 14us/sample - loss: 61483.9609 - categorical_accuracy: 0.3989 - val_loss: 1787.4613 - val_categorical_accuracy: 0.4032\nEpoch 443/500\n74491/74491 [==============================] - 1s 14us/sample - loss: 61474.4414 - categorical_accuracy: 0.3988 - val_loss: 1787.9764 - val_categorical_accuracy: 0.4030\nEpoch 444/500\n74491/74491 [==============================] - 1s 14us/sample - loss: 61461.7617 - categorical_accuracy: 0.3988 - val_loss: 1788.2716 - val_categorical_accuracy: 0.4030\nEpoch 445/500\n74491/74491 [==============================] - 1s 14us/sample - loss: 61460.6406 - categorical_accuracy: 0.3987 - val_loss: 1788.6479 - val_categorical_accuracy: 0.4030\nEpoch 446/500\n74491/74491 [==============================] - 1s 14us/sample - loss: 61443.5586 - categorical_accuracy: 0.3988 - val_loss: 1788.8108 - val_categorical_accuracy: 0.4030\nEpoch 447/500\n74491/74491 [==============================] - 1s 14us/sample - loss: 61439.7852 - categorical_accuracy: 0.3987 - val_loss: 1788.6768 - val_categorical_accuracy: 0.4030\nEpoch 448/500\n74491/74491 [==============================] - 1s 14us/sample - loss: 61432.4688 - categorical_accuracy: 0.3987 - val_loss: 1788.2682 - val_categorical_accuracy: 0.4030\nEpoch 449/500\n74491/74491 [==============================] - 1s 14us/sample - loss: 61421.2969 - categorical_accuracy: 0.3987 - val_loss: 1787.6200 - val_categorical_accuracy: 0.4030\nEpoch 450/500\n74491/74491 [==============================] - 1s 14us/sample - loss: 61406.7812 - categorical_accuracy: 0.3989 - val_loss: 1787.1841 - val_categorical_accuracy: 0.4030\nEpoch 451/500\n74491/74491 [==============================] - 1s 14us/sample - loss: 61402.2109 - categorical_accuracy: 0.3988 - val_loss: 1786.7466 - val_categorical_accuracy: 0.4030\nEpoch 452/500\n74491/74491 [==============================] - 1s 14us/sample - loss: 61400.4492 - categorical_accuracy: 0.3987 - val_loss: 1786.4167 - val_categorical_accuracy: 0.4030\nEpoch 453/500\n74491/74491 [==============================] - 1s 14us/sample - loss: 61391.7070 - categorical_accuracy: 0.3988 - val_loss: 1786.0859 - val_categorical_accuracy: 0.4030\nEpoch 454/500\n74491/74491 [==============================] - 1s 13us/sample - loss: 61387.4062 - categorical_accuracy: 0.3988 - val_loss: 1785.7103 - val_categorical_accuracy: 0.4032\nEpoch 455/500\n74491/74491 [==============================] - 1s 14us/sample - loss: 61383.3828 - categorical_accuracy: 0.3989 - val_loss: 1785.2820 - val_categorical_accuracy: 0.4032\nEpoch 456/500\n74491/74491 [==============================] - 1s 14us/sample - loss: 61377.5625 - categorical_accuracy: 0.3989 - val_loss: 1784.8281 - val_categorical_accuracy: 0.4032\nEpoch 457/500\n74491/74491 [==============================] - 1s 14us/sample - loss: 61372.0625 - categorical_accuracy: 0.3988 - val_loss: 1784.3811 - val_categorical_accuracy: 0.4032\nEpoch 458/500\n74491/74491 [==============================] - 1s 14us/sample - loss: 61368.4766 - categorical_accuracy: 0.3987 - val_loss: 1784.0469 - val_categorical_accuracy: 0.4030\nEpoch 459/500\n74491/74491 [==============================] - 1s 14us/sample - loss: 61362.0859 - categorical_accuracy: 0.3987 - val_loss: 1783.7166 - val_categorical_accuracy: 0.4032\nEpoch 460/500\n74491/74491 [==============================] - 1s 13us/sample - loss: 61358.1406 - categorical_accuracy: 0.3988 - val_loss: 1783.3301 - val_categorical_accuracy: 0.4032\nEpoch 461/500\n74491/74491 [==============================] - 1s 13us/sample - loss: 61353.6289 - categorical_accuracy: 0.3988 - val_loss: 1782.8831 - val_categorical_accuracy: 0.4030\nEpoch 462/500\n74491/74491 [==============================] - 1s 14us/sample - loss: 61347.4570 - categorical_accuracy: 0.3988 - val_loss: 1782.4019 - val_categorical_accuracy: 0.4032\nEpoch 463/500\n74491/74491 [==============================] - 1s 14us/sample - loss: 61342.2891 - categorical_accuracy: 0.3988 - val_loss: 1781.9282 - val_categorical_accuracy: 0.4032\nEpoch 464/500\n74491/74491 [==============================] - 1s 14us/sample - loss: 61340.4609 - categorical_accuracy: 0.3988 - val_loss: 1781.5660 - val_categorical_accuracy: 0.4032\nEpoch 465/500\n74491/74491 [==============================] - 1s 14us/sample - loss: 61332.2266 - categorical_accuracy: 0.3988 - val_loss: 1781.1964 - val_categorical_accuracy: 0.4032\nEpoch 466/500\n74491/74491 [==============================] - 1s 13us/sample - loss: 61326.7695 - categorical_accuracy: 0.3989 - val_loss: 1780.8157 - val_categorical_accuracy: 0.4032\nEpoch 467/500\n74491/74491 [==============================] - 1s 13us/sample - loss: 61322.8711 - categorical_accuracy: 0.3988 - val_loss: 1780.3868 - val_categorical_accuracy: 0.4032\nEpoch 468/500\n74491/74491 [==============================] - 1s 13us/sample - loss: 61317.2695 - categorical_accuracy: 0.3989 - val_loss: 1779.9202 - val_categorical_accuracy: 0.4034\nEpoch 469/500\n74491/74491 [==============================] - 1s 13us/sample - loss: 61311.5664 - categorical_accuracy: 0.3990 - val_loss: 1779.4688 - val_categorical_accuracy: 0.4034\nEpoch 470/500\n74491/74491 [==============================] - 1s 14us/sample - loss: 61306.9062 - categorical_accuracy: 0.3989 - val_loss: 1779.0719 - val_categorical_accuracy: 0.4034\nEpoch 471/500\n74491/74491 [==============================] - 1s 14us/sample - loss: 61301.5703 - categorical_accuracy: 0.3990 - val_loss: 1778.6951 - val_categorical_accuracy: 0.4034\nEpoch 472/500\n74491/74491 [==============================] - 1s 14us/sample - loss: 61296.5039 - categorical_accuracy: 0.3989 - val_loss: 1778.3142 - val_categorical_accuracy: 0.4034\nEpoch 473/500\n74491/74491 [==============================] - 1s 14us/sample - loss: 61291.3984 - categorical_accuracy: 0.3989 - val_loss: 1777.9587 - val_categorical_accuracy: 0.4034\nEpoch 474/500\n74491/74491 [==============================] - 1s 14us/sample - loss: 61286.6484 - categorical_accuracy: 0.3989 - val_loss: 1777.6665 - val_categorical_accuracy: 0.4034\nEpoch 475/500\n74491/74491 [==============================] - 1s 14us/sample - loss: 61281.8320 - categorical_accuracy: 0.3989 - val_loss: 1777.4263 - val_categorical_accuracy: 0.4034\nEpoch 476/500\n74491/74491 [==============================] - 1s 14us/sample - loss: 61276.8828 - categorical_accuracy: 0.3989 - val_loss: 1777.2389 - val_categorical_accuracy: 0.4036\nEpoch 477/500\n74491/74491 [==============================] - 1s 14us/sample - loss: 61272.0859 - categorical_accuracy: 0.3989 - val_loss: 1777.0582 - val_categorical_accuracy: 0.4036\nEpoch 478/500\n74491/74491 [==============================] - 1s 14us/sample - loss: 61267.1211 - categorical_accuracy: 0.3990 - val_loss: 1776.9147 - val_categorical_accuracy: 0.4036\nEpoch 479/500\n74491/74491 [==============================] - 1s 14us/sample - loss: 61262.2344 - categorical_accuracy: 0.3990 - val_loss: 1776.8159 - val_categorical_accuracy: 0.4036\nEpoch 480/500\n74491/74491 [==============================] - 1s 14us/sample - loss: 61257.4023 - categorical_accuracy: 0.3989 - val_loss: 1776.7527 - val_categorical_accuracy: 0.4036\nEpoch 481/500\n74491/74491 [==============================] - 1s 14us/sample - loss: 61252.3672 - categorical_accuracy: 0.3989 - val_loss: 1776.7258 - val_categorical_accuracy: 0.4036\nEpoch 482/500\n74491/74491 [==============================] - 1s 14us/sample - loss: 61247.2461 - categorical_accuracy: 0.3989 - val_loss: 1776.7291 - val_categorical_accuracy: 0.4036\nEpoch 483/500\n74491/74491 [==============================] - 1s 14us/sample - loss: 61242.2148 - categorical_accuracy: 0.3990 - val_loss: 1776.7573 - val_categorical_accuracy: 0.4036\nEpoch 484/500\n74491/74491 [==============================] - 1s 14us/sample - loss: 61237.1680 - categorical_accuracy: 0.3990 - val_loss: 1776.7610 - val_categorical_accuracy: 0.4036\nEpoch 485/500\n74491/74491 [==============================] - 1s 13us/sample - loss: 61231.9023 - categorical_accuracy: 0.3990 - val_loss: 1776.7883 - val_categorical_accuracy: 0.4036\nEpoch 486/500\n74491/74491 [==============================] - 1s 13us/sample - loss: 61226.8867 - categorical_accuracy: 0.3989 - val_loss: 1776.8287 - val_categorical_accuracy: 0.4036\nEpoch 487/500\n74491/74491 [==============================] - 1s 14us/sample - loss: 61221.9492 - categorical_accuracy: 0.3989 - val_loss: 1776.8478 - val_categorical_accuracy: 0.4036\nEpoch 488/500\n74491/74491 [==============================] - 1s 14us/sample - loss: 61216.8516 - categorical_accuracy: 0.3989 - val_loss: 1776.8268 - val_categorical_accuracy: 0.4036\nEpoch 489/500\n74491/74491 [==============================] - 1s 14us/sample - loss: 61211.6953 - categorical_accuracy: 0.3990 - val_loss: 1776.7753 - val_categorical_accuracy: 0.4036\nEpoch 490/500\n74491/74491 [==============================] - 1s 14us/sample - loss: 61207.3516 - categorical_accuracy: 0.3990 - val_loss: 1776.6489 - val_categorical_accuracy: 0.4036\nEpoch 491/500\n74491/74491 [==============================] - 1s 14us/sample - loss: 61201.6328 - categorical_accuracy: 0.3989 - val_loss: 1776.4976 - val_categorical_accuracy: 0.4036\nEpoch 492/500\n74491/74491 [==============================] - 1s 14us/sample - loss: 61197.0352 - categorical_accuracy: 0.3989 - val_loss: 1776.2531 - val_categorical_accuracy: 0.4036\nEpoch 493/500\n74491/74491 [==============================] - 1s 14us/sample - loss: 61192.2734 - categorical_accuracy: 0.3989 - val_loss: 1775.9429 - val_categorical_accuracy: 0.4036\nEpoch 494/500\n74491/74491 [==============================] - 1s 14us/sample - loss: 61187.3906 - categorical_accuracy: 0.3990 - val_loss: 1775.5636 - val_categorical_accuracy: 0.4036\nEpoch 495/500\n74491/74491 [==============================] - 1s 14us/sample - loss: 61182.6641 - categorical_accuracy: 0.3990 - val_loss: 1775.1788 - val_categorical_accuracy: 0.4034\nEpoch 496/500\n74491/74491 [==============================] - 1s 14us/sample - loss: 61177.7344 - categorical_accuracy: 0.3989 - val_loss: 1774.8037 - val_categorical_accuracy: 0.4034\nEpoch 497/500\n74491/74491 [==============================] - 1s 14us/sample - loss: 61172.9375 - categorical_accuracy: 0.3989 - val_loss: 1774.4307 - val_categorical_accuracy: 0.4034\nEpoch 498/500\n74491/74491 [==============================] - 1s 14us/sample - loss: 61168.6836 - categorical_accuracy: 0.3990 - val_loss: 1774.0127 - val_categorical_accuracy: 0.4036\nEpoch 499/500\n74491/74491 [==============================] - 1s 14us/sample - loss: 61163.5625 - categorical_accuracy: 0.3990 - val_loss: 1773.6086 - val_categorical_accuracy: 0.4036\nEpoch 500/500\n74491/74491 [==============================] - 1s 14us/sample - loss: 61158.9844 - categorical_accuracy: 0.3990 - val_loss: 1773.4049 - val_categorical_accuracy: 0.4036\n"
    }
   ],
   "source": [
    "# Define validation data\n",
    "validation_data = ([X, fltr], Y, val_mask)\n",
    "history = model.fit([X, fltr],\n",
    "          Y,\n",
    "          sample_weight=train_mask,\n",
    "          epochs=epochs,\n",
    "          batch_size=N,\n",
    "          validation_data=validation_data,\n",
    "          shuffle=False,  # Shuffling data means shuffling the whole graph\n",
    "          callbacks=callbacks_list)"
   ]
  },
  {
   "cell_type": "code",
   "execution_count": 50,
   "metadata": {},
   "outputs": [
    {
     "output_type": "execute_result",
     "data": {
      "text/plain": "42"
     },
     "metadata": {},
     "execution_count": 50
    }
   ],
   "source": [
    "gc.collect()"
   ]
  },
  {
   "cell_type": "markdown",
   "metadata": {},
   "source": [
    "# Plot training history"
   ]
  },
  {
   "cell_type": "code",
   "execution_count": 51,
   "metadata": {},
   "outputs": [
    {
     "output_type": "display_data",
     "data": {
      "text/plain": "<Figure size 432x288 with 1 Axes>",
      "image/svg+xml": "<?xml version=\"1.0\" encoding=\"utf-8\" standalone=\"no\"?>\n<!DOCTYPE svg PUBLIC \"-//W3C//DTD SVG 1.1//EN\"\n  \"http://www.w3.org/Graphics/SVG/1.1/DTD/svg11.dtd\">\n<!-- Created with matplotlib (https://matplotlib.org/) -->\n<svg height=\"259.116562pt\" version=\"1.1\" viewBox=\"0 0 372.103125 259.116562\" width=\"372.103125pt\" xmlns=\"http://www.w3.org/2000/svg\" xmlns:xlink=\"http://www.w3.org/1999/xlink\">\n <defs>\n  <style type=\"text/css\">\n*{stroke-linecap:butt;stroke-linejoin:round;}\n  </style>\n </defs>\n <g id=\"figure_1\">\n  <g id=\"patch_1\">\n   <path d=\"M 0 259.116562 \nL 372.103125 259.116562 \nL 372.103125 0 \nL 0 0 \nz\n\" style=\"fill:none;\"/>\n  </g>\n  <g id=\"axes_1\">\n   <g id=\"patch_2\">\n    <path d=\"M 30.103125 235.238437 \nL 364.903125 235.238437 \nL 364.903125 17.798437 \nL 30.103125 17.798437 \nz\n\" style=\"fill:#ffffff;\"/>\n   </g>\n   <g id=\"matplotlib.axis_1\">\n    <g id=\"xtick_1\">\n     <g id=\"line2d_1\">\n      <defs>\n       <path d=\"M 0 0 \nL 0 3.5 \n\" id=\"m0a46d1fb90\" style=\"stroke:#000000;stroke-width:0.8;\"/>\n      </defs>\n      <g>\n       <use style=\"stroke:#000000;stroke-width:0.8;\" x=\"45.321307\" xlink:href=\"#m0a46d1fb90\" y=\"235.238437\"/>\n      </g>\n     </g>\n     <g id=\"text_1\">\n      <!-- 0 -->\n      <defs>\n       <path d=\"M 31.78125 66.40625 \nQ 24.171875 66.40625 20.328125 58.90625 \nQ 16.5 51.421875 16.5 36.375 \nQ 16.5 21.390625 20.328125 13.890625 \nQ 24.171875 6.390625 31.78125 6.390625 \nQ 39.453125 6.390625 43.28125 13.890625 \nQ 47.125 21.390625 47.125 36.375 \nQ 47.125 51.421875 43.28125 58.90625 \nQ 39.453125 66.40625 31.78125 66.40625 \nz\nM 31.78125 74.21875 \nQ 44.046875 74.21875 50.515625 64.515625 \nQ 56.984375 54.828125 56.984375 36.375 \nQ 56.984375 17.96875 50.515625 8.265625 \nQ 44.046875 -1.421875 31.78125 -1.421875 \nQ 19.53125 -1.421875 13.0625 8.265625 \nQ 6.59375 17.96875 6.59375 36.375 \nQ 6.59375 54.828125 13.0625 64.515625 \nQ 19.53125 74.21875 31.78125 74.21875 \nz\n\" id=\"DejaVuSans-48\"/>\n      </defs>\n      <g transform=\"translate(42.140057 249.836875)scale(0.1 -0.1)\">\n       <use xlink:href=\"#DejaVuSans-48\"/>\n      </g>\n     </g>\n    </g>\n    <g id=\"xtick_2\">\n     <g id=\"line2d_2\">\n      <g>\n       <use style=\"stroke:#000000;stroke-width:0.8;\" x=\"106.316024\" xlink:href=\"#m0a46d1fb90\" y=\"235.238437\"/>\n      </g>\n     </g>\n     <g id=\"text_2\">\n      <!-- 100 -->\n      <defs>\n       <path d=\"M 12.40625 8.296875 \nL 28.515625 8.296875 \nL 28.515625 63.921875 \nL 10.984375 60.40625 \nL 10.984375 69.390625 \nL 28.421875 72.90625 \nL 38.28125 72.90625 \nL 38.28125 8.296875 \nL 54.390625 8.296875 \nL 54.390625 0 \nL 12.40625 0 \nz\n\" id=\"DejaVuSans-49\"/>\n      </defs>\n      <g transform=\"translate(96.772274 249.836875)scale(0.1 -0.1)\">\n       <use xlink:href=\"#DejaVuSans-49\"/>\n       <use x=\"63.623047\" xlink:href=\"#DejaVuSans-48\"/>\n       <use x=\"127.246094\" xlink:href=\"#DejaVuSans-48\"/>\n      </g>\n     </g>\n    </g>\n    <g id=\"xtick_3\">\n     <g id=\"line2d_3\">\n      <g>\n       <use style=\"stroke:#000000;stroke-width:0.8;\" x=\"167.31074\" xlink:href=\"#m0a46d1fb90\" y=\"235.238437\"/>\n      </g>\n     </g>\n     <g id=\"text_3\">\n      <!-- 200 -->\n      <defs>\n       <path d=\"M 19.1875 8.296875 \nL 53.609375 8.296875 \nL 53.609375 0 \nL 7.328125 0 \nL 7.328125 8.296875 \nQ 12.9375 14.109375 22.625 23.890625 \nQ 32.328125 33.6875 34.8125 36.53125 \nQ 39.546875 41.84375 41.421875 45.53125 \nQ 43.3125 49.21875 43.3125 52.78125 \nQ 43.3125 58.59375 39.234375 62.25 \nQ 35.15625 65.921875 28.609375 65.921875 \nQ 23.96875 65.921875 18.8125 64.3125 \nQ 13.671875 62.703125 7.8125 59.421875 \nL 7.8125 69.390625 \nQ 13.765625 71.78125 18.9375 73 \nQ 24.125 74.21875 28.421875 74.21875 \nQ 39.75 74.21875 46.484375 68.546875 \nQ 53.21875 62.890625 53.21875 53.421875 \nQ 53.21875 48.921875 51.53125 44.890625 \nQ 49.859375 40.875 45.40625 35.40625 \nQ 44.1875 33.984375 37.640625 27.21875 \nQ 31.109375 20.453125 19.1875 8.296875 \nz\n\" id=\"DejaVuSans-50\"/>\n      </defs>\n      <g transform=\"translate(157.76699 249.836875)scale(0.1 -0.1)\">\n       <use xlink:href=\"#DejaVuSans-50\"/>\n       <use x=\"63.623047\" xlink:href=\"#DejaVuSans-48\"/>\n       <use x=\"127.246094\" xlink:href=\"#DejaVuSans-48\"/>\n      </g>\n     </g>\n    </g>\n    <g id=\"xtick_4\">\n     <g id=\"line2d_4\">\n      <g>\n       <use style=\"stroke:#000000;stroke-width:0.8;\" x=\"228.305457\" xlink:href=\"#m0a46d1fb90\" y=\"235.238437\"/>\n      </g>\n     </g>\n     <g id=\"text_4\">\n      <!-- 300 -->\n      <defs>\n       <path d=\"M 40.578125 39.3125 \nQ 47.65625 37.796875 51.625 33 \nQ 55.609375 28.21875 55.609375 21.1875 \nQ 55.609375 10.40625 48.1875 4.484375 \nQ 40.765625 -1.421875 27.09375 -1.421875 \nQ 22.515625 -1.421875 17.65625 -0.515625 \nQ 12.796875 0.390625 7.625 2.203125 \nL 7.625 11.71875 \nQ 11.71875 9.328125 16.59375 8.109375 \nQ 21.484375 6.890625 26.8125 6.890625 \nQ 36.078125 6.890625 40.9375 10.546875 \nQ 45.796875 14.203125 45.796875 21.1875 \nQ 45.796875 27.640625 41.28125 31.265625 \nQ 36.765625 34.90625 28.71875 34.90625 \nL 20.21875 34.90625 \nL 20.21875 43.015625 \nL 29.109375 43.015625 \nQ 36.375 43.015625 40.234375 45.921875 \nQ 44.09375 48.828125 44.09375 54.296875 \nQ 44.09375 59.90625 40.109375 62.90625 \nQ 36.140625 65.921875 28.71875 65.921875 \nQ 24.65625 65.921875 20.015625 65.03125 \nQ 15.375 64.15625 9.8125 62.3125 \nL 9.8125 71.09375 \nQ 15.4375 72.65625 20.34375 73.4375 \nQ 25.25 74.21875 29.59375 74.21875 \nQ 40.828125 74.21875 47.359375 69.109375 \nQ 53.90625 64.015625 53.90625 55.328125 \nQ 53.90625 49.265625 50.4375 45.09375 \nQ 46.96875 40.921875 40.578125 39.3125 \nz\n\" id=\"DejaVuSans-51\"/>\n      </defs>\n      <g transform=\"translate(218.761707 249.836875)scale(0.1 -0.1)\">\n       <use xlink:href=\"#DejaVuSans-51\"/>\n       <use x=\"63.623047\" xlink:href=\"#DejaVuSans-48\"/>\n       <use x=\"127.246094\" xlink:href=\"#DejaVuSans-48\"/>\n      </g>\n     </g>\n    </g>\n    <g id=\"xtick_5\">\n     <g id=\"line2d_5\">\n      <g>\n       <use style=\"stroke:#000000;stroke-width:0.8;\" x=\"289.300174\" xlink:href=\"#m0a46d1fb90\" y=\"235.238437\"/>\n      </g>\n     </g>\n     <g id=\"text_5\">\n      <!-- 400 -->\n      <defs>\n       <path d=\"M 37.796875 64.3125 \nL 12.890625 25.390625 \nL 37.796875 25.390625 \nz\nM 35.203125 72.90625 \nL 47.609375 72.90625 \nL 47.609375 25.390625 \nL 58.015625 25.390625 \nL 58.015625 17.1875 \nL 47.609375 17.1875 \nL 47.609375 0 \nL 37.796875 0 \nL 37.796875 17.1875 \nL 4.890625 17.1875 \nL 4.890625 26.703125 \nz\n\" id=\"DejaVuSans-52\"/>\n      </defs>\n      <g transform=\"translate(279.756424 249.836875)scale(0.1 -0.1)\">\n       <use xlink:href=\"#DejaVuSans-52\"/>\n       <use x=\"63.623047\" xlink:href=\"#DejaVuSans-48\"/>\n       <use x=\"127.246094\" xlink:href=\"#DejaVuSans-48\"/>\n      </g>\n     </g>\n    </g>\n    <g id=\"xtick_6\">\n     <g id=\"line2d_6\">\n      <g>\n       <use style=\"stroke:#000000;stroke-width:0.8;\" x=\"350.29489\" xlink:href=\"#m0a46d1fb90\" y=\"235.238437\"/>\n      </g>\n     </g>\n     <g id=\"text_6\">\n      <!-- 500 -->\n      <defs>\n       <path d=\"M 10.796875 72.90625 \nL 49.515625 72.90625 \nL 49.515625 64.59375 \nL 19.828125 64.59375 \nL 19.828125 46.734375 \nQ 21.96875 47.46875 24.109375 47.828125 \nQ 26.265625 48.1875 28.421875 48.1875 \nQ 40.625 48.1875 47.75 41.5 \nQ 54.890625 34.8125 54.890625 23.390625 \nQ 54.890625 11.625 47.5625 5.09375 \nQ 40.234375 -1.421875 26.90625 -1.421875 \nQ 22.3125 -1.421875 17.546875 -0.640625 \nQ 12.796875 0.140625 7.71875 1.703125 \nL 7.71875 11.625 \nQ 12.109375 9.234375 16.796875 8.0625 \nQ 21.484375 6.890625 26.703125 6.890625 \nQ 35.15625 6.890625 40.078125 11.328125 \nQ 45.015625 15.765625 45.015625 23.390625 \nQ 45.015625 31 40.078125 35.4375 \nQ 35.15625 39.890625 26.703125 39.890625 \nQ 22.75 39.890625 18.8125 39.015625 \nQ 14.890625 38.140625 10.796875 36.28125 \nz\n\" id=\"DejaVuSans-53\"/>\n      </defs>\n      <g transform=\"translate(340.75114 249.836875)scale(0.1 -0.1)\">\n       <use xlink:href=\"#DejaVuSans-53\"/>\n       <use x=\"63.623047\" xlink:href=\"#DejaVuSans-48\"/>\n       <use x=\"127.246094\" xlink:href=\"#DejaVuSans-48\"/>\n      </g>\n     </g>\n    </g>\n   </g>\n   <g id=\"matplotlib.axis_2\">\n    <g id=\"ytick_1\">\n     <g id=\"line2d_7\">\n      <defs>\n       <path d=\"M 0 0 \nL -3.5 0 \n\" id=\"mff8f6f0057\" style=\"stroke:#000000;stroke-width:0.8;\"/>\n      </defs>\n      <g>\n       <use style=\"stroke:#000000;stroke-width:0.8;\" x=\"30.103125\" xlink:href=\"#mff8f6f0057\" y=\"225.354813\"/>\n      </g>\n     </g>\n     <g id=\"text_7\">\n      <!-- 0.0 -->\n      <defs>\n       <path d=\"M 10.6875 12.40625 \nL 21 12.40625 \nL 21 0 \nL 10.6875 0 \nz\n\" id=\"DejaVuSans-46\"/>\n      </defs>\n      <g transform=\"translate(7.2 229.154032)scale(0.1 -0.1)\">\n       <use xlink:href=\"#DejaVuSans-48\"/>\n       <use x=\"63.623047\" xlink:href=\"#DejaVuSans-46\"/>\n       <use x=\"95.410156\" xlink:href=\"#DejaVuSans-48\"/>\n      </g>\n     </g>\n    </g>\n    <g id=\"ytick_2\">\n     <g id=\"line2d_8\">\n      <g>\n       <use style=\"stroke:#000000;stroke-width:0.8;\" x=\"30.103125\" xlink:href=\"#mff8f6f0057\" y=\"190.756489\"/>\n      </g>\n     </g>\n     <g id=\"text_8\">\n      <!-- 0.5 -->\n      <g transform=\"translate(7.2 194.555708)scale(0.1 -0.1)\">\n       <use xlink:href=\"#DejaVuSans-48\"/>\n       <use x=\"63.623047\" xlink:href=\"#DejaVuSans-46\"/>\n       <use x=\"95.410156\" xlink:href=\"#DejaVuSans-53\"/>\n      </g>\n     </g>\n    </g>\n    <g id=\"ytick_3\">\n     <g id=\"line2d_9\">\n      <g>\n       <use style=\"stroke:#000000;stroke-width:0.8;\" x=\"30.103125\" xlink:href=\"#mff8f6f0057\" y=\"156.158165\"/>\n      </g>\n     </g>\n     <g id=\"text_9\">\n      <!-- 1.0 -->\n      <g transform=\"translate(7.2 159.957384)scale(0.1 -0.1)\">\n       <use xlink:href=\"#DejaVuSans-49\"/>\n       <use x=\"63.623047\" xlink:href=\"#DejaVuSans-46\"/>\n       <use x=\"95.410156\" xlink:href=\"#DejaVuSans-48\"/>\n      </g>\n     </g>\n    </g>\n    <g id=\"ytick_4\">\n     <g id=\"line2d_10\">\n      <g>\n       <use style=\"stroke:#000000;stroke-width:0.8;\" x=\"30.103125\" xlink:href=\"#mff8f6f0057\" y=\"121.559842\"/>\n      </g>\n     </g>\n     <g id=\"text_10\">\n      <!-- 1.5 -->\n      <g transform=\"translate(7.2 125.35906)scale(0.1 -0.1)\">\n       <use xlink:href=\"#DejaVuSans-49\"/>\n       <use x=\"63.623047\" xlink:href=\"#DejaVuSans-46\"/>\n       <use x=\"95.410156\" xlink:href=\"#DejaVuSans-53\"/>\n      </g>\n     </g>\n    </g>\n    <g id=\"ytick_5\">\n     <g id=\"line2d_11\">\n      <g>\n       <use style=\"stroke:#000000;stroke-width:0.8;\" x=\"30.103125\" xlink:href=\"#mff8f6f0057\" y=\"86.961518\"/>\n      </g>\n     </g>\n     <g id=\"text_11\">\n      <!-- 2.0 -->\n      <g transform=\"translate(7.2 90.760736)scale(0.1 -0.1)\">\n       <use xlink:href=\"#DejaVuSans-50\"/>\n       <use x=\"63.623047\" xlink:href=\"#DejaVuSans-46\"/>\n       <use x=\"95.410156\" xlink:href=\"#DejaVuSans-48\"/>\n      </g>\n     </g>\n    </g>\n    <g id=\"ytick_6\">\n     <g id=\"line2d_12\">\n      <g>\n       <use style=\"stroke:#000000;stroke-width:0.8;\" x=\"30.103125\" xlink:href=\"#mff8f6f0057\" y=\"52.363194\"/>\n      </g>\n     </g>\n     <g id=\"text_12\">\n      <!-- 2.5 -->\n      <g transform=\"translate(7.2 56.162412)scale(0.1 -0.1)\">\n       <use xlink:href=\"#DejaVuSans-50\"/>\n       <use x=\"63.623047\" xlink:href=\"#DejaVuSans-46\"/>\n       <use x=\"95.410156\" xlink:href=\"#DejaVuSans-53\"/>\n      </g>\n     </g>\n    </g>\n    <g id=\"text_13\">\n     <!-- 1e10 -->\n     <defs>\n      <path d=\"M 56.203125 29.59375 \nL 56.203125 25.203125 \nL 14.890625 25.203125 \nQ 15.484375 15.921875 20.484375 11.0625 \nQ 25.484375 6.203125 34.421875 6.203125 \nQ 39.59375 6.203125 44.453125 7.46875 \nQ 49.3125 8.734375 54.109375 11.28125 \nL 54.109375 2.78125 \nQ 49.265625 0.734375 44.1875 -0.34375 \nQ 39.109375 -1.421875 33.890625 -1.421875 \nQ 20.796875 -1.421875 13.15625 6.1875 \nQ 5.515625 13.8125 5.515625 26.8125 \nQ 5.515625 40.234375 12.765625 48.109375 \nQ 20.015625 56 32.328125 56 \nQ 43.359375 56 49.78125 48.890625 \nQ 56.203125 41.796875 56.203125 29.59375 \nz\nM 47.21875 32.234375 \nQ 47.125 39.59375 43.09375 43.984375 \nQ 39.0625 48.390625 32.421875 48.390625 \nQ 24.90625 48.390625 20.390625 44.140625 \nQ 15.875 39.890625 15.1875 32.171875 \nz\n\" id=\"DejaVuSans-101\"/>\n     </defs>\n     <g transform=\"translate(30.103125 14.798437)scale(0.1 -0.1)\">\n      <use xlink:href=\"#DejaVuSans-49\"/>\n      <use x=\"63.623047\" xlink:href=\"#DejaVuSans-101\"/>\n      <use x=\"125.146484\" xlink:href=\"#DejaVuSans-49\"/>\n      <use x=\"188.769531\" xlink:href=\"#DejaVuSans-48\"/>\n     </g>\n    </g>\n   </g>\n   <g id=\"line2d_13\">\n    <path clip-path=\"url(#p1e693f63fb)\" d=\"M 45.321307 27.682074 \nL 45.931254 45.29448 \nL 46.541201 172.623334 \nL 47.151148 195.955054 \nL 47.761095 176.514658 \nL 48.371043 204.091536 \nL 48.98099 174.193459 \nL 49.590937 133.582441 \nL 50.200884 183.805693 \nL 50.810831 198.04722 \nL 51.420778 187.886993 \nL 52.030726 189.943823 \nL 52.640673 209.98429 \nL 53.25062 215.906148 \nL 53.860567 218.0827 \nL 54.470514 221.008585 \nL 55.690409 222.562153 \nL 56.300356 223.187104 \nL 56.910303 224.012315 \nL 57.52025 223.092171 \nL 58.130197 224.480105 \nL 58.740144 224.351244 \nL 59.350092 223.643086 \nL 59.960039 223.651997 \nL 60.569986 224.327201 \nL 61.179933 222.180119 \nL 61.78988 224.566923 \nL 62.399827 224.433428 \nL 63.009775 224.575127 \nL 63.619722 224.176531 \nL 64.229669 224.310184 \nL 64.839616 224.569557 \nL 65.449563 224.448691 \nL 66.05951 224.752332 \nL 66.669458 224.52452 \nL 67.279405 224.696708 \nL 67.889352 225.089256 \nL 68.499299 224.171935 \nL 69.109246 224.936815 \nL 69.719194 225.040008 \nL 70.329141 224.79259 \nL 70.939088 224.763638 \nL 73.378877 225.144686 \nL 75.818665 225.195905 \nL 77.648507 225.239739 \nL 81.30819 225.194895 \nL 97.776763 225.33756 \nL 98.996658 225.32431 \nL 103.876235 225.350935 \nL 233.794981 225.354271 \nL 349.684943 225.35439 \nL 349.684943 225.35439 \n\" style=\"fill:none;stroke:#1f77b4;stroke-linecap:square;stroke-width:1.5;\"/>\n   </g>\n   <g id=\"line2d_14\">\n    <path clip-path=\"url(#p1e693f63fb)\" d=\"M 45.321307 208.871248 \nL 45.931254 220.591172 \nL 46.541201 222.543069 \nL 47.151148 220.955289 \nL 47.761095 223.912899 \nL 48.371043 221.184883 \nL 48.98099 217.339459 \nL 49.590937 221.952435 \nL 50.200884 223.125134 \nL 50.810831 222.090776 \nL 51.420778 222.338685 \nL 52.030726 224.128551 \nL 52.640673 224.591452 \nL 53.25062 224.73507 \nL 53.860567 225.005548 \nL 56.300356 225.251964 \nL 56.910303 225.16474 \nL 57.52025 225.279721 \nL 59.960039 225.267862 \nL 60.569986 225.064625 \nL 61.179933 225.284744 \nL 66.669458 225.303728 \nL 69.109246 225.331808 \nL 72.768929 225.337 \nL 199.027993 225.354794 \nL 349.684943 225.354801 \nL 349.684943 225.354801 \n\" style=\"fill:none;stroke:#ff7f0e;stroke-linecap:square;stroke-width:1.5;\"/>\n   </g>\n   <g id=\"patch_3\">\n    <path d=\"M 30.103125 235.238437 \nL 30.103125 17.798437 \n\" style=\"fill:none;stroke:#000000;stroke-linecap:square;stroke-linejoin:miter;stroke-width:0.8;\"/>\n   </g>\n   <g id=\"patch_4\">\n    <path d=\"M 364.903125 235.238437 \nL 364.903125 17.798437 \n\" style=\"fill:none;stroke:#000000;stroke-linecap:square;stroke-linejoin:miter;stroke-width:0.8;\"/>\n   </g>\n   <g id=\"patch_5\">\n    <path d=\"M 30.103125 235.238437 \nL 364.903125 235.238437 \n\" style=\"fill:none;stroke:#000000;stroke-linecap:square;stroke-linejoin:miter;stroke-width:0.8;\"/>\n   </g>\n   <g id=\"patch_6\">\n    <path d=\"M 30.103125 17.798437 \nL 364.903125 17.798437 \n\" style=\"fill:none;stroke:#000000;stroke-linecap:square;stroke-linejoin:miter;stroke-width:0.8;\"/>\n   </g>\n   <g id=\"legend_1\">\n    <g id=\"patch_7\">\n     <path d=\"M 286.7625 55.432812 \nL 357.903125 55.432812 \nQ 359.903125 55.432812 359.903125 53.432812 \nL 359.903125 24.798437 \nQ 359.903125 22.798437 357.903125 22.798437 \nL 286.7625 22.798437 \nQ 284.7625 22.798437 284.7625 24.798437 \nL 284.7625 53.432812 \nQ 284.7625 55.432812 286.7625 55.432812 \nz\n\" style=\"fill:#ffffff;opacity:0.8;stroke:#cccccc;stroke-linejoin:miter;\"/>\n    </g>\n    <g id=\"line2d_15\">\n     <path d=\"M 288.7625 30.896875 \nL 308.7625 30.896875 \n\" style=\"fill:none;stroke:#1f77b4;stroke-linecap:square;stroke-width:1.5;\"/>\n    </g>\n    <g id=\"line2d_16\"/>\n    <g id=\"text_14\">\n     <!-- loss -->\n     <defs>\n      <path d=\"M 9.421875 75.984375 \nL 18.40625 75.984375 \nL 18.40625 0 \nL 9.421875 0 \nz\n\" id=\"DejaVuSans-108\"/>\n      <path d=\"M 30.609375 48.390625 \nQ 23.390625 48.390625 19.1875 42.75 \nQ 14.984375 37.109375 14.984375 27.296875 \nQ 14.984375 17.484375 19.15625 11.84375 \nQ 23.34375 6.203125 30.609375 6.203125 \nQ 37.796875 6.203125 41.984375 11.859375 \nQ 46.1875 17.53125 46.1875 27.296875 \nQ 46.1875 37.015625 41.984375 42.703125 \nQ 37.796875 48.390625 30.609375 48.390625 \nz\nM 30.609375 56 \nQ 42.328125 56 49.015625 48.375 \nQ 55.71875 40.765625 55.71875 27.296875 \nQ 55.71875 13.875 49.015625 6.21875 \nQ 42.328125 -1.421875 30.609375 -1.421875 \nQ 18.84375 -1.421875 12.171875 6.21875 \nQ 5.515625 13.875 5.515625 27.296875 \nQ 5.515625 40.765625 12.171875 48.375 \nQ 18.84375 56 30.609375 56 \nz\n\" id=\"DejaVuSans-111\"/>\n      <path d=\"M 44.28125 53.078125 \nL 44.28125 44.578125 \nQ 40.484375 46.53125 36.375 47.5 \nQ 32.28125 48.484375 27.875 48.484375 \nQ 21.1875 48.484375 17.84375 46.4375 \nQ 14.5 44.390625 14.5 40.28125 \nQ 14.5 37.15625 16.890625 35.375 \nQ 19.28125 33.59375 26.515625 31.984375 \nL 29.59375 31.296875 \nQ 39.15625 29.25 43.1875 25.515625 \nQ 47.21875 21.78125 47.21875 15.09375 \nQ 47.21875 7.46875 41.1875 3.015625 \nQ 35.15625 -1.421875 24.609375 -1.421875 \nQ 20.21875 -1.421875 15.453125 -0.5625 \nQ 10.6875 0.296875 5.421875 2 \nL 5.421875 11.28125 \nQ 10.40625 8.6875 15.234375 7.390625 \nQ 20.0625 6.109375 24.8125 6.109375 \nQ 31.15625 6.109375 34.5625 8.28125 \nQ 37.984375 10.453125 37.984375 14.40625 \nQ 37.984375 18.0625 35.515625 20.015625 \nQ 33.0625 21.96875 24.703125 23.78125 \nL 21.578125 24.515625 \nQ 13.234375 26.265625 9.515625 29.90625 \nQ 5.8125 33.546875 5.8125 39.890625 \nQ 5.8125 47.609375 11.28125 51.796875 \nQ 16.75 56 26.8125 56 \nQ 31.78125 56 36.171875 55.265625 \nQ 40.578125 54.546875 44.28125 53.078125 \nz\n\" id=\"DejaVuSans-115\"/>\n     </defs>\n     <g transform=\"translate(316.7625 34.396875)scale(0.1 -0.1)\">\n      <use xlink:href=\"#DejaVuSans-108\"/>\n      <use x=\"27.783203\" xlink:href=\"#DejaVuSans-111\"/>\n      <use x=\"88.964844\" xlink:href=\"#DejaVuSans-115\"/>\n      <use x=\"141.064453\" xlink:href=\"#DejaVuSans-115\"/>\n     </g>\n    </g>\n    <g id=\"line2d_17\">\n     <path d=\"M 288.7625 45.575 \nL 308.7625 45.575 \n\" style=\"fill:none;stroke:#ff7f0e;stroke-linecap:square;stroke-width:1.5;\"/>\n    </g>\n    <g id=\"line2d_18\"/>\n    <g id=\"text_15\">\n     <!-- val_loss -->\n     <defs>\n      <path d=\"M 2.984375 54.6875 \nL 12.5 54.6875 \nL 29.59375 8.796875 \nL 46.6875 54.6875 \nL 56.203125 54.6875 \nL 35.6875 0 \nL 23.484375 0 \nz\n\" id=\"DejaVuSans-118\"/>\n      <path d=\"M 34.28125 27.484375 \nQ 23.390625 27.484375 19.1875 25 \nQ 14.984375 22.515625 14.984375 16.5 \nQ 14.984375 11.71875 18.140625 8.90625 \nQ 21.296875 6.109375 26.703125 6.109375 \nQ 34.1875 6.109375 38.703125 11.40625 \nQ 43.21875 16.703125 43.21875 25.484375 \nL 43.21875 27.484375 \nz\nM 52.203125 31.203125 \nL 52.203125 0 \nL 43.21875 0 \nL 43.21875 8.296875 \nQ 40.140625 3.328125 35.546875 0.953125 \nQ 30.953125 -1.421875 24.3125 -1.421875 \nQ 15.921875 -1.421875 10.953125 3.296875 \nQ 6 8.015625 6 15.921875 \nQ 6 25.140625 12.171875 29.828125 \nQ 18.359375 34.515625 30.609375 34.515625 \nL 43.21875 34.515625 \nL 43.21875 35.40625 \nQ 43.21875 41.609375 39.140625 45 \nQ 35.0625 48.390625 27.6875 48.390625 \nQ 23 48.390625 18.546875 47.265625 \nQ 14.109375 46.140625 10.015625 43.890625 \nL 10.015625 52.203125 \nQ 14.9375 54.109375 19.578125 55.046875 \nQ 24.21875 56 28.609375 56 \nQ 40.484375 56 46.34375 49.84375 \nQ 52.203125 43.703125 52.203125 31.203125 \nz\n\" id=\"DejaVuSans-97\"/>\n      <path d=\"M 50.984375 -16.609375 \nL 50.984375 -23.578125 \nL -0.984375 -23.578125 \nL -0.984375 -16.609375 \nz\n\" id=\"DejaVuSans-95\"/>\n     </defs>\n     <g transform=\"translate(316.7625 49.075)scale(0.1 -0.1)\">\n      <use xlink:href=\"#DejaVuSans-118\"/>\n      <use x=\"59.179688\" xlink:href=\"#DejaVuSans-97\"/>\n      <use x=\"120.458984\" xlink:href=\"#DejaVuSans-108\"/>\n      <use x=\"148.242188\" xlink:href=\"#DejaVuSans-95\"/>\n      <use x=\"198.242188\" xlink:href=\"#DejaVuSans-108\"/>\n      <use x=\"226.025391\" xlink:href=\"#DejaVuSans-111\"/>\n      <use x=\"287.207031\" xlink:href=\"#DejaVuSans-115\"/>\n      <use x=\"339.306641\" xlink:href=\"#DejaVuSans-115\"/>\n     </g>\n    </g>\n   </g>\n  </g>\n </g>\n <defs>\n  <clipPath id=\"p1e693f63fb\">\n   <rect height=\"217.44\" width=\"334.8\" x=\"30.103125\" y=\"17.798437\"/>\n  </clipPath>\n </defs>\n</svg>\n",
      "image/png": "[encoded data removed]"
     },
     "metadata": {
      "needs_background": "light"
     }
    }
   ],
   "source": [
    "fig, ax = plt.subplots()\n",
    "ax.plot(history.history['loss'], label='loss')\n",
    "ax.plot(history.history['val_loss'], label='val_loss')\n",
    "ax.legend()\n",
    "plt.show()"
   ]
  },
  {
   "cell_type": "code",
   "execution_count": 52,
   "metadata": {},
   "outputs": [
    {
     "output_type": "display_data",
     "data": {
      "text/plain": "<Figure size 432x288 with 1 Axes>",
      "image/svg+xml": "<?xml version=\"1.0\" encoding=\"utf-8\" standalone=\"no\"?>\n<!DOCTYPE svg PUBLIC \"-//W3C//DTD SVG 1.1//EN\"\n  \"http://www.w3.org/Graphics/SVG/1.1/DTD/svg11.dtd\">\n<!-- Created with matplotlib (https://matplotlib.org/) -->\n<svg height=\"248.518125pt\" version=\"1.1\" viewBox=\"0 0 372.103125 248.518125\" width=\"372.103125pt\" xmlns=\"http://www.w3.org/2000/svg\" xmlns:xlink=\"http://www.w3.org/1999/xlink\">\n <defs>\n  <style type=\"text/css\">\n*{stroke-linecap:butt;stroke-linejoin:round;}\n  </style>\n </defs>\n <g id=\"figure_1\">\n  <g id=\"patch_1\">\n   <path d=\"M 0 248.518125 \nL 372.103125 248.518125 \nL 372.103125 0 \nL 0 0 \nz\n\" style=\"fill:none;\"/>\n  </g>\n  <g id=\"axes_1\">\n   <g id=\"patch_2\">\n    <path d=\"M 30.103125 224.64 \nL 364.903125 224.64 \nL 364.903125 7.2 \nL 30.103125 7.2 \nz\n\" style=\"fill:#ffffff;\"/>\n   </g>\n   <g id=\"matplotlib.axis_1\">\n    <g id=\"xtick_1\">\n     <g id=\"line2d_1\">\n      <defs>\n       <path d=\"M 0 0 \nL 0 3.5 \n\" id=\"m348f370f41\" style=\"stroke:#000000;stroke-width:0.8;\"/>\n      </defs>\n      <g>\n       <use style=\"stroke:#000000;stroke-width:0.8;\" x=\"45.321307\" xlink:href=\"#m348f370f41\" y=\"224.64\"/>\n      </g>\n     </g>\n     <g id=\"text_1\">\n      <!-- 0 -->\n      <defs>\n       <path d=\"M 31.78125 66.40625 \nQ 24.171875 66.40625 20.328125 58.90625 \nQ 16.5 51.421875 16.5 36.375 \nQ 16.5 21.390625 20.328125 13.890625 \nQ 24.171875 6.390625 31.78125 6.390625 \nQ 39.453125 6.390625 43.28125 13.890625 \nQ 47.125 21.390625 47.125 36.375 \nQ 47.125 51.421875 43.28125 58.90625 \nQ 39.453125 66.40625 31.78125 66.40625 \nz\nM 31.78125 74.21875 \nQ 44.046875 74.21875 50.515625 64.515625 \nQ 56.984375 54.828125 56.984375 36.375 \nQ 56.984375 17.96875 50.515625 8.265625 \nQ 44.046875 -1.421875 31.78125 -1.421875 \nQ 19.53125 -1.421875 13.0625 8.265625 \nQ 6.59375 17.96875 6.59375 36.375 \nQ 6.59375 54.828125 13.0625 64.515625 \nQ 19.53125 74.21875 31.78125 74.21875 \nz\n\" id=\"DejaVuSans-48\"/>\n      </defs>\n      <g transform=\"translate(42.140057 239.238437)scale(0.1 -0.1)\">\n       <use xlink:href=\"#DejaVuSans-48\"/>\n      </g>\n     </g>\n    </g>\n    <g id=\"xtick_2\">\n     <g id=\"line2d_2\">\n      <g>\n       <use style=\"stroke:#000000;stroke-width:0.8;\" x=\"106.316024\" xlink:href=\"#m348f370f41\" y=\"224.64\"/>\n      </g>\n     </g>\n     <g id=\"text_2\">\n      <!-- 100 -->\n      <defs>\n       <path d=\"M 12.40625 8.296875 \nL 28.515625 8.296875 \nL 28.515625 63.921875 \nL 10.984375 60.40625 \nL 10.984375 69.390625 \nL 28.421875 72.90625 \nL 38.28125 72.90625 \nL 38.28125 8.296875 \nL 54.390625 8.296875 \nL 54.390625 0 \nL 12.40625 0 \nz\n\" id=\"DejaVuSans-49\"/>\n      </defs>\n      <g transform=\"translate(96.772274 239.238437)scale(0.1 -0.1)\">\n       <use xlink:href=\"#DejaVuSans-49\"/>\n       <use x=\"63.623047\" xlink:href=\"#DejaVuSans-48\"/>\n       <use x=\"127.246094\" xlink:href=\"#DejaVuSans-48\"/>\n      </g>\n     </g>\n    </g>\n    <g id=\"xtick_3\">\n     <g id=\"line2d_3\">\n      <g>\n       <use style=\"stroke:#000000;stroke-width:0.8;\" x=\"167.31074\" xlink:href=\"#m348f370f41\" y=\"224.64\"/>\n      </g>\n     </g>\n     <g id=\"text_3\">\n      <!-- 200 -->\n      <defs>\n       <path d=\"M 19.1875 8.296875 \nL 53.609375 8.296875 \nL 53.609375 0 \nL 7.328125 0 \nL 7.328125 8.296875 \nQ 12.9375 14.109375 22.625 23.890625 \nQ 32.328125 33.6875 34.8125 36.53125 \nQ 39.546875 41.84375 41.421875 45.53125 \nQ 43.3125 49.21875 43.3125 52.78125 \nQ 43.3125 58.59375 39.234375 62.25 \nQ 35.15625 65.921875 28.609375 65.921875 \nQ 23.96875 65.921875 18.8125 64.3125 \nQ 13.671875 62.703125 7.8125 59.421875 \nL 7.8125 69.390625 \nQ 13.765625 71.78125 18.9375 73 \nQ 24.125 74.21875 28.421875 74.21875 \nQ 39.75 74.21875 46.484375 68.546875 \nQ 53.21875 62.890625 53.21875 53.421875 \nQ 53.21875 48.921875 51.53125 44.890625 \nQ 49.859375 40.875 45.40625 35.40625 \nQ 44.1875 33.984375 37.640625 27.21875 \nQ 31.109375 20.453125 19.1875 8.296875 \nz\n\" id=\"DejaVuSans-50\"/>\n      </defs>\n      <g transform=\"translate(157.76699 239.238437)scale(0.1 -0.1)\">\n       <use xlink:href=\"#DejaVuSans-50\"/>\n       <use x=\"63.623047\" xlink:href=\"#DejaVuSans-48\"/>\n       <use x=\"127.246094\" xlink:href=\"#DejaVuSans-48\"/>\n      </g>\n     </g>\n    </g>\n    <g id=\"xtick_4\">\n     <g id=\"line2d_4\">\n      <g>\n       <use style=\"stroke:#000000;stroke-width:0.8;\" x=\"228.305457\" xlink:href=\"#m348f370f41\" y=\"224.64\"/>\n      </g>\n     </g>\n     <g id=\"text_4\">\n      <!-- 300 -->\n      <defs>\n       <path d=\"M 40.578125 39.3125 \nQ 47.65625 37.796875 51.625 33 \nQ 55.609375 28.21875 55.609375 21.1875 \nQ 55.609375 10.40625 48.1875 4.484375 \nQ 40.765625 -1.421875 27.09375 -1.421875 \nQ 22.515625 -1.421875 17.65625 -0.515625 \nQ 12.796875 0.390625 7.625 2.203125 \nL 7.625 11.71875 \nQ 11.71875 9.328125 16.59375 8.109375 \nQ 21.484375 6.890625 26.8125 6.890625 \nQ 36.078125 6.890625 40.9375 10.546875 \nQ 45.796875 14.203125 45.796875 21.1875 \nQ 45.796875 27.640625 41.28125 31.265625 \nQ 36.765625 34.90625 28.71875 34.90625 \nL 20.21875 34.90625 \nL 20.21875 43.015625 \nL 29.109375 43.015625 \nQ 36.375 43.015625 40.234375 45.921875 \nQ 44.09375 48.828125 44.09375 54.296875 \nQ 44.09375 59.90625 40.109375 62.90625 \nQ 36.140625 65.921875 28.71875 65.921875 \nQ 24.65625 65.921875 20.015625 65.03125 \nQ 15.375 64.15625 9.8125 62.3125 \nL 9.8125 71.09375 \nQ 15.4375 72.65625 20.34375 73.4375 \nQ 25.25 74.21875 29.59375 74.21875 \nQ 40.828125 74.21875 47.359375 69.109375 \nQ 53.90625 64.015625 53.90625 55.328125 \nQ 53.90625 49.265625 50.4375 45.09375 \nQ 46.96875 40.921875 40.578125 39.3125 \nz\n\" id=\"DejaVuSans-51\"/>\n      </defs>\n      <g transform=\"translate(218.761707 239.238437)scale(0.1 -0.1)\">\n       <use xlink:href=\"#DejaVuSans-51\"/>\n       <use x=\"63.623047\" xlink:href=\"#DejaVuSans-48\"/>\n       <use x=\"127.246094\" xlink:href=\"#DejaVuSans-48\"/>\n      </g>\n     </g>\n    </g>\n    <g id=\"xtick_5\">\n     <g id=\"line2d_5\">\n      <g>\n       <use style=\"stroke:#000000;stroke-width:0.8;\" x=\"289.300174\" xlink:href=\"#m348f370f41\" y=\"224.64\"/>\n      </g>\n     </g>\n     <g id=\"text_5\">\n      <!-- 400 -->\n      <defs>\n       <path d=\"M 37.796875 64.3125 \nL 12.890625 25.390625 \nL 37.796875 25.390625 \nz\nM 35.203125 72.90625 \nL 47.609375 72.90625 \nL 47.609375 25.390625 \nL 58.015625 25.390625 \nL 58.015625 17.1875 \nL 47.609375 17.1875 \nL 47.609375 0 \nL 37.796875 0 \nL 37.796875 17.1875 \nL 4.890625 17.1875 \nL 4.890625 26.703125 \nz\n\" id=\"DejaVuSans-52\"/>\n      </defs>\n      <g transform=\"translate(279.756424 239.238437)scale(0.1 -0.1)\">\n       <use xlink:href=\"#DejaVuSans-52\"/>\n       <use x=\"63.623047\" xlink:href=\"#DejaVuSans-48\"/>\n       <use x=\"127.246094\" xlink:href=\"#DejaVuSans-48\"/>\n      </g>\n     </g>\n    </g>\n    <g id=\"xtick_6\">\n     <g id=\"line2d_6\">\n      <g>\n       <use style=\"stroke:#000000;stroke-width:0.8;\" x=\"350.29489\" xlink:href=\"#m348f370f41\" y=\"224.64\"/>\n      </g>\n     </g>\n     <g id=\"text_6\">\n      <!-- 500 -->\n      <defs>\n       <path d=\"M 10.796875 72.90625 \nL 49.515625 72.90625 \nL 49.515625 64.59375 \nL 19.828125 64.59375 \nL 19.828125 46.734375 \nQ 21.96875 47.46875 24.109375 47.828125 \nQ 26.265625 48.1875 28.421875 48.1875 \nQ 40.625 48.1875 47.75 41.5 \nQ 54.890625 34.8125 54.890625 23.390625 \nQ 54.890625 11.625 47.5625 5.09375 \nQ 40.234375 -1.421875 26.90625 -1.421875 \nQ 22.3125 -1.421875 17.546875 -0.640625 \nQ 12.796875 0.140625 7.71875 1.703125 \nL 7.71875 11.625 \nQ 12.109375 9.234375 16.796875 8.0625 \nQ 21.484375 6.890625 26.703125 6.890625 \nQ 35.15625 6.890625 40.078125 11.328125 \nQ 45.015625 15.765625 45.015625 23.390625 \nQ 45.015625 31 40.078125 35.4375 \nQ 35.15625 39.890625 26.703125 39.890625 \nQ 22.75 39.890625 18.8125 39.015625 \nQ 14.890625 38.140625 10.796875 36.28125 \nz\n\" id=\"DejaVuSans-53\"/>\n      </defs>\n      <g transform=\"translate(340.75114 239.238437)scale(0.1 -0.1)\">\n       <use xlink:href=\"#DejaVuSans-53\"/>\n       <use x=\"63.623047\" xlink:href=\"#DejaVuSans-48\"/>\n       <use x=\"127.246094\" xlink:href=\"#DejaVuSans-48\"/>\n      </g>\n     </g>\n    </g>\n   </g>\n   <g id=\"matplotlib.axis_2\">\n    <g id=\"ytick_1\">\n     <g id=\"line2d_7\">\n      <defs>\n       <path d=\"M 0 0 \nL -3.5 0 \n\" id=\"mafdbb10db8\" style=\"stroke:#000000;stroke-width:0.8;\"/>\n      </defs>\n      <g>\n       <use style=\"stroke:#000000;stroke-width:0.8;\" x=\"30.103125\" xlink:href=\"#mafdbb10db8\" y=\"222.304418\"/>\n      </g>\n     </g>\n     <g id=\"text_7\">\n      <!-- 0.0 -->\n      <defs>\n       <path d=\"M 10.6875 12.40625 \nL 21 12.40625 \nL 21 0 \nL 10.6875 0 \nz\n\" id=\"DejaVuSans-46\"/>\n      </defs>\n      <g transform=\"translate(7.2 226.103637)scale(0.1 -0.1)\">\n       <use xlink:href=\"#DejaVuSans-48\"/>\n       <use x=\"63.623047\" xlink:href=\"#DejaVuSans-46\"/>\n       <use x=\"95.410156\" xlink:href=\"#DejaVuSans-48\"/>\n      </g>\n     </g>\n    </g>\n    <g id=\"ytick_2\">\n     <g id=\"line2d_8\">\n      <g>\n       <use style=\"stroke:#000000;stroke-width:0.8;\" x=\"30.103125\" xlink:href=\"#mafdbb10db8\" y=\"177.170259\"/>\n      </g>\n     </g>\n     <g id=\"text_8\">\n      <!-- 0.1 -->\n      <g transform=\"translate(7.2 180.969477)scale(0.1 -0.1)\">\n       <use xlink:href=\"#DejaVuSans-48\"/>\n       <use x=\"63.623047\" xlink:href=\"#DejaVuSans-46\"/>\n       <use x=\"95.410156\" xlink:href=\"#DejaVuSans-49\"/>\n      </g>\n     </g>\n    </g>\n    <g id=\"ytick_3\">\n     <g id=\"line2d_9\">\n      <g>\n       <use style=\"stroke:#000000;stroke-width:0.8;\" x=\"30.103125\" xlink:href=\"#mafdbb10db8\" y=\"132.0361\"/>\n      </g>\n     </g>\n     <g id=\"text_9\">\n      <!-- 0.2 -->\n      <g transform=\"translate(7.2 135.835318)scale(0.1 -0.1)\">\n       <use xlink:href=\"#DejaVuSans-48\"/>\n       <use x=\"63.623047\" xlink:href=\"#DejaVuSans-46\"/>\n       <use x=\"95.410156\" xlink:href=\"#DejaVuSans-50\"/>\n      </g>\n     </g>\n    </g>\n    <g id=\"ytick_4\">\n     <g id=\"line2d_10\">\n      <g>\n       <use style=\"stroke:#000000;stroke-width:0.8;\" x=\"30.103125\" xlink:href=\"#mafdbb10db8\" y=\"86.90194\"/>\n      </g>\n     </g>\n     <g id=\"text_10\">\n      <!-- 0.3 -->\n      <g transform=\"translate(7.2 90.701159)scale(0.1 -0.1)\">\n       <use xlink:href=\"#DejaVuSans-48\"/>\n       <use x=\"63.623047\" xlink:href=\"#DejaVuSans-46\"/>\n       <use x=\"95.410156\" xlink:href=\"#DejaVuSans-51\"/>\n      </g>\n     </g>\n    </g>\n    <g id=\"ytick_5\">\n     <g id=\"line2d_11\">\n      <g>\n       <use style=\"stroke:#000000;stroke-width:0.8;\" x=\"30.103125\" xlink:href=\"#mafdbb10db8\" y=\"41.767781\"/>\n      </g>\n     </g>\n     <g id=\"text_11\">\n      <!-- 0.4 -->\n      <g transform=\"translate(7.2 45.567)scale(0.1 -0.1)\">\n       <use xlink:href=\"#DejaVuSans-48\"/>\n       <use x=\"63.623047\" xlink:href=\"#DejaVuSans-46\"/>\n       <use x=\"95.410156\" xlink:href=\"#DejaVuSans-52\"/>\n      </g>\n     </g>\n    </g>\n   </g>\n   <g id=\"line2d_12\">\n    <path clip-path=\"url(#p2bf91c8ce0)\" d=\"M 45.321307 57.3484 \nL 45.931254 214.756364 \nL 46.541201 146.98405 \nL 47.151148 202.893706 \nL 47.761095 163.75194 \nL 48.371043 22.451175 \nL 48.98099 173.872739 \nL 49.590937 207.838983 \nL 50.200884 57.3484 \nL 50.810831 57.3484 \nL 51.420778 162.610721 \nL 52.030726 208.419602 \nL 52.640673 57.378436 \nL 53.25062 57.3484 \nL 53.860567 190.00996 \nL 54.470514 57.408472 \nL 55.080461 57.979078 \nL 55.690409 49.800356 \nL 56.300356 52.343071 \nL 56.910303 57.498567 \nL 57.52025 147.44454 \nL 58.130197 71.113092 \nL 58.740144 111.245914 \nL 59.350092 64.716267 \nL 59.960039 61.7531 \nL 60.569986 85.218149 \nL 61.179933 171.530242 \nL 63.009775 35.545145 \nL 63.619722 26.635642 \nL 64.229669 24.92381 \nL 64.839616 34.654189 \nL 65.449563 108.913425 \nL 66.05951 123.749256 \nL 66.669458 30.750028 \nL 67.279405 57.458523 \nL 67.889352 125.911563 \nL 68.499299 161.459495 \nL 69.109246 160.32829 \nL 69.719194 35.675284 \nL 70.329141 25.874824 \nL 70.939088 26.055014 \nL 71.549035 26.986014 \nL 72.158982 30.569838 \nL 72.768929 55.596538 \nL 73.378877 45.695976 \nL 73.988824 56.297283 \nL 74.598771 80.903543 \nL 75.208718 83.666492 \nL 75.818665 78.300756 \nL 76.428612 99.923835 \nL 77.03856 162.38048 \nL 77.648507 70.612566 \nL 78.258454 63.254706 \nL 78.868401 63.354822 \nL 79.478348 64.225749 \nL 80.088295 64.2758 \nL 80.698243 66.618297 \nL 81.30819 146.603642 \nL 81.918137 73.165288 \nL 82.528084 87.330404 \nL 83.138031 125.901555 \nL 83.747978 109.774345 \nL 84.357926 118.263403 \nL 84.967873 134.480708 \nL 85.57782 117.032089 \nL 86.187767 87.810915 \nL 86.797714 66.057698 \nL 87.407661 69.371238 \nL 88.017609 141.708423 \nL 88.627556 69.281143 \nL 89.237503 65.617231 \nL 89.84745 68.290084 \nL 90.457397 174.833764 \nL 91.067344 144.831751 \nL 91.677292 74.937179 \nL 92.287239 76.078391 \nL 92.897186 71.353354 \nL 93.507133 68.810639 \nL 94.11708 68.280077 \nL 94.727027 72.10415 \nL 95.336975 87.110157 \nL 95.946922 169.998607 \nL 96.556869 164.622867 \nL 97.166816 142.419182 \nL 97.776763 138.064533 \nL 98.38671 125.681322 \nL 98.996658 109.984571 \nL 99.606605 74.787011 \nL 100.826499 88.902076 \nL 101.436446 104.698936 \nL 102.656341 128.80465 \nL 103.266288 134.150358 \nL 104.486182 139.576146 \nL 105.706076 125.200804 \nL 106.316024 123.799308 \nL 106.925971 122.848293 \nL 107.535918 125.491117 \nL 108.755812 135.531832 \nL 109.975707 137.914372 \nL 110.585654 136.37273 \nL 111.195601 132.038102 \nL 113.025442 114.209075 \nL 113.63539 110.124717 \nL 114.245337 111.285958 \nL 114.855284 111.516206 \nL 115.465231 112.947731 \nL 116.075178 111.966687 \nL 116.685125 112.327067 \nL 117.295073 111.766469 \nL 117.90502 109.884462 \nL 118.514967 104.148345 \nL 120.344808 82.525267 \nL 120.954756 80.963602 \nL 121.564703 79.832398 \nL 122.17465 79.061573 \nL 122.784597 79.271799 \nL 123.394544 81.003646 \nL 124.004491 82.154879 \nL 125.224386 78.0505 \nL 125.834333 74.076259 \nL 126.44428 72.754844 \nL 127.054227 71.813837 \nL 127.664174 71.823858 \nL 128.274122 69.211063 \nL 128.884069 65.587195 \nL 129.494016 63.214662 \nL 130.103963 58.039137 \nL 130.71391 58.089202 \nL 131.323857 60.96226 \nL 131.933805 65.096676 \nL 132.543752 67.859625 \nL 133.153699 67.969735 \nL 133.763646 67.329062 \nL 134.98354 59.030195 \nL 136.203435 54.545421 \nL 136.813382 54.094932 \nL 137.423329 53.093867 \nL 138.033276 53.444239 \nL 138.643223 54.865757 \nL 139.253171 51.29194 \nL 141.083012 48.128568 \nL 141.692959 47.768188 \nL 142.302906 47.698108 \nL 142.912854 47.748159 \nL 143.522801 48.809297 \nL 144.742695 51.7224 \nL 145.352642 50.200779 \nL 145.962589 50.190772 \nL 146.572537 50.781393 \nL 147.182484 47.347736 \nL 147.792431 46.997363 \nL 148.402378 47.407794 \nL 149.012325 47.638049 \nL 149.622272 46.997363 \nL 150.23222 48.218663 \nL 150.842167 49.840399 \nL 151.452114 50.310903 \nL 152.062061 51.672349 \nL 152.672008 51.802487 \nL 153.281955 50.75137 \nL 154.50185 51.131779 \nL 155.721744 52.192903 \nL 156.331691 53.784604 \nL 156.941638 49.810363 \nL 158.161533 47.948378 \nL 158.77148 47.788203 \nL 159.381427 48.709181 \nL 159.991374 50.380969 \nL 160.601321 48.058488 \nL 161.211269 47.738152 \nL 161.821216 48.36883 \nL 162.431163 49.690232 \nL 163.04111 50.060633 \nL 163.651057 49.990553 \nL 164.261004 48.959451 \nL 164.870952 49.760312 \nL 165.480899 52.262983 \nL 166.090846 50.981611 \nL 166.700793 50.891516 \nL 167.920687 52.002706 \nL 168.530635 53.574378 \nL 169.140582 53.754568 \nL 169.750529 51.872567 \nL 170.360476 51.071706 \nL 170.970423 50.701319 \nL 171.58037 50.531137 \nL 172.190318 50.961596 \nL 172.800265 52.403129 \nL 173.410212 48.398853 \nL 174.020159 48.458925 \nL 174.630106 48.649123 \nL 175.240053 48.258706 \nL 175.850001 47.587998 \nL 176.459948 49.469998 \nL 177.069895 47.187561 \nL 178.289789 47.537933 \nL 178.899736 47.027399 \nL 179.509684 46.677014 \nL 180.119631 48.168611 \nL 180.729578 48.689166 \nL 181.339525 47.157538 \nL 181.949472 48.488948 \nL 182.559419 48.639115 \nL 184.389261 47.557962 \nL 184.999208 48.669151 \nL 185.609155 46.947312 \nL 186.82905 47.447838 \nL 187.438997 46.967327 \nL 188.048944 46.156459 \nL 188.658891 46.376692 \nL 189.268838 47.497889 \nL 189.878785 45.165401 \nL 190.488733 46.016313 \nL 191.09868 46.556896 \nL 191.708627 46.566903 \nL 192.318574 46.266582 \nL 192.928521 45.505765 \nL 193.538468 46.797145 \nL 194.148416 45.48575 \nL 194.758363 45.766043 \nL 195.36831 46.636983 \nL 196.588204 45.886174 \nL 197.198151 46.546875 \nL 197.808099 46.506845 \nL 198.418046 45.365619 \nL 199.027993 45.465722 \nL 200.247887 45.325575 \nL 201.467782 46.066364 \nL 202.077729 45.335583 \nL 202.687676 45.685969 \nL 203.90757 45.515786 \nL 204.517517 46.296618 \nL 205.127465 46.016313 \nL 205.737412 45.525794 \nL 206.957306 45.705984 \nL 207.567253 46.076385 \nL 208.1772 46.136444 \nL 208.787148 45.375627 \nL 209.397095 45.445706 \nL 210.007042 46.056356 \nL 210.616989 45.505765 \nL 212.446831 45.525794 \nL 213.056778 45.405663 \nL 213.666725 45.165401 \nL 214.276672 45.065298 \nL 214.886619 45.115349 \nL 216.106514 44.865079 \nL 216.716461 44.634838 \nL 218.546302 44.474663 \nL 219.156249 44.194371 \nL 219.766197 44.214386 \nL 220.376144 44.064232 \nL 220.986091 44.805021 \nL 221.596038 43.803955 \nL 222.205985 43.743896 \nL 222.815932 44.554751 \nL 223.42588 43.693831 \nL 224.645774 43.703852 \nL 225.255721 44.754969 \nL 226.475615 44.084247 \nL 227.085563 43.884042 \nL 227.69551 43.884042 \nL 228.305457 44.07424 \nL 229.525351 44.204378 \nL 230.135298 43.924086 \nL 231.355193 43.693831 \nL 232.575087 44.07424 \nL 234.404929 44.414605 \nL 235.014876 44.274458 \nL 235.624823 44.374561 \nL 237.454664 44.354546 \nL 238.064612 43.743896 \nL 239.284506 43.743896 \nL 239.894453 43.773919 \nL 241.114347 43.543677 \nL 242.944189 43.553685 \nL 243.554136 44.214386 \nL 244.164083 43.673816 \nL 247.213819 43.523649 \nL 249.043661 42.882976 \nL 249.653608 42.772853 \nL 251.483449 42.943035 \nL 252.093396 43.633772 \nL 252.703344 42.612678 \nL 253.313291 42.522583 \nL 253.923238 42.592663 \nL 254.533185 42.542612 \nL 255.143132 42.732809 \nL 255.753079 42.622699 \nL 256.363027 42.24229 \nL 257.582921 42.132167 \nL 258.802815 41.931962 \nL 263.682393 41.781795 \nL 264.29234 41.911933 \nL 264.902287 41.781795 \nL 265.512234 41.801823 \nL 266.122181 41.961984 \nL 269.781864 41.661663 \nL 271.001759 41.771787 \nL 271.611706 41.972006 \nL 276.491283 41.821838 \nL 277.10123 41.951977 \nL 280.150966 41.941969 \nL 281.980808 41.831846 \nL 283.810649 41.972006 \nL 285.030543 42.232283 \nL 286.250438 42.272313 \nL 287.470332 42.292342 \nL 288.080279 42.42248 \nL 288.690226 42.802889 \nL 289.300174 42.432488 \nL 290.520068 42.352401 \nL 291.739962 42.382437 \nL 294.789698 42.192239 \nL 302.719011 42.122159 \nL 304.548853 42.312357 \nL 349.684943 42.212254 \nL 349.684943 42.212254 \n\" style=\"fill:none;stroke:#1f77b4;stroke-linecap:square;stroke-width:1.5;\"/>\n   </g>\n   <g id=\"line2d_13\">\n    <path clip-path=\"url(#p2bf91c8ce0)\" d=\"M 45.321307 214.376661 \nL 45.931254 144.918706 \nL 46.541201 203.74626 \nL 47.151148 165.098448 \nL 47.761095 17.443989 \nL 48.371043 175.008143 \nL 48.98099 210.142519 \nL 49.590937 54.650379 \nL 50.200884 54.650379 \nL 50.810831 162.575977 \nL 51.420778 208.791197 \nL 52.030726 54.650379 \nL 52.640673 54.650379 \nL 53.25062 191.674451 \nL 53.860567 54.830556 \nL 54.470514 55.46118 \nL 55.080461 46.992897 \nL 55.690409 48.344215 \nL 56.300356 55.010732 \nL 56.910303 146.270023 \nL 57.52025 65.82131 \nL 58.130197 107.351949 \nL 58.740144 60.416028 \nL 59.350092 57.893556 \nL 59.960039 82.037183 \nL 60.569986 169.242501 \nL 62.399827 25.822177 \nL 63.009775 19.15566 \nL 63.619722 17.083636 \nL 64.229669 27.623942 \nL 64.839616 106.541162 \nL 65.449563 119.603939 \nL 66.05951 24.200589 \nL 66.669458 48.884744 \nL 67.279405 119.603939 \nL 67.889352 159.512983 \nL 68.499299 158.251748 \nL 69.109246 27.804119 \nL 69.719194 18.795307 \nL 70.329141 20.236719 \nL 70.939088 20.236719 \nL 71.549035 24.290684 \nL 72.158982 48.974839 \nL 72.768929 39.335402 \nL 73.378877 51.767568 \nL 73.988824 77.082335 \nL 74.598771 79.604806 \nL 75.208718 75.010312 \nL 75.818665 94.108996 \nL 76.428612 161.22466 \nL 77.03856 65.731228 \nL 77.648507 59.154792 \nL 78.258454 58.974616 \nL 78.868401 59.064711 \nL 79.478348 60.325933 \nL 80.088295 60.866462 \nL 80.698243 145.459235 \nL 81.30819 67.71317 \nL 81.918137 82.577712 \nL 82.528084 119.423762 \nL 83.138031 106.27089 \nL 83.747978 114.649091 \nL 84.357926 134.828834 \nL 84.967873 116.270673 \nL 85.57782 85.010088 \nL 86.187767 62.397969 \nL 86.797714 63.929463 \nL 87.407661 142.396234 \nL 88.017609 67.893346 \nL 88.627556 62.848404 \nL 89.237503 65.911405 \nL 89.84745 176.53964 \nL 90.457397 147.891611 \nL 91.067344 74.469782 \nL 91.677292 75.460747 \nL 92.287239 71.13651 \nL 92.897186 69.154582 \nL 93.507133 69.514935 \nL 94.11708 73.118452 \nL 94.727027 86.541582 \nL 95.336975 171.134355 \nL 95.946922 166.269592 \nL 96.556869 145.459235 \nL 97.166816 139.153064 \nL 97.776763 126.810986 \nL 98.38671 108.793361 \nL 98.996658 71.406782 \nL 99.606605 79.965159 \nL 100.216552 86.091147 \nL 100.826499 102.487183 \nL 102.046393 128.252398 \nL 103.266288 137.981916 \nL 103.876235 139.423329 \nL 104.486182 129.783899 \nL 105.096129 123.027286 \nL 106.316024 117.171556 \nL 106.925971 120.504815 \nL 107.535918 128.342486 \nL 108.145865 133.027069 \nL 109.365759 135.639629 \nL 109.975707 133.747775 \nL 110.585654 129.873987 \nL 111.805548 118.342703 \nL 112.415495 114.288738 \nL 113.025442 112.216708 \nL 113.63539 113.207679 \nL 114.245337 113.658121 \nL 115.465231 111.856355 \nL 116.075178 110.414943 \nL 116.685125 109.333891 \nL 117.295073 107.261854 \nL 119.734861 78.523747 \nL 120.344808 75.8211 \nL 120.954756 74.559864 \nL 121.564703 74.649959 \nL 122.17465 75.010312 \nL 122.784597 78.613829 \nL 123.394544 79.694888 \nL 124.004491 78.8841 \nL 124.614439 76.541806 \nL 125.224386 72.668017 \nL 125.834333 71.13651 \nL 126.44428 70.325723 \nL 127.054227 70.866252 \nL 128.274122 62.668227 \nL 128.884069 60.416028 \nL 129.494016 56.902592 \nL 130.103963 57.623298 \nL 130.71391 60.506109 \nL 131.323857 64.019558 \nL 131.933805 68.253699 \nL 132.543752 68.343781 \nL 133.153699 67.352817 \nL 133.763646 63.659205 \nL 134.373593 57.443122 \nL 135.593488 51.767568 \nL 136.203435 50.866686 \nL 136.813382 49.064921 \nL 137.423329 49.695532 \nL 138.033276 50.686509 \nL 138.643223 46.902803 \nL 139.253171 46.632544 \nL 139.863118 44.650603 \nL 140.473065 43.569544 \nL 141.083012 43.569544 \nL 141.692959 43.839815 \nL 142.302906 42.938933 \nL 142.912854 44.470426 \nL 143.522801 46.452368 \nL 144.132748 47.983862 \nL 144.742695 47.443332 \nL 145.962589 48.254133 \nL 146.572537 44.29025 \nL 147.182484 43.569544 \nL 147.792431 44.29025 \nL 148.402378 43.929897 \nL 149.012325 42.488485 \nL 149.622272 44.830779 \nL 150.23222 45.821743 \nL 152.062061 47.173074 \nL 152.672008 45.46139 \nL 153.281955 45.821743 \nL 153.891903 46.362273 \nL 154.50185 47.803685 \nL 155.721744 49.785627 \nL 156.331691 44.920861 \nL 157.551586 42.938933 \nL 158.161533 43.029014 \nL 159.381427 45.101037 \nL 159.991374 42.758756 \nL 160.601321 41.677697 \nL 161.211269 42.488485 \nL 161.821216 43.74972 \nL 162.431163 43.929897 \nL 163.651057 43.389367 \nL 164.870952 47.89378 \nL 165.480899 45.911838 \nL 166.700793 47.353251 \nL 167.31074 47.713604 \nL 167.920687 50.055885 \nL 168.530635 49.965803 \nL 169.140582 48.254133 \nL 169.750529 47.082979 \nL 170.360476 47.082979 \nL 170.970423 46.722626 \nL 171.58037 46.902803 \nL 172.190318 47.713604 \nL 172.800265 44.920861 \nL 173.410212 45.371309 \nL 174.020159 45.46139 \nL 174.630106 45.281214 \nL 175.240053 44.650603 \nL 175.850001 45.46139 \nL 176.459948 43.929897 \nL 177.069895 45.191132 \nL 177.679842 44.650603 \nL 178.289789 44.740684 \nL 179.509684 43.929897 \nL 180.119631 44.470426 \nL 180.729578 45.46139 \nL 181.339525 46.992897 \nL 181.949472 47.353251 \nL 183.169367 45.821743 \nL 183.779314 44.650603 \nL 184.389261 45.101037 \nL 184.999208 44.740684 \nL 185.609155 45.281214 \nL 186.219102 45.371309 \nL 186.82905 45.101037 \nL 188.048944 44.019978 \nL 188.658891 44.200155 \nL 189.268838 43.929897 \nL 189.878785 44.740684 \nL 190.488733 44.470426 \nL 191.708627 44.380331 \nL 192.318574 44.019978 \nL 192.928521 44.380331 \nL 193.538468 43.389367 \nL 194.148416 43.029014 \nL 194.758363 44.200155 \nL 195.36831 44.019978 \nL 195.978257 44.019978 \nL 196.588204 44.560508 \nL 197.198151 44.560508 \nL 197.808099 43.389367 \nL 199.63794 43.299286 \nL 200.247887 43.029014 \nL 200.857834 43.929897 \nL 201.467782 43.389367 \nL 202.077729 43.74972 \nL 203.297623 43.839815 \nL 203.90757 44.110073 \nL 204.517517 43.569544 \nL 205.737412 43.929897 \nL 206.347359 43.929897 \nL 207.567253 43.659639 \nL 208.1772 43.209191 \nL 210.616989 43.839815 \nL 211.836883 43.74972 \nL 212.446831 43.569544 \nL 213.056778 43.929897 \nL 213.666725 43.569544 \nL 216.106514 43.479462 \nL 216.716461 43.029014 \nL 217.936355 42.488485 \nL 219.766197 42.128132 \nL 220.376144 42.758756 \nL 220.986091 41.857874 \nL 221.596038 41.767779 \nL 222.205985 42.848838 \nL 222.815932 42.308308 \nL 223.42588 42.03805 \nL 224.035827 41.587602 \nL 224.645774 43.299286 \nL 225.255721 42.398403 \nL 225.865668 41.767779 \nL 226.475615 41.947955 \nL 227.085563 41.497521 \nL 227.69551 42.03805 \nL 228.915404 42.488485 \nL 229.525351 42.398403 \nL 230.135298 41.857874 \nL 230.745246 41.587602 \nL 231.96514 41.587602 \nL 232.575087 41.947955 \nL 233.185034 41.587602 \nL 233.794981 42.03805 \nL 234.404929 42.03805 \nL 235.014876 41.767779 \nL 235.624823 42.03805 \nL 236.23477 42.128132 \nL 236.844717 41.947955 \nL 237.454664 41.407426 \nL 238.674559 41.227249 \nL 239.284506 41.497521 \nL 241.724295 41.587602 \nL 242.334242 41.677697 \nL 242.944189 42.488485 \nL 243.554136 42.128132 \nL 244.164083 42.03805 \nL 244.77403 41.587602 \nL 245.383978 41.407426 \nL 245.993925 41.407426 \nL 247.213819 41.047072 \nL 247.823766 41.317344 \nL 249.043661 40.686719 \nL 249.653608 40.956991 \nL 250.873502 40.866896 \nL 251.483449 41.317344 \nL 252.093396 40.866896 \nL 252.703344 40.686719 \nL 253.313291 40.686719 \nL 254.533185 40.956991 \nL 255.143132 40.956991 \nL 255.753079 40.416461 \nL 256.363027 40.416461 \nL 256.972974 40.14619 \nL 257.582921 40.056108 \nL 258.192868 39.785837 \nL 260.02271 39.785837 \nL 261.242604 39.515579 \nL 261.852551 39.60566 \nL 262.462498 39.245307 \nL 263.072445 39.155226 \nL 263.682393 39.425484 \nL 264.29234 39.515579 \nL 265.512234 39.425484 \nL 266.122181 39.425484 \nL 267.342076 39.155226 \nL 269.781864 39.065131 \nL 270.391811 39.335402 \nL 271.611706 39.515579 \nL 274.661442 39.065131 \nL 275.881336 39.335402 \nL 277.10123 39.60566 \nL 278.321125 39.515579 \nL 278.931072 39.515579 \nL 280.150966 39.785837 \nL 280.760913 39.60566 \nL 282.590755 39.695755 \nL 284.420596 40.056108 \nL 285.030543 40.506543 \nL 286.250438 40.596638 \nL 287.470332 40.956991 \nL 288.080279 41.317344 \nL 288.690226 40.776814 \nL 289.300174 40.596638 \nL 290.520068 40.506543 \nL 291.739962 40.416461 \nL 292.349909 40.506543 \nL 293.569804 40.416461 \nL 296.009592 40.326366 \nL 297.229487 40.236285 \nL 300.88917 40.326366 \nL 301.499117 40.416461 \nL 302.109064 40.326366 \nL 302.719011 40.416461 \nL 303.938906 40.326366 \nL 306.988641 40.236285 \nL 307.598589 40.056108 \nL 308.818483 40.14619 \nL 311.258272 40.236285 \nL 312.478166 40.326366 \nL 334.436264 40.236285 \nL 335.656158 40.14619 \nL 349.684943 40.14619 \nL 349.684943 40.14619 \n\" style=\"fill:none;stroke:#ff7f0e;stroke-linecap:square;stroke-width:1.5;\"/>\n   </g>\n   <g id=\"patch_3\">\n    <path d=\"M 30.103125 224.64 \nL 30.103125 7.2 \n\" style=\"fill:none;stroke:#000000;stroke-linecap:square;stroke-linejoin:miter;stroke-width:0.8;\"/>\n   </g>\n   <g id=\"patch_4\">\n    <path d=\"M 364.903125 224.64 \nL 364.903125 7.2 \n\" style=\"fill:none;stroke:#000000;stroke-linecap:square;stroke-linejoin:miter;stroke-width:0.8;\"/>\n   </g>\n   <g id=\"patch_5\">\n    <path d=\"M 30.103125 224.64 \nL 364.903125 224.64 \n\" style=\"fill:none;stroke:#000000;stroke-linecap:square;stroke-linejoin:miter;stroke-width:0.8;\"/>\n   </g>\n   <g id=\"patch_6\">\n    <path d=\"M 30.103125 7.2 \nL 364.903125 7.2 \n\" style=\"fill:none;stroke:#000000;stroke-linecap:square;stroke-linejoin:miter;stroke-width:0.8;\"/>\n   </g>\n   <g id=\"legend_1\">\n    <g id=\"patch_7\">\n     <path d=\"M 200.498438 219.64 \nL 357.903125 219.64 \nQ 359.903125 219.64 359.903125 217.64 \nL 359.903125 188.7275 \nQ 359.903125 186.7275 357.903125 186.7275 \nL 200.498438 186.7275 \nQ 198.498438 186.7275 198.498438 188.7275 \nL 198.498438 217.64 \nQ 198.498438 219.64 200.498438 219.64 \nz\n\" style=\"fill:#ffffff;opacity:0.8;stroke:#cccccc;stroke-linejoin:miter;\"/>\n    </g>\n    <g id=\"line2d_14\">\n     <path d=\"M 202.498438 194.825937 \nL 222.498438 194.825937 \n\" style=\"fill:none;stroke:#1f77b4;stroke-linecap:square;stroke-width:1.5;\"/>\n    </g>\n    <g id=\"line2d_15\"/>\n    <g id=\"text_12\">\n     <!-- categorical_accuracy -->\n     <defs>\n      <path d=\"M 48.78125 52.59375 \nL 48.78125 44.1875 \nQ 44.96875 46.296875 41.140625 47.34375 \nQ 37.3125 48.390625 33.40625 48.390625 \nQ 24.65625 48.390625 19.8125 42.84375 \nQ 14.984375 37.3125 14.984375 27.296875 \nQ 14.984375 17.28125 19.8125 11.734375 \nQ 24.65625 6.203125 33.40625 6.203125 \nQ 37.3125 6.203125 41.140625 7.25 \nQ 44.96875 8.296875 48.78125 10.40625 \nL 48.78125 2.09375 \nQ 45.015625 0.34375 40.984375 -0.53125 \nQ 36.96875 -1.421875 32.421875 -1.421875 \nQ 20.0625 -1.421875 12.78125 6.34375 \nQ 5.515625 14.109375 5.515625 27.296875 \nQ 5.515625 40.671875 12.859375 48.328125 \nQ 20.21875 56 33.015625 56 \nQ 37.15625 56 41.109375 55.140625 \nQ 45.0625 54.296875 48.78125 52.59375 \nz\n\" id=\"DejaVuSans-99\"/>\n      <path d=\"M 34.28125 27.484375 \nQ 23.390625 27.484375 19.1875 25 \nQ 14.984375 22.515625 14.984375 16.5 \nQ 14.984375 11.71875 18.140625 8.90625 \nQ 21.296875 6.109375 26.703125 6.109375 \nQ 34.1875 6.109375 38.703125 11.40625 \nQ 43.21875 16.703125 43.21875 25.484375 \nL 43.21875 27.484375 \nz\nM 52.203125 31.203125 \nL 52.203125 0 \nL 43.21875 0 \nL 43.21875 8.296875 \nQ 40.140625 3.328125 35.546875 0.953125 \nQ 30.953125 -1.421875 24.3125 -1.421875 \nQ 15.921875 -1.421875 10.953125 3.296875 \nQ 6 8.015625 6 15.921875 \nQ 6 25.140625 12.171875 29.828125 \nQ 18.359375 34.515625 30.609375 34.515625 \nL 43.21875 34.515625 \nL 43.21875 35.40625 \nQ 43.21875 41.609375 39.140625 45 \nQ 35.0625 48.390625 27.6875 48.390625 \nQ 23 48.390625 18.546875 47.265625 \nQ 14.109375 46.140625 10.015625 43.890625 \nL 10.015625 52.203125 \nQ 14.9375 54.109375 19.578125 55.046875 \nQ 24.21875 56 28.609375 56 \nQ 40.484375 56 46.34375 49.84375 \nQ 52.203125 43.703125 52.203125 31.203125 \nz\n\" id=\"DejaVuSans-97\"/>\n      <path d=\"M 18.3125 70.21875 \nL 18.3125 54.6875 \nL 36.8125 54.6875 \nL 36.8125 47.703125 \nL 18.3125 47.703125 \nL 18.3125 18.015625 \nQ 18.3125 11.328125 20.140625 9.421875 \nQ 21.96875 7.515625 27.59375 7.515625 \nL 36.8125 7.515625 \nL 36.8125 0 \nL 27.59375 0 \nQ 17.1875 0 13.234375 3.875 \nQ 9.28125 7.765625 9.28125 18.015625 \nL 9.28125 47.703125 \nL 2.6875 47.703125 \nL 2.6875 54.6875 \nL 9.28125 54.6875 \nL 9.28125 70.21875 \nz\n\" id=\"DejaVuSans-116\"/>\n      <path d=\"M 56.203125 29.59375 \nL 56.203125 25.203125 \nL 14.890625 25.203125 \nQ 15.484375 15.921875 20.484375 11.0625 \nQ 25.484375 6.203125 34.421875 6.203125 \nQ 39.59375 6.203125 44.453125 7.46875 \nQ 49.3125 8.734375 54.109375 11.28125 \nL 54.109375 2.78125 \nQ 49.265625 0.734375 44.1875 -0.34375 \nQ 39.109375 -1.421875 33.890625 -1.421875 \nQ 20.796875 -1.421875 13.15625 6.1875 \nQ 5.515625 13.8125 5.515625 26.8125 \nQ 5.515625 40.234375 12.765625 48.109375 \nQ 20.015625 56 32.328125 56 \nQ 43.359375 56 49.78125 48.890625 \nQ 56.203125 41.796875 56.203125 29.59375 \nz\nM 47.21875 32.234375 \nQ 47.125 39.59375 43.09375 43.984375 \nQ 39.0625 48.390625 32.421875 48.390625 \nQ 24.90625 48.390625 20.390625 44.140625 \nQ 15.875 39.890625 15.1875 32.171875 \nz\n\" id=\"DejaVuSans-101\"/>\n      <path d=\"M 45.40625 27.984375 \nQ 45.40625 37.75 41.375 43.109375 \nQ 37.359375 48.484375 30.078125 48.484375 \nQ 22.859375 48.484375 18.828125 43.109375 \nQ 14.796875 37.75 14.796875 27.984375 \nQ 14.796875 18.265625 18.828125 12.890625 \nQ 22.859375 7.515625 30.078125 7.515625 \nQ 37.359375 7.515625 41.375 12.890625 \nQ 45.40625 18.265625 45.40625 27.984375 \nz\nM 54.390625 6.78125 \nQ 54.390625 -7.171875 48.1875 -13.984375 \nQ 42 -20.796875 29.203125 -20.796875 \nQ 24.46875 -20.796875 20.265625 -20.09375 \nQ 16.0625 -19.390625 12.109375 -17.921875 \nL 12.109375 -9.1875 \nQ 16.0625 -11.328125 19.921875 -12.34375 \nQ 23.78125 -13.375 27.78125 -13.375 \nQ 36.625 -13.375 41.015625 -8.765625 \nQ 45.40625 -4.15625 45.40625 5.171875 \nL 45.40625 9.625 \nQ 42.625 4.78125 38.28125 2.390625 \nQ 33.9375 0 27.875 0 \nQ 17.828125 0 11.671875 7.65625 \nQ 5.515625 15.328125 5.515625 27.984375 \nQ 5.515625 40.671875 11.671875 48.328125 \nQ 17.828125 56 27.875 56 \nQ 33.9375 56 38.28125 53.609375 \nQ 42.625 51.21875 45.40625 46.390625 \nL 45.40625 54.6875 \nL 54.390625 54.6875 \nz\n\" id=\"DejaVuSans-103\"/>\n      <path d=\"M 30.609375 48.390625 \nQ 23.390625 48.390625 19.1875 42.75 \nQ 14.984375 37.109375 14.984375 27.296875 \nQ 14.984375 17.484375 19.15625 11.84375 \nQ 23.34375 6.203125 30.609375 6.203125 \nQ 37.796875 6.203125 41.984375 11.859375 \nQ 46.1875 17.53125 46.1875 27.296875 \nQ 46.1875 37.015625 41.984375 42.703125 \nQ 37.796875 48.390625 30.609375 48.390625 \nz\nM 30.609375 56 \nQ 42.328125 56 49.015625 48.375 \nQ 55.71875 40.765625 55.71875 27.296875 \nQ 55.71875 13.875 49.015625 6.21875 \nQ 42.328125 -1.421875 30.609375 -1.421875 \nQ 18.84375 -1.421875 12.171875 6.21875 \nQ 5.515625 13.875 5.515625 27.296875 \nQ 5.515625 40.765625 12.171875 48.375 \nQ 18.84375 56 30.609375 56 \nz\n\" id=\"DejaVuSans-111\"/>\n      <path d=\"M 41.109375 46.296875 \nQ 39.59375 47.171875 37.8125 47.578125 \nQ 36.03125 48 33.890625 48 \nQ 26.265625 48 22.1875 43.046875 \nQ 18.109375 38.09375 18.109375 28.8125 \nL 18.109375 0 \nL 9.078125 0 \nL 9.078125 54.6875 \nL 18.109375 54.6875 \nL 18.109375 46.1875 \nQ 20.953125 51.171875 25.484375 53.578125 \nQ 30.03125 56 36.53125 56 \nQ 37.453125 56 38.578125 55.875 \nQ 39.703125 55.765625 41.0625 55.515625 \nz\n\" id=\"DejaVuSans-114\"/>\n      <path d=\"M 9.421875 54.6875 \nL 18.40625 54.6875 \nL 18.40625 0 \nL 9.421875 0 \nz\nM 9.421875 75.984375 \nL 18.40625 75.984375 \nL 18.40625 64.59375 \nL 9.421875 64.59375 \nz\n\" id=\"DejaVuSans-105\"/>\n      <path d=\"M 9.421875 75.984375 \nL 18.40625 75.984375 \nL 18.40625 0 \nL 9.421875 0 \nz\n\" id=\"DejaVuSans-108\"/>\n      <path d=\"M 50.984375 -16.609375 \nL 50.984375 -23.578125 \nL -0.984375 -23.578125 \nL -0.984375 -16.609375 \nz\n\" id=\"DejaVuSans-95\"/>\n      <path d=\"M 8.5 21.578125 \nL 8.5 54.6875 \nL 17.484375 54.6875 \nL 17.484375 21.921875 \nQ 17.484375 14.15625 20.5 10.265625 \nQ 23.53125 6.390625 29.59375 6.390625 \nQ 36.859375 6.390625 41.078125 11.03125 \nQ 45.3125 15.671875 45.3125 23.6875 \nL 45.3125 54.6875 \nL 54.296875 54.6875 \nL 54.296875 0 \nL 45.3125 0 \nL 45.3125 8.40625 \nQ 42.046875 3.421875 37.71875 1 \nQ 33.40625 -1.421875 27.6875 -1.421875 \nQ 18.265625 -1.421875 13.375 4.4375 \nQ 8.5 10.296875 8.5 21.578125 \nz\nM 31.109375 56 \nz\n\" id=\"DejaVuSans-117\"/>\n      <path d=\"M 32.171875 -5.078125 \nQ 28.375 -14.84375 24.75 -17.8125 \nQ 21.140625 -20.796875 15.09375 -20.796875 \nL 7.90625 -20.796875 \nL 7.90625 -13.28125 \nL 13.1875 -13.28125 \nQ 16.890625 -13.28125 18.9375 -11.515625 \nQ 21 -9.765625 23.484375 -3.21875 \nL 25.09375 0.875 \nL 2.984375 54.6875 \nL 12.5 54.6875 \nL 29.59375 11.921875 \nL 46.6875 54.6875 \nL 56.203125 54.6875 \nz\n\" id=\"DejaVuSans-121\"/>\n     </defs>\n     <g transform=\"translate(230.498438 198.325937)scale(0.1 -0.1)\">\n      <use xlink:href=\"#DejaVuSans-99\"/>\n      <use x=\"54.980469\" xlink:href=\"#DejaVuSans-97\"/>\n      <use x=\"116.259766\" xlink:href=\"#DejaVuSans-116\"/>\n      <use x=\"155.46875\" xlink:href=\"#DejaVuSans-101\"/>\n      <use x=\"216.992188\" xlink:href=\"#DejaVuSans-103\"/>\n      <use x=\"280.46875\" xlink:href=\"#DejaVuSans-111\"/>\n      <use x=\"341.650391\" xlink:href=\"#DejaVuSans-114\"/>\n      <use x=\"382.763672\" xlink:href=\"#DejaVuSans-105\"/>\n      <use x=\"410.546875\" xlink:href=\"#DejaVuSans-99\"/>\n      <use x=\"465.527344\" xlink:href=\"#DejaVuSans-97\"/>\n      <use x=\"526.806641\" xlink:href=\"#DejaVuSans-108\"/>\n      <use x=\"554.589844\" xlink:href=\"#DejaVuSans-95\"/>\n      <use x=\"604.589844\" xlink:href=\"#DejaVuSans-97\"/>\n      <use x=\"665.869141\" xlink:href=\"#DejaVuSans-99\"/>\n      <use x=\"720.849609\" xlink:href=\"#DejaVuSans-99\"/>\n      <use x=\"775.830078\" xlink:href=\"#DejaVuSans-117\"/>\n      <use x=\"839.208984\" xlink:href=\"#DejaVuSans-114\"/>\n      <use x=\"880.322266\" xlink:href=\"#DejaVuSans-97\"/>\n      <use x=\"941.601562\" xlink:href=\"#DejaVuSans-99\"/>\n      <use x=\"996.582031\" xlink:href=\"#DejaVuSans-121\"/>\n     </g>\n    </g>\n    <g id=\"line2d_16\">\n     <path d=\"M 202.498438 209.782187 \nL 222.498438 209.782187 \n\" style=\"fill:none;stroke:#ff7f0e;stroke-linecap:square;stroke-width:1.5;\"/>\n    </g>\n    <g id=\"line2d_17\"/>\n    <g id=\"text_13\">\n     <!-- val_categorical_accuracy -->\n     <defs>\n      <path d=\"M 2.984375 54.6875 \nL 12.5 54.6875 \nL 29.59375 8.796875 \nL 46.6875 54.6875 \nL 56.203125 54.6875 \nL 35.6875 0 \nL 23.484375 0 \nz\n\" id=\"DejaVuSans-118\"/>\n     </defs>\n     <g transform=\"translate(230.498438 213.282187)scale(0.1 -0.1)\">\n      <use xlink:href=\"#DejaVuSans-118\"/>\n      <use x=\"59.179688\" xlink:href=\"#DejaVuSans-97\"/>\n      <use x=\"120.458984\" xlink:href=\"#DejaVuSans-108\"/>\n      <use x=\"148.242188\" xlink:href=\"#DejaVuSans-95\"/>\n      <use x=\"198.242188\" xlink:href=\"#DejaVuSans-99\"/>\n      <use x=\"253.222656\" xlink:href=\"#DejaVuSans-97\"/>\n      <use x=\"314.501953\" xlink:href=\"#DejaVuSans-116\"/>\n      <use x=\"353.710938\" xlink:href=\"#DejaVuSans-101\"/>\n      <use x=\"415.234375\" xlink:href=\"#DejaVuSans-103\"/>\n      <use x=\"478.710938\" xlink:href=\"#DejaVuSans-111\"/>\n      <use x=\"539.892578\" xlink:href=\"#DejaVuSans-114\"/>\n      <use x=\"581.005859\" xlink:href=\"#DejaVuSans-105\"/>\n      <use x=\"608.789062\" xlink:href=\"#DejaVuSans-99\"/>\n      <use x=\"663.769531\" xlink:href=\"#DejaVuSans-97\"/>\n      <use x=\"725.048828\" xlink:href=\"#DejaVuSans-108\"/>\n      <use x=\"752.832031\" xlink:href=\"#DejaVuSans-95\"/>\n      <use x=\"802.832031\" xlink:href=\"#DejaVuSans-97\"/>\n      <use x=\"864.111328\" xlink:href=\"#DejaVuSans-99\"/>\n      <use x=\"919.091797\" xlink:href=\"#DejaVuSans-99\"/>\n      <use x=\"974.072266\" xlink:href=\"#DejaVuSans-117\"/>\n      <use x=\"1037.451172\" xlink:href=\"#DejaVuSans-114\"/>\n      <use x=\"1078.564453\" xlink:href=\"#DejaVuSans-97\"/>\n      <use x=\"1139.84375\" xlink:href=\"#DejaVuSans-99\"/>\n      <use x=\"1194.824219\" xlink:href=\"#DejaVuSans-121\"/>\n     </g>\n    </g>\n   </g>\n  </g>\n </g>\n <defs>\n  <clipPath id=\"p2bf91c8ce0\">\n   <rect height=\"217.44\" width=\"334.8\" x=\"30.103125\" y=\"7.2\"/>\n  </clipPath>\n </defs>\n</svg>\n",
      "image/png": "[encoded data removed]"
     },
     "metadata": {
      "needs_background": "light"
     }
    }
   ],
   "source": [
    "fig, ax = plt.subplots()\n",
    "ax.plot(history.history['categorical_accuracy'], label='categorical_accuracy')\n",
    "ax.plot(history.history['val_categorical_accuracy'], label='val_categorical_accuracy')\n",
    "ax.legend()\n",
    "plt.show()"
   ]
  },
  {
   "cell_type": "markdown",
   "metadata": {},
   "source": [
    "Show learning rate for GIN models"
   ]
  },
  {
   "cell_type": "code",
   "execution_count": 54,
   "metadata": {},
   "outputs": [
    {
     "output_type": "execute_result",
     "data": {
      "text/plain": "[<matplotlib.lines.Line2D at 0x7f8562acb790>]"
     },
     "metadata": {},
     "execution_count": 54
    },
    {
     "output_type": "display_data",
     "data": {
      "text/plain": "<Figure size 432x288 with 1 Axes>",
      "image/svg+xml": "<?xml version=\"1.0\" encoding=\"utf-8\" standalone=\"no\"?>\n<!DOCTYPE svg PUBLIC \"-//W3C//DTD SVG 1.1//EN\"\n  \"http://www.w3.org/Graphics/SVG/1.1/DTD/svg11.dtd\">\n<!-- Created with matplotlib (https://matplotlib.org/) -->\n<svg height=\"248.518125pt\" version=\"1.1\" viewBox=\"0 0 384.828125 248.518125\" width=\"384.828125pt\" xmlns=\"http://www.w3.org/2000/svg\" xmlns:xlink=\"http://www.w3.org/1999/xlink\">\n <defs>\n  <style type=\"text/css\">\n*{stroke-linecap:butt;stroke-linejoin:round;}\n  </style>\n </defs>\n <g id=\"figure_1\">\n  <g id=\"patch_1\">\n   <path d=\"M 0 248.518125 \nL 384.828125 248.518125 \nL 384.828125 0 \nL 0 0 \nz\n\" style=\"fill:none;\"/>\n  </g>\n  <g id=\"axes_1\">\n   <g id=\"patch_2\">\n    <path d=\"M 42.828125 224.64 \nL 377.628125 224.64 \nL 377.628125 7.2 \nL 42.828125 7.2 \nz\n\" style=\"fill:#ffffff;\"/>\n   </g>\n   <g id=\"matplotlib.axis_1\">\n    <g id=\"xtick_1\">\n     <g id=\"line2d_1\">\n      <defs>\n       <path d=\"M 0 0 \nL 0 3.5 \n\" id=\"m0a60d7bf21\" style=\"stroke:#000000;stroke-width:0.8;\"/>\n      </defs>\n      <g>\n       <use style=\"stroke:#000000;stroke-width:0.8;\" x=\"58.046307\" xlink:href=\"#m0a60d7bf21\" y=\"224.64\"/>\n      </g>\n     </g>\n     <g id=\"text_1\">\n      <!-- 0 -->\n      <defs>\n       <path d=\"M 31.78125 66.40625 \nQ 24.171875 66.40625 20.328125 58.90625 \nQ 16.5 51.421875 16.5 36.375 \nQ 16.5 21.390625 20.328125 13.890625 \nQ 24.171875 6.390625 31.78125 6.390625 \nQ 39.453125 6.390625 43.28125 13.890625 \nQ 47.125 21.390625 47.125 36.375 \nQ 47.125 51.421875 43.28125 58.90625 \nQ 39.453125 66.40625 31.78125 66.40625 \nz\nM 31.78125 74.21875 \nQ 44.046875 74.21875 50.515625 64.515625 \nQ 56.984375 54.828125 56.984375 36.375 \nQ 56.984375 17.96875 50.515625 8.265625 \nQ 44.046875 -1.421875 31.78125 -1.421875 \nQ 19.53125 -1.421875 13.0625 8.265625 \nQ 6.59375 17.96875 6.59375 36.375 \nQ 6.59375 54.828125 13.0625 64.515625 \nQ 19.53125 74.21875 31.78125 74.21875 \nz\n\" id=\"DejaVuSans-48\"/>\n      </defs>\n      <g transform=\"translate(54.865057 239.238437)scale(0.1 -0.1)\">\n       <use xlink:href=\"#DejaVuSans-48\"/>\n      </g>\n     </g>\n    </g>\n    <g id=\"xtick_2\">\n     <g id=\"line2d_2\">\n      <g>\n       <use style=\"stroke:#000000;stroke-width:0.8;\" x=\"119.041024\" xlink:href=\"#m0a60d7bf21\" y=\"224.64\"/>\n      </g>\n     </g>\n     <g id=\"text_2\">\n      <!-- 100 -->\n      <defs>\n       <path d=\"M 12.40625 8.296875 \nL 28.515625 8.296875 \nL 28.515625 63.921875 \nL 10.984375 60.40625 \nL 10.984375 69.390625 \nL 28.421875 72.90625 \nL 38.28125 72.90625 \nL 38.28125 8.296875 \nL 54.390625 8.296875 \nL 54.390625 0 \nL 12.40625 0 \nz\n\" id=\"DejaVuSans-49\"/>\n      </defs>\n      <g transform=\"translate(109.497274 239.238437)scale(0.1 -0.1)\">\n       <use xlink:href=\"#DejaVuSans-49\"/>\n       <use x=\"63.623047\" xlink:href=\"#DejaVuSans-48\"/>\n       <use x=\"127.246094\" xlink:href=\"#DejaVuSans-48\"/>\n      </g>\n     </g>\n    </g>\n    <g id=\"xtick_3\">\n     <g id=\"line2d_3\">\n      <g>\n       <use style=\"stroke:#000000;stroke-width:0.8;\" x=\"180.03574\" xlink:href=\"#m0a60d7bf21\" y=\"224.64\"/>\n      </g>\n     </g>\n     <g id=\"text_3\">\n      <!-- 200 -->\n      <defs>\n       <path d=\"M 19.1875 8.296875 \nL 53.609375 8.296875 \nL 53.609375 0 \nL 7.328125 0 \nL 7.328125 8.296875 \nQ 12.9375 14.109375 22.625 23.890625 \nQ 32.328125 33.6875 34.8125 36.53125 \nQ 39.546875 41.84375 41.421875 45.53125 \nQ 43.3125 49.21875 43.3125 52.78125 \nQ 43.3125 58.59375 39.234375 62.25 \nQ 35.15625 65.921875 28.609375 65.921875 \nQ 23.96875 65.921875 18.8125 64.3125 \nQ 13.671875 62.703125 7.8125 59.421875 \nL 7.8125 69.390625 \nQ 13.765625 71.78125 18.9375 73 \nQ 24.125 74.21875 28.421875 74.21875 \nQ 39.75 74.21875 46.484375 68.546875 \nQ 53.21875 62.890625 53.21875 53.421875 \nQ 53.21875 48.921875 51.53125 44.890625 \nQ 49.859375 40.875 45.40625 35.40625 \nQ 44.1875 33.984375 37.640625 27.21875 \nQ 31.109375 20.453125 19.1875 8.296875 \nz\n\" id=\"DejaVuSans-50\"/>\n      </defs>\n      <g transform=\"translate(170.49199 239.238437)scale(0.1 -0.1)\">\n       <use xlink:href=\"#DejaVuSans-50\"/>\n       <use x=\"63.623047\" xlink:href=\"#DejaVuSans-48\"/>\n       <use x=\"127.246094\" xlink:href=\"#DejaVuSans-48\"/>\n      </g>\n     </g>\n    </g>\n    <g id=\"xtick_4\">\n     <g id=\"line2d_4\">\n      <g>\n       <use style=\"stroke:#000000;stroke-width:0.8;\" x=\"241.030457\" xlink:href=\"#m0a60d7bf21\" y=\"224.64\"/>\n      </g>\n     </g>\n     <g id=\"text_4\">\n      <!-- 300 -->\n      <defs>\n       <path d=\"M 40.578125 39.3125 \nQ 47.65625 37.796875 51.625 33 \nQ 55.609375 28.21875 55.609375 21.1875 \nQ 55.609375 10.40625 48.1875 4.484375 \nQ 40.765625 -1.421875 27.09375 -1.421875 \nQ 22.515625 -1.421875 17.65625 -0.515625 \nQ 12.796875 0.390625 7.625 2.203125 \nL 7.625 11.71875 \nQ 11.71875 9.328125 16.59375 8.109375 \nQ 21.484375 6.890625 26.8125 6.890625 \nQ 36.078125 6.890625 40.9375 10.546875 \nQ 45.796875 14.203125 45.796875 21.1875 \nQ 45.796875 27.640625 41.28125 31.265625 \nQ 36.765625 34.90625 28.71875 34.90625 \nL 20.21875 34.90625 \nL 20.21875 43.015625 \nL 29.109375 43.015625 \nQ 36.375 43.015625 40.234375 45.921875 \nQ 44.09375 48.828125 44.09375 54.296875 \nQ 44.09375 59.90625 40.109375 62.90625 \nQ 36.140625 65.921875 28.71875 65.921875 \nQ 24.65625 65.921875 20.015625 65.03125 \nQ 15.375 64.15625 9.8125 62.3125 \nL 9.8125 71.09375 \nQ 15.4375 72.65625 20.34375 73.4375 \nQ 25.25 74.21875 29.59375 74.21875 \nQ 40.828125 74.21875 47.359375 69.109375 \nQ 53.90625 64.015625 53.90625 55.328125 \nQ 53.90625 49.265625 50.4375 45.09375 \nQ 46.96875 40.921875 40.578125 39.3125 \nz\n\" id=\"DejaVuSans-51\"/>\n      </defs>\n      <g transform=\"translate(231.486707 239.238437)scale(0.1 -0.1)\">\n       <use xlink:href=\"#DejaVuSans-51\"/>\n       <use x=\"63.623047\" xlink:href=\"#DejaVuSans-48\"/>\n       <use x=\"127.246094\" xlink:href=\"#DejaVuSans-48\"/>\n      </g>\n     </g>\n    </g>\n    <g id=\"xtick_5\">\n     <g id=\"line2d_5\">\n      <g>\n       <use style=\"stroke:#000000;stroke-width:0.8;\" x=\"302.025174\" xlink:href=\"#m0a60d7bf21\" y=\"224.64\"/>\n      </g>\n     </g>\n     <g id=\"text_5\">\n      <!-- 400 -->\n      <defs>\n       <path d=\"M 37.796875 64.3125 \nL 12.890625 25.390625 \nL 37.796875 25.390625 \nz\nM 35.203125 72.90625 \nL 47.609375 72.90625 \nL 47.609375 25.390625 \nL 58.015625 25.390625 \nL 58.015625 17.1875 \nL 47.609375 17.1875 \nL 47.609375 0 \nL 37.796875 0 \nL 37.796875 17.1875 \nL 4.890625 17.1875 \nL 4.890625 26.703125 \nz\n\" id=\"DejaVuSans-52\"/>\n      </defs>\n      <g transform=\"translate(292.481424 239.238437)scale(0.1 -0.1)\">\n       <use xlink:href=\"#DejaVuSans-52\"/>\n       <use x=\"63.623047\" xlink:href=\"#DejaVuSans-48\"/>\n       <use x=\"127.246094\" xlink:href=\"#DejaVuSans-48\"/>\n      </g>\n     </g>\n    </g>\n    <g id=\"xtick_6\">\n     <g id=\"line2d_6\">\n      <g>\n       <use style=\"stroke:#000000;stroke-width:0.8;\" x=\"363.01989\" xlink:href=\"#m0a60d7bf21\" y=\"224.64\"/>\n      </g>\n     </g>\n     <g id=\"text_6\">\n      <!-- 500 -->\n      <defs>\n       <path d=\"M 10.796875 72.90625 \nL 49.515625 72.90625 \nL 49.515625 64.59375 \nL 19.828125 64.59375 \nL 19.828125 46.734375 \nQ 21.96875 47.46875 24.109375 47.828125 \nQ 26.265625 48.1875 28.421875 48.1875 \nQ 40.625 48.1875 47.75 41.5 \nQ 54.890625 34.8125 54.890625 23.390625 \nQ 54.890625 11.625 47.5625 5.09375 \nQ 40.234375 -1.421875 26.90625 -1.421875 \nQ 22.3125 -1.421875 17.546875 -0.640625 \nQ 12.796875 0.140625 7.71875 1.703125 \nL 7.71875 11.625 \nQ 12.109375 9.234375 16.796875 8.0625 \nQ 21.484375 6.890625 26.703125 6.890625 \nQ 35.15625 6.890625 40.078125 11.328125 \nQ 45.015625 15.765625 45.015625 23.390625 \nQ 45.015625 31 40.078125 35.4375 \nQ 35.15625 39.890625 26.703125 39.890625 \nQ 22.75 39.890625 18.8125 39.015625 \nQ 14.890625 38.140625 10.796875 36.28125 \nz\n\" id=\"DejaVuSans-53\"/>\n      </defs>\n      <g transform=\"translate(353.47614 239.238437)scale(0.1 -0.1)\">\n       <use xlink:href=\"#DejaVuSans-53\"/>\n       <use x=\"63.623047\" xlink:href=\"#DejaVuSans-48\"/>\n       <use x=\"127.246094\" xlink:href=\"#DejaVuSans-48\"/>\n      </g>\n     </g>\n    </g>\n   </g>\n   <g id=\"matplotlib.axis_2\">\n    <g id=\"ytick_1\">\n     <g id=\"line2d_7\">\n      <defs>\n       <path d=\"M 0 0 \nL -3.5 0 \n\" id=\"m073b53e472\" style=\"stroke:#000000;stroke-width:0.8;\"/>\n      </defs>\n      <g>\n       <use style=\"stroke:#000000;stroke-width:0.8;\" x=\"42.828125\" xlink:href=\"#m073b53e472\" y=\"214.949592\"/>\n      </g>\n     </g>\n     <g id=\"text_7\">\n      <!-- 0.000 -->\n      <defs>\n       <path d=\"M 10.6875 12.40625 \nL 21 12.40625 \nL 21 0 \nL 10.6875 0 \nz\n\" id=\"DejaVuSans-46\"/>\n      </defs>\n      <g transform=\"translate(7.2 218.748811)scale(0.1 -0.1)\">\n       <use xlink:href=\"#DejaVuSans-48\"/>\n       <use x=\"63.623047\" xlink:href=\"#DejaVuSans-46\"/>\n       <use x=\"95.410156\" xlink:href=\"#DejaVuSans-48\"/>\n       <use x=\"159.033203\" xlink:href=\"#DejaVuSans-48\"/>\n       <use x=\"222.65625\" xlink:href=\"#DejaVuSans-48\"/>\n      </g>\n     </g>\n    </g>\n    <g id=\"ytick_2\">\n     <g id=\"line2d_8\">\n      <g>\n       <use style=\"stroke:#000000;stroke-width:0.8;\" x=\"42.828125\" xlink:href=\"#m073b53e472\" y=\"175.376401\"/>\n      </g>\n     </g>\n     <g id=\"text_8\">\n      <!-- 0.002 -->\n      <g transform=\"translate(7.2 179.17562)scale(0.1 -0.1)\">\n       <use xlink:href=\"#DejaVuSans-48\"/>\n       <use x=\"63.623047\" xlink:href=\"#DejaVuSans-46\"/>\n       <use x=\"95.410156\" xlink:href=\"#DejaVuSans-48\"/>\n       <use x=\"159.033203\" xlink:href=\"#DejaVuSans-48\"/>\n       <use x=\"222.65625\" xlink:href=\"#DejaVuSans-50\"/>\n      </g>\n     </g>\n    </g>\n    <g id=\"ytick_3\">\n     <g id=\"line2d_9\">\n      <g>\n       <use style=\"stroke:#000000;stroke-width:0.8;\" x=\"42.828125\" xlink:href=\"#m073b53e472\" y=\"135.80321\"/>\n      </g>\n     </g>\n     <g id=\"text_9\">\n      <!-- 0.004 -->\n      <g transform=\"translate(7.2 139.602429)scale(0.1 -0.1)\">\n       <use xlink:href=\"#DejaVuSans-48\"/>\n       <use x=\"63.623047\" xlink:href=\"#DejaVuSans-46\"/>\n       <use x=\"95.410156\" xlink:href=\"#DejaVuSans-48\"/>\n       <use x=\"159.033203\" xlink:href=\"#DejaVuSans-48\"/>\n       <use x=\"222.65625\" xlink:href=\"#DejaVuSans-52\"/>\n      </g>\n     </g>\n    </g>\n    <g id=\"ytick_4\">\n     <g id=\"line2d_10\">\n      <g>\n       <use style=\"stroke:#000000;stroke-width:0.8;\" x=\"42.828125\" xlink:href=\"#m073b53e472\" y=\"96.230019\"/>\n      </g>\n     </g>\n     <g id=\"text_10\">\n      <!-- 0.006 -->\n      <defs>\n       <path d=\"M 33.015625 40.375 \nQ 26.375 40.375 22.484375 35.828125 \nQ 18.609375 31.296875 18.609375 23.390625 \nQ 18.609375 15.53125 22.484375 10.953125 \nQ 26.375 6.390625 33.015625 6.390625 \nQ 39.65625 6.390625 43.53125 10.953125 \nQ 47.40625 15.53125 47.40625 23.390625 \nQ 47.40625 31.296875 43.53125 35.828125 \nQ 39.65625 40.375 33.015625 40.375 \nz\nM 52.59375 71.296875 \nL 52.59375 62.3125 \nQ 48.875 64.0625 45.09375 64.984375 \nQ 41.3125 65.921875 37.59375 65.921875 \nQ 27.828125 65.921875 22.671875 59.328125 \nQ 17.53125 52.734375 16.796875 39.40625 \nQ 19.671875 43.65625 24.015625 45.921875 \nQ 28.375 48.1875 33.59375 48.1875 \nQ 44.578125 48.1875 50.953125 41.515625 \nQ 57.328125 34.859375 57.328125 23.390625 \nQ 57.328125 12.15625 50.6875 5.359375 \nQ 44.046875 -1.421875 33.015625 -1.421875 \nQ 20.359375 -1.421875 13.671875 8.265625 \nQ 6.984375 17.96875 6.984375 36.375 \nQ 6.984375 53.65625 15.1875 63.9375 \nQ 23.390625 74.21875 37.203125 74.21875 \nQ 40.921875 74.21875 44.703125 73.484375 \nQ 48.484375 72.75 52.59375 71.296875 \nz\n\" id=\"DejaVuSans-54\"/>\n      </defs>\n      <g transform=\"translate(7.2 100.029237)scale(0.1 -0.1)\">\n       <use xlink:href=\"#DejaVuSans-48\"/>\n       <use x=\"63.623047\" xlink:href=\"#DejaVuSans-46\"/>\n       <use x=\"95.410156\" xlink:href=\"#DejaVuSans-48\"/>\n       <use x=\"159.033203\" xlink:href=\"#DejaVuSans-48\"/>\n       <use x=\"222.65625\" xlink:href=\"#DejaVuSans-54\"/>\n      </g>\n     </g>\n    </g>\n    <g id=\"ytick_5\">\n     <g id=\"line2d_11\">\n      <g>\n       <use style=\"stroke:#000000;stroke-width:0.8;\" x=\"42.828125\" xlink:href=\"#m073b53e472\" y=\"56.656828\"/>\n      </g>\n     </g>\n     <g id=\"text_11\">\n      <!-- 0.008 -->\n      <defs>\n       <path d=\"M 31.78125 34.625 \nQ 24.75 34.625 20.71875 30.859375 \nQ 16.703125 27.09375 16.703125 20.515625 \nQ 16.703125 13.921875 20.71875 10.15625 \nQ 24.75 6.390625 31.78125 6.390625 \nQ 38.8125 6.390625 42.859375 10.171875 \nQ 46.921875 13.96875 46.921875 20.515625 \nQ 46.921875 27.09375 42.890625 30.859375 \nQ 38.875 34.625 31.78125 34.625 \nz\nM 21.921875 38.8125 \nQ 15.578125 40.375 12.03125 44.71875 \nQ 8.5 49.078125 8.5 55.328125 \nQ 8.5 64.0625 14.71875 69.140625 \nQ 20.953125 74.21875 31.78125 74.21875 \nQ 42.671875 74.21875 48.875 69.140625 \nQ 55.078125 64.0625 55.078125 55.328125 \nQ 55.078125 49.078125 51.53125 44.71875 \nQ 48 40.375 41.703125 38.8125 \nQ 48.828125 37.15625 52.796875 32.3125 \nQ 56.78125 27.484375 56.78125 20.515625 \nQ 56.78125 9.90625 50.3125 4.234375 \nQ 43.84375 -1.421875 31.78125 -1.421875 \nQ 19.734375 -1.421875 13.25 4.234375 \nQ 6.78125 9.90625 6.78125 20.515625 \nQ 6.78125 27.484375 10.78125 32.3125 \nQ 14.796875 37.15625 21.921875 38.8125 \nz\nM 18.3125 54.390625 \nQ 18.3125 48.734375 21.84375 45.5625 \nQ 25.390625 42.390625 31.78125 42.390625 \nQ 38.140625 42.390625 41.71875 45.5625 \nQ 45.3125 48.734375 45.3125 54.390625 \nQ 45.3125 60.0625 41.71875 63.234375 \nQ 38.140625 66.40625 31.78125 66.40625 \nQ 25.390625 66.40625 21.84375 63.234375 \nQ 18.3125 60.0625 18.3125 54.390625 \nz\n\" id=\"DejaVuSans-56\"/>\n      </defs>\n      <g transform=\"translate(7.2 60.456046)scale(0.1 -0.1)\">\n       <use xlink:href=\"#DejaVuSans-48\"/>\n       <use x=\"63.623047\" xlink:href=\"#DejaVuSans-46\"/>\n       <use x=\"95.410156\" xlink:href=\"#DejaVuSans-48\"/>\n       <use x=\"159.033203\" xlink:href=\"#DejaVuSans-48\"/>\n       <use x=\"222.65625\" xlink:href=\"#DejaVuSans-56\"/>\n      </g>\n     </g>\n    </g>\n    <g id=\"ytick_6\">\n     <g id=\"line2d_12\">\n      <g>\n       <use style=\"stroke:#000000;stroke-width:0.8;\" x=\"42.828125\" xlink:href=\"#m073b53e472\" y=\"17.083636\"/>\n      </g>\n     </g>\n     <g id=\"text_12\">\n      <!-- 0.010 -->\n      <g transform=\"translate(7.2 20.882855)scale(0.1 -0.1)\">\n       <use xlink:href=\"#DejaVuSans-48\"/>\n       <use x=\"63.623047\" xlink:href=\"#DejaVuSans-46\"/>\n       <use x=\"95.410156\" xlink:href=\"#DejaVuSans-48\"/>\n       <use x=\"159.033203\" xlink:href=\"#DejaVuSans-49\"/>\n       <use x=\"222.65625\" xlink:href=\"#DejaVuSans-48\"/>\n      </g>\n     </g>\n    </g>\n   </g>\n   <g id=\"line2d_13\">\n    <path clip-path=\"url(#pe04bee3292)\" d=\"M 58.046307 17.083636 \nL 86.713824 17.083636 \nL 87.323771 116.016614 \nL 117.211182 116.016614 \nL 117.821129 165.483103 \nL 147.70854 165.483103 \nL 148.318488 190.216348 \nL 178.205899 190.216348 \nL 178.815846 202.58297 \nL 208.703257 202.58297 \nL 209.313204 208.766281 \nL 239.200615 208.766281 \nL 239.810563 211.857937 \nL 269.697974 211.857937 \nL 270.307921 213.403764 \nL 300.195332 213.403764 \nL 300.805279 214.176678 \nL 330.69269 214.176678 \nL 331.302638 214.563135 \nL 361.190049 214.563135 \nL 361.799996 214.756364 \nL 362.409943 214.756364 \nL 362.409943 214.756364 \n\" style=\"fill:none;stroke:#1f77b4;stroke-linecap:square;stroke-width:1.5;\"/>\n   </g>\n   <g id=\"patch_3\">\n    <path d=\"M 42.828125 224.64 \nL 42.828125 7.2 \n\" style=\"fill:none;stroke:#000000;stroke-linecap:square;stroke-linejoin:miter;stroke-width:0.8;\"/>\n   </g>\n   <g id=\"patch_4\">\n    <path d=\"M 377.628125 224.64 \nL 377.628125 7.2 \n\" style=\"fill:none;stroke:#000000;stroke-linecap:square;stroke-linejoin:miter;stroke-width:0.8;\"/>\n   </g>\n   <g id=\"patch_5\">\n    <path d=\"M 42.828125 224.64 \nL 377.628125 224.64 \n\" style=\"fill:none;stroke:#000000;stroke-linecap:square;stroke-linejoin:miter;stroke-width:0.8;\"/>\n   </g>\n   <g id=\"patch_6\">\n    <path d=\"M 42.828125 7.2 \nL 377.628125 7.2 \n\" style=\"fill:none;stroke:#000000;stroke-linecap:square;stroke-linejoin:miter;stroke-width:0.8;\"/>\n   </g>\n  </g>\n </g>\n <defs>\n  <clipPath id=\"pe04bee3292\">\n   <rect height=\"217.44\" width=\"334.8\" x=\"42.828125\" y=\"7.2\"/>\n  </clipPath>\n </defs>\n</svg>\n",
      "image/png": "[encoded data removed]"
     },
     "metadata": {
      "needs_background": "light"
     }
    }
   ],
   "source": [
    "# plt.plot(loss_history.lr)"
   ]
  },
  {
   "cell_type": "markdown",
   "metadata": {},
   "source": [
    "# Save model to disk"
   ]
  },
  {
   "cell_type": "code",
   "execution_count": 53,
   "metadata": {},
   "outputs": [],
   "source": [
    "model.save(modelfile)"
   ]
  },
  {
   "cell_type": "code",
   "execution_count": null,
   "metadata": {},
   "outputs": [],
   "source": []
  }
 ],
 "metadata": {
  "kernelspec": {
   "display_name": "Python 3.7.7 64-bit ('tf_gpu': conda)",
   "language": "python",
   "name": "python37764bittfgpuconda3d4368209cc64153a32fc64613561f52"
  },
  "language_info": {
   "codemirror_mode": {
    "name": "ipython",
    "version": 3
   },
   "file_extension": ".py",
   "mimetype": "text/x-python",
   "name": "python",
   "nbconvert_exporter": "python",
   "pygments_lexer": "ipython3",
   "version": "3.7.7-final"
  }
 },
 "nbformat": 4,
 "nbformat_minor": 4
}